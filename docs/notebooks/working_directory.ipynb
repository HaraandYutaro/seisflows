{
 "cells": [
  {
   "cell_type": "markdown",
   "metadata": {},
   "source": [
    "# Working Directory Structure\n",
    "\n",
    "SeisFlows3 hardcodes it's own working directory when executing a workflow. Below we explore the working directory set up by the SPECFEM2D-workstation example. Working directories may change slightly depending on the chosen workflow, but will more or less follow the following structure. The two specfem2d directories listed below are not part of the SeisFlows3 working directory."
   ]
  },
  {
   "cell_type": "code",
   "execution_count": 23,
   "metadata": {},
   "outputs": [
    {
     "name": "stdout",
     "output_type": "stream",
     "text": [
      "/home/bchow/Work/official/workshop_pyatoa_sf3/ex1_specfem2d_workstation\n",
      "logs\toutput_sf3.txt\t scratch\t    stats\r\n",
      "output\tparameters.yaml  specfem2d_workdir\r\n"
     ]
    }
   ],
   "source": [
    "%cd ~/Work/official/workshop_pyatoa_sf3/ex1_specfem2d_workstation\n",
    "! ls"
   ]
  },
  {
   "cell_type": "markdown",
   "metadata": {},
   "source": [
    "----------------------\n",
    "## scratch/\n",
    "The active working directory of SeisFlows3 where all of the heavy lifting takes place. Each module in the SeisFlows3 package may have it's own sub-directory where it stores temporary work data. Additionally, we have two eval*/ directories where objective function evaluation (evalfunc) and gradient evaluation (evalgrad) files are stored."
   ]
  },
  {
   "cell_type": "code",
   "execution_count": 24,
   "metadata": {},
   "outputs": [
    {
     "name": "stdout",
     "output_type": "stream",
     "text": [
      "evalfunc  evalgrad  optimize  preprocess  solver  system\r\n"
     ]
    }
   ],
   "source": [
    "! ls scratch"
   ]
  },
  {
   "cell_type": "raw",
   "metadata": {},
   "source": [
    ".. warning:: \n",
    "    As suggested by the name, the scratch/ directory is not for permanent storage, and any data contained within is liable to be changed or removed throughout the workflow. Permanent data storage takes place in the **output/** directory."
   ]
  },
  {
   "cell_type": "markdown",
   "metadata": {},
   "source": [
    "### solver/\n",
    "\n",
    "A collection of event-specific directories (one directory per event), each of which is a self contained SPECFEM run directory (i.e., they contain all the necessary files to run SPECFEM binaries within). "
   ]
  },
  {
   "cell_type": "raw",
   "metadata": {},
   "source": [
    ".. note::\n",
    "    The first (alphabetically) solver in this directory is symlinked as the **mainsolver**. The mainsolver is used to run single-process functions (e.g., gradient smoothing). The mainsolver is also useful for scripting, as the name of the first event may be different from workflow to workflow, so **mainsolver** provides a consistent entry point into the solver subdirectories."
   ]
  },
  {
   "cell_type": "code",
   "execution_count": 25,
   "metadata": {},
   "outputs": [
    {
     "name": "stdout",
     "output_type": "stream",
     "text": [
      "001  002  003  mainsolver\r\n"
     ]
    }
   ],
   "source": [
    "! ls scratch/solver"
   ]
  },
  {
   "cell_type": "code",
   "execution_count": 26,
   "metadata": {},
   "outputs": [
    {
     "name": "stdout",
     "output_type": "stream",
     "text": [
      "bin  DATA  kernel_paths  mesher.log  OUTPUT_FILES  SEM\tsolver.log  traces\r\n"
     ]
    }
   ],
   "source": [
    "! ls scratch/solver/mainsolver"
   ]
  },
  {
   "cell_type": "raw",
   "metadata": {},
   "source": [
    ".. warning::\n",
    "    Each solver directory is constructed by copying the `PATH.SPECFEM_BIN` and `PATH.SPECFEM_DATA` directories into each sub-directory. The user must ensure that these directories do not contain large files (e.g., waveform data, large tomography files), otherwise these will be copied N times, where N is the number of events in your workflow. This can quickly run up against storage issues."
   ]
  },
  {
   "cell_type": "markdown",
   "metadata": {},
   "source": [
    "The bin/, DATA/ and OUTPUT_FILES/ directories are the same as those found in SPECFEM. The SEM file defines the locations of the adjoint sources, which is dictated by SPECFEM. The traces/ directory contains all of the output waveforms required by this event. They are separated into observed (obs), synthetic (syn) and adjoint (adj) waveforms. "
   ]
  },
  {
   "cell_type": "code",
   "execution_count": 27,
   "metadata": {},
   "outputs": [
    {
     "name": "stdout",
     "output_type": "stream",
     "text": [
      "adj  obs  syn\r\n"
     ]
    }
   ],
   "source": [
    "! ls scratch/solver/mainsolver/traces"
   ]
  },
  {
   "cell_type": "code",
   "execution_count": 28,
   "metadata": {},
   "outputs": [
    {
     "name": "stdout",
     "output_type": "stream",
     "text": [
      "AA.S0001.BXY.semd\r\n"
     ]
    }
   ],
   "source": [
    "! ls scratch/solver/mainsolver/traces/obs"
   ]
  },
  {
   "cell_type": "code",
   "execution_count": 33,
   "metadata": {},
   "outputs": [
    {
     "name": "stdout",
     "output_type": "stream",
     "text": [
      "   251.39999999999998         -1.1814422395268879E-005\r\n",
      "   251.45999999999998         -1.1800275583562581E-005\r\n",
      "   251.51999999999998         -1.1769315129746346E-005\r\n",
      "   251.57999999999998         -1.1721248953632887E-005\r\n",
      "   251.63999999999999         -1.1655830825336088E-005\r\n",
      "   251.69999999999999         -1.1572872866742356E-005\r\n",
      "   251.75999999999999         -1.1472248505521453E-005\r\n",
      "   251.81999999999999         -1.1353902449899163E-005\r\n",
      "   251.88000000000000         -1.1217847351013855E-005\r\n",
      "   251.94000000000000         -1.1064166223014224E-005\r\n"
     ]
    }
   ],
   "source": [
    "# These waveforms are saved into a two-column ASCII format\n",
    "! tail scratch/solver/mainsolver/traces/obs/AA.S0001.BXY.semd"
   ]
  },
  {
   "cell_type": "markdown",
   "metadata": {},
   "source": [
    "### optimize/\n",
    "\n",
    "Values relating to the optimization algorithm. These variables define model vectors, misfits, gradient directions and search directions. Optimization vectors are stored as NumPy arrays and tagged with the .npy suffix. Optimization scalars are stored as text files and tagged with the .txt suffix.\n",
    "\n",
    "Optimization Variable Names are described as:"
   ]
  },
  {
   "cell_type": "raw",
   "metadata": {},
   "source": [
    "* m_new: current model vector\n",
    "* m_old: previous model vector \n",
    "* m_try: line search model vector \n",
    "* f_new: current objective function value  \n",
    "* f_old: previous objective function value  \n",
    "* f_try: line search function value  \n",
    "* g_new: current gradient direction vector \n",
    "* g_old: previous gradient direction vector \n",
    "* p_new: current search direction vector \n",
    "* p_old: previous search direction vector  "
   ]
  },
  {
   "cell_type": "code",
   "execution_count": 41,
   "metadata": {},
   "outputs": [
    {
     "name": "stdout",
     "output_type": "stream",
     "text": [
      "alpha.npy  f_old.txt  g_old.npy  m_new.npy  p_old.npy\r\n",
      "f_new.txt  f_try.txt  LBFGS\t m_old.npy\r\n"
     ]
    }
   ],
   "source": [
    "! ls scratch/optimize"
   ]
  },
  {
   "cell_type": "code",
   "execution_count": 43,
   "metadata": {},
   "outputs": [
    {
     "name": "stdout",
     "output_type": "stream",
     "text": [
      "[5800.         5800.         5800.         ... 3499.77655379 3499.9021825\n",
      " 3499.99078301]\n"
     ]
    }
   ],
   "source": [
    "import numpy as np\n",
    "m_new = np.load(\"scratch/optimize/m_new.npy\")\n",
    "print(m_new)"
   ]
  },
  {
   "cell_type": "code",
   "execution_count": 45,
   "metadata": {},
   "outputs": [
    {
     "name": "stdout",
     "output_type": "stream",
     "text": [
      "2.591424e-03\r\n"
     ]
    }
   ],
   "source": [
    "! cat scratch/optimize/f_new.txt"
   ]
  },
  {
   "cell_type": "markdown",
   "metadata": {},
   "source": [
    "### evalfunc/ & evalgrad/\n",
    "\n",
    "Scratch directories containing objective function evaluation and gradient evaluation files. These include (1) the current **model** being used for misfit evaluation, and (2) **residuals** which define the misfit for each event. **evalgrad/** also contains **kernels** which define per-event kernels which are summed and manipulated with the postprocess module."
   ]
  },
  {
   "cell_type": "code",
   "execution_count": 48,
   "metadata": {},
   "outputs": [
    {
     "name": "stdout",
     "output_type": "stream",
     "text": [
      "model  residuals\n",
      "\n",
      "kernels  model\tresiduals\n"
     ]
    }
   ],
   "source": [
    "! ls scratch/evalfunc\n",
    "! echo\n",
    "! ls scratch/evalgrad"
   ]
  },
  {
   "cell_type": "code",
   "execution_count": 49,
   "metadata": {},
   "outputs": [
    {
     "name": "stdout",
     "output_type": "stream",
     "text": [
      "001  002  003\r\n"
     ]
    }
   ],
   "source": [
    "! ls scratch/evalgrad/residuals"
   ]
  },
  {
   "cell_type": "code",
   "execution_count": 55,
   "metadata": {},
   "outputs": [
    {
     "name": "stdout",
     "output_type": "stream",
     "text": [
      "2.413801941841247842e-02\r\n",
      "2.413801941841247842e-02\r\n",
      "2.413801941841247842e-02\r\n"
     ]
    }
   ],
   "source": [
    "! cat scratch/evalgrad/residuals/001"
   ]
  },
  {
   "cell_type": "code",
   "execution_count": 56,
   "metadata": {},
   "outputs": [
    {
     "name": "stdout",
     "output_type": "stream",
     "text": [
      "001  002  003  sum\r\n"
     ]
    }
   ],
   "source": [
    "! ls scratch/evalgrad/kernels"
   ]
  },
  {
   "cell_type": "code",
   "execution_count": 57,
   "metadata": {},
   "outputs": [
    {
     "name": "stdout",
     "output_type": "stream",
     "text": [
      "proc000000_vp_kernel.bin  proc000000_vs_kernel.bin\r\n"
     ]
    }
   ],
   "source": [
    "! ls scratch/evalgrad/kernels/sum"
   ]
  },
  {
   "cell_type": "markdown",
   "metadata": {},
   "source": [
    "### system & preprocess\n",
    "\n",
    "These two directories are empty in our example problem, but are catch-all directories where module-specific files can be output. If you are extending SeisFlows3 with other base or subclasses, it is preferable to adhere to this structure where each module only interacts with it's own directory"
   ]
  },
  {
   "cell_type": "code",
   "execution_count": 58,
   "metadata": {},
   "outputs": [],
   "source": [
    "! ls scratch/system\n",
    "! ls scratch/preprocess"
   ]
  },
  {
   "cell_type": "markdown",
   "metadata": {},
   "source": [
    "---------------------\n",
    "##  output/\n",
    "The current active state of SeisFlows3, containing pickle (.p) and JSON files which describe a Python environment of a current workflow. Additionally files to be permanently saved (e.g., models, graidents, traces) can be located here. These are tagged in ascending order, e.g., model_0001 refers to the updated model derived during the first iteration."
   ]
  },
  {
   "cell_type": "code",
   "execution_count": 38,
   "metadata": {},
   "outputs": [
    {
     "name": "stdout",
     "output_type": "stream",
     "text": [
      "gradient_0001  seisflows_optimize.p\t  seisflows_solver.p\r\n",
      "kwargs\t       seisflows_parameters.json  seisflows_system.p\r\n",
      "model_0001     seisflows_paths.json\t  seisflows_workflow.p\r\n",
      "model_init     seisflows_postprocess.p\r\n",
      "model_true     seisflows_preprocess.p\r\n"
     ]
    }
   ],
   "source": [
    "! ls output"
   ]
  },
  {
   "cell_type": "code",
   "execution_count": 39,
   "metadata": {},
   "outputs": [
    {
     "name": "stdout",
     "output_type": "stream",
     "text": [
      "proc000000_vp.bin  proc000000_vs.bin\r\n"
     ]
    }
   ],
   "source": [
    "! ls output/model_0001"
   ]
  },
  {
   "cell_type": "code",
   "execution_count": 40,
   "metadata": {},
   "outputs": [
    {
     "name": "stdout",
     "output_type": "stream",
     "text": [
      "proc000000_vp_kernel.bin  proc000000_vs_kernel.bin\r\n"
     ]
    }
   ],
   "source": [
    "! ls output/gradient_0001"
   ]
  },
  {
   "cell_type": "markdown",
   "metadata": {},
   "source": [
    "-----------------------------\n",
    "## logs/\n",
    "Where any text logs are stored. If running on a cluster, all submitted jobs will be instructed to write their logs into this directory. Additionally, if a workflow is resumed (previous log files exist in the other directory) copies are saved to this directory.\n"
   ]
  },
  {
   "cell_type": "code",
   "execution_count": 37,
   "metadata": {},
   "outputs": [
    {
     "name": "stdout",
     "output_type": "stream",
     "text": [
      "output_sf3_001.txt  parameters_001.yaml\r\n"
     ]
    }
   ],
   "source": [
    "! ls logs"
   ]
  },
  {
   "cell_type": "markdown",
   "metadata": {},
   "source": [
    "------------------------------\n",
    "## stats/\n",
    "\n",
    "Text files describing the optimization statistics of the current workflow. This directory is only relevant if you are running an inversion workflow. "
   ]
  },
  {
   "cell_type": "code",
   "execution_count": 6,
   "metadata": {},
   "outputs": [
    {
     "name": "stdout",
     "output_type": "stream",
     "text": [
      "factor.txt\t      line_search.txt  slope.txt\ttheta.txt\r\n",
      "gradient_norm_L1.txt  misfit.txt       step_count.txt\r\n",
      "gradient_norm_L2.txt  restarted.txt    step_length.txt\r\n"
     ]
    }
   ],
   "source": [
    "! ls stats"
   ]
  },
  {
   "cell_type": "code",
   "execution_count": 7,
   "metadata": {},
   "outputs": [
    {
     "name": "stdout",
     "output_type": "stream",
     "text": [
      "ITER          STEP_COUNT\r\n",
      "====  ==================\r\n",
      "   1        0.000000E+00\r\n",
      "   1        2.000000E+00\r\n"
     ]
    }
   ],
   "source": [
    "! cat stats/step_count.txt"
   ]
  },
  {
   "cell_type": "markdown",
   "metadata": {},
   "source": [
    "----------------------------\n",
    "## output_sf3.txt\n",
    "\n",
    "The main log file for SeisFlows3, where all log statements written to stdout are recorded during a workflow."
   ]
  },
  {
   "cell_type": "code",
   "execution_count": 36,
   "metadata": {},
   "outputs": [
    {
     "name": "stdout",
     "output_type": "stream",
     "text": [
      "2022-04-29 16:45:35 | initializing SeisFlows3 in sys.modules\r\n",
      "2022-04-29 16:45:39 | copying par/log file to: /home/bchow/Work/official/workshop_pyatoa_sf3/ex1_specfem2d_workstation/logs/output_sf3_001.txt\r\n",
      "2022-04-29 16:45:39 | copying par/log file to: /home/bchow/Work/official/workshop_pyatoa_sf3/ex1_specfem2d_workstation/logs/parameters_001.yaml\r\n",
      "2022-04-29 16:45:39 | exporting current working environment to disk\r\n",
      "2022-04-29 16:45:39 | \r\n",
      "////////////////////////////////////////////////////////////////////////////////\r\n",
      "                   WORKFLOW WILL STOP AFTER FUNC: 'finalize'                    \r\n",
      "////////////////////////////////////////////////////////////////////////////////\r\n",
      "2022-04-29 16:45:39 | \r\n",
      "================================================================================\r\n",
      "                          STARTING INVERSION WORKFLOW                           \r\n",
      "================================================================================\r\n",
      "2022-04-29 16:45:39 | \r\n",
      "////////////////////////////////////////////////////////////////////////////////\r\n",
      "                                ITERATION 1 / 1                                 \r\n",
      "////////////////////////////////////////////////////////////////////////////////\r\n",
      "2022-04-29 16:45:39 | \r\n",
      "////////////////////////////////////////////////////////////////////////////////\r\n",
      "                            PERFORMING MODULE SETUP                             \r\n",
      "////////////////////////////////////////////////////////////////////////////////\r\n",
      "2022-04-29 16:45:39 | misfit function is: 'waveform'\r\n",
      "2022-04-29 16:45:40 | writing line search history file:\r\n",
      "/home/bchow/Work/official/workshop_pyatoa_sf3/ex1_specfem2d_workstation/stats/line_search.txt\r\n",
      "2022-04-29 16:45:40 | checking poissons ratio for: 'm_new.npy'\r\n",
      "2022-04-29 16:45:40 | model parameters (m_new.npy i01s00):\r\n",
      "2022-04-29 16:45:40 | 5800.00 <= vp <= 5800.00\r\n",
      "2022-04-29 16:45:40 | 3500.00 <= vs <= 3500.00\r\n",
      "2022-04-29 16:45:40 | 0.21 <= pr <= 0.21\r\n",
      "2022-04-29 16:45:41 | setting up solver on system...\r\n",
      "2022-04-29 16:45:41 | checkpointing working environment to disk\r\n",
      "2022-04-29 16:45:42 | exporting current working environment to disk\r\n",
      "2022-04-29 16:45:43 | running task solver.setup 3 times\r\n",
      "2022-04-29 16:45:43 | initializing 3 solver directories\r\n",
      "2022-04-29 16:45:50 | source 001 symlinked as mainsolver\r\n",
      "2022-04-29 16:45:50 | generating 'data' with MODEL_TRUE synthetics\r\n",
      "2022-04-29 16:45:57 | running mesh generation for MODEL_INIT\r\n",
      "2022-04-29 16:46:27 | \r\n",
      "================================================================================\r\n",
      "                             INITIALIZING INVERSION                             \r\n",
      "================================================================================\r\n",
      "2022-04-29 16:46:27 | \r\n",
      "EVALUATE OBJECTIVE FUNCTION\r\n",
      "--------------------------------------------------------------------------------\r\n",
      "2022-04-29 16:46:27 | saving model 'm_new.npy' to:\r\n",
      "/home/bchow/Work/official/workshop_pyatoa_sf3/ex1_specfem2d_workstation/scratch/evalgrad/model\r\n",
      "2022-04-29 16:46:28 | evaluating objective function 3 times on system...\r\n",
      "2022-04-29 16:46:28 | checkpointing working environment to disk\r\n",
      "2022-04-29 16:46:29 | exporting current working environment to disk\r\n",
      "2022-04-29 16:46:30 | running task solver.eval_func 3 times\r\n",
      "2022-04-29 16:46:30 | running forward simulations\r\n"
     ]
    }
   ],
   "source": [
    "! head -50 output_sf3.txt"
   ]
  }
 ],
 "metadata": {
  "kernelspec": {
   "display_name": "Python (docs)",
   "language": "python",
   "name": "docs"
  },
  "language_info": {
   "codemirror_mode": {
    "name": "ipython",
    "version": 3
   },
   "file_extension": ".py",
   "mimetype": "text/x-python",
   "name": "python",
   "nbconvert_exporter": "python",
   "pygments_lexer": "ipython3",
   "version": "3.7.12"
  }
 },
 "nbformat": 4,
 "nbformat_minor": 4
}
