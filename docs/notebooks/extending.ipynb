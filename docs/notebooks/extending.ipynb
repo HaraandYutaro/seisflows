{
 "cells": [
  {
   "cell_type": "markdown",
   "id": "25c5246a",
   "metadata": {},
   "source": [
    "# Extending SeisFlows"
   ]
  },
  {
   "cell_type": "raw",
   "id": "e38c3935",
   "metadata": {},
   "source": [
    ".. note::\n",
    "    Page Under Construction\n",
    "  \n",
    "SeisFlows works on the object oriented programming principal of inheritance.\n",
    "See the `inheritance <inheritance.html>`__ page for background. This allows\n",
    "Users to extend the package to work with other systems and solvers, or modify\n",
    "its behavior to suit the problem at hand."
   ]
  },
  {
   "cell_type": "markdown",
   "id": "5f871efa",
   "metadata": {},
   "source": [
    "## Overriding SeisFlows with your own subclass\n",
    "\n",
    "If the existing modules of SeisFlows do not suit your needs, you may need to override them with your own sub classes. A common example of when you might need to do this is to override the system subclasses to tailor SeisFlows to your specific cluster. \n",
    "\n",
    "In this example SeisFlows already contains a Slurm system module, and has overriding sub-classes for Slurm-derived systems including Chinook (University of Alaska Fairbanks), Maui (New Zealand eScience\n",
    "Infrastucture) and Frontera (Texas Advanced Computing Center). Any new Slurm systems will need write new subclasses to take advantage of the existing structure.\n",
    "\n",
    "Below we provide some examples of editing existing SeisFlows modules for modified performance. We'll first start off with a modified Slurm system which defines SeisFlows interaction with Maui, a New Zealand cluster."
   ]
  },
  {
   "cell_type": "code",
   "execution_count": null,
   "id": "f9ef90e2",
   "metadata": {},
   "outputs": [],
   "source": [
    "from seisflows.system.slurm import Slurm\n",
    "\n",
    "\n",
    "class Maui(Slurm):\n",
    "    \"\"\"\n",
    "    System Maui\n",
    "    Slurm-based interaction with New Zealand HPC, Maui\n",
    "    \n",
    "    Parameters\n",
    "    ----------\n",
    "    \n",
    "    Paths\n",
    "    -----\n",
    "    \n",
    "    ***\n",
    "    \"\"\"\n",
    "    "
   ]
  },
  {
   "cell_type": "markdown",
   "id": "23c9d7c5",
   "metadata": {},
   "source": [
    "## Writing your own Base class from scratch\n",
    "\n",
    "Less likely, but also still a possibility, is that you will have to write your\n",
    "own Base class which defines foundational capabilities. One example of this is\n",
    "extending SeisFlows to interact with other numerical solvers. Currently\n",
    "SeisFlows is set up to work with SPECFEM2D/3D/3D_GLOBE. To allow Seisflows\n",
    "to work with other solvers, one would need to write a new Base class that\n",
    "defines SeisFlows' interaction behavior with this solver."
   ]
  },
  {
   "cell_type": "code",
   "execution_count": null,
   "id": "1e0e7716",
   "metadata": {},
   "outputs": [],
   "source": []
  }
 ],
 "metadata": {
  "kernelspec": {
   "display_name": "Python 3 (ipykernel)",
   "language": "python",
   "name": "python3"
  },
  "language_info": {
   "codemirror_mode": {
    "name": "ipython",
    "version": 3
   },
   "file_extension": ".py",
   "mimetype": "text/x-python",
   "name": "python",
   "nbconvert_exporter": "python",
   "pygments_lexer": "ipython3",
   "version": "3.7.12"
  }
 },
 "nbformat": 4,
 "nbformat_minor": 5
}
