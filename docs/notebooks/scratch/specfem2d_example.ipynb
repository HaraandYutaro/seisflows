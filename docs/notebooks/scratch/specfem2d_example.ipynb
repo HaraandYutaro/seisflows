{
 "cells": [
  {
   "cell_type": "markdown",
   "metadata": {},
   "source": [
    "# Specfem2D workstation example\n",
    "\n",
    "To demonstrate the inversion capabilities of SeisFlows, we will run a __Specfem2D synthetic-synthetic example__ on a __local machine__ (tested on a Linux workstation running CentOS 7, and an Apple Laptop running macOS 10.14.6). Many of the setup steps here may be unique to our OS and workstation, but hopefully they may serve as templates for new Users wanting to explore SeisFlows. \n",
    "\n",
    "The numerical solver we will use is: [SPECFEM2D](https://geodynamics.org/cig/software/specfem2d/). We'll also be working in our `seisflows` [Conda](https://docs.conda.io/en/latest/) environment, see the installation documentation page for instructions on how to install and activate the required Conda environment.\n",
    "\n",
    "-----------------------------------"
   ]
  },
  {
   "cell_type": "markdown",
   "metadata": {},
   "source": [
    "## Option 1: Automated run\n",
    "\n",
    "We have set up this example to run using a single command line argument. The following command will run an example script which will (1) download and compile SPECFEM2D, (2) setup a SPECFEM2D working directory to generate initial and target models, and (3) Run a SeisFlows inversion. "
   ]
  },
  {
   "cell_type": "raw",
   "metadata": {},
   "source": [
    ".. warning:: \n",
    "    This example attempts to automatically download and compile SPECFEM2D. This step may fail if you are software required by SPECFEM2D, there are issues with the SPECFEM2D repository itself, or the configuration and compiling steps fail. If you run any issues, it is recommended that you manually install and compile SPECFEM2D, and directly provide its path to this example problem when prompted."
   ]
  },
  {
   "cell_type": "code",
   "execution_count": null,
   "metadata": {},
   "outputs": [],
   "source": [
    "# ! seisflows examples run 1"
   ]
  },
  {
   "cell_type": "markdown",
   "metadata": {},
   "source": [
    "--------------\n",
    "## Option 2: Manual run\n",
    "\n",
    "The notebook below details a walkthrough of the automated run shown above. This is meant for those who want to understand what is going on under the hood. You are welcome to follow along on your workstation. The following Table of Contents outlines the steps we will take in this tutorial:\n",
    "\n"
   ]
  },
  {
   "cell_type": "raw",
   "metadata": {},
   "source": [
    ".. warning:: \n",
    "    Navigation links will not work outside of Jupyter. Please use the navigation bar to the left."
   ]
  },
  {
   "cell_type": "markdown",
   "metadata": {},
   "source": [
    "1. __[Setup SPECFEM2D](#1.-Setup-SPECFEM2D)__  \n",
    "    a. [Download and compile codebase](#1a.-Download-and-compile-codebase*)  \n",
    "    b. [Create a separate SPECFEM2D working directory](#1b.-Create-a-separate-SPECFEM2D-working-directory)  \n",
    "    c. [Generate initial and target models](#1c.-Generate-initial-and-target-models)  \n",
    "\n",
    "2. __[Initialize SeisFlows (SF)](#2.-Initialize-SeisFlows-(SF))__  \n",
    "    a. [SeisFlows working directory and parameter file](#2a.-SF-working-directory-and-parameter-file)  \n",
    "\n",
    "3. __[Run SeisFlows](#2.-Run-SeisFlows)__  \n",
    "    a. [Forward simulations](#3a.-Forward-simulations)  \n",
    "    b. [Exploring the SeisFlows directory structure](#3b.-Exploring-the-SF-directory-structure)    \n",
    "    c. [Adjoint simulations](#3c.-Adjoint-simulations)  \n",
    "    d. [Line search and model update](#3d.-Line-search-and-model-update)  \n",
    "\n",
    "4. __[Conclusions](#4.-Conclusions)__  "
   ]
  },
  {
   "cell_type": "markdown",
   "metadata": {},
   "source": [
    "### 1. Setup SPECFEM2D \n",
    "#### 1a. Download and compile codebase (optional)\n",
    "\n",
    "> **NOTE**: If you have already downloaded and compiled SPECFEM2D, you can skip most of this subsection (1a). However you will need to edit the first two paths in the following cell (WORKDIR and SPECFEM2D_ORIGINAL), and execute the path structure defined in the cell.\n",
    "\n",
    "First we'll download and compile SPECFEM2D to generate the binaries necessary to run our simulations. We will then populate a new SPECFEM2D working directory that will be used by SeisFlows. We'll use to Python OS module to do our filesystem processes just to keep everything in Python, but this can easily be accomplished in bash."
   ]
  },
  {
   "cell_type": "code",
   "execution_count": 1,
   "metadata": {},
   "outputs": [],
   "source": [
    "import os\n",
    "import glob\n",
    "import shutil\n",
    "import numpy as np"
   ]
  },
  {
   "cell_type": "code",
   "execution_count": 2,
   "metadata": {},
   "outputs": [],
   "source": [
    "# vvv USER MUST EDIT THE FOLLOWING PATHS vvv\n",
    "# MAC PATHS\n",
    "WORKDIR = \"/Users/Chow/Work/work/sf_specfem2d_example\" \n",
    "SPECFEM2D = \"/Users/Chow/Repositories/specfem2d\"\n",
    "# LINUX PATHS\n",
    "# WORKDIR = \"/home/bchow/Work/work/sf_specfem2d_example\" \n",
    "# SPECFEM2D = \"/home/bchow/REPOSITORIES/specfem2d\"\n",
    "# where WORKDIR: points to your own working directory\n",
    "# and SPECFEM2D: points to an existing specfem2D repository if available (if not set as '')\n",
    "# ^^^ USER MUST EDIT THE FOLLOWING PATHS ^^^\n",
    "# ======================================================================================================\n",
    "\n",
    "# Distribute the necessary file structure of the SPECFEM2D repository that we will downloaded/reference\n",
    "SPECFEM2D_ORIGINAL = os.path.join(WORKDIR, \"specfem2d\")\n",
    "SPECFEM2D_BIN_ORIGINAL = os.path.join(SPECFEM2D_ORIGINAL, \"bin\")\n",
    "SPECFEM2D_DATA_ORIGINAL = os.path.join(SPECFEM2D_ORIGINAL, \"DATA\")\n",
    "TAPE_2007_EXAMPLE = os.path.join(SPECFEM2D_ORIGINAL, \"EXAMPLES\", \"Tape2007\")\n",
    "\n",
    "# The SPECFEM2D working directory that we will create separate from the downloaded repo\n",
    "SPECFEM2D_WORKDIR = os.path.join(WORKDIR, \"specfem2d_workdir\")\n",
    "SPECFEM2D_BIN = os.path.join(SPECFEM2D_WORKDIR, \"bin\")\n",
    "SPECFEM2D_DATA = os.path.join(SPECFEM2D_WORKDIR, \"DATA\")\n",
    "SPECFEM2D_OUTPUT = os.path.join(SPECFEM2D_WORKDIR, \"OUTPUT_FILES\")\n",
    "\n",
    "# Pre-defined locations of velocity models we will generate using the solver\n",
    "SPECFEM2D_MODEL_INIT = os.path.join(SPECFEM2D_WORKDIR, \"OUTPUT_FILES_INIT\")\n",
    "SPECFEM2D_MODEL_TRUE = os.path.join(SPECFEM2D_WORKDIR, \"OUTPUT_FILES_TRUE\")"
   ]
  },
  {
   "cell_type": "code",
   "execution_count": 7,
   "metadata": {},
   "outputs": [
    {
     "name": "stdout",
     "output_type": "stream",
     "text": [
      "SPECFEM2D repository already found, you may skip this subsection\n"
     ]
    }
   ],
   "source": [
    "# Download SPECFEM2D from GitHub, devel branch for latest codebase OR symlink from existing repo\n",
    "if not os.path.exists(WORKDIR):\n",
    "    os.makedirs(WORKDIR)\n",
    "os.chdir(WORKDIR)\n",
    "\n",
    "if os.path.exists(\"specfem2d\"):\n",
    "    print(\"SPECFEM2D repository already found, you may skip this subsection\")\n",
    "    pass\n",
    "elif os.path.exists(SPECFEM2D):\n",
    "    print(\"Existing SPECMFE2D respository found, symlinking to working directory\")\n",
    "    os.symlink(SPECFEM2D, \"./specfem2d\")\n",
    "else:\n",
    "    print(\"Cloning respository from GitHub\")\n",
    "    ! git clone --recursive --branch devel https://github.com/geodynamics/specfem2d.git"
   ]
  },
  {
   "cell_type": "code",
   "execution_count": 8,
   "metadata": {},
   "outputs": [],
   "source": [
    "# Compile SPECFEM2D to generate the Makefile\n",
    "os.chdir(SPECFEM2D_ORIGINAL)\n",
    "if not os.path.exists(\"./config.log\"):\n",
    "    os.system(\"./configure\")"
   ]
  },
  {
   "cell_type": "code",
   "execution_count": 9,
   "metadata": {},
   "outputs": [],
   "source": [
    "# Run make to generate SPECFEM2D binaries\n",
    "if not os.path.exists(\"bin\"):\n",
    "    os.system(\"make all\")"
   ]
  },
  {
   "cell_type": "code",
   "execution_count": 10,
   "metadata": {},
   "outputs": [
    {
     "name": "stdout",
     "output_type": "stream",
     "text": [
      "/Users/Chow/Repositories/specfem2d\n",
      "\u001b[1m\u001b[34mxadj_seismogram\u001b[m\u001b[m                    \u001b[1m\u001b[34mxmeshfem2D\u001b[m\u001b[m\n",
      "\u001b[1m\u001b[32mxadj_seismogram.dSYM\u001b[m\u001b[m               \u001b[1m\u001b[32mxmeshfem2D.dSYM\u001b[m\u001b[m\n",
      "\u001b[1m\u001b[34mxcheck_quality_external_mesh\u001b[m\u001b[m       \u001b[1m\u001b[34mxsmooth_sem\u001b[m\u001b[m\n",
      "\u001b[1m\u001b[32mxcheck_quality_external_mesh.dSYM\u001b[m\u001b[m  \u001b[1m\u001b[32mxsmooth_sem.dSYM\u001b[m\u001b[m\n",
      "\u001b[1m\u001b[34mxcombine_sem\u001b[m\u001b[m                       \u001b[1m\u001b[34mxspecfem2D\u001b[m\u001b[m\n",
      "\u001b[1m\u001b[32mxcombine_sem.dSYM\u001b[m\u001b[m                  \u001b[1m\u001b[32mxspecfem2D.dSYM\u001b[m\u001b[m\n",
      "\u001b[1m\u001b[34mxconvolve_source_timefunction\u001b[m\u001b[m      \u001b[1m\u001b[34mxsum_kernels\u001b[m\u001b[m\n",
      "\u001b[1m\u001b[32mxconvolve_source_timefunction.dSYM\u001b[m\u001b[m \u001b[1m\u001b[32mxsum_kernels.dSYM\u001b[m\u001b[m\n"
     ]
    }
   ],
   "source": [
    "# Check out the binary files that have been created\n",
    "os.chdir(SPECFEM2D_ORIGINAL)\n",
    "! pwd\n",
    "! ls bin/"
   ]
  },
  {
   "cell_type": "markdown",
   "metadata": {},
   "source": [
    "#### 1b. Create a separate SPECFEM2D working directory\n",
    "\n",
    "Next we'll create a new SPECFEM2D working directory, separate from the original repository. The intent here is to isolate the original SPECFEM2D repository from our working state, to protect it from things like accidental file deletions or manipulations. This is not a mandatory step for using SeisFlows, but it helps keep file structure clean in the long run, and is the SeisFlows3 dev team's preferred method of using SPECFEM. "
   ]
  },
  {
   "cell_type": "raw",
   "metadata": {},
   "source": [
    ".. note::\n",
    "    All SPECFEM2D/3D/3D_GLOBE need to run successfully are the bin/, DATA/, and OUTPUT_FILES/ directories. Everything else in the repository is not mandatory for running binaries."
   ]
  },
  {
   "cell_type": "markdown",
   "metadata": {},
   "source": [
    "In this tutorial we will be using the [Tape2007 example problem](https://github.com/geodynamics/specfem2d/tree/devel/EXAMPLES/Tape2007) to define our __DATA/__ directory (last tested 8/15/22, bdba4389)."
   ]
  },
  {
   "cell_type": "code",
   "execution_count": 16,
   "metadata": {},
   "outputs": [
    {
     "name": "stdout",
     "output_type": "stream",
     "text": [
      "/Users/Chow/Work/work/sf_specfem2d_example/specfem2d_workdir\n",
      "\u001b[1m\u001b[32mDATA\u001b[m\u001b[m \u001b[1m\u001b[32mbin\u001b[m\u001b[m\n"
     ]
    }
   ],
   "source": [
    "# Incase we've run this docs page before, delete the working directory before remaking\n",
    "if os.path.exists(SPECFEM2D_WORKDIR):\n",
    "    shutil.rmtree(SPECFEM2D_WORKDIR)\n",
    "\n",
    "os.mkdir(SPECFEM2D_WORKDIR)\n",
    "os.chdir(SPECFEM2D_WORKDIR)\n",
    "\n",
    "# Copy the binary files incase we update the source code. These can also be symlinked.\n",
    "shutil.copytree(SPECFEM2D_BIN_ORIGINAL, \"bin\")\n",
    "\n",
    "# Copy the DATA/ directory because we will be making edits here frequently and it's useful to\n",
    "# retain the original files for reference. We will be running one of the example problems: Tape2007\n",
    "shutil.copytree(os.path.join(TAPE_2007_EXAMPLE, \"DATA\"), \"DATA\")\n",
    "\n",
    "! pwd\n",
    "! ls"
   ]
  },
  {
   "cell_type": "code",
   "execution_count": 17,
   "metadata": {},
   "outputs": [
    {
     "name": "stdout",
     "output_type": "stream",
     "text": [
      " -------------------------------------------------------------------------------\r\n",
      " -------------------------------------------------------------------------------\r\n",
      " D a t e : 15 - 08 - 2022                                 T i m e  : 10:13:31\r\n",
      " -------------------------------------------------------------------------------\r\n",
      " -------------------------------------------------------------------------------\r\n",
      "\r\n",
      "see results in directory: OUTPUT_FILES/\r\n",
      "\r\n",
      "done\r\n",
      "Mon Aug 15 10:13:31 PDT 2022\r\n"
     ]
    }
   ],
   "source": [
    "# Run the Tape2007 example to make sure SPECFEM2D is working as expected\n",
    "os.chdir(TAPE_2007_EXAMPLE)\n",
    "! ./run_this_example.sh > output_log.txt\n",
    "\n",
    "assert(os.path.exists(\"OUTPUT_FILES/forward_image000004800.jpg\")), \\\n",
    "    (f\"Example did not run, the remainder of this docs page will likely not work.\"\n",
    "     f\"Please check the following directory: {TAPE_2007_EXAMPLE}\")\n",
    "\n",
    "! tail output_log.txt"
   ]
  },
  {
   "cell_type": "markdown",
   "metadata": {},
   "source": [
    "------------------------------------\n",
    "Now we need to manually set up our SPECFEM2D working directory. As mentioned in the previous cell, the only required elements of this working directory are the following (these files will form the basis for how SeisFlows3 operates within the SPECFEM2D framework):\n",
    "\n",
    "1. __bin/__ directory containing SPECFEM2D binaries\n",
    "2. __DATA/__ directory containing SOURCE and STATION files, as well as a SPECFEM2D Par_file\n",
    "3. __OUTPUT_FILES/proc??????_*.bin__ files which define the starting (and target) models"
   ]
  },
  {
   "cell_type": "raw",
   "metadata": {},
   "source": [
    ".. note:: \n",
    "    This file structure is the same for all versions of SPECFEM (2D/3D/3D_GLOBE)"
   ]
  },
  {
   "cell_type": "code",
   "execution_count": 18,
   "metadata": {},
   "outputs": [
    {
     "name": "stdout",
     "output_type": "stream",
     "text": [
      "Par_file                         SOURCE_013\r\n",
      "Par_file_Tape2007_132rec_checker SOURCE_014\r\n",
      "Par_file_Tape2007_onerec         SOURCE_015\r\n",
      "\u001b[1m\u001b[35mSOURCE\u001b[m\u001b[m                           SOURCE_016\r\n",
      "SOURCE_001                       SOURCE_017\r\n",
      "SOURCE_002                       SOURCE_018\r\n",
      "SOURCE_003                       SOURCE_019\r\n",
      "SOURCE_004                       SOURCE_020\r\n",
      "SOURCE_005                       SOURCE_021\r\n",
      "SOURCE_006                       SOURCE_022\r\n",
      "SOURCE_007                       SOURCE_023\r\n",
      "SOURCE_008                       SOURCE_024\r\n",
      "SOURCE_009                       SOURCE_025\r\n",
      "SOURCE_010                       STATIONS_checker\r\n",
      "SOURCE_011                       interfaces_Tape2007.dat\r\n",
      "SOURCE_012                       model_velocity.dat_checker\r\n"
     ]
    }
   ],
   "source": [
    "# First we will set the correct SOURCE and STATION files.\n",
    "# This is the same task as shown in ./run_this_example.sh\n",
    "os.chdir(SPECFEM2D_DATA)\n",
    "\n",
    "# Symlink source 001 as our main source\n",
    "if os.path.exists(\"SOURCE\"):\n",
    "    os.remove(\"SOURCE\")\n",
    "os.symlink(\"SOURCE_001\", \"SOURCE\")\n",
    "\n",
    "# Copy the correct Par_file so that edits do not affect the original file\n",
    "if os.path.exists(\"Par_file\"):\n",
    "    os.remove(\"Par_file\")\n",
    "shutil.copy(\"Par_file_Tape2007_onerec\", \"Par_file\")\n",
    "\n",
    "! ls"
   ]
  },
  {
   "cell_type": "markdown",
   "metadata": {},
   "source": [
    "#### 1c. Generate initial and target models\n",
    "\n",
    "Since we're doing a synthetic-synthetic inversion, we need to manually set up the velocity models with which we generate our synthetic waveforms. The naming conventions for these models are:\n",
    "\n",
    "1. __MODEL_INIT:__ The initial or starting model. Used to generate the actual synthetic seismograms. This is considered M00.\n",
    "2. __MODEL_TRUE:__ The target or true model. Used to generate 'data' (also synthetic). This is the reference model that our inversion is trying to resolve.\n",
    "\n",
    "The starting model is defined as a homogeneous halfspace uin the Tape2007 example problem. We will need to run both `xmeshfem2D` and `xspecfem2D` to generate the required velocity model database files. We will generate our target model by slightly perturbing the parameters of the initial model."
   ]
  },
  {
   "cell_type": "raw",
   "metadata": {},
   "source": [
    ".. note::\n",
    "    We can use the SeisFlows3 command line option `seisflows sempar` to directly edit the SPECFEM2D Par_file in the command line. This will work for the SPECFEM3D Par_file as well."
   ]
  },
  {
   "cell_type": "code",
   "execution_count": 19,
   "metadata": {},
   "outputs": [
    {
     "name": "stdout",
     "output_type": "stream",
     "text": [
      "setup_with_binary_database: 0 -> 1\n",
      "SAVE_MODEL: default -> binary\n",
      "save_ASCII_kernels: .true. -> .false.\n"
     ]
    }
   ],
   "source": [
    "os.chdir(SPECFEM2D_DATA)\n",
    "\n",
    "# Ensure that SPECFEM2D outputs the velocity model in the expected binary format\n",
    "! seisflows sempar setup_with_binary_database 1  # allow creation of .bin files\n",
    "! seisflows sempar save_model binary  # output model in .bin database format\n",
    "! seisflows sempar save_ascii_kernels .false.  # output kernels in .bin format, not ASCII"
   ]
  },
  {
   "cell_type": "code",
   "execution_count": 20,
   "metadata": {},
   "outputs": [
    {
     "name": "stdout",
     "output_type": "stream",
     "text": [
      "\u001b[1m\u001b[32mDATA\u001b[m\u001b[m         \u001b[1m\u001b[32mOUTPUT_FILES\u001b[m\u001b[m \u001b[1m\u001b[32mbin\u001b[m\u001b[m\r\n"
     ]
    }
   ],
   "source": [
    "# SPECFEM requires that we create the OUTPUT_FILES directory before running\n",
    "os.chdir(SPECFEM2D_WORKDIR)\n",
    "\n",
    "if os.path.exists(SPECFEM2D_OUTPUT):\n",
    "    shutil.rmtree(SPECFEM2D_OUTPUT)\n",
    "    \n",
    "os.mkdir(SPECFEM2D_OUTPUT)\n",
    "\n",
    "! ls"
   ]
  },
  {
   "cell_type": "code",
   "execution_count": 21,
   "metadata": {},
   "outputs": [
    {
     "name": "stdout",
     "output_type": "stream",
     "text": [
      "\n",
      " **********************************************\n",
      " **** Specfem 2-D Solver - serial version  ****\n",
      " **********************************************\n",
      "\n",
      " Running Git version of the code corresponding to \n",
      " dating From \n",
      "\n",
      "\n",
      " NDIM =            2\n",
      " -------------------------------------------------------------------------------\n",
      " Program SPECFEM2D: \n",
      " -------------------------------------------------------------------------------\n",
      " -------------------------------------------------------------------------------\n",
      " Tape-Liu-Tromp (GJI 2007)\n",
      " -------------------------------------------------------------------------------\n",
      " -------------------------------------------------------------------------------\n",
      " D a t e : 15 - 08 - 2022                                 T i m e  : 10:14:13\n",
      " -------------------------------------------------------------------------------\n",
      " -------------------------------------------------------------------------------\n"
     ]
    }
   ],
   "source": [
    "# GENERATE MODEL_INIT\n",
    "os.chdir(SPECFEM2D_WORKDIR)\n",
    "\n",
    "# Run the mesher and solver to generate our initial model\n",
    "! ./bin/xmeshfem2D > OUTPUT_FILES/mesher_log.txt\n",
    "! ./bin/xspecfem2D > OUTPUT_FILES/solver_log.txt\n",
    "\n",
    "# Move the model files (*.bin) into the OUTPUT_FILES directory, where SeisFlows3 expects them\n",
    "! mv DATA/*bin OUTPUT_FILES\n",
    "\n",
    "# Make sure we don't overwrite this initial model when creating our target model in the next step\n",
    "! mv OUTPUT_FILES OUTPUT_FILES_INIT\n",
    "\n",
    "! head OUTPUT_FILES_INIT/solver_log.txt\n",
    "! tail OUTPUT_FILES_INIT/solver_log.txt"
   ]
  },
  {
   "cell_type": "markdown",
   "metadata": {},
   "source": [
    "-----------------------------\n",
    "\n",
    "Now we want to perturb the initial model to create our target model (__MODEL_TRUE__). The seisflows command line subargument `seisflows sempar velocity_model` will let us view and edit the velocity model. You can also do this manually by editing the Par_file directly. "
   ]
  },
  {
   "cell_type": "code",
   "execution_count": 22,
   "metadata": {},
   "outputs": [
    {
     "name": "stdout",
     "output_type": "stream",
     "text": [
      "VELOCITY_MODEL:\r\n",
      "\r\n",
      "1 1 2600.d0 5800.d0 3500.0d0 0 0 10.d0 10.d0 0 0 0 0 0 0\r\n",
      "->\r\n",
      "1 1 2600.d0 5900.d0 3550.0d0 0 0 10.d0 10.d0 0 0 0 0 0 0\r\n"
     ]
    }
   ],
   "source": [
    "# GENERATE MODEL_TRUE\n",
    "os.chdir(SPECFEM2D_DATA)\n",
    "\n",
    "# Edit the Par_file by increasing velocities by ~10% \n",
    "! seisflows sempar velocity_model '1 1 2600.d0 5900.d0 3550.0d0 0 0 10.d0 10.d0 0 0 0 0 0 0'"
   ]
  },
  {
   "cell_type": "code",
   "execution_count": 23,
   "metadata": {},
   "outputs": [
    {
     "name": "stdout",
     "output_type": "stream",
     "text": [
      "\n",
      " **********************************************\n",
      " **** Specfem 2-D Solver - serial version  ****\n",
      " **********************************************\n",
      "\n",
      " Running Git version of the code corresponding to \n",
      " dating From \n",
      "\n",
      "\n",
      " NDIM =            2\n",
      " -------------------------------------------------------------------------------\n",
      " Program SPECFEM2D: \n",
      " -------------------------------------------------------------------------------\n",
      " -------------------------------------------------------------------------------\n",
      " Tape-Liu-Tromp (GJI 2007)\n",
      " -------------------------------------------------------------------------------\n",
      " -------------------------------------------------------------------------------\n",
      " D a t e : 15 - 08 - 2022                                 T i m e  : 10:14:13\n",
      " -------------------------------------------------------------------------------\n",
      " -------------------------------------------------------------------------------\n"
     ]
    }
   ],
   "source": [
    "# Re-run the mesher and solver to generate our target velocity model\n",
    "os.chdir(SPECFEM2D_WORKDIR)\n",
    "\n",
    "# Make sure the ./OUTPUT_FILES directory exists since we moved the old one\n",
    "if os.path.exists(SPECFEM2D_OUTPUT):\n",
    "    shutil.rmtree(SPECFEM2D_OUTPUT)\n",
    "os.mkdir(SPECFEM2D_OUTPUT)\n",
    "\n",
    "# Run the binaries to generate MODEL_TRUE\n",
    "! ./bin/xmeshfem2D > OUTPUT_FILES/mesher_log.txt\n",
    "! ./bin/xspecfem2D > OUTPUT_FILES/solver_log.txt\n",
    "\n",
    "# Move all the relevant files into OUTPUT_FILES \n",
    "! mv ./DATA/*bin OUTPUT_FILES\n",
    "! mv OUTPUT_FILES OUTPUT_FILES_TRUE\n",
    "\n",
    "! head OUTPUT_FILES_INIT/solver_log.txt\n",
    "! tail OUTPUT_FILES_INIT/solver_log.txt"
   ]
  },
  {
   "cell_type": "code",
   "execution_count": 24,
   "metadata": {},
   "outputs": [
    {
     "name": "stdout",
     "output_type": "stream",
     "text": [
      "\u001b[1m\u001b[32mDATA\u001b[m\u001b[m              \u001b[1m\u001b[32mOUTPUT_FILES_INIT\u001b[m\u001b[m \u001b[1m\u001b[32mOUTPUT_FILES_TRUE\u001b[m\u001b[m \u001b[1m\u001b[32mbin\u001b[m\u001b[m\r\n"
     ]
    }
   ],
   "source": [
    "# Great, we have all the necessary SPECFEM files to run our SeisFlows inversion!\n",
    "! ls"
   ]
  },
  {
   "cell_type": "markdown",
   "metadata": {},
   "source": [
    "### 2. Initialize SeisFlows (SF)\n",
    "In this Section we will look at a SeisFlows working directory, parameter file, and working state.\n",
    "\n",
    "#### 2a. SeisFlows working directory and parameter file\n",
    "\n",
    "As with SPECFEM, SeisFlows requires a parameter file (__parameters.yaml__) that controls how an automated workflow will proceed. Because SeisFlows is modular, there are a large number of potential parameters which may be present in a SeisFlows parameter file, as each sub-module may have its own set of unique parameters.\n",
    "\n",
    "In contrast to SPECFEM's method of listing all available parameters and leaving it up the User to determine which ones are relevant to them, SeisFlows dynamically builds its parameter file based on User inputs. In this subsection we will use the built-in SeisFlows command line tools to generate and populate the parameter file. "
   ]
  },
  {
   "cell_type": "raw",
   "metadata": {},
   "source": [
    ".. note::\n",
    "    See the `parameter file documentation page <parameter_file.html>`__ for a more in depth exploration of this central SeisFlows file."
   ]
  },
  {
   "cell_type": "markdown",
   "metadata": {},
   "source": [
    "In the previous section we saw the `sempar` command in action. We can use the `-h` or help flag to list all available SiesFlows3 command line commands."
   ]
  },
  {
   "cell_type": "code",
   "execution_count": 25,
   "metadata": {},
   "outputs": [
    {
     "name": "stdout",
     "output_type": "stream",
     "text": [
      "usage: seisflows [-h] [-w [WORKDIR]] [-p [PARAMETER_FILE]]\r\n",
      "                 {setup,configure,swap,init,submit,resume,restart,clean,par,sempar,check,print,reset,debug,examples}\r\n",
      "                 ...\r\n",
      "\r\n",
      "================================================================================\r\n",
      "\r\n",
      "                     SeisFlows: Waveform Inversion Package                      \r\n",
      "\r\n",
      "================================================================================\r\n",
      "\r\n",
      "optional arguments:\r\n",
      "  -h, --help            show this help message and exit\r\n",
      "  -w [WORKDIR], --workdir [WORKDIR]\r\n",
      "                        The SeisFlows working directory, default: cwd\r\n",
      "  -p [PARAMETER_FILE], --parameter_file [PARAMETER_FILE]\r\n",
      "                        Parameters file, default: 'parameters.yaml'\r\n",
      "\r\n",
      "command:\r\n",
      "  Available SeisFlows arguments and their intended usages\r\n",
      "\r\n",
      "    setup               Setup working directory from scratch\r\n",
      "    configure           Fill parameter file with defaults\r\n",
      "    swap                Swap module parameters in an existing parameter file\r\n",
      "    init                Initiate working environment\r\n",
      "    submit              Submit initial workflow to system\r\n",
      "    resume              Re-submit previous workflow to system\r\n",
      "    restart             Remove current environment and submit new workflow\r\n",
      "    clean               Remove files relating to an active working environment\r\n",
      "    par                 View and edit SeisFlows parameter file\r\n",
      "    sempar              View and edit SPECFEM parameter file\r\n",
      "    check               Check state of an active environment\r\n",
      "    print               Print information related to an active environment\r\n",
      "    reset               Reset modules within an active state\r\n",
      "    debug               Start interactive debug environment\r\n",
      "    examples            Look at and run pre-configured example problems\r\n",
      "\r\n",
      "'seisflows [command] -h' for more detailed descriptions of each command.\r\n"
     ]
    }
   ],
   "source": [
    "! seisflows -h"
   ]
  },
  {
   "cell_type": "code",
   "execution_count": 1,
   "metadata": {},
   "outputs": [
    {
     "ename": "NameError",
     "evalue": "name 'os' is not defined",
     "output_type": "error",
     "traceback": [
      "\u001b[0;31m---------------------------------------------------------------------------\u001b[0m",
      "\u001b[0;31mNameError\u001b[0m                                 Traceback (most recent call last)",
      "\u001b[0;32m<ipython-input-1-2c77315fa7ca>\u001b[0m in \u001b[0;36m<module>\u001b[0;34m\u001b[0m\n\u001b[1;32m      1\u001b[0m \u001b[0;31m# The command 'setup' creates the 'parameters.yaml' file that controls all of SeisFlows\u001b[0m\u001b[0;34m\u001b[0m\u001b[0;34m\u001b[0m\u001b[0;34m\u001b[0m\u001b[0m\n\u001b[1;32m      2\u001b[0m \u001b[0;31m# the '-f' flag removes any exist 'parameters.yaml' file that might be in the directory\u001b[0m\u001b[0;34m\u001b[0m\u001b[0;34m\u001b[0m\u001b[0;34m\u001b[0m\u001b[0m\n\u001b[0;32m----> 3\u001b[0;31m \u001b[0mos\u001b[0m\u001b[0;34m.\u001b[0m\u001b[0mchdir\u001b[0m\u001b[0;34m(\u001b[0m\u001b[0mWORKDIR\u001b[0m\u001b[0;34m)\u001b[0m\u001b[0;34m\u001b[0m\u001b[0;34m\u001b[0m\u001b[0m\n\u001b[0m\u001b[1;32m      4\u001b[0m \u001b[0mget_ipython\u001b[0m\u001b[0;34m(\u001b[0m\u001b[0;34m)\u001b[0m\u001b[0;34m.\u001b[0m\u001b[0msystem\u001b[0m\u001b[0;34m(\u001b[0m\u001b[0;34m' seisflows setup -f'\u001b[0m\u001b[0;34m)\u001b[0m\u001b[0;34m\u001b[0m\u001b[0;34m\u001b[0m\u001b[0m\n\u001b[1;32m      5\u001b[0m \u001b[0mget_ipython\u001b[0m\u001b[0;34m(\u001b[0m\u001b[0;34m)\u001b[0m\u001b[0;34m.\u001b[0m\u001b[0msystem\u001b[0m\u001b[0;34m(\u001b[0m\u001b[0;34m' ls'\u001b[0m\u001b[0;34m)\u001b[0m\u001b[0;34m\u001b[0m\u001b[0;34m\u001b[0m\u001b[0m\n",
      "\u001b[0;31mNameError\u001b[0m: name 'os' is not defined"
     ]
    }
   ],
   "source": [
    "# The command 'setup' creates the 'parameters.yaml' file that controls all of SeisFlows\n",
    "# the '-f' flag removes any exist 'parameters.yaml' file that might be in the directory\n",
    "os.chdir(WORKDIR)\n",
    "! seisflows setup -f\n",
    "! ls"
   ]
  },
  {
   "cell_type": "code",
   "execution_count": 5,
   "metadata": {},
   "outputs": [
    {
     "name": "stdout",
     "output_type": "stream",
     "text": [
      "# //////////////////////////////////////////////////////////////////////////////\r\n",
      "#\r\n",
      "#                        SeisFlows YAML Parameter File\r\n",
      "#\r\n",
      "# //////////////////////////////////////////////////////////////////////////////\r\n",
      "#\r\n",
      "# Modules correspond to the structure of the source code, and determine\r\n",
      "# SeisFlows' behavior at runtime. Each module requires its own sub-parameters.\r\n",
      "#\r\n",
      "# .. rubric::\r\n",
      "#   - To determine available options for modules listed below, run:\r\n",
      "#       > seisflows print modules\r\n",
      "#   - To auto-fill with docstrings and default values (recommended), run:\r\n",
      "#       > seisflows configure\r\n",
      "#   - To set values as NoneType, use: null\r\n",
      "#   - To set values as infinity, use: inf\r\n",
      "#\r\n",
      "#                                    MODULES\r\n",
      "#                                    ///////\r\n",
      "# workflow (str):    The types and order of functions for running SeisFlows\r\n",
      "# system (str):      Computer architecture of the system being used\r\n",
      "# solver (str):      External numerical solver to use for waveform simulations\r\n",
      "# preprocess (str):  Preprocessing schema for waveform data\r\n",
      "# optimize (str):    Optimization algorithm for the inverse problem\r\n",
      "# ==============================================================================\r\n",
      "workflow: forward\r\n",
      "system: workstation\r\n",
      "solver: specfem2d\r\n",
      "preprocess: default\r\n",
      "optimize: gradient\r\n"
     ]
    }
   ],
   "source": [
    "# Let's have a look at this file, which has not yet been populated\n",
    "! cat parameters.yaml"
   ]
  },
  {
   "cell_type": "code",
   "execution_count": 28,
   "metadata": {},
   "outputs": [
    {
     "name": "stdout",
     "output_type": "stream",
     "text": [
      "                               SEISFLOWS MODULES                                \r\n",
      "                               /////////////////                                \r\n",
      "'-': module, '*': class\r\n",
      "\r\n",
      "- workflow\r\n",
      "    * forward\r\n",
      "    * inversion\r\n",
      "    * migration\r\n",
      "- system\r\n",
      "    * chinook\r\n",
      "    * cluster\r\n",
      "    * frontera\r\n",
      "    * lsf\r\n",
      "    * maui\r\n",
      "    * slurm\r\n",
      "    * workstation\r\n",
      "- solver\r\n",
      "    * specfem\r\n",
      "    * specfem2d\r\n",
      "    * specfem3d\r\n",
      "    * specfem3d_globe\r\n",
      "- preprocess\r\n",
      "    * default\r\n",
      "    * pyaflowa\r\n",
      "- optimize\r\n",
      "    * LBFGS\r\n",
      "    * NLCG\r\n",
      "    * gradient\r\n"
     ]
    }
   ],
   "source": [
    "# We can use the `seisflows print modules` command to list out the available options \n",
    "! seisflows print modules"
   ]
  },
  {
   "cell_type": "code",
   "execution_count": 6,
   "metadata": {},
   "outputs": [
    {
     "name": "stdout",
     "output_type": "stream",
     "text": [
      "workflow: forward -> inversion\n",
      "# //////////////////////////////////////////////////////////////////////////////\n",
      "#\n",
      "#                        SeisFlows YAML Parameter File\n",
      "#\n",
      "# //////////////////////////////////////////////////////////////////////////////\n",
      "#\n",
      "# Modules correspond to the structure of the source code, and determine\n",
      "# SeisFlows' behavior at runtime. Each module requires its own sub-parameters.\n",
      "#\n",
      "# .. rubric::\n",
      "#   - To determine available options for modules listed below, run:\n",
      "#       > seisflows print modules\n",
      "#   - To auto-fill with docstrings and default values (recommended), run:\n",
      "#       > seisflows configure\n",
      "#   - To set values as NoneType, use: null\n",
      "#   - To set values as infinity, use: inf\n",
      "#\n",
      "#                                    MODULES\n",
      "#                                    ///////\n",
      "# workflow (str):    The types and order of functions for running SeisFlows\n",
      "# system (str):      Computer architecture of the system being used\n",
      "# solver (str):      External numerical solver to use for waveform simulations\n",
      "# preprocess (str):  Preprocessing schema for waveform data\n",
      "# optimize (str):    Optimization algorithm for the inverse problem\n",
      "# ==============================================================================\n",
      "workflow: inversion\n",
      "system: workstation\n",
      "solver: specfem2d\n",
      "preprocess: default\n",
      "optimize: gradient\n"
     ]
    }
   ],
   "source": [
    "# For this example, we can use most of the default modules, however we need to \n",
    "# change the SOLVER module to let SeisFlows know we're using SPECFEM2D (as opposed to 3D)\n",
    "! seisflows par workflow inversion\n",
    "! cat parameters.yaml"
   ]
  },
  {
   "cell_type": "markdown",
   "metadata": {},
   "source": [
    "-------------------------\n",
    "The `seisflows configure` command populates the parameter file based on the chosen modules. SeisFlows will attempt to fill in all parameters with reasonable default values. Docstrings above each module show descriptions and available options for each of these parameters. \n",
    "\n",
    "In the follownig cell we will use the `seisflows par` command to edit the parameters.yaml file directly, replacing some default parameters with our own values. Comments next to each evaluation describe the choice for each."
   ]
  },
  {
   "cell_type": "code",
   "execution_count": 7,
   "metadata": {},
   "outputs": [
    {
     "name": "stdout",
     "output_type": "stream",
     "text": [
      "# //////////////////////////////////////////////////////////////////////////////\r\n",
      "#\r\n",
      "#                        SeisFlows YAML Parameter File\r\n",
      "#\r\n",
      "# //////////////////////////////////////////////////////////////////////////////\r\n",
      "#\r\n",
      "# Modules correspond to the structure of the source code, and determine\r\n",
      "# SeisFlows' behavior at runtime. Each module requires its own sub-parameters.\r\n",
      "#\r\n",
      "# .. rubric::\r\n",
      "#   - To determine available options for modules listed below, run:\r\n",
      "#       > seisflows print modules\r\n",
      "#   - To auto-fill with docstrings and default values (recommended), run:\r\n",
      "#       > seisflows configure\r\n",
      "#   - To set values as NoneType, use: null\r\n",
      "#   - To set values as infinity, use: inf\r\n",
      "#\r\n",
      "#                                    MODULES\r\n",
      "#                                    ///////\r\n",
      "# workflow (str):    The types and order of functions for running SeisFlows\r\n",
      "# system (str):      Computer architecture of the system being used\r\n",
      "# solver (str):      External numerical solver to use for waveform simulations\r\n",
      "# preprocess (str):  Preprocessing schema for waveform data\r\n",
      "# optimize (str):    Optimization algorithm for the inverse problem\r\n",
      "# ==============================================================================\r\n",
      "workflow: inversion\r\n",
      "system: workstation\r\n",
      "solver: specfem2d\r\n",
      "preprocess: default\r\n",
      "optimize: gradient\r\n",
      "# =============================================================================\r\n",
      "#\r\n",
      "#    Forward Workflow\r\n",
      "#    ----------------\r\n",
      "#    Run forward solver in parallel and (optionally) calculate\r\n",
      "#    data-synthetic misfit and adjoint sources.\r\n",
      "#\r\n",
      "#    Parameters\r\n",
      "#    ----------\r\n",
      "#    :type modules: list of module\r\n",
      "#    :param modules: instantiated SeisFlows modules which should have been\r\n",
      "#        generated by the function `seisflows.config.import_seisflows` with a\r\n",
      "#        parameter file generated by seisflows.configure\r\n",
      "#    :type data_case: str\r\n",
      "#    :param data_case: How to address 'data' in the workflow, available options:\r\n",
      "#        'data': real data will be provided by the user in\r\n",
      "#        `path_data/{source_name}` in the same format that the solver will\r\n",
      "#        produce synthetics (controlled by `solver.format`) OR\r\n",
      "#        synthetic': 'data' will be generated as synthetic seismograms using\r\n",
      "#        a target model provided in `path_model_true`. If None, workflow will\r\n",
      "#        not attempt to generate data.\r\n",
      "#    :type stop_after: str\r\n",
      "#    :param stop_after: optional name of task in task list (use\r\n",
      "#        `seisflows print tasks` to get task list for given workflow) to stop\r\n",
      "#        workflow after, allowing user to prematurely stop a workflow to explore\r\n",
      "#        intermediate results or debug.\r\n",
      "#    :type export_traces: bool\r\n",
      "#    :param export_traces: export all waveforms that are generated by the\r\n",
      "#        external solver to `path_output`. If False, solver traces stored in\r\n",
      "#        scratch may be discarded at any time in the workflow\r\n",
      "#    :type export_residuals: bool\r\n",
      "#    :param export_residuals: export all residuals (data-synthetic misfit) that\r\n",
      "#        are generated by the external solver to `path_output`. If False,\r\n",
      "#        residuals stored in scratch may be discarded at any time in the workflow\r\n",
      "#\r\n",
      "#        \r\n",
      "#    Migration Workflow\r\n",
      "#    ------------------\r\n",
      "#    Run forward and adjoint solver to produce event-dependent misfit kernels.\r\n",
      "#    Sum and postprocess kernels to produce gradient. In seismic exploration\r\n",
      "#    this is 'reverse time migration'.\r\n",
      "#\r\n",
      "#    Parameters\r\n",
      "#    ----------\r\n",
      "#    :type export_gradient: bool\r\n",
      "#    :param export_gradient: export the gradient after it has been generated\r\n",
      "#        in the scratch directory. If False, gradient can be discarded from\r\n",
      "#        scratch at any time in the workflow\r\n",
      "#    :type export_kernels: bool\r\n",
      "#    :param export_kernels: export each sources event kernels after they have\r\n",
      "#        been generated in the scratch directory. If False, gradient can be\r\n",
      "#        discarded from scratch at any time in the workflow\r\n",
      "#\r\n",
      "#        \r\n",
      "#    Inversion Workflow\r\n",
      "#    ------------------\r\n",
      "#    Peforms iterative nonlinear inversion using the machinery of the Forward\r\n",
      "#    and Migration workflows, as well as a built-in optimization library.\r\n",
      "#\r\n",
      "#    Parameters\r\n",
      "#    ----------\r\n",
      "#    :type start: int\r\n",
      "#    :param start: start inversion workflow at this iteration. 1 <= start <= inf\r\n",
      "#    :type end: int\r\n",
      "#    :param end: end inversion workflow at this iteration. start <= end <= inf\r\n",
      "#    :type iteration: int\r\n",
      "#    :param iteration: The current iteration of the workflow. If NoneType, takes\r\n",
      "#        the value of `start` (i.e., first iteration of the workflow). User can\r\n",
      "#        also set between `start` and `end` to resume a failed workflow.\r\n",
      "#    :type thrifty: bool\r\n",
      "#    :param thrifty: a thrifty inversion skips the costly intialization step\r\n",
      "#        (i.e., forward simulations and misfit quantification) if the final\r\n",
      "#        forward simulations from the previous iterations line search can be\r\n",
      "#        used in the current one. Requires L-BFGS optimization.\r\n",
      "#    :type export_model: bool\r\n",
      "#    :param export_model: export best-fitting model from the line search to disk.\r\n",
      "#        If False, new models can be discarded from scratch at any time.\r\n",
      "#\r\n",
      "#        \r\n",
      "# =============================================================================\r\n",
      "data_case: data\r\n",
      "stop_after: null\r\n",
      "export_traces: False\r\n",
      "export_residuals: False\r\n",
      "export_gradient: False\r\n",
      "export_kernels: False\r\n",
      "start: 1\r\n",
      "end: 1\r\n",
      "export_model: True\r\n",
      "thrifty: False\r\n",
      "iteration: 1\r\n",
      "# =============================================================================\r\n",
      "#\r\n",
      "#    Workstation System\r\n",
      "#    ------------------\r\n",
      "#    Runs tasks in serial on a local machine.\r\n",
      "#\r\n",
      "#    Parameters\r\n",
      "#    ----------\r\n",
      "#    :type ntask: int\r\n",
      "#    :param ntask: number of individual tasks/events to run during workflow.\r\n",
      "#        Must be <= the number of source files in `path_specfem_data`\r\n",
      "#    :type nproc: int\r\n",
      "#    :param nproc: number of processors to use for each simulation\r\n",
      "#    :type log_level: str\r\n",
      "#    :param log_level: logger level to pass to logging module.\r\n",
      "#        Available: 'debug', 'info', 'warning', 'critical'\r\n",
      "#    :type verbose: bool\r\n",
      "#    :param verbose: if True, formats the log messages to include the file\r\n",
      "#        name, line number and message type. Useful for debugging but\r\n",
      "#        also very verbose.\r\n",
      "#\r\n",
      "#        \r\n",
      "# =============================================================================\r\n",
      "ntask: 1\r\n",
      "nproc: 1\r\n",
      "log_level: DEBUG\r\n",
      "verbose: False\r\n",
      "# =============================================================================\r\n",
      "#\r\n",
      "#    Solver SPECFEM\r\n",
      "#    --------------\r\n",
      "#    Generalized SPECFEM interface to manipulate SPECFEM2D/3D/3D_GLOBE w/ Python\r\n",
      "#\r\n",
      "#    Parameters\r\n",
      "#    ----------\r\n",
      "#    :type data_format: str\r\n",
      "#    :param data_format: data format for reading traces into memory.\r\n",
      "#        Available: ['SU': seismic unix format, 'ASCII': human-readable ascii]\r\n",
      "#    :type materials: str\r\n",
      "#    :param materials: Material parameters used to define model. Available:\r\n",
      "#        ['ELASTIC': Vp, Vs, 'ACOUSTIC': Vp, 'ISOTROPIC', 'ANISOTROPIC']\r\n",
      "#    :type density: bool\r\n",
      "#    :param density: How to treat density during inversion. If True, updates\r\n",
      "#        density during inversion. If False, keeps it constant.\r\n",
      "#        TODO allow density scaling during an inversion\r\n",
      "#    :type attenuation: bool\r\n",
      "#    :param attenuation: How to treat attenuation during inversion.\r\n",
      "#        if True, turns on attenuation during forward simulations only. If\r\n",
      "#        False, attenuation is always set to False. Requires underlying\r\n",
      "#        attenution (Q_mu, Q_kappa) model\r\n",
      "#    :type smooth_h: float\r\n",
      "#    :param smooth_h: Gaussian half-width for horizontal smoothing in units\r\n",
      "#        of meters. If 0., no smoothing applied\r\n",
      "#    :type smooth_h: float\r\n",
      "#    :param smooth_v: Gaussian half-width for vertical smoothing in units\r\n",
      "#        of meters.\r\n",
      "#    :type components: str\r\n",
      "#    :param components: components to consider and tag data with. Should be\r\n",
      "#        string of letters such as 'RTZ'\r\n",
      "#    :type solver_io: str\r\n",
      "#    :param solver_io: format of model/kernel/gradient files expected by the\r\n",
      "#        numerical solver. Available: ['fortran_binary': default .bin files].\r\n",
      "#        TODO: ['adios': ADIOS formatted files]\r\n",
      "#    :type source_prefix: str\r\n",
      "#    :param source_prefix: prefix of source/event/earthquake files. If None,\r\n",
      "#        will attempt to guess based on the specific solver chosen.\r\n",
      "#    :type mpiexec: str\r\n",
      "#    :param mpiexec: MPI executable used to run parallel processes. Should also\r\n",
      "#        be defined for the system module\r\n",
      "#\r\n",
      "#        \r\n",
      "#    Solver SPECFEM2D\r\n",
      "#    ----------------\r\n",
      "#    SPECFEM2D-specific alterations to the base SPECFEM module\r\n",
      "#\r\n",
      "#    Parameters\r\n",
      "#    ----------\r\n",
      "#    :type source_prefix: str\r\n",
      "#    :param source_prefix: Prefix of source files in path SPECFEM_DATA. Defaults\r\n",
      "#        to 'SOURCE'\r\n",
      "#    :type multiples: bool\r\n",
      "#    :param multiples: set an absorbing top-boundary condition\r\n",
      "#\r\n",
      "#        \r\n",
      "# =============================================================================\r\n",
      "data_format: ascii\r\n",
      "materials: acoustic\r\n",
      "density: False\r\n",
      "attenuation: False\r\n",
      "smooth_h: 0.0\r\n",
      "smooth_v: 0.0\r\n",
      "components: ZNE\r\n",
      "source_prefix: SOURCE\r\n",
      "multiples: False\r\n",
      "# =============================================================================\r\n",
      "#\r\n",
      "#    Default Preprocess\r\n",
      "#    ------------------\r\n",
      "#    Data processing for seismic traces, with options for data misfit,\r\n",
      "#    filtering, normalization and muting.\r\n",
      "#\r\n",
      "#    Parameters\r\n",
      "#    ----------\r\n",
      "#    :type data_format: str\r\n",
      "#    :param data_format: data format for reading traces into memory. For\r\n",
      "#        available see: seisflows.plugins.preprocess.readers\r\n",
      "#    :type misfit: str\r\n",
      "#    :param misfit: misfit function for waveform comparisons. For available\r\n",
      "#        see seisflows.plugins.preprocess.misfit\r\n",
      "#    :type backproject: str\r\n",
      "#    :param backproject: backprojection function for migration, or the\r\n",
      "#        objective function in FWI. For available see\r\n",
      "#        seisflows.plugins.preprocess.adjoint\r\n",
      "#    :type normalize: str\r\n",
      "#    :param normalize: Data normalization parameters used to normalize the\r\n",
      "#        amplitudes of waveforms. Choose from two sets:\r\n",
      "#        ENORML1: normalize per event by L1 of traces; OR\r\n",
      "#        ENORML2: normalize per event by L2 of traces;\r\n",
      "#        &\r\n",
      "#        TNORML1: normalize per trace by L1 of itself; OR\r\n",
      "#        TNORML2: normalize per trace by L2 of itself\r\n",
      "#    :type filter: str\r\n",
      "#    :param filter: Data filtering type, available options are:\r\n",
      "#        BANDPASS (req. MIN/MAX PERIOD/FREQ);\r\n",
      "#        LOWPASS (req. MAX_FREQ or MIN_PERIOD);\r\n",
      "#        HIGHPASS (req. MIN_FREQ or MAX_PERIOD)\r\n",
      "#    :type min_period: float\r\n",
      "#    :param min_period: Minimum filter period applied to time series.\r\n",
      "#        See also MIN_FREQ, MAX_FREQ, if User defines FREQ parameters, they\r\n",
      "#        will overwrite PERIOD parameters.\r\n",
      "#    :type max_period: float\r\n",
      "#    :param max_period: Maximum filter period applied to time series. See\r\n",
      "#        also MIN_FREQ, MAX_FREQ, if User defines FREQ parameters, they will\r\n",
      "#        overwrite PERIOD parameters.\r\n",
      "#    :type min_freq: float\r\n",
      "#    :param min_freq: Maximum filter frequency applied to time series,\r\n",
      "#        See also MIN_PERIOD, MAX_PERIOD, if User defines FREQ parameters,\r\n",
      "#        they will overwrite PERIOD parameters.\r\n",
      "#    :type max_freq: float\r\n",
      "#    :param max_freq: Maximum filter frequency applied to time series,\r\n",
      "#        See also MIN_PERIOD, MAX_PERIOD, if User defines FREQ parameters,\r\n",
      "#        they will overwrite PERIOD parameters.\r\n",
      "#    :type mute: list\r\n",
      "#    :param mute: Data mute parameters used to zero out early / late\r\n",
      "#        arrivals or offsets. Choose any number of:\r\n",
      "#        EARLY: mute early arrivals;\r\n",
      "#        LATE: mute late arrivals;\r\n",
      "#        SHORT: mute short source-receiver distances;\r\n",
      "#        LONG: mute long source-receiver distances\r\n",
      "#\r\n",
      "#        \r\n",
      "# =============================================================================\r\n",
      "misfit: waveform\r\n",
      "adjoint: waveform\r\n",
      "normalize: []\r\n",
      "filter: null\r\n",
      "min_period: null\r\n",
      "max_period: null\r\n",
      "min_freq: null\r\n",
      "max_freq: null\r\n",
      "mute: []\r\n",
      "early_slope: null\r\n",
      "early_const: null\r\n",
      "late_slope: null\r\n",
      "late_const: null\r\n",
      "short_dist: null\r\n",
      "long_dist: null\r",
      "\r\n",
      "# =============================================================================\r\n",
      "#\r\n",
      "#    Gradient Optimization\r\n",
      "#    ---------------------\r\n",
      "#    Gradient/steepest descent optimization algorithm.\r\n",
      "#\r\n",
      "#    Parameters\r\n",
      "#    ----------\r\n",
      "#    :type line_search_method: str\r\n",
      "#    :param line_search_method: chosen line_search algorithm. Currently available\r\n",
      "#        are 'bracket' and 'backtrack'. See seisflows.plugins.line_search\r\n",
      "#        for all available options\r\n",
      "#    :type preconditioner: str\r\n",
      "#    :param preconditioner: algorithm for preconditioning gradients. Currently\r\n",
      "#        available: 'diagonal'. Requires `path_preconditioner` to point to a\r\n",
      "#        set of files that define the preconditioner, formatted the same as the\r\n",
      "#        input model\r\n",
      "#    :type step_count_max: int\r\n",
      "#    :param step_count_max: maximum number of trial steps to perform during\r\n",
      "#        the line search before a change in line search behavior is\r\n",
      "#        considered, or a line search is considered to have failed.\r\n",
      "#    :type step_len_init: float\r\n",
      "#    :param step_len_init: initial line search step length guess, provided\r\n",
      "#        as a fraction of current model parameters.\r\n",
      "#    :type step_len_max: float\r\n",
      "#    :param step_len_max: maximum allowable step length during the line\r\n",
      "#        search. Set as a fraction of the current model parameters\r\n",
      "#\r\n",
      "#        \r\n",
      "# =============================================================================\r\n",
      "preconditioner: null\r\n",
      "step_count_max: 10\r\n",
      "step_len_init: 0.05\r\n",
      "step_len_max: 0.5\r\n",
      "line_search_method: bracket\r\n",
      "# =============================================================================\r\n",
      "#\r\n",
      "#\t Paths\r\n",
      "#\t -----\r\n",
      "#    :type workdir: str\r\n",
      "#    :param workdir: working directory in which to look for data and store\r\n",
      "#        results. Defaults to current working directory\r\n",
      "#    :type path_output: str\r\n",
      "#    :param path_output: path to directory used for permanent storage on disk.\r\n",
      "#        Results and exported scratch files are saved here.\r\n",
      "#    :type path_data: str\r\n",
      "#    :param path_data: path to any externally stored data required by the solver\r\n",
      "#    :type path_state_file: str\r\n",
      "#    :param path_state_file: path to a text file used to track the current\r\n",
      "#        status of a workflow (i.e., what functions have already been completed),\r\n",
      "#        used for checkpointing and resuming workflows\r\n",
      "#    :type path_model_init: str\r\n",
      "#    :param path_model_init: path to the starting model used to calculate the\r\n",
      "#        initial misfit. Must match the expected `solver_io` format.\r\n",
      "#    :type path_model_true: str\r\n",
      "#    :param path_model_true: path to a target model if `case`=='synthetic' and\r\n",
      "#        a set of synthetic 'observations' are required for workflow.\r\n",
      "#    :type path_eval_grad: str\r\n",
      "#    :param path_eval_grad: scratch path to store files for gradient evaluation,\r\n",
      "#        including models, kernels, gradient and residuals.\r\n",
      "#        :type path_mask: str\r\n",
      "#    :param path_mask: optional path to a masking function which is used to\r\n",
      "#        mask out or scale parts of the gradient. The user-defined mask must\r\n",
      "#        match the file format of the input model (e.g., .bin files).\r\n",
      "#        :type path_eval_func: str\r\n",
      "#    :param path_eval_func: scratch path to store files for line search objective\r\n",
      "#        function evaluations, including models, misfit and residuals\r\n",
      "#        \r\n",
      "#    :type path_output_log: str\r\n",
      "#    :param path_output_log: path to a text file used to store the outputs of\r\n",
      "#        the package wide logger, which are also written to stdout\r\n",
      "#    :type path_par_file: str\r\n",
      "#    :param path_par_file: path to parameter file which is used to instantiate\r\n",
      "#        the package\r\n",
      "#    :type path_log_files: str\r\n",
      "#    :param path_log_files: path to a directory where individual log files are\r\n",
      "#        saved whenever a number of parallel tasks are run on the system.\r\n",
      "#        \r\n",
      "#    :type path_data: str\r\n",
      "#    :param path_data: path to any externally stored data required by the solver\r\n",
      "#    :type path_specfem_bin: str\r\n",
      "#    :param path_specfem_bin: path to SPECFEM bin/ directory which\r\n",
      "#        contains binary executables for running SPECFEM\r\n",
      "#    :type path_specfem_data: str\r\n",
      "#    :param path_specfem_data: path to SPECFEM DATA/ directory which must\r\n",
      "#        contain the CMTSOLUTION, STATIONS and Par_file files used for\r\n",
      "#        running SPECFEM\r\n",
      "#            \r\n",
      "#    :type path_preprocess: str\r\n",
      "#    :param path_preprocess: scratch path for all preprocessing processes,\r\n",
      "#        including saving files\r\n",
      "#        \r\n",
      "#    :type path_preconditioner: str\r\n",
      "#    :param path_preconditioner: optional path to a set of preconditioner files\r\n",
      "#        formatted the same as the input model (or output model of solver).\r\n",
      "#        Required to exist and contain files if `preconditioner`==True\r\n",
      "#        \r\n",
      "# =============================================================================\r\n",
      "path_workdir: /Users/Chow/Work/work/sf_specfem2d_example\r\n",
      "path_scratch: /Users/Chow/Work/work/sf_specfem2d_example/scratch\r\n",
      "path_eval_grad: /Users/Chow/Work/work/sf_specfem2d_example/scratch/eval_grad\r\n",
      "path_output: /Users/Chow/Work/work/sf_specfem2d_example/output\r\n",
      "path_model_init: null\r\n",
      "path_model_true: null\r\n",
      "path_state_file: /Users/Chow/Work/work/sf_specfem2d_example/sfstate.txt\r\n",
      "path_data: null\r\n",
      "path_mask: null\r\n",
      "path_eval_func: /Users/Chow/Work/work/sf_specfem2d_example/scratch/eval_func\r\n",
      "path_par_file: /Users/Chow/Work/work/sf_specfem2d_example/parameters.yaml\r\n",
      "path_log_files: /Users/Chow/Work/work/sf_specfem2d_example/logs\r\n",
      "path_output_log: /Users/Chow/Work/work/sf_specfem2d_example/sflog.txt\r\n",
      "path_specfem_bin: null\r\n",
      "path_specfem_data: null\r\n",
      "path_solver: /Users/Chow/Work/work/sf_specfem2d_example/scratch/solver\r\n",
      "path_preconditioner: null\r\n"
     ]
    }
   ],
   "source": [
    "! seisflows configure\n",
    "! cat parameters.yaml"
   ]
  },
  {
   "cell_type": "code",
   "execution_count": 8,
   "metadata": {},
   "outputs": [
    {
     "name": "stdout",
     "output_type": "stream",
     "text": [
      "ntask: 1 -> 3\n",
      "materials: acoustic -> elastic\n",
      "density: False -> False\n",
      "attenuation: False -> False\n",
      "start: 1 -> 1\n",
      "end: 1 -> 2\n",
      "data_case: data -> synthetic\n",
      "components: ZNE -> Y\n",
      "step_count_max: 10 -> 5\n"
     ]
    },
    {
     "data": {
      "text/plain": [
       "0"
      ]
     },
     "execution_count": 8,
     "metadata": {},
     "output_type": "execute_result"
    }
   ],
   "source": [
    "# EDIT THE SEISFLOWS PARAMETER FILE\n",
    "! seisflows par ntask 3  # set the number of sources/events to use\n",
    "! seisflows par materials elastic  # how the velocity model is parameterized\n",
    "! seisflows par density False  # update density or keep constant\n",
    "! seisflows par attenuation False\n",
    "! seisflows par start 1  # first iteration\n",
    "! seisflows par end 2  # final iteration -- we will only run 1\n",
    "! seisflows par data_case synthetic  # synthetic-synthetic means we need both INIT and TRUE models\n",
    "! seisflows par components Y  # this default example creates Y-component seismograms\n",
    "! seisflows par step_count_max 5  # limit the number of steps in the line search\n",
    "\n",
    "# Use Python syntax here to access path constants\n",
    "os.system(f\"seisflows par path_specfem_bin {SPECFEM2D_BIN}\")  # set path to SPECFEM2D binaries\n",
    "os.system(f\"seisflows par path_specfem_data {SPECFEM2D_DATA}\")  # set path to SEPCFEM2D DATA/\n",
    "os.system(f\"seisflows par path_model_init {SPECFEM2D_MODEL_INIT}\")  # set path to INIT model\n",
    "os.system(f\"seisflows par path_model_true {SPECFEM2D_MODEL_TRUE}\")  # set path to TRUE model"
   ]
  },
  {
   "cell_type": "markdown",
   "metadata": {},
   "source": [
    "------------------------------\n",
    "One last thing, we will need to edit the SPECFEM2D Par_file parameter `MODEL` such that `xmeshfem2d` reads our pre-built velocity models (\\*.bin files) rather than the meshing parameters defined in the Par_file."
   ]
  },
  {
   "cell_type": "code",
   "execution_count": 11,
   "metadata": {},
   "outputs": [
    {
     "name": "stdout",
     "output_type": "stream",
     "text": [
      "MODEL: default -> gll\r\n"
     ]
    }
   ],
   "source": [
    "os.chdir(SPECFEM2D_DATA)\n",
    "! seisflows sempar model gll"
   ]
  },
  {
   "cell_type": "markdown",
   "metadata": {},
   "source": [
    "### 3. Run SeisFlows\n",
    "\n",
    "In this Section we will run SeisFlows to generate synthetic seismograms, kernels, a gradient, and an updated velocity model.\n",
    "\n",
    "#### 3a. Forward simulations\n",
    "\n",
    "SeisFlows is an automated workflow tool, such that once we run `seisflows submit` we should not need to intervene in the workflow. However the package does allow the User flexibility in how they want the workflow to behave.\n",
    "\n",
    "For example, we can run our workflow in stages by taking advantage of the `stop_after` parameter. As its name suggests, `stop_after` allows us to stop a workflow prematurely so that we may stop and look at results, or debug a failing workflow.\n",
    "\n",
    "The `seisflows print flow` command tells us what functions we can use for the `stop_after` parameter. "
   ]
  },
  {
   "cell_type": "code",
   "execution_count": 12,
   "metadata": {},
   "outputs": [
    {
     "name": "stdout",
     "output_type": "stream",
     "text": [
      "                          SEISFLOWS WORKFLOW TASK LIST                          \r\n",
      "                          ////////////////////////////                          \r\n",
      "Task list for <class 'seisflows.workflow.inversion.Inversion'>\r\n",
      "\r\n",
      "1: evaluate_initial_misfit\r\n",
      "2: run_adjoint_simulations\r\n",
      "3: postprocess_event_kernels\r\n",
      "4: evaluate_gradient_from_kernels\r\n",
      "5: initialize_line_search\r\n",
      "6: perform_line_search\r\n",
      "7: finalize_iteration\r\n"
     ]
    }
   ],
   "source": [
    "os.chdir(WORKDIR)\n",
    "! seisflows print tasks"
   ]
  },
  {
   "cell_type": "markdown",
   "metadata": {},
   "source": [
    "-----------------------------\n",
    "In the Inversion workflow, the tasks listed are described as follows:\n",
    "\n",
    "1. __evaluate_initial_misfit:__  \n",
    "    a. Prepare data for inversion by either copying data from disk or generating 'synthetic data' with MODEL_TRUE  \n",
    "    b. Call numerical solver to run forward simulations using MODEL_INIT, generating synthetics  \n",
    "    c. Evaluate the objective function by performing waveform comparisons  \n",
    "    d. Prepare `run_adjoint_simulations` step by generating adjoint sources and auxiliary files\n",
    "2. __run_adjoint_simulations:__ Call numerical solver to run adjoint simulation, generating kernels\n",
    "3. __postprocess_event_kernels:__ Combine all event kernels into a misfit kernel. \n",
    "4. __evaluate_gradient_from_kernels:__ Smooth and mask the misfit kernel to create the gradient\n",
    "4. __initialize_line_search:__ Call on the optimization library to scale the gradient by a step length to compute the search direction. Prepare file structure for line search.\n",
    "5. __perform_line_search:__ Perform a line search by algorithmically scaling the gradient and evaluating the misfit function (forward simulations and misfit quantification) until misfit is acceptably reduced.\n",
    "6. __finalize_iteration:__ Run any finalization steps such as saving traces, kernels, gradients and models to disk, setting up SeisFlows3 for any subsequent iterations. Clean the scratch/ directory in preparation for subsequent iterations\n",
    "\n",
    "Let's set the `stop_after` argument to __evaluate_initial_misfit__, this will halt the workflow after the intialization step. We'll also set the `verbose` parameter to 'False', to keep the logging format relatively simple. We will explore the `verbose`==True option in a later cell."
   ]
  },
  {
   "cell_type": "code",
   "execution_count": 13,
   "metadata": {},
   "outputs": [
    {
     "name": "stdout",
     "output_type": "stream",
     "text": [
      "stop_after: null -> evaluate_initial_misfit\n",
      "verbose: False -> False\n"
     ]
    }
   ],
   "source": [
    "! seisflows par stop_after evaluate_initial_misfit\n",
    "! seisflows par verbose False"
   ]
  },
  {
   "cell_type": "markdown",
   "metadata": {},
   "source": [
    "-----------------------\n",
    "Now let's run SeisFlows. There are two ways to do this: `submit` and `restart`\n",
    "\n",
    "1. `seisflows submit` is used to run new workflows and resume stopped or failed workflows.\n",
    "2. The `restart` command is simply a convenience function that runs `clean` (to remove an active working state) and `submit` (to submit a fresh workflow). \n",
    "\n",
    "Since this is our first run, we'll use `seisflows submit`."
   ]
  },
  {
   "cell_type": "code",
   "execution_count": 14,
   "metadata": {},
   "outputs": [
    {
     "name": "stdout",
     "output_type": "stream",
     "text": [
      "2022-08-15 16:11:40 (I) | \n",
      "================================================================================\n",
      "                         SETTING UP INVERSION WORKFLOW                          \n",
      "================================================================================\n",
      "2022-08-15 16:11:47 (D) | running setup for module 'system.Workstation'\n",
      "2022-08-15 16:11:50 (D) | copying par/log file to: /Users/Chow/Work/work/sf_specfem2d_example/logs/sflog_001.txt\n",
      "2022-08-15 16:11:50 (D) | copying par/log file to: /Users/Chow/Work/work/sf_specfem2d_example/logs/parameters_001.yaml\n",
      "2022-08-15 16:11:50 (D) | running setup for module 'solver.Specfem2D'\n",
      "2022-08-15 16:11:50 (I) | initializing 3 solver directories\n",
      "2022-08-15 16:11:50 (D) | initializing solver directory source: 001\n",
      "2022-08-15 16:11:58 (D) | linking source '001' as 'mainsolver'\n",
      "2022-08-15 16:11:58 (D) | initializing solver directory source: 002\n",
      "2022-08-15 16:12:04 (D) | initializing solver directory source: 003\n",
      "2022-08-15 16:12:13 (D) | running setup for module 'preprocess.Default'\n",
      "2022-08-15 16:12:14 (D) | running setup for module 'optimize.Gradient'\n",
      "2022-08-15 16:12:15 (I) | no optimization checkpoint found, assuming first run\n",
      "2022-08-15 16:12:16 (I) | re-loading optimization module from checkpoint\n",
      "2022-08-15 16:12:16 (I) | \n",
      "////////////////////////////////////////////////////////////////////////////////\n",
      "                              RUNNING ITERATION 01                              \n",
      "////////////////////////////////////////////////////////////////////////////////\n",
      "2022-08-15 16:12:16 (I) | \n",
      "================================================================================\n",
      "                           RUNNING INVERSION WORKFLOW                           \n",
      "================================================================================\n",
      "2022-08-15 16:12:16 (I) | \n",
      "////////////////////////////////////////////////////////////////////////////////\n",
      "                      EVALUATING MISFIT FOR INITIAL MODEL                       \n",
      "////////////////////////////////////////////////////////////////////////////////\n",
      "2022-08-15 16:12:16 (I) | checking initial model parameters\n",
      "2022-08-15 16:12:16 (I) | 2600.00 <= rho <= 2600.00\n",
      "2022-08-15 16:12:16 (I) | 3500.00 <= vs <= 3500.00\n",
      "2022-08-15 16:12:16 (I) | 5800.00 <= vp <= 5800.00\n",
      "2022-08-15 16:12:16 (I) | checking true/target model parameters\n",
      "2022-08-15 16:12:16 (I) | 2600.00 <= rho <= 2600.00\n",
      "2022-08-15 16:12:16 (I) | 3550.00 <= vs <= 3550.00\n",
      "2022-08-15 16:12:16 (I) | 5900.00 <= vp <= 5900.00\n",
      "2022-08-15 16:12:16 (I) | preparing observation data for source 001\n",
      "2022-08-15 16:12:16 (I) | running forward simulation w/ target model for 001\n",
      "2022-08-15 16:12:33 (I) | evaluating objective function for source 001\n",
      "2022-08-15 16:12:33 (D) | running forward simulation with 'Specfem2D'\n",
      "2022-08-15 16:12:53 (D) | quantifying misfit with 'Default'\n",
      "2022-08-15 16:12:53 (I) | preparing observation data for source 002\n",
      "2022-08-15 16:12:53 (I) | running forward simulation w/ target model for 002\n",
      "2022-08-15 16:13:09 (I) | evaluating objective function for source 002\n",
      "2022-08-15 16:13:09 (D) | running forward simulation with 'Specfem2D'\n",
      "2022-08-15 16:13:31 (D) | quantifying misfit with 'Default'\n",
      "2022-08-15 16:13:31 (I) | preparing observation data for source 003\n",
      "2022-08-15 16:13:31 (I) | running forward simulation w/ target model for 003\n",
      "2022-08-15 16:14:16 (I) | evaluating objective function for source 003\n",
      "2022-08-15 16:14:16 (D) | running forward simulation with 'Specfem2D'\n",
      "2022-08-15 16:14:33 (D) | quantifying misfit with 'Default'\n",
      "2022-08-15 16:14:33 (I) | stop workflow at `stop_after`: evaluate_initial_misfit\n"
     ]
    }
   ],
   "source": [
    "! seisflows submit "
   ]
  },
  {
   "cell_type": "raw",
   "metadata": {},
   "source": [
    ".. note::\n",
    "    For a detailed exploration of a SeisFlows working directory, see the `working directory <working_directory.html>`__ documentation page where we explain each of the files and directories that have been generated during this workflow. Below we just look at two files which are required for our adjoint simulation, the adjoint sources (.adj) and STATIONS_ADJOINT file"
   ]
  },
  {
   "cell_type": "code",
   "execution_count": 15,
   "metadata": {},
   "outputs": [
    {
     "name": "stdout",
     "output_type": "stream",
     "text": [
      "  -48.0000000         0.0000000\r\n",
      "  -47.9400000         0.0000000\r\n",
      "  -47.8800000         0.0000000\r\n",
      "  -47.8200000         0.0000000\r\n",
      "  -47.7600000         0.0000000\r\n",
      "  -47.7000000         0.0000000\r\n",
      "  -47.6400000         0.0000000\r\n",
      "  -47.5800000         0.0000000\r\n",
      "  -47.5200000         0.0000000\r\n",
      "  -47.4600000         0.0000000\r\n"
     ]
    }
   ],
   "source": [
    "# The adjoint source is created in the same format as the synthetics (two-column ASCII) \n",
    "! head scratch/solver/001/traces/adj/AA.S0001.BXY.adj"
   ]
  },
  {
   "cell_type": "markdown",
   "metadata": {},
   "source": [
    "#### 3b. Adjoint simulations\n",
    "\n",
    "Now that we have all the required files for running an adjoint simulation (\\*.adj waveforms and STATIONS_ADJOINT file), we can continue with the SeisFlows3 Inversion workflow. No need to edit the Par_file or anything like that, SeisFlows3 will take care of that under the hood. We simply need to tell the workflow (via the parameters.yaml file) to `resume_from` the correct function. We can have a look at these functions again:"
   ]
  },
  {
   "cell_type": "code",
   "execution_count": 17,
   "metadata": {},
   "outputs": [
    {
     "name": "stdout",
     "output_type": "stream",
     "text": [
      "                          SEISFLOWS WORKFLOW TASK LIST                          \r\n",
      "                          ////////////////////////////                          \r\n",
      "Task list for <class 'seisflows.workflow.inversion.Inversion'>\r\n",
      "\r\n",
      "1: evaluate_initial_misfit\r\n",
      "2: run_adjoint_simulations\r\n",
      "3: postprocess_event_kernels\r\n",
      "4: evaluate_gradient_from_kernels\r\n",
      "5: initialize_line_search\r\n",
      "6: perform_line_search\r\n",
      "7: finalize_iteration\r\n"
     ]
    }
   ],
   "source": [
    "! seisflows print tasks"
   ]
  },
  {
   "cell_type": "code",
   "execution_count": 16,
   "metadata": {},
   "outputs": [
    {
     "name": "stdout",
     "output_type": "stream",
     "text": [
      "stop_after: evaluate_initial_misfit -> evaluate_gradient_from_kernels\r\n"
     ]
    }
   ],
   "source": [
    "# We'll stop just before the line search so that we can take a look at the files \n",
    "# generated during the middle tasks\n",
    "! seisflows par stop_after evaluate_gradient_from_kernels"
   ]
  },
  {
   "cell_type": "code",
   "execution_count": 17,
   "metadata": {},
   "outputs": [
    {
     "name": "stdout",
     "output_type": "stream",
     "text": [
      "2022-08-15 16:15:06 (D) | setting iteration==1 from state file\n",
      "2022-08-15 16:15:06 (I) | \n",
      "================================================================================\n",
      "                         SETTING UP INVERSION WORKFLOW                          \n",
      "================================================================================\n",
      "2022-08-15 16:15:16 (D) | running setup for module 'system.Workstation'\n",
      "2022-08-15 16:15:20 (D) | copying par/log file to: /Users/Chow/Work/work/sf_specfem2d_example/logs/sflog_002.txt\n",
      "2022-08-15 16:15:20 (D) | copying par/log file to: /Users/Chow/Work/work/sf_specfem2d_example/logs/parameters_002.yaml\n",
      "2022-08-15 16:15:20 (D) | running setup for module 'solver.Specfem2D'\n",
      "2022-08-15 16:15:20 (I) | initializing 3 solver directories\n",
      "2022-08-15 16:15:22 (D) | running setup for module 'preprocess.Default'\n",
      "2022-08-15 16:15:23 (D) | running setup for module 'optimize.Gradient'\n",
      "2022-08-15 16:15:25 (I) | re-loading optimization module from checkpoint\n",
      "2022-08-15 16:15:27 (I) | re-loading optimization module from checkpoint\n",
      "2022-08-15 16:15:27 (I) | \n",
      "////////////////////////////////////////////////////////////////////////////////\n",
      "                              RUNNING ITERATION 01                              \n",
      "////////////////////////////////////////////////////////////////////////////////\n",
      "2022-08-15 16:15:27 (I) | \n",
      "================================================================================\n",
      "                           RUNNING INVERSION WORKFLOW                           \n",
      "================================================================================\n",
      "2022-08-15 16:15:27 (I) | 'evaluate_initial_misfit' has already been run, skipping\n",
      "2022-08-15 16:15:27 (I) | \n",
      "////////////////////////////////////////////////////////////////////////////////\n",
      "                EVALUATING EVENT KERNELS W/ ADJOINT SIMULATIONS                 \n",
      "////////////////////////////////////////////////////////////////////////////////\n",
      "2022-08-15 16:15:27 (I) | running SPECFEM executable bin/xspecfem2D, log to 'adj_solver.log'\n",
      "2022-08-15 16:16:11 (D) | renaming output event kernels: 'alpha' -> 'vp'\n",
      "2022-08-15 16:16:11 (D) | renaming output event kernels: 'beta' -> 'vs'\n",
      "2022-08-15 16:16:12 (I) | running SPECFEM executable bin/xspecfem2D, log to 'adj_solver.log'\n",
      "2022-08-15 16:16:59 (D) | renaming output event kernels: 'alpha' -> 'vp'\n",
      "2022-08-15 16:16:59 (D) | renaming output event kernels: 'beta' -> 'vs'\n",
      "2022-08-15 16:16:59 (I) | running SPECFEM executable bin/xspecfem2D, log to 'adj_solver.log'\n",
      "2022-08-15 16:17:45 (D) | renaming output event kernels: 'alpha' -> 'vp'\n",
      "2022-08-15 16:17:45 (D) | renaming output event kernels: 'beta' -> 'vs'\n",
      "2022-08-15 16:17:45 (I) | \n",
      "////////////////////////////////////////////////////////////////////////////////\n",
      "                      GENERATING/PROCESSING MISFIT KERNEL                       \n",
      "////////////////////////////////////////////////////////////////////////////////\n",
      "2022-08-15 16:17:45 (I) | combining event kernels into single misfit kernel\n",
      "2022-08-15 16:17:47 (I) | scaling gradient to absolute model perturbations\n",
      "2022-08-15 16:17:49 (I) | stop workflow at `stop_after`: evaluate_gradient_from_kernels\n"
     ]
    }
   ],
   "source": [
    "# We can use the `seisflows submit` command to continue an active workflow\n",
    "# The state file created during the first run will tell the workflow to resume from the stopped point in the workflow\n",
    "! seisflows submit "
   ]
  },
  {
   "cell_type": "markdown",
   "metadata": {},
   "source": [
    "----------------\n",
    "The function __run_adjoint_simulations()__ has run adjoint simulations to generate event kernels. The functions __postprocess_event_kernels__ and __evaluate_gradient_from_kernels__ will have summed and (optionally) smoothed the kernels to recover the gradient, which will be used to update our starting model.\n",
    "\n",
    "> **NOTE**: Since we did not specify any smoothing lenghts (PAR.SMOOTH_H and PAR.SMOOTH_V), no smoothing of the gradient has occurred. \n",
    "\n",
    "Using the gradient-descent optimization algorithm, SeisFlows will now compute a search direction that will be used in the line search to search for a best fitting model which optimally reduces the objective function. We can take a look at where SeisFlows has stored the information relating to kernel generation and the optimization computation."
   ]
  },
  {
   "cell_type": "code",
   "execution_count": 18,
   "metadata": {},
   "outputs": [
    {
     "name": "stdout",
     "output_type": "stream",
     "text": [
      "\u001b[1m\u001b[32mgradient\u001b[m\u001b[m      \u001b[1m\u001b[32mkernels\u001b[m\u001b[m       \u001b[1m\u001b[32mmisfit_kernel\u001b[m\u001b[m \u001b[1m\u001b[32mmodel\u001b[m\u001b[m         residuals.txt\r\n"
     ]
    }
   ],
   "source": [
    "# Gradient evaluation files are stored here, the kernels are stored separately from the gradient incase\n",
    "# the user wants to manually manipulate them\n",
    "! ls scratch/eval_grad"
   ]
  },
  {
   "cell_type": "code",
   "execution_count": 19,
   "metadata": {},
   "outputs": [
    {
     "name": "stdout",
     "output_type": "stream",
     "text": [
      "proc000000_vp_kernel.bin proc000000_vs_kernel.bin\r\n"
     ]
    }
   ],
   "source": [
    "# SeisFlows3 stores all kernels and gradient information as SPECFEM binary (.bin) files\n",
    "! ls scratch/eval_grad/gradient"
   ]
  },
  {
   "cell_type": "code",
   "execution_count": 20,
   "metadata": {},
   "outputs": [
    {
     "name": "stdout",
     "output_type": "stream",
     "text": [
      "\u001b[1m\u001b[32m001\u001b[m\u001b[m \u001b[1m\u001b[32m002\u001b[m\u001b[m \u001b[1m\u001b[32m003\u001b[m\u001b[m\r\n"
     ]
    }
   ],
   "source": [
    "# Kernels are stored on a per-event basis, and summed together (sum/). If smoothing was performed, \n",
    "# we would see both smoothed and unsmoothed versions of the misfit kernel\n",
    "! ls scratch/eval_grad/kernels"
   ]
  },
  {
   "cell_type": "code",
   "execution_count": 21,
   "metadata": {},
   "outputs": [
    {
     "name": "stdout",
     "output_type": "stream",
     "text": [
      "checkpoint.npz f_new.txt      g_new.npz      m_new.npz\r\n"
     ]
    }
   ],
   "source": [
    "# We can see that some new values have been stored in prepartion for the line search,\n",
    "# including g_new (current gradient) and p_new (current search direction). These are also\n",
    "# stored as vector NumPy arrays (.npy files)\n",
    "! ls scratch/optimize"
   ]
  },
  {
   "cell_type": "code",
   "execution_count": 22,
   "metadata": {},
   "outputs": [
    {
     "name": "stdout",
     "output_type": "stream",
     "text": [
      "[[-1.18126331e-12  2.40273470e-12  3.97045036e-11 ...  9.62017688e-11\n",
      "   4.21140102e-11  3.96825021e-12]]\n"
     ]
    }
   ],
   "source": [
    "g_new = np.load(\"scratch/optimize/g_new.npz\")\n",
    "print(g_new[\"vs_kernel\"])"
   ]
  },
  {
   "cell_type": "markdown",
   "metadata": {},
   "source": [
    "--------------------\n",
    "#### 3c. Line search and model update\n",
    "\n",
    "Let's finish off the inversion by running through the line search, which will generate new models using the\n",
    "gradient, evaluate the objective function by running forward simulations, and comparing the evaluated objective function with the value obtained in __evalaute_initial_misfit__. \n",
    "\n",
    "Satisfactory reduction in the objective function will result in a termination of the line search. We are using a bracketing line search here [(Modrak et al. 2018)](https://academic.oup.com/gji/article/206/3/1864/2583505), which requires finding models which both increase and decrease the misfit with respect to the initial evaluation. Therefore it takes atleast two trial steps to complete the line search."
   ]
  },
  {
   "cell_type": "code",
   "execution_count": 23,
   "metadata": {},
   "outputs": [
    {
     "name": "stdout",
     "output_type": "stream",
     "text": [
      "stop_after: evaluate_gradient_from_kernels -> finalize_iteration\r\n"
     ]
    }
   ],
   "source": [
    "! seisflows par stop_after perform_line_search  # We don't want to run the finalize_iteration argument so that we can explore the dir"
   ]
  },
  {
   "cell_type": "code",
   "execution_count": 24,
   "metadata": {},
   "outputs": [
    {
     "name": "stdout",
     "output_type": "stream",
     "text": [
      "2022-08-15 16:21:55 (D) | setting iteration==1 from state file\n",
      "2022-08-15 16:21:55 (I) | \n",
      "================================================================================\n",
      "                         SETTING UP INVERSION WORKFLOW                          \n",
      "================================================================================\n",
      "2022-08-15 16:22:03 (D) | running setup for module 'system.Workstation'\n",
      "2022-08-15 16:22:05 (D) | copying par/log file to: /Users/Chow/Work/work/sf_specfem2d_example/logs/sflog_003.txt\n",
      "2022-08-15 16:22:05 (D) | copying par/log file to: /Users/Chow/Work/work/sf_specfem2d_example/logs/parameters_003.yaml\n",
      "2022-08-15 16:22:05 (D) | running setup for module 'solver.Specfem2D'\n",
      "2022-08-15 16:22:05 (I) | initializing 3 solver directories\n",
      "2022-08-15 16:22:07 (D) | running setup for module 'preprocess.Default'\n",
      "2022-08-15 16:22:08 (D) | running setup for module 'optimize.Gradient'\n",
      "2022-08-15 16:22:09 (I) | re-loading optimization module from checkpoint\n",
      "2022-08-15 16:22:11 (I) | re-loading optimization module from checkpoint\n",
      "2022-08-15 16:22:11 (I) | \n",
      "////////////////////////////////////////////////////////////////////////////////\n",
      "                              RUNNING ITERATION 01                              \n",
      "////////////////////////////////////////////////////////////////////////////////\n",
      "2022-08-15 16:22:11 (I) | \n",
      "================================================================================\n",
      "                           RUNNING INVERSION WORKFLOW                           \n",
      "================================================================================\n",
      "2022-08-15 16:22:11 (I) | 'evaluate_initial_misfit' has already been run, skipping\n",
      "2022-08-15 16:22:11 (I) | 'run_adjoint_simulations' has already been run, skipping\n",
      "2022-08-15 16:22:11 (I) | 'postprocess_event_kernels' has already been run, skipping\n",
      "2022-08-15 16:22:11 (I) | 'evaluate_gradient_from_kernels' has already been run, skipping\n",
      "2022-08-15 16:22:11 (I) | initializing 'bracket'ing line search\n",
      "2022-08-15 16:22:11 (I) | enforcing max step length safeguard\n",
      "2022-08-15 16:22:11 (D) | step length(s) = 0.00E+00\n",
      "2022-08-15 16:22:11 (D) | misfit val(s)  = 1.28E-03\n",
      "2022-08-15 16:22:11 (I) | try: first evaluation, attempt guess step length, alpha=9.08E+11\n",
      "2022-08-15 16:22:11 (I) | try: applying initial step length safegaurd as alpha has exceeded maximum step length, alpha_new=1.44E+10\n",
      "2022-08-15 16:22:11 (D) | overwriting initial step length, alpha_new=2.32E+09\n",
      "2022-08-15 16:22:11 (I) | trial model 'm_try' parameters: \n",
      "2022-08-15 16:22:11 (I) | 5800.00 <= vp <= 5800.00\n",
      "2022-08-15 16:22:11 (I) | 3244.51 <= vs <= 3790.00\n",
      "2022-08-15 16:22:12 (I) | \n",
      "LINE SEARCH STEP COUNT 01\n",
      "--------------------------------------------------------------------------------\n",
      "2022-08-15 16:22:12 (I) | evaluating objective function for source 001\n",
      "2022-08-15 16:22:12 (D) | running forward simulation with 'Specfem2D'\n",
      "2022-08-15 16:22:23 (D) | quantifying misfit with 'Default'\n",
      "2022-08-15 16:22:23 (I) | evaluating objective function for source 002\n",
      "2022-08-15 16:22:23 (D) | running forward simulation with 'Specfem2D'\n",
      "2022-08-15 16:22:35 (D) | quantifying misfit with 'Default'\n",
      "2022-08-15 16:22:35 (I) | evaluating objective function for source 003\n",
      "2022-08-15 16:22:35 (D) | running forward simulation with 'Specfem2D'\n",
      "2022-08-15 16:22:48 (D) | quantifying misfit with 'Default'\n",
      "2022-08-15 16:22:48 (D) | misfit for trial model (f_try) == 8.65E-04\n",
      "2022-08-15 16:22:48 (D) | step length(s) = 0.00E+00, 2.32E+09\n",
      "2022-08-15 16:22:48 (D) | misfit val(s)  = 1.28E-03, 8.65E-04\n",
      "2022-08-15 16:22:48 (I) | try: misfit not bracketed, increasing step length using golden ratio, alpha=3.76E+09\n",
      "2022-08-15 16:22:49 (I) | line search model 'm_try' parameters: \n",
      "2022-08-15 16:22:49 (I) | 5800.00 <= vp <= 5800.00\n",
      "2022-08-15 16:22:49 (I) | 3086.61 <= vs <= 3969.23\n",
      "2022-08-15 16:22:49 (I) | trial step unsuccessful. re-attempting line search\n",
      "2022-08-15 16:22:49 (I) | \n",
      "LINE SEARCH STEP COUNT 02\n",
      "--------------------------------------------------------------------------------\n",
      "2022-08-15 16:22:49 (I) | evaluating objective function for source 001\n",
      "2022-08-15 16:22:49 (D) | running forward simulation with 'Specfem2D'\n",
      "2022-08-15 16:23:01 (D) | quantifying misfit with 'Default'\n",
      "2022-08-15 16:23:01 (I) | evaluating objective function for source 002\n",
      "2022-08-15 16:23:01 (D) | running forward simulation with 'Specfem2D'\n",
      "2022-08-15 16:23:13 (D) | quantifying misfit with 'Default'\n",
      "2022-08-15 16:23:13 (I) | evaluating objective function for source 003\n",
      "2022-08-15 16:23:13 (D) | running forward simulation with 'Specfem2D'\n",
      "2022-08-15 16:23:25 (D) | quantifying misfit with 'Default'\n",
      "2022-08-15 16:23:25 (D) | misfit for trial model (f_try) == 1.73E-03\n",
      "2022-08-15 16:23:25 (D) | step length(s) = 0.00E+00, 2.32E+09, 3.76E+09\n",
      "2022-08-15 16:23:25 (D) | misfit val(s)  = 1.28E-03, 8.65E-04, 1.73E-03\n",
      "2022-08-15 16:23:25 (I) | try: bracket acceptable but step length unreasonable attempting to re-adjust step length alpha=1.59E+09\n",
      "2022-08-15 16:23:25 (I) | line search model 'm_try' parameters: \n",
      "2022-08-15 16:23:25 (I) | 5800.00 <= vp <= 5800.00\n",
      "2022-08-15 16:23:25 (I) | 3325.01 <= vs <= 3698.63\n",
      "2022-08-15 16:23:25 (I) | trial step unsuccessful. re-attempting line search\n",
      "2022-08-15 16:23:25 (I) | \n",
      "LINE SEARCH STEP COUNT 03\n",
      "--------------------------------------------------------------------------------\n",
      "2022-08-15 16:23:25 (I) | evaluating objective function for source 001\n",
      "2022-08-15 16:23:25 (D) | running forward simulation with 'Specfem2D'\n",
      "2022-08-15 16:23:37 (D) | quantifying misfit with 'Default'\n",
      "2022-08-15 16:23:37 (I) | evaluating objective function for source 002\n",
      "2022-08-15 16:23:37 (D) | running forward simulation with 'Specfem2D'\n",
      "2022-08-15 16:23:51 (D) | quantifying misfit with 'Default'\n",
      "2022-08-15 16:23:51 (I) | evaluating objective function for source 003\n",
      "2022-08-15 16:23:51 (D) | running forward simulation with 'Specfem2D'\n",
      "2022-08-15 16:24:03 (D) | quantifying misfit with 'Default'\n",
      "2022-08-15 16:24:04 (D) | misfit for trial model (f_try) == 2.59E-03\n",
      "2022-08-15 16:24:04 (D) | step length(s) = 0.00E+00, 1.59E+09, 2.32E+09, 3.76E+09\n",
      "2022-08-15 16:24:04 (D) | misfit val(s)  = 1.28E-03, 2.59E-03, 8.65E-04, 1.73E-03\n",
      "2022-08-15 16:24:04 (I) | try: bracket acceptable but step length unreasonable attempting to re-adjust step length alpha=2.82E+09\n",
      "2022-08-15 16:24:04 (I) | line search model 'm_try' parameters: \n",
      "2022-08-15 16:24:04 (I) | 5800.00 <= vp <= 5800.00\n",
      "2022-08-15 16:24:04 (I) | 3189.77 <= vs <= 3852.13\n",
      "2022-08-15 16:24:04 (I) | trial step unsuccessful. re-attempting line search\n",
      "2022-08-15 16:24:04 (I) | \n",
      "LINE SEARCH STEP COUNT 04\n",
      "--------------------------------------------------------------------------------\n",
      "2022-08-15 16:24:04 (I) | evaluating objective function for source 001\n",
      "2022-08-15 16:24:04 (D) | running forward simulation with 'Specfem2D'\n",
      "2022-08-15 16:24:15 (D) | quantifying misfit with 'Default'\n",
      "2022-08-15 16:24:15 (I) | evaluating objective function for source 002\n",
      "2022-08-15 16:24:15 (D) | running forward simulation with 'Specfem2D'\n",
      "2022-08-15 16:24:27 (D) | quantifying misfit with 'Default'\n",
      "2022-08-15 16:24:27 (I) | evaluating objective function for source 003\n",
      "2022-08-15 16:24:27 (D) | running forward simulation with 'Specfem2D'\n",
      "2022-08-15 16:24:39 (D) | quantifying misfit with 'Default'\n",
      "2022-08-15 16:24:39 (D) | misfit for trial model (f_try) == 3.46E-03\n",
      "2022-08-15 16:24:39 (D) | step length(s) = 0.00E+00, 1.59E+09, 2.32E+09, 2.82E+09, 3.76E+09\n",
      "2022-08-15 16:24:39 (D) | misfit val(s)  = 1.28E-03, 2.59E-03, 8.65E-04, 3.46E-03, 1.73E-03\n",
      "2022-08-15 16:24:39 (I) | pass: bracket acceptable and step length reasonable. returning minimum line search misfit.\n",
      "2022-08-15 16:24:39 (I) | line search model 'm_try' parameters: \n",
      "2022-08-15 16:24:39 (I) | 5800.00 <= vp <= 5800.00\n",
      "2022-08-15 16:24:39 (I) | 3244.51 <= vs <= 3790.00\n",
      "2022-08-15 16:24:39 (I) | trial step successful. finalizing line search\n",
      "2022-08-15 16:24:39 (I) | \n",
      "FINALIZING LINE SEARCH\n",
      "--------------------------------------------------------------------------------\n",
      "2022-08-15 16:24:39 (I) | writing optimization stats\n",
      "2022-08-15 16:24:39 (I) | renaming current (new) optimization vectors as previous model (old)\n",
      "2022-08-15 16:24:39 (I) | setting accepted trial model (try) as current model (new)\n",
      "2022-08-15 16:24:39 (I) | misfit of accepted trial model is f=8.645E-04\n",
      "2022-08-15 16:24:39 (I) | resetting line search step count to 0\n",
      "2022-08-15 16:24:39 (I) | \n",
      "////////////////////////////////////////////////////////////////////////////////\n",
      "                      CLEANING WORKDIR FOR NEXT ITERATION                       \n",
      "////////////////////////////////////////////////////////////////////////////////\n"
     ]
    },
    {
     "name": "stdout",
     "output_type": "stream",
     "text": [
      "2022-08-15 16:24:41 (I) | thrifty inversion encountering first iteration, defaulting to standard inversion workflow\n",
      "2022-08-15 16:24:42 (I) | stop workflow at `stop_after`: finalize_iteration\n"
     ]
    }
   ],
   "source": [
    "! seisflows submit"
   ]
  },
  {
   "cell_type": "markdown",
   "metadata": {},
   "source": [
    "From the log statements above, we can see that the SeisFlows line search required 4 trial steps, where it modified values of Vs (shear-wave velocity) until satisfactory reduction in the objective function was met. This was the final step in the iteration, and so the finalization of the line search made preparations for a subsequent iteration. "
   ]
  },
  {
   "cell_type": "code",
   "execution_count": 25,
   "metadata": {},
   "outputs": [
    {
     "name": "stdout",
     "output_type": "stream",
     "text": [
      "alpha.txt        f_old.txt        m_new.npz        p_old.npz\r\n",
      "checkpoint.npz   f_try.txt        m_old.npz\r\n",
      "f_new.txt        g_old.npz        output_optim.txt\r\n"
     ]
    }
   ],
   "source": [
    "# We can see that we have 'new' and 'old' values for each of the optimization values,\n",
    "# representing the previous model (M00) and the current model (M01).\n",
    "! ls scratch/optimize"
   ]
  },
  {
   "cell_type": "code",
   "execution_count": 26,
   "metadata": {},
   "outputs": [
    {
     "name": "stdout",
     "output_type": "stream",
     "text": [
      "step_count,step_length,gradient_norm_L1,gradient_norm_L2,misfit,if_restarted,slope,theta\r\n",
      "04,2.323E+09,9.243E-05,1.049E-06,1.279E-03,0,8.263E-13,0.000E+00\r\n"
     ]
    }
   ],
   "source": [
    "# The stats/ directory contains text files describing the optimization/line search\n",
    "! cat scratch/optimize/output_optim.txt"
   ]
  },
  {
   "cell_type": "markdown",
   "metadata": {},
   "source": [
    "### 4. Conclusions\n",
    "\n",
    "We've now seen how SeisFlows runs an __Inversion__ workflow using the __Specfem2D__ solver on a __Workstation__ system. More or less, this is all you need to run SeisFlows with any combination of modules. The specificities of a system or numerical solver are already handled internally by SeisFlows, so if you want to use Specmfe3D_Cartesian as your solver, you would only need to run `seisflows par solver specfem3d` at the beginning of your workflow (you will also need to set up your Specfem3D models, similar to what we did for Specfem2D here). To run on a slurm system like Chinook (University of Alaska Fairbanks), you can run `seisflows par system chinook`. "
   ]
  }
 ],
 "metadata": {
  "kernelspec": {
   "display_name": "Python 3",
   "language": "python",
   "name": "python3"
  },
  "language_info": {
   "codemirror_mode": {
    "name": "ipython",
    "version": 3
   },
   "file_extension": ".py",
   "mimetype": "text/x-python",
   "name": "python",
   "nbconvert_exporter": "python",
   "pygments_lexer": "ipython3",
   "version": "3.7.3"
  }
 },
 "nbformat": 4,
 "nbformat_minor": 4
}
