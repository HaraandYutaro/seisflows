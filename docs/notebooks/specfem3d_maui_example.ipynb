{
 "cells": [
  {
   "cell_type": "markdown",
   "id": "61703584",
   "metadata": {},
   "source": [
    "# Specfem3D Cluster (Maui) example\n",
    "\n",
    "To demonstrate the inversion capabilities of SeisFlows3 on a cluster, we will run a __Specfem3D synthetic-synthetic example__ on a __cluster__ (High performance computer operating on the Slurm workload manager). Many of the setup steps here will likely be unique to our OS and workstation, but hopefully they may serve as templates for new Users wanting to explore SeisFlows3. \n",
    "\n",
    "The numerical solver we will use is: [SPECFEM3D](https://geodynamics.org/resources/specfem3dcartesian/about). We'll also be working in our `seisflows` [Conda](https://docs.conda.io/en/latest/) environment, see the installation documentation page for instructions on how to install and activate the required Conda environment."
   ]
  },
  {
   "cell_type": "code",
   "execution_count": null,
   "id": "c2fd70cb",
   "metadata": {},
   "outputs": [],
   "source": []
  }
 ],
 "metadata": {
  "kernelspec": {
   "display_name": "Python 3 (ipykernel)",
   "language": "python",
   "name": "python3"
  },
  "language_info": {
   "codemirror_mode": {
    "name": "ipython",
    "version": 3
   },
   "file_extension": ".py",
   "mimetype": "text/x-python",
   "name": "python",
   "nbconvert_exporter": "python",
   "pygments_lexer": "ipython3",
   "version": "3.7.12"
  }
 },
 "nbformat": 4,
 "nbformat_minor": 5
}
