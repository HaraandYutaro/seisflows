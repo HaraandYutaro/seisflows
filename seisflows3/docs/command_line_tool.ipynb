{
 "cells": [
  {
   "cell_type": "markdown",
   "metadata": {},
   "source": [
    "Commmand Line Tool\n",
    "==========================\n",
    "`SeisFlows3` is primarily interacted with via command line calls and a parameter file. In this page we explain how to use this command line tool to create a SeisFlows3 parameters file, edit and configure it, and establish a SeisFlows3 working directory. We also provide explanation for other command line options which act as helper utilities for improved package control.\n",
    " \n",
    "After installing SeisFlows3 into a Conda environment, the `seisflows` command will be available directly from the command line. To access the help dialogue, you can type `seisflows` or `seisflows -h`"
   ]
  },
  {
   "cell_type": "code",
   "execution_count": 1,
   "metadata": {},
   "outputs": [
    {
     "name": "stdout",
     "output_type": "stream",
     "text": [
      "usage: seisflows [-h] [-w [WORKDIR]] [-p [PARAMETER_FILE]]\r\n",
      "                 [--path_file [PATH_FILE]]\r\n",
      "                 {setup,modules,configure,init,submit,resume,restart,clean,par,check,convert,reset,inspect,debug,edit}\r\n",
      "                 ...\r\n",
      "\r\n",
      "================================================================================\r\n",
      "\r\n",
      "                     SeisFlows: Waveform Inversion Package                      \r\n",
      "\r\n",
      "================================================================================\r\n",
      "\r\n",
      "optional arguments:\r\n",
      "  -h, --help            show this help message and exit\r\n",
      "  -w [WORKDIR], --workdir [WORKDIR]\r\n",
      "                        The SeisFlows working directory, default: cwd\r\n",
      "  -p [PARAMETER_FILE], --parameter_file [PARAMETER_FILE]\r\n",
      "                        Parameters file, default: 'parameters.yaml'\r\n",
      "  --path_file [PATH_FILE]\r\n",
      "                        Legacy path file, default: 'paths.py'\r\n",
      "\r\n",
      "command:\r\n",
      "  Available SeisFlows arguments and their intended usages\r\n",
      "\r\n",
      "    setup               Setup working directory from scratch\r\n",
      "    modules             Print available module names\r\n",
      "    configure           Fill parameter file with defaults\r\n",
      "    init                Initiate working environment\r\n",
      "    submit              Submit initial workflow to system\r\n",
      "    resume              Re-submit previous workflow to system\r\n",
      "    restart             Remove current environment and submit new workflow\r\n",
      "    clean               Remove active working environment\r\n",
      "    par                 View and edit parameter file\r\n",
      "    check               Check state of an active environment\r\n",
      "    convert             Convert model file format\r\n",
      "    reset               Reset underlying machinery\r\n",
      "    inspect             View inheritenace and ownership\r\n",
      "    debug               Start interactive debug environment\r\n",
      "    edit                Open source code file in text editor\r\n",
      "\r\n",
      "'seisflows [command] -h' for more detailed descriptions of each command.\r\n"
     ]
    }
   ],
   "source": [
    "! seisflows"
   ]
  },
  {
   "cell_type": "markdown",
   "metadata": {},
   "source": []
  }
 ],
 "metadata": {
  "kernelspec": {
   "display_name": "Python 3",
   "language": "python",
   "name": "python3"
  },
  "language_info": {
   "codemirror_mode": {
    "name": "ipython",
    "version": 3
   },
   "file_extension": ".py",
   "mimetype": "text/x-python",
   "name": "python",
   "nbconvert_exporter": "python",
   "pygments_lexer": "ipython3",
   "version": "3.7.3"
  }
 },
 "nbformat": 4,
 "nbformat_minor": 4
}
