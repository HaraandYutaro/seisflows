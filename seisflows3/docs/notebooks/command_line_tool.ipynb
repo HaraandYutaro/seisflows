{
 "cells": [
  {
   "cell_type": "markdown",
   "metadata": {},
   "source": [
    "Commmand Line Tool\n",
    "==========================\n",
    "`SeisFlows3` is primarily interacted with via command line calls and a parameter file. In this page we explain how to use this command line tool to create a SeisFlows3 parameters file, edit and configure it, and establish a SeisFlows3 working directory. We also provide explanation for other command line options which act as helper utilities for improved package control.\n",
    " \n",
    "After installing SeisFlows3 into a Conda environment, the `seisflows` command will be available directly from the command line. To access the help dialogue, you can type `seisflows` or `seisflows -h`"
   ]
  },
  {
   "cell_type": "code",
   "execution_count": 7,
   "metadata": {},
   "outputs": [
    {
     "name": "stdout",
     "output_type": "stream",
     "text": [
      "usage: seisflows [-h] [-w [WORKDIR]] [-p [PARAMETER_FILE]]\r\n",
      "                 {setup,configure,init,submit,resume,restart,clean,par,sempar,check,print,convert,reset,debug,edit,examples}\r\n",
      "                 ...\r\n",
      "\r\n",
      "================================================================================\r\n",
      "\r\n",
      "                     SeisFlows3: Waveform Inversion Package                     \r\n",
      "\r\n",
      "================================================================================\r\n",
      "\r\n",
      "optional arguments:\r\n",
      "  -h, --help            show this help message and exit\r\n",
      "  -w [WORKDIR], --workdir [WORKDIR]\r\n",
      "                        The SeisFlows working directory, default: cwd\r\n",
      "  -p [PARAMETER_FILE], --parameter_file [PARAMETER_FILE]\r\n",
      "                        Parameters file, default: 'parameters.yaml'\r\n",
      "\r\n",
      "command:\r\n",
      "  Available SeisFlows arguments and their intended usages\r\n",
      "\r\n",
      "    setup               Setup working directory from scratch\r\n",
      "    configure           Fill parameter file with defaults\r\n",
      "    init                Initiate working environment\r\n",
      "    submit              Submit initial workflow to system\r\n",
      "    resume              Re-submit previous workflow to system\r\n",
      "    restart             Remove current environment and submit new workflow\r\n",
      "    clean               Remove files relating to an active working environment\r\n",
      "    par                 View and edit SeisFlows3 parameter file\r\n",
      "    sempar              View and edit SPECFEM parameter file\r\n",
      "    check               Check state of an active environment\r\n",
      "    print               Print information related to an active environment\r\n",
      "    convert             Convert model file format\r\n",
      "    reset               Reset modules within an active state\r\n",
      "    debug               Start interactive debug environment\r\n",
      "    edit                Open source code file in text editor\r\n",
      "    examples            Look at and run pre-configured example problems\r\n",
      "\r\n",
      "'seisflows [command] -h' for more detailed descriptions of each command.\r\n"
     ]
    }
   ],
   "source": [
    "! seisflows"
   ]
  },
  {
   "cell_type": "markdown",
   "metadata": {},
   "source": [
    "### Setting up a parameter file\n",
    "#### seisflows setup\n",
    "\n",
    "The first step of any SeisFlows3 workflow is to set up a working directory, which begins by establishing a blank parameter file. The `seisflows setup` command copies in a template parameter file. Ideally your working directory will be empty to avoid file conflicts."
   ]
  },
  {
   "cell_type": "code",
   "execution_count": 8,
   "metadata": {},
   "outputs": [
    {
     "name": "stdout",
     "output_type": "stream",
     "text": [
      "/home/bchow/Work/scratch\n"
     ]
    }
   ],
   "source": [
    "%cd ~/Work/scratch\n",
    "! ls"
   ]
  },
  {
   "cell_type": "code",
   "execution_count": 9,
   "metadata": {},
   "outputs": [
    {
     "name": "stdout",
     "output_type": "stream",
     "text": [
      "usage: seisflows setup [-h] [-s] [-f]\r\n",
      "\r\n",
      "In the specified working directory, copy template parameter file containing\r\n",
      "only module choices, and symlink source code for both the base and super\r\n",
      "repositories for easy edit access. If a parameter file matching the provided\r\n",
      "name exists in the working directory, a prompt will appear asking the user if\r\n",
      "they want to overwrite.\r\n",
      "\r\n",
      "optional arguments:\r\n",
      "  -h, --help     show this help message and exit\r\n",
      "  -s, --symlink  symlink source code into the working directory\r\n",
      "  -f, --force    automatically overwrites existing parameter file\r\n"
     ]
    }
   ],
   "source": [
    "! seisflows setup -h"
   ]
  },
  {
   "cell_type": "code",
   "execution_count": 15,
   "metadata": {},
   "outputs": [
    {
     "name": "stdout",
     "output_type": "stream",
     "text": [
      "creating parameter file: parameters.yaml\r\n"
     ]
    }
   ],
   "source": [
    "# The '-f' flag (force) will overwrite any existing parameter file\n",
    "! seisflows setup -f"
   ]
  },
  {
   "cell_type": "markdown",
   "metadata": {},
   "source": [
    "Having a look at the template parameters.yaml file that was just generated, we can see that it contains some pre-defined default values for the core SeisFlows3 modules. Each of these modules defines it's own set of unique parameters which make up a workflow."
   ]
  },
  {
   "cell_type": "code",
   "execution_count": 17,
   "metadata": {},
   "outputs": [
    {
     "name": "stdout",
     "output_type": "stream",
     "text": [
      "parameters.yaml\n",
      "32 parameters.yaml\n"
     ]
    }
   ],
   "source": [
    "! ls\n",
    "! wc -l parameters.yaml  # List the number of lines in the file"
   ]
  },
  {
   "cell_type": "code",
   "execution_count": 18,
   "metadata": {},
   "outputs": [
    {
     "name": "stdout",
     "output_type": "stream",
     "text": [
      "# //////////////////////////////////////////////////////////////////////////////\r\n",
      "#\r\n",
      "#                        SeisFlows3 YAML Parameter File\r\n",
      "#\r\n",
      "# //////////////////////////////////////////////////////////////////////////////\r\n",
      "#\r\n",
      "# Modules correspond to the structure of the source code, and determine\r\n",
      "# SeisFlows3' behavior at runtime. Each module requires its own sub-parameters.\r\n",
      "#\r\n",
      "# .. rubric::\r\n",
      "#   - To determine available options for modules listed below, run:\r\n",
      "#       > seisflows print modules\r\n",
      "#   - To auto-fill with docstrings and default values (recommended), run:\r\n",
      "#       > seisflows configure\r\n",
      "#   - To set values as NoneType, use: null\r\n",
      "#   - To set values as infinity, use: inf\r\n",
      "#\r\n",
      "#                                    MODULES\r\n",
      "#                                    ///////\r\n",
      "# WORKFLOW (str):    The method for running SeisFlows3; equivalent to main()\r\n",
      "# SOLVER (str):      External numerical solver to use for waveform simulations\r\n",
      "# SYSTEM (str):      Computer architecture of the system being used\r\n",
      "# OPTIMIZE (str):    Optimization algorithm for the inverse problem\r\n",
      "# PREPROCESS (str):  Preprocessing schema for waveform data\r\n",
      "# POSTPROCESS (str): Postprocessing schema for kernels and gradients\r\n",
      "# ==============================================================================\r\n",
      "WORKFLOW: inversion\r\n",
      "SOLVER: specfem2d\r\n",
      "SYSTEM: workstation\r\n",
      "OPTIMIZE: LBFGS \r\n",
      "PREPROCESS: base\r\n",
      "POSTPROCESS: base\r\n"
     ]
    }
   ],
   "source": [
    "! cat parameters.yaml"
   ]
  },
  {
   "cell_type": "markdown",
   "metadata": {},
   "source": [
    "#### seisflows configure\n",
    "\n",
    "We can now run the `seisflows configure` command which will build out our parameter file based on the module choices provided in the parameter file."
   ]
  },
  {
   "cell_type": "code",
   "execution_count": 22,
   "metadata": {},
   "outputs": [
    {
     "name": "stdout",
     "output_type": "stream",
     "text": [
      "usage: seisflows configure [-h] [-r]\r\n",
      "\r\n",
      "SeisFlows parameter files will vary depending on chosen modules and their\r\n",
      "respective required parameters. This function will dynamically traverse the\r\n",
      "source code and generate a template parameter file based on module choices.\r\n",
      "The resulting file incldues docstrings and type hints for each parameter.\r\n",
      "Optional parameters will be set with default values and required parameters\r\n",
      "and paths will be marked appropriately. Required parameters must be set before\r\n",
      "a workflow can be submitted.\r\n",
      "\r\n",
      "optional arguments:\r\n",
      "  -h, --help            show this help message and exit\r\n",
      "  -r, --relative_paths  Set default paths relative to cwd\r\n"
     ]
    }
   ],
   "source": [
    "! seisflows configure -h"
   ]
  },
  {
   "cell_type": "code",
   "execution_count": 19,
   "metadata": {},
   "outputs": [
    {
     "name": "stdout",
     "output_type": "stream",
     "text": [
      "filling parameters.yaml w/ default values\r\n"
     ]
    }
   ],
   "source": [
    "! seisflows configure"
   ]
  },
  {
   "cell_type": "code",
   "execution_count": 39,
   "metadata": {},
   "outputs": [
    {
     "name": "stdout",
     "output_type": "stream",
     "text": [
      "# =============================================================================\n",
      "#                                    SOLVER                                    \n",
      "#                                    //////                                    \n",
      "# MATERIALS (str):\n",
      "#   Material parameters used to define model. Available: ['ELASTIC': Vp, Vs,\n",
      "#   'ACOUSTIC': Vp, 'ISOTROPIC', 'ANISOTROPIC']\n",
      "# DENSITY (str):\n",
      "#   How to treat density during inversion. Available: ['CONSTANT': Do not\n",
      "#   update density, 'VARIABLE': Update density]\n",
      "# ATTENUATION (str):\n",
      "#   If True, turn on attenuation during forward simulations, otherwise set\n",
      "#   attenuation off. Attenuation is always off for adjoint simulations.\n",
      "# COMPONENTS (str):\n",
      "#   Components used to generate data, formatted as a single string, e.g. ZNE\n",
      "#   or NZ or E\n",
      "# SOLVERIO (int):\n",
      "#   The format external solver files. Available: ['fortran_binary', 'adios']\n",
      "# NT (float):\n",
      "#   Number of time steps set in the SPECFEM Par_file\n",
      "# DT (float):\n",
      "#   Time step or delta set in the SPECFEM Par_file\n",
      "# F0 (float):\n",
      "#   Dominant source frequency\n",
      "# FORMAT (float):\n",
      "#   Format of synthetic waveforms used during workflow, available options:\n",
      "#   ['ascii', 'su']\n",
      "# SOURCE_PREFIX (str):\n",
      "#   Prefix of SOURCE files in path SPECFEM_DATA. By default, 'SOURCE' for\n",
      "#   SPECFEM2D\n",
      "# =============================================================================\n",
      "MATERIALS: !!! REQUIRED PARAMETER !!!\n",
      "DENSITY: !!! REQUIRED PARAMETER !!!\n",
      "ATTENUATION: !!! REQUIRED PARAMETER !!!\n",
      "COMPONENTS: ZNE\n",
      "SOLVERIO: fortran_binary\n",
      "NT: !!! REQUIRED PARAMETER !!!\n",
      "DT: !!! REQUIRED PARAMETER !!!\n",
      "F0: !!! REQUIRED PARAMETER !!!\n",
      "FORMAT: !!! REQUIRED PARAMETER !!!\n",
      "SOURCE_PREFIX: SOURCE\n",
      "\n",
      "# =============================================================================\n",
      "#                                  POSTPROCESS                                 \n",
      "#                                  ///////////                                 \n",
      "# SMOOTH_H (float):\n",
      "#   Gaussian half-width for horizontal smoothing in units of meters. If 0.,\n",
      "#   no smoothing applied\n",
      "# SMOOTH_V (float):\n",
      "#   Gaussian half-width for vertical smoothing in units of meters\n",
      "# TASKTIME_SMOOTH (int):\n",
      "#   Large radii smoothing may take longer than normal tasks. Allocate\n",
      "#   additional smoothing task time as a multiple of TASKTIME\n",
      "# =============================================================================\n",
      "SMOOTH_H: 0.0\n",
      "SMOOTH_V: 0.0\n",
      "TASKTIME_SMOOTH: 1\n",
      "\n",
      "# =============================================================================\n",
      "#                                   OPTIMIZE                                   \n",
      "#                                   ////////                                   \n",
      "# LINESEARCH (str):\n",
      "#   Algorithm to use for line search, see seisflows.plugins.line_search for\n",
      "#   available choices\n",
      "# PRECOND (str):\n",
      "#   Algorithm to use for preconditioning gradients, see\n",
      "#   seisflows3.plugins.preconds for available choices\n",
      "# STEPCOUNTMAX (int):\n",
      "#   Max number of trial steps in line search before a change in line search\n",
      "#   behavior\n",
      "# STEPLENINIT (float):\n",
      "#   Initial line search step length, as a fraction of current model\n",
      "#   parameters\n",
      "# STEPLENMAX (float):\n",
      "#   Max allowable step length, as a fraction of current model parameters\n",
      "# LBFGSMEM (int):\n",
      "#   Max number of previous gradients to retain in local memory\n",
      "# LBFGSMAX (int):\n",
      "#   LBFGS periodic restart interval, between 1 and 'inf'\n",
      "# LBFGSTHRESH (float):\n",
      "#   LBFGS angle restart threshold\n",
      "# =============================================================================\n",
      "LINESEARCH: Backtrack\n",
      "\n",
      "306 parameters.yaml\n"
     ]
    }
   ],
   "source": [
    "! head -200 parameters.yaml | tail -n 82  # have a look at the middle of the file\n",
    "! echo\n",
    "! wc -l parameters.yaml"
   ]
  },
  {
   "cell_type": "markdown",
   "metadata": {},
   "source": [
    "We can see that our parameter file is over 300 lines now, too cumbersome to print on the page. The length of the file mostly arises from the header, as each parameter gets it's own entry with the parameter's type, docstring, and any available options.\n",
    "\n",
    "Parameters that are required by the workflow but do not come with pre-set default values will be labelled with `!!! REQUIRED PARAMETER !!!`. Similarly required path definitions, which come at the end of the file, are labelled with the `!!! REQUIRED PATH !!!` value."
   ]
  },
  {
   "cell_type": "markdown",
   "metadata": {},
   "source": [
    "### Filling out the parameter file\n",
    "#### seisflows par\n",
    "\n",
    "It's easy enough to open your favorite text editor to make adjustments to the parameter file, however the `seisflows par` command makes things easier by allowing you to view and edit values from the command line. This makes it convenient to change parameters, and also allows you to script your workflow setup for improved reproducibility. "
   ]
  },
  {
   "cell_type": "code",
   "execution_count": 25,
   "metadata": {},
   "outputs": [
    {
     "name": "stdout",
     "output_type": "stream",
     "text": [
      "usage: seisflows par [-h] [-p] [-r] [parameter] [value]\r\n",
      "\r\n",
      "Directly edit values in the parameter file by providing the parameter and\r\n",
      "corresponding value. If no value is provided, will simply print out the\r\n",
      "current value of the given parameter. Works also with path names.\r\n",
      "\r\n",
      "positional arguments:\r\n",
      "  parameter         Parameter to edit or view, (case independent).\r\n",
      "  value             Optional value to set parameter to. If not given, will\r\n",
      "                    print out current parameter. If given, will replace\r\n",
      "                    current parameter with new value. Set as 'null' for\r\n",
      "                    NoneType and set '' for empty string\r\n",
      "\r\n",
      "optional arguments:\r\n",
      "  -h, --help        show this help message and exit\r\n",
      "  -p, --skip_print  Skip the print statement which is typically sent to stdout\r\n",
      "                    after changing parameters.\r\n",
      "  -r, --required    Only list parameters which have not been set as a default\r\n",
      "                    value, typically set with some attention catching\r\n",
      "                    argument. 'parameter' and 'value' will be ignored.\r\n"
     ]
    }
   ],
   "source": [
    "! seisflows par -h"
   ]
  },
  {
   "cell_type": "markdown",
   "metadata": {},
   "source": [
    "The -r (--required) flag tells us which parameters need to be set by the user"
   ]
  },
  {
   "cell_type": "code",
   "execution_count": 40,
   "metadata": {},
   "outputs": [
    {
     "name": "stdout",
     "output_type": "stream",
     "text": [
      "!!! REQUIRED PARAMETER !!!\r\n",
      "==========================\r\n",
      "\tMATERIALS\r\n",
      "\tDENSITY\r\n",
      "\tATTENUATION\r\n",
      "\tNT\r\n",
      "\tDT\r\n",
      "\tF0\r\n",
      "\tFORMAT\r\n",
      "\tCASE\r\n",
      "\tEND\r\n",
      "!!! REQUIRED PATH !!!\r\n",
      "=====================\r\n",
      "\tSPECFEM_BIN\r\n",
      "\tSPECFEM_DATA\r\n",
      "\tMODEL_INIT\r\n"
     ]
    }
   ],
   "source": [
    "! seisflows par -r"
   ]
  },
  {
   "cell_type": "markdown",
   "metadata": {},
   "source": [
    "We can view (but not modify) parameters by giving a single argument to the par command"
   ]
  },
  {
   "cell_type": "code",
   "execution_count": 57,
   "metadata": {},
   "outputs": [
    {
     "name": "stdout",
     "output_type": "stream",
     "text": [
      "END: !!! REQUIRED PARAMETER !!!\r\n"
     ]
    }
   ],
   "source": [
    "! seisflows par end"
   ]
  },
  {
   "cell_type": "markdown",
   "metadata": {},
   "source": [
    "and we can edit the given parameter by providing a second argument to the par command"
   ]
  },
  {
   "cell_type": "code",
   "execution_count": 58,
   "metadata": {},
   "outputs": [
    {
     "name": "stdout",
     "output_type": "stream",
     "text": [
      "END: !!! REQUIRED PARAMETER !!! -> 1\r\n"
     ]
    }
   ],
   "source": [
    "! seisflows par end 1"
   ]
  },
  {
   "cell_type": "markdown",
   "metadata": {},
   "source": [
    "#### seisflows sempar\n",
    "\n",
    "The `seisflows sempar` command behaves the same as the `par` command, except is used to edit a SPECFEM2D/3D/3D_GLOBE Par_file. It has the same call structure as `par`.\n",
    "\n",
    "### Setting up an active working state\n",
    "\n",
    "An active SeisFlows3 working state is simply a Python environment with the SeisFlows3 library defined based on the given parameter file. In order to establish a working state, we need to set all required paths and parameters. We can look at the parameter file header to determine valid options for each parameter."
   ]
  },
  {
   "cell_type": "code",
   "execution_count": 56,
   "metadata": {},
   "outputs": [
    {
     "name": "stdout",
     "output_type": "stream",
     "text": [
      "#                                    //////                                    \r\n",
      "# MATERIALS (str):\r\n",
      "#   Material parameters used to define model. Available: ['ELASTIC': Vp, Vs,\r\n",
      "#   'ACOUSTIC': Vp, 'ISOTROPIC', 'ANISOTROPIC']\r\n",
      "# DENSITY (str):\r\n",
      "#   How to treat density during inversion. Available: ['CONSTANT': Do not\r\n",
      "#   update density, 'VARIABLE': Update density]\r\n",
      "# ATTENUATION (str):\r\n",
      "#   If True, turn on attenuation during forward simulations, otherwise set\r\n",
      "#   attenuation off. Attenuation is always off for adjoint simulations.\r\n"
     ]
    }
   ],
   "source": [
    "! head -130 parameters.yaml | tail -n 10  "
   ]
  },
  {
   "cell_type": "code",
   "execution_count": 61,
   "metadata": {},
   "outputs": [],
   "source": [
    "# We use the `-p` flag to turn off stdout printing\n",
    "! seisflows par materials elastic -p\n",
    "! seisflows par density constant -p\n",
    "! seisflows par attenuation False -p\n",
    "! seisflows par nt 100 -p\n",
    "! seisflows par dt .01 -p\n",
    "! seisflows par f0 .5 -p\n",
    "! seisflows par format ascii -p\n",
    "! seisflows par case synthetic -p\n",
    "\n",
    "# Required paths can similarly be set the `par` command\n",
    "! seisflows par specfem_bin ./ -p\n",
    "! seisflows par specfem_data ./ -p\n",
    "! seisflows par model_init ./ -p"
   ]
  },
  {
   "cell_type": "markdown",
   "metadata": {},
   "source": [
    "#### seisflows init\n",
    "\n",
    "To initiate a working state, we run `seisflows init`. This registers the parameter file into Python's sys.modules. It runs parameter check functions to ensure that parameters have been set correctly, and then saves the active working state as a set of pickle (.p) files which can be used to resume active workflows."
   ]
  },
  {
   "cell_type": "code",
   "execution_count": 62,
   "metadata": {},
   "outputs": [
    {
     "name": "stdout",
     "output_type": "stream",
     "text": [
      "\r\n",
      "================================================================================\r\n",
      "                               MODULE CHECK ERROR                               \r\n",
      "                               //////////////////                               \r\n",
      "seisflows.config module check failed with:\r\n",
      "\r\n",
      "workflow: CASE == SYNTHETIC requires PATH.MODEL_TRUE\r\n",
      "================================================================================\r\n"
     ]
    }
   ],
   "source": [
    "! seisflows init"
   ]
  },
  {
   "cell_type": "markdown",
   "metadata": {},
   "source": [
    "Oops, as we can see the parameter check has caught that a given parameter requires a certain path to be set which is currently blank. Let's amend and try again"
   ]
  },
  {
   "cell_type": "code",
   "execution_count": 63,
   "metadata": {},
   "outputs": [
    {
     "name": "stdout",
     "output_type": "stream",
     "text": [
      "instantiating SeisFlows3 working state in directory: output\r\n"
     ]
    }
   ],
   "source": [
    "! seisflows par model_true ./ -p\n",
    "! seisflows init"
   ]
  },
  {
   "cell_type": "code",
   "execution_count": 65,
   "metadata": {},
   "outputs": [
    {
     "name": "stdout",
     "output_type": "stream",
     "text": [
      "output\tparameters.yaml\n",
      "\n",
      "seisflows_optimize.p\t   seisflows_postprocess.p  seisflows_system.p\n",
      "seisflows_parameters.json  seisflows_preprocess.p   seisflows_workflow.p\n",
      "seisflows_paths.json\t   seisflows_solver.p\n"
     ]
    }
   ],
   "source": [
    "! ls\n",
    "! echo\n",
    "! ls output"
   ]
  }
 ],
 "metadata": {
  "kernelspec": {
   "display_name": "Python 3",
   "language": "python",
   "name": "python3"
  },
  "language_info": {
   "codemirror_mode": {
    "name": "ipython",
    "version": 3
   },
   "file_extension": ".py",
   "mimetype": "text/x-python",
   "name": "python",
   "nbconvert_exporter": "python",
   "pygments_lexer": "ipython3",
   "version": "3.7.6"
  }
 },
 "nbformat": 4,
 "nbformat_minor": 4
}
