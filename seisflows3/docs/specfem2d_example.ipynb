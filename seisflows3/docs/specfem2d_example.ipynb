{
 "cells": [
  {
   "cell_type": "markdown",
   "metadata": {},
   "source": [
    "# Specfem2D workstation example\n",
    "\n",
    "To demonstrate the inversion capabilities of SeisFlows3, we will run a __Specfem2D synthetic-synthetic example__ on a __local machine__ (Linux workstation running CentOS 7). Many of the setup steps here will likely be unique to our OS and workstation, but hopefully they may serve as templates for new Users wanting to explore SeisFlows3. \n",
    "\n",
    "The numerical solver we will use is: [SPECFEM2D](https://geodynamics.org/cig/software/specfem2d/). We'll also be working in our `seisflows3` [Conda](https://docs.conda.io/en/latest/) environment, see the installation documentation page for instructions on how to install and activate the required Conda environment.\n",
    "\n",
    "--------------\n",
    "\n",
    "The following Table of Contents outlines the steps we will take in this tutorial:\n",
    "\n",
    "1. __[Setup SPECFEM2D](#1.-Setup-SPECFEM2D)__  \n",
    "    a. [Download and compile codebase](#1a.-Download-and-compile-codebase*)  \n",
    "    b. [Create a separate SPECFEM2D working directory](#1b.-Create-a-separate-SPECFEM2D-working-directory)  \n",
    "    c. [Generate initial and target models](#1c.-Generate-initial-and-target-models)  \n",
    "\n",
    "2. __[Initialize SeisFlows3 (SF3)](#2.-Initialize-SeisFlows3-(SF3))__  \n",
    "    a. [SF3 working directory and parameter file](#2a.-SF3-working-directory-and-parameter-file)  \n",
    "    b. [Initialize SF3 working state](#2b.-Initialize-SF3-working-state)  \n",
    "\n",
    "3. __[Run SeisFlows3](#2.-Run-SeisFlows3)__  \n",
    "    a. [Forward simulations](#3a.-Forward-simulations)  \n",
    "    b. [Exploring the SF3 directory structure](#3b.-Exploring-the-SF3-directory-structure)    \n",
    "    c. [Adjoint simulations](#3c.-Adjoint-simulations)  \n",
    "    d. [Line search and model update](#3d.-Line-search-and-model-update)  \n",
    "\n",
    "4. __[Conclusions](#4.-Conclusions)__  \n",
    "\n"
   ]
  },
  {
   "cell_type": "markdown",
   "metadata": {},
   "source": [
    "## 1. Setup SPECFEM2D \n",
    "### 1a. Download and compile codebase*\n",
    "\n",
    ">__\\*__ If you have already downloaded and compiled SPECFEM2D, you can skip most of this subsection (1a). However you will need to edit the first two paths in the following cell (WORKDIR and SPECFEM2D_ORIGINAL), and execute the path structure defined in the cell.\n",
    "\n",
    "First we'll download and compile SPECFEM2D to generate the binaries necessary to run our simulations. We will then populate a new SPECFEM2D working directory that will be used by SeisFlows3. We'll use to Python OS module to do our filesystem processes just to keep everything in Python, but this can easily be accomplished in bash."
   ]
  },
  {
   "cell_type": "code",
   "execution_count": 14,
   "metadata": {},
   "outputs": [],
   "source": [
    "import os\n",
    "import glob\n",
    "import shutil\n",
    "import numpy as np"
   ]
  },
  {
   "cell_type": "code",
   "execution_count": 15,
   "metadata": {},
   "outputs": [],
   "source": [
    "# USER MUST EDIT THE FOLLOWING PATHS:\n",
    "# WORKDIR: points to your own working directory\n",
    "# SPECFEM2D: points to an existing specfem2D repository if available (if not set as '')\n",
    "WORKDIR = \"/home/bchow/Work/work/sf3_specfem2d_example\" \n",
    "SPECFEM2D = \"/home/bchow/REPOSITORIES/specfem2d\"\n",
    "\n",
    "# ======================================================================================================\n",
    "\n",
    "# Distribute the necessary file structure of the SPECFEM2D repository that we will downloaded/reference\n",
    "SPECFEM2D_ORIGINAL = os.path.join(WORKDIR, \"specfem2d\")\n",
    "SPECFEM2D_BIN_ORIGINAL = os.path.join(SPECFEM2D_ORIGINAL, \"bin\")\n",
    "SPECFEM2D_DATA_ORIGINAL = os.path.join(SPECFEM2D_ORIGINAL, \"DATA\")\n",
    "TAPE_2007_EXAMPLE = os.path.join(SPECFEM2D_ORIGINAL, \"EXAMPLES\", \"Tape2007\")\n",
    "\n",
    "# The SPECFEM2D working directory that we will create separate from the downloaded repo\n",
    "SPECFEM2D_WORKDIR = os.path.join(WORKDIR, \"specfem2d_workdir\")\n",
    "SPECFEM2D_BIN = os.path.join(SPECFEM2D_WORKDIR, \"bin\")\n",
    "SPECFEM2D_DATA = os.path.join(SPECFEM2D_WORKDIR, \"DATA\")\n",
    "SPECFEM2D_OUTPUT = os.path.join(SPECFEM2D_WORKDIR, \"OUTPUT_FILES\")\n",
    "\n",
    "# Pre-defined locations of velocity models we will generate using the solver\n",
    "SPECFEM2D_MODEL_INIT = os.path.join(SPECFEM2D_WORKDIR, \"OUTPUT_FILES_INIT\")\n",
    "SPECFEM2D_MODEL_TRUE = os.path.join(SPECFEM2D_WORKDIR, \"OUTPUT_FILES_TRUE\")"
   ]
  },
  {
   "cell_type": "code",
   "execution_count": 16,
   "metadata": {},
   "outputs": [
    {
     "name": "stdout",
     "output_type": "stream",
     "text": [
      "SPECFEM2D repository already found, you may skip this subsection\n"
     ]
    }
   ],
   "source": [
    "# Download SPECFEM2D from GitHub, devel branch for latest codebase OR symlink from existing repo\n",
    "os.chdir(WORKDIR)\n",
    "\n",
    "if os.path.exists(\"specfem2d\"):\n",
    "    print(\"SPECFEM2D repository already found, you may skip this subsection\")\n",
    "    pass\n",
    "elif os.path.exists(SPECFEM2D):\n",
    "    print(\"Existing SPECMFE2D respository found, symlinking to working directory\")\n",
    "    os.symlink(SPECFEM2D, \"./specfem2d\")\n",
    "else:\n",
    "    print(\"Cloning respository from GitHub\")\n",
    "    ! git clone --recursive --branch devel https://github.com/geodynamics/specfem2d.git"
   ]
  },
  {
   "cell_type": "code",
   "execution_count": 4,
   "metadata": {},
   "outputs": [],
   "source": [
    "# Compile SPECFEM2D to generate the Makefile\n",
    "os.chdir(SPECFEM2D_ORIGINAL)\n",
    "if not os.path.exists(\"./config.log\"):\n",
    "    os.system(\"./configure\")"
   ]
  },
  {
   "cell_type": "code",
   "execution_count": 5,
   "metadata": {},
   "outputs": [],
   "source": [
    "# Run make to generate SPECFEM2D binaries\n",
    "if not os.path.exists(\"bin\"):\n",
    "    os.system(\"make all\")"
   ]
  },
  {
   "cell_type": "code",
   "execution_count": 6,
   "metadata": {},
   "outputs": [
    {
     "name": "stdout",
     "output_type": "stream",
     "text": [
      "/home/bchow/REPOSITORIES/specfem2d\n",
      "xadj_seismogram\t\t      xconvolve_source_timefunction  xspecfem2D\n",
      "xcheck_quality_external_mesh  xmeshfem2D\t\t     xsum_kernels\n",
      "xcombine_sem\t\t      xsmooth_sem\n"
     ]
    }
   ],
   "source": [
    "# Check out the binary files that have been created\n",
    "os.chdir(SPECFEM2D_ORIGINAL)\n",
    "! pwd\n",
    "! ls bin/"
   ]
  },
  {
   "cell_type": "markdown",
   "metadata": {},
   "source": [
    "### 1b. Create a separate SPECFEM2D working directory\n",
    "\n",
    "Next we'll create a new SPECFEM2D working directory, separate from the original repository. The intent here is to isolate the original SPECFEM2D repository from our working state, to protect it from things like accidental file deletions or manipulations. This is not a mandatory step for using SeisFlows3, but it helps keep file structure clean in the long run, and is the SeisFlows3 dev team's preferred method of using SPECFEM. \n",
    "\n",
    ">__NOTE:__ All SPECFEM2D/3D/3D_GLOBE need to run successfully are the __bin/__, __DATA/__, and __OUTPUT_FILES/__ directories. Everything else in the repository is not mandatory for running binaries.\n",
    "\n",
    "In this tutorial we will be using the [Tape2007 example problem](https://github.com/geodynamics/specfem2d/tree/devel/EXAMPLES/Tape2007) to define our __DATA/__ directory (last tested 3/9/22, cf893667)."
   ]
  },
  {
   "cell_type": "code",
   "execution_count": 30,
   "metadata": {},
   "outputs": [
    {
     "name": "stdout",
     "output_type": "stream",
     "text": [
      "/home/bchow/Work/work/sf3_specfem2d_example/specfem2d_workdir\n",
      "bin  DATA\n"
     ]
    }
   ],
   "source": [
    "# Incase we've run this docs page before, delete the working directory before remaking\n",
    "if os.path.exists(SPECFEM2D_WORKDIR):\n",
    "    shutil.rmtree(SPECFEM2D_WORKDIR)\n",
    "\n",
    "os.mkdir(SPECFEM2D_WORKDIR)\n",
    "os.chdir(SPECFEM2D_WORKDIR)\n",
    "\n",
    "# Copy the binary files incase we update the source code. These can also be symlinked.\n",
    "shutil.copytree(SPECFEM2D_BIN_ORIGINAL, \"bin\")\n",
    "\n",
    "# Copy the DATA/ directory because we will be making edits here frequently and it's useful to\n",
    "# retain the original files for reference. We will be running one of the example problems: Tape2007\n",
    "shutil.copytree(os.path.join(TAPE_2007_EXAMPLE, \"DATA\"), \"DATA\")\n",
    "\n",
    "! pwd\n",
    "! ls"
   ]
  },
  {
   "cell_type": "code",
   "execution_count": 10,
   "metadata": {},
   "outputs": [
    {
     "name": "stdout",
     "output_type": "stream",
     "text": [
      " -------------------------------------------------------------------------------\r\n",
      " -------------------------------------------------------------------------------\r\n",
      " D a t e : 10 - 03 - 2022                                 T i m e  : 14:36:50\r\n",
      " -------------------------------------------------------------------------------\r\n",
      " -------------------------------------------------------------------------------\r\n",
      "\r\n",
      "see results in directory: OUTPUT_FILES/\r\n",
      "\r\n",
      "done\r\n",
      "Thu Mar 10 14:36:50 AKST 2022\r\n"
     ]
    }
   ],
   "source": [
    "# Run the Tape2007 example to make sure SPECFEM2D is working as expected\n",
    "os.chdir(TAPE_2007_EXAMPLE)\n",
    "! ./run_this_example.sh > output_log.txt\n",
    "\n",
    "assert(os.path.exists(\"OUTPUT_FILES/AA.S000000.BXY.semd\")), \\\n",
    "    \"Example did not run, the remainder the doc is likely not to work\"\n",
    "\n",
    "! tail output_log.txt"
   ]
  },
  {
   "cell_type": "markdown",
   "metadata": {},
   "source": [
    "------------------------------------\n",
    "Now we need to manually set up our SPECFEM2D working directory. As mentioned in the previous cell, the only required elements of this working directory are the following (these files will form the basis for how SeisFlows3 operates within the SPECFEM2D framework):\n",
    "\n",
    "1. __bin/__ directory containing SPECFEM2D binaries\n",
    "2. __DATA/__ directory containing SOURCE and STATION files, as well as a SPECFEM2D Par_file\n",
    "3. __OUTPUT_FILES/proc??????_*.bin__ files which define the starting (and target) models\n",
    " \n",
    "\n",
    ">__NOTE:__ This file structure is the same for all versions of SPECFEM (2D/3D/3D_GLOBE)"
   ]
  },
  {
   "cell_type": "code",
   "execution_count": 31,
   "metadata": {},
   "outputs": [
    {
     "name": "stdout",
     "output_type": "stream",
     "text": [
      "interfaces_Tape2007.dat\t\t     SOURCE_003  SOURCE_012  SOURCE_021\r\n",
      "model_velocity.dat_checker\t     SOURCE_004  SOURCE_013  SOURCE_022\r\n",
      "Par_file\t\t\t     SOURCE_005  SOURCE_014  SOURCE_023\r\n",
      "Par_file_Tape2007_132rec_checker     SOURCE_006  SOURCE_015  SOURCE_024\r\n",
      "Par_file_Tape2007_onerec\t     SOURCE_007  SOURCE_016  SOURCE_025\r\n",
      "proc000000_model_velocity.dat_input  SOURCE_008  SOURCE_017  STATIONS\r\n",
      "SOURCE\t\t\t\t     SOURCE_009  SOURCE_018  STATIONS_checker\r\n",
      "SOURCE_001\t\t\t     SOURCE_010  SOURCE_019\r\n",
      "SOURCE_002\t\t\t     SOURCE_011  SOURCE_020\r\n"
     ]
    }
   ],
   "source": [
    "# First we will set the correct SOURCE and STATION files.\n",
    "# This is the same task as shown in ./run_this_example.sh\n",
    "os.chdir(SPECFEM2D_DATA)\n",
    "\n",
    "# Symlink source 001 as our main source\n",
    "if os.path.exists(\"SOURCE\"):\n",
    "    os.remove(\"SOURCE\")\n",
    "os.symlink(\"SOURCE_001\", \"SOURCE\")\n",
    "\n",
    "# Copy the correct Par_file so that edits do not affect the original file\n",
    "if os.path.exists(\"Par_file\"):\n",
    "    os.remove(\"Par_file\")\n",
    "shutil.copy(\"Par_file_Tape2007_onerec\", \"Par_file\")\n",
    "\n",
    "! ls"
   ]
  },
  {
   "cell_type": "markdown",
   "metadata": {},
   "source": [
    "### 1c. Generate initial and target models\n",
    "\n",
    "Since we're doing a synthetic-synthetic inversion, we need to manually set up the velocity models with which we generate our synthetic waveforms. The naming conventions for these models are:\n",
    "\n",
    "1. __MODEL_INIT:__ The initial or starting model. Used to generate the actual synthetic seismograms. This is considered M00.\n",
    "2. __MODEL_TRUE:__ The target or true model. Used to generate 'data' (also synthetic). This is the reference model that our inversion is trying to resolve.\n",
    "\n",
    "The starting model is defined as a homogeneous halfspace uin the Tape2007 example problem. We will need to run both `xmeshfem2D` and `xspecfem2D` to generate the required velocity model database files. We will generate our target model by slightly perturbing the parameters of the initial model.\n",
    "\n",
    ">__NOTE:__ We can use the SeisFlows3 command line option `seisflows sempar` to directly edit the SPECFEM2D Par_file in the command line. This will work for the SPECFEM3D Par_file as well."
   ]
  },
  {
   "cell_type": "code",
   "execution_count": 32,
   "metadata": {},
   "outputs": [
    {
     "name": "stdout",
     "output_type": "stream",
     "text": [
      "\n",
      "\tsetup_with_binary_database = 0 -> 1\n",
      "\n",
      "\n",
      "\tSAVE_MODEL = default -> binary\n",
      "\n",
      "\n",
      "\tsave_ASCII_kernels = .true. -> .false.\n",
      "\n"
     ]
    }
   ],
   "source": [
    "os.chdir(SPECFEM2D_DATA)\n",
    "\n",
    "# Ensure that SPECFEM2D outputs the velocity model in the expected binary format\n",
    "! seisflows sempar setup_with_binary_database 1  # allow creation of .bin files\n",
    "! seisflows sempar save_model binary  # output model in .bin database format\n",
    "! seisflows sempar save_ascii_kernels .false.  # output kernels in .bin format, not ASCII"
   ]
  },
  {
   "cell_type": "code",
   "execution_count": 33,
   "metadata": {},
   "outputs": [
    {
     "name": "stdout",
     "output_type": "stream",
     "text": [
      "bin  DATA  OUTPUT_FILES\r\n"
     ]
    }
   ],
   "source": [
    "# SPECFEM requires that we create the OUTPUT_FILES directory before running\n",
    "os.chdir(SPECFEM2D_WORKDIR)\n",
    "\n",
    "if os.path.exists(SPECFEM2D_OUTPUT):\n",
    "    shutil.rmtree(SPECFEM2D_OUTPUT)\n",
    "    \n",
    "os.mkdir(SPECFEM2D_OUTPUT)\n",
    "\n",
    "! ls"
   ]
  },
  {
   "cell_type": "code",
   "execution_count": 34,
   "metadata": {},
   "outputs": [
    {
     "name": "stdout",
     "output_type": "stream",
     "text": [
      "\n",
      " **********************************************\n",
      " **** Specfem 2-D Solver - serial version  ****\n",
      " **********************************************\n",
      "\n",
      " Running Git version of the code corresponding to commit cf89366717d9435985ba852ef1d41a10cee97884\n",
      " dating From Date:   Mon Nov 29 23:20:51 2021 -0800\n",
      "\n",
      "\n",
      " NDIM =            2\n",
      " -------------------------------------------------------------------------------\n",
      " Program SPECFEM2D: \n",
      " -------------------------------------------------------------------------------\n",
      " -------------------------------------------------------------------------------\n",
      " Tape-Liu-Tromp (GJI 2007)\n",
      " -------------------------------------------------------------------------------\n",
      " -------------------------------------------------------------------------------\n",
      " D a t e : 10 - 03 - 2022                                 T i m e  : 14:45:55\n",
      " -------------------------------------------------------------------------------\n",
      " -------------------------------------------------------------------------------\n"
     ]
    }
   ],
   "source": [
    "# GENERATE MODEL_INIT\n",
    "os.chdir(SPECFEM2D_WORKDIR)\n",
    "\n",
    "# Run the mesher and solver to generate our initial model\n",
    "! ./bin/xmeshfem2D > OUTPUT_FILES/mesher_log.txt\n",
    "! ./bin/xspecfem2D > OUTPUT_FILES/solver_log.txt\n",
    "\n",
    "# Move the model files (*.bin) into the OUTPUT_FILES directory, where SeisFlows3 expects them\n",
    "! mv DATA/*bin OUTPUT_FILES\n",
    "\n",
    "# Make sure we don't overwrite this initial model when creating our target model in the next step\n",
    "! mv OUTPUT_FILES OUTPUT_FILES_INIT\n",
    "\n",
    "! head OUTPUT_FILES_INIT/solver_log.txt\n",
    "! tail OUTPUT_FILES_INIT/solver_log.txt"
   ]
  },
  {
   "cell_type": "markdown",
   "metadata": {},
   "source": [
    "-----------------------------\n",
    "\n",
    "Now we want to perturb the initial model to create our target model (__MODEL_TRUE__). The seisflows command line subargument `seisflows sempar velocity_model` will let us view and edit the velocity model. You can also do this manually by editing the Par_file directly. "
   ]
  },
  {
   "cell_type": "code",
   "execution_count": 35,
   "metadata": {},
   "outputs": [
    {
     "name": "stdout",
     "output_type": "stream",
     "text": [
      "\r\n",
      "1 1 2600.d0 5800.d0 3500.0d0 0 0 10.d0 10.d0 0 0 0 0 0 0\r\n",
      "\r\n",
      "->\r\n",
      "\r\n",
      "1 1 2600.d0 5900.d0 3550.0d0 0 0 10.d0 10.d0 0 0 0 0 0 0\r\n"
     ]
    }
   ],
   "source": [
    "# GENERATE MODEL_TRUE\n",
    "os.chdir(SPECFEM2D_DATA)\n",
    "\n",
    "# Edit the Par_file by increasing velocities by ~10% \n",
    "! seisflows sempar velocity_model '1 1 2600.d0 5900.d0 3550.0d0 0 0 10.d0 10.d0 0 0 0 0 0 0'"
   ]
  },
  {
   "cell_type": "code",
   "execution_count": 36,
   "metadata": {},
   "outputs": [
    {
     "name": "stdout",
     "output_type": "stream",
     "text": [
      "\n",
      " **********************************************\n",
      " **** Specfem 2-D Solver - serial version  ****\n",
      " **********************************************\n",
      "\n",
      " Running Git version of the code corresponding to commit cf89366717d9435985ba852ef1d41a10cee97884\n",
      " dating From Date:   Mon Nov 29 23:20:51 2021 -0800\n",
      "\n",
      "\n",
      " NDIM =            2\n",
      " -------------------------------------------------------------------------------\n",
      " Program SPECFEM2D: \n",
      " -------------------------------------------------------------------------------\n",
      " -------------------------------------------------------------------------------\n",
      " Tape-Liu-Tromp (GJI 2007)\n",
      " -------------------------------------------------------------------------------\n",
      " -------------------------------------------------------------------------------\n",
      " D a t e : 10 - 03 - 2022                                 T i m e  : 14:45:55\n",
      " -------------------------------------------------------------------------------\n",
      " -------------------------------------------------------------------------------\n"
     ]
    }
   ],
   "source": [
    "# Re-run the mesher and solver to generate our target velocity model\n",
    "os.chdir(SPECFEM2D_WORKDIR)\n",
    "\n",
    "# Make sure the ./OUTPUT_FILES directory exists since we moved the old one\n",
    "if os.path.exists(SPECFEM2D_OUTPUT):\n",
    "    shutil.rmtree(SPECFEM2D_OUTPUT)\n",
    "os.mkdir(SPECFEM2D_OUTPUT)\n",
    "\n",
    "# Run the binaries to generate MODEL_TRUE\n",
    "! ./bin/xmeshfem2D > OUTPUT_FILES/mesher_log.txt\n",
    "! ./bin/xspecfem2D > OUTPUT_FILES/solver_log.txt\n",
    "\n",
    "# Move all the relevant files into OUTPUT_FILES \n",
    "! mv ./DATA/*bin OUTPUT_FILES\n",
    "! mv OUTPUT_FILES OUTPUT_FILES_TRUE\n",
    "\n",
    "! head OUTPUT_FILES_INIT/solver_log.txt\n",
    "! tail OUTPUT_FILES_INIT/solver_log.txt"
   ]
  },
  {
   "cell_type": "code",
   "execution_count": 37,
   "metadata": {},
   "outputs": [
    {
     "name": "stdout",
     "output_type": "stream",
     "text": [
      "bin  DATA  OUTPUT_FILES_INIT  OUTPUT_FILES_TRUE\r\n"
     ]
    }
   ],
   "source": [
    "# Great, we have all the necessary SPECFEM files to run our SeisFlows3 inversion!\n",
    "! ls"
   ]
  },
  {
   "cell_type": "markdown",
   "metadata": {},
   "source": [
    "## 2. Initialize SeisFlows3 (SF3)\n",
    "In this Section we will look at a SeisFlows3 working directory, parameter file, and working state.\n",
    "\n",
    "### 2a. SF3 working directory and parameter file\n",
    "\n",
    "As with SPECFEM, SeisFlows3 requires a parameter file (__parameters.yaml__) that controls how an automated workflow will proceed. Because SeisFlows3 is modular, there are a large number of potential parameters which may be present in SF3 parameter file, as each sub-module may have its own set of unique parameters.\n",
    "\n",
    "Different to SPECFEM's method of listing all available parameters and leaving it up the User to determine which ones are relevant to them, SeisFlows3 dynamically builds its parameter file based on User inputs. In this subsection we will use the built-in SeisFlows3 command line tools to generate and populate the parameter file. \n",
    "\n",
    "In the previous section we saw the `sempar` command in action. We can use the `-h` or help flag to list all available SiesFlows3 command line commands."
   ]
  },
  {
   "cell_type": "code",
   "execution_count": 38,
   "metadata": {},
   "outputs": [
    {
     "name": "stdout",
     "output_type": "stream",
     "text": [
      "usage: seisflows [-h] [-w [WORKDIR]] [-p [PARAMETER_FILE]]\r\n",
      "                 [--path_file [PATH_FILE]]\r\n",
      "                 {setup,configure,init,submit,resume,restart,clean,par,sempar,check,print,convert,reset,inspect,debug,edit}\r\n",
      "                 ...\r\n",
      "\r\n",
      "================================================================================\r\n",
      "\r\n",
      "                     SeisFlows3: Waveform Inversion Package                     \r\n",
      "\r\n",
      "================================================================================\r\n",
      "\r\n",
      "optional arguments:\r\n",
      "  -h, --help            show this help message and exit\r\n",
      "  -w [WORKDIR], --workdir [WORKDIR]\r\n",
      "                        The SeisFlows working directory, default: cwd\r\n",
      "  -p [PARAMETER_FILE], --parameter_file [PARAMETER_FILE]\r\n",
      "                        Parameters file, default: 'parameters.yaml'\r\n",
      "  --path_file [PATH_FILE]\r\n",
      "                        Legacy path file, default: 'paths.py'\r\n",
      "\r\n",
      "command:\r\n",
      "  Available SeisFlows arguments and their intended usages\r\n",
      "\r\n",
      "    setup               Setup working directory from scratch\r\n",
      "    configure           Fill parameter file with defaults\r\n",
      "    init                Initiate working environment\r\n",
      "    submit              Submit initial workflow to system\r\n",
      "    resume              Re-submit previous workflow to system\r\n",
      "    restart             Remove current environment and submit new workflow\r\n",
      "    clean               Remove active working environment\r\n",
      "    par                 View and edit parameter file\r\n",
      "    sempar              View and edit SPECFEM parameter file\r\n",
      "    check               Check state of an active environment\r\n",
      "    print               Print information related to an active environment\r\n",
      "    convert             Convert model file format\r\n",
      "    reset               Clean current and submit new workflow\r\n",
      "    inspect             View inheritenace and ownership\r\n",
      "    debug               Start interactive debug environment\r\n",
      "    edit                Open source code file in text editor\r\n",
      "\r\n",
      "'seisflows [command] -h' for more detailed descriptions of each command.\r\n"
     ]
    }
   ],
   "source": [
    "! seisflows -h"
   ]
  },
  {
   "cell_type": "code",
   "execution_count": 41,
   "metadata": {},
   "outputs": [
    {
     "name": "stdout",
     "output_type": "stream",
     "text": [
      "parameters.yaml  specfem2d  specfem2d_workdir\r\n"
     ]
    }
   ],
   "source": [
    "# The command 'setup' creates the 'parameters.yaml' file that controls all of SeisFlows3\n",
    "os.chdir(WORKDIR)\n",
    "! seisflows setup\n",
    "! ls"
   ]
  },
  {
   "cell_type": "code",
   "execution_count": 25,
   "metadata": {},
   "outputs": [
    {
     "name": "stdout",
     "output_type": "stream",
     "text": [
      "# !!!!!!!!!!!!!!!!!!!!!!!!!!!!!!!!!!!!!!!!!!!!!!!!!!!!!!!!!!!!!!!!!!!!!!!!!!!!!!\r\n",
      "#\r\n",
      "#                 Seisflows YAML Parameter File and Path Input\r\n",
      "#\r\n",
      "#  For NoneType, set variables to `None` or `null`. For infinity, set to `inf`\r\n",
      "#\r\n",
      "# !!!!!!!!!!!!!!!!!!!!!!!!!!!!!!!!!!!!!!!!!!!!!!!!!!!!!!!!!!!!!!!!!!!!!!!!!!!!!!\r\n",
      "#\r\n",
      "# These modules correspond to the structure of the source code, and determine\r\n",
      "# SeisFlows' behavior at runtime. Check the source code directory for available \r\n",
      "# module names. Each module will require its own set of sub parameters. \r\n",
      "#\r\n",
      "# To fill this parameter file with docstrings and default values, run:\r\n",
      "#\r\n",
      "# > seisflows configure\r\n",
      "#\r\n",
      "#                                    MODULES\r\n",
      "#                                    -------\r\n",
      "#\r\n",
      "# WORKFLOW:    The method for running SeisFlows. Equivalent to main()\r\n",
      "# SOLVER:      External numerical solver to use for waveform simulations.\r\n",
      "# SYSTEM:      Computer architecture of the system being used to run SeisFlows\r\n",
      "# OPTIMIZE:    Optimization algorithm for the inverse problem\r\n",
      "# PREPROCESS:  Preprocessing schema for waveform data\r\n",
      "# POSTPROCESS: Postprocessing schema for kernels and gradients\r\n",
      "#\r\n",
      "# ==============================================================================\r\n",
      "WORKFLOW: inversion\r\n",
      "SOLVER: specfem3d\r\n",
      "SYSTEM: serial\r\n",
      "OPTIMIZE: LBFGS \r\n",
      "PREPROCESS: default\r\n",
      "POSTPROCESS: base\r\n"
     ]
    }
   ],
   "source": [
    "# Let's have a look at this file, which has not yet been populated\n",
    "! cat parameters.yaml"
   ]
  },
  {
   "cell_type": "code",
   "execution_count": 26,
   "metadata": {},
   "outputs": [
    {
     "name": "stdout",
     "output_type": "stream",
     "text": [
      "\r\n",
      "SYSTEM\r\n",
      " * seisflows3\r\n",
      "\tbase\r\n",
      "\tlsf_lg\r\n",
      "\tserial\r\n",
      "\tslurm_lg\r\n",
      " * seisflows3-super\r\n",
      "\tchinook_lg\r\n",
      "\tmaui\r\n",
      "\r\n",
      "PREPROCESS\r\n",
      " * seisflows3\r\n",
      "\tbase\r\n",
      "\tdefault\r\n",
      "\tpyatoa\r\n",
      " * seisflows3-super\r\n",
      "\tpyatoa_nz\r\n",
      "\r\n",
      "SOLVER\r\n",
      " * seisflows3\r\n",
      "\tbase\r\n",
      "\tspecfem2d\r\n",
      "\tspecfem3d\r\n",
      "\tspecfem3d_globe\r\n",
      " * seisflows3-super\r\n",
      "\tspecfem3d_maui\r\n",
      "\r\n",
      "POSTPROCESS\r\n",
      " * seisflows3\r\n",
      "\tbase\r\n",
      " * seisflows3-super\r\n",
      "\r\n",
      "OPTIMIZE\r\n",
      " * seisflows3\r\n",
      "\tLBFGS\r\n",
      "\tNLCG\r\n",
      "\tbase\r\n",
      "\tsteepest_descent\r\n",
      " * seisflows3-super\r\n",
      "\r\n",
      "WORKFLOW\r\n",
      " * seisflows3\r\n",
      "\tbase\r\n",
      "\tinversion\r\n",
      "\tmigration\r\n",
      " * seisflows3-super\r\n",
      "\tthrifty_inversion\r\n",
      "\tthrifty_maui\r\n",
      "\r\n",
      "\r\n"
     ]
    }
   ],
   "source": [
    "# We can use the `seisflows print modules` command to list out the available options \n",
    "! seisflows print modules"
   ]
  },
  {
   "cell_type": "code",
   "execution_count": 42,
   "metadata": {},
   "outputs": [
    {
     "name": "stdout",
     "output_type": "stream",
     "text": [
      "\n",
      "\tSOLVER: specfem3d -> specfem2d\n",
      "\n",
      "# !!!!!!!!!!!!!!!!!!!!!!!!!!!!!!!!!!!!!!!!!!!!!!!!!!!!!!!!!!!!!!!!!!!!!!!!!!!!!!\n",
      "#\n",
      "#                 Seisflows YAML Parameter File and Path Input\n",
      "#\n",
      "#  For NoneType, set variables to `None` or `null`. For infinity, set to `inf`\n",
      "#\n",
      "# !!!!!!!!!!!!!!!!!!!!!!!!!!!!!!!!!!!!!!!!!!!!!!!!!!!!!!!!!!!!!!!!!!!!!!!!!!!!!!\n",
      "#\n",
      "# These modules correspond to the structure of the source code, and determine\n",
      "# SeisFlows' behavior at runtime. Check the source code directory for available \n",
      "# module names. Each module will require its own set of sub parameters. \n",
      "#\n",
      "# To fill this parameter file with docstrings and default values, run:\n",
      "#\n",
      "# > seisflows configure\n",
      "#\n",
      "#                                    MODULES\n",
      "#                                    -------\n",
      "#\n",
      "# WORKFLOW:    The method for running SeisFlows. Equivalent to main()\n",
      "# SOLVER:      External numerical solver to use for waveform simulations.\n",
      "# SYSTEM:      Computer architecture of the system being used to run SeisFlows\n",
      "# OPTIMIZE:    Optimization algorithm for the inverse problem\n",
      "# PREPROCESS:  Preprocessing schema for waveform data\n",
      "# POSTPROCESS: Postprocessing schema for kernels and gradients\n",
      "#\n",
      "# ==============================================================================\n",
      "WORKFLOW: inversion\n",
      "SOLVER: specfem2d\n",
      "SYSTEM: serial\n",
      "OPTIMIZE: LBFGS \n",
      "PREPROCESS: default\n",
      "POSTPROCESS: base\n"
     ]
    }
   ],
   "source": [
    "# For this example, we can use most of the default modules, however we need to \n",
    "# change the SOLVER module to let SeisFlows3 know we're using SPECFEM2D (as opposed to 3D)\n",
    "! seisflows par solver specfem2d\n",
    "! cat parameters.yaml"
   ]
  },
  {
   "cell_type": "markdown",
   "metadata": {},
   "source": [
    "-------------------------\n",
    "The `seisflows configure` command populates the parameter file based on the chosen modules. SeisFlows3 will attempt to fill in all parameters with default values when possible, but values that the User __MUST__ set will be denoted by the value:\n",
    "\n",
    ">__!!! REQUIRED PARAMETER !!!__\n",
    "\n",
    "SeisFlows3 will not work until all of these required parameters are set by the User. Docstrings above each module show descriptions and available options for each of these parameters. In the follownig cell we will use the `seisflows par` command to edit the parameters.yaml file directly, replacing each of the required parameters with a chosen value. Comments next to each evaluation describe the choice for each."
   ]
  },
  {
   "cell_type": "code",
   "execution_count": 43,
   "metadata": {},
   "outputs": [
    {
     "name": "stdout",
     "output_type": "stream",
     "text": [
      "# !!!!!!!!!!!!!!!!!!!!!!!!!!!!!!!!!!!!!!!!!!!!!!!!!!!!!!!!!!!!!!!!!!!!!!!!!!!!!!\r\n",
      "#\r\n",
      "#                 Seisflows YAML Parameter File and Path Input\r\n",
      "#\r\n",
      "#  For NoneType, set variables to `None` or `null`. For infinity, set to `inf`\r\n",
      "#\r\n",
      "# !!!!!!!!!!!!!!!!!!!!!!!!!!!!!!!!!!!!!!!!!!!!!!!!!!!!!!!!!!!!!!!!!!!!!!!!!!!!!!\r\n",
      "#\r\n",
      "# These modules correspond to the structure of the source code, and determine\r\n",
      "# SeisFlows' behavior at runtime. Check the source code directory for available \r\n",
      "# module names. Each module will require its own set of sub parameters. \r\n",
      "#\r\n",
      "# To fill this parameter file with docstrings and default values, run:\r\n",
      "#\r\n",
      "# > seisflows configure\r\n",
      "#\r\n",
      "#                                    MODULES\r\n",
      "#                                    -------\r\n",
      "#\r\n",
      "# WORKFLOW:    The method for running SeisFlows. Equivalent to main()\r\n",
      "# SOLVER:      External numerical solver to use for waveform simulations.\r\n",
      "# SYSTEM:      Computer architecture of the system being used to run SeisFlows\r\n",
      "# OPTIMIZE:    Optimization algorithm for the inverse problem\r\n",
      "# PREPROCESS:  Preprocessing schema for waveform data\r\n",
      "# POSTPROCESS: Postprocessing schema for kernels and gradients\r\n",
      "#\r\n",
      "# ==============================================================================\r\n",
      "WORKFLOW: inversion\r\n",
      "SOLVER: specfem2d\r\n",
      "SYSTEM: serial\r\n",
      "OPTIMIZE: LBFGS \r\n",
      "PREPROCESS: default\r\n",
      "POSTPROCESS: base\r\n",
      "\r\n",
      "# ==============================================================================\r\n",
      "#\r\n",
      "#                                     SYSTEM                                    \r\n",
      "#                                     ------                                    \r\n",
      "#\r\n",
      "# TITLE (str):\r\n",
      "#    The name used to submit jobs to the system, defaults to the name of the\r\n",
      "#    working directory\r\n",
      "# WALLTIME (float):\r\n",
      "#    Maximum job time in minutes for main SeisFlows3 job\r\n",
      "# TASKTIME (float):\r\n",
      "#    Maximum job time in minutes for each SeisFlows3 task\r\n",
      "# NTASK (int):\r\n",
      "#    Number of separate, individual tasks. Also equal to the number of desired\r\n",
      "#    sources in workflow\r\n",
      "# NPROC (int):\r\n",
      "#    Number of processor to use for each simulation\r\n",
      "# PRECHECK (list):\r\n",
      "#    A list of parameters that will be displayed to stdout before 'submit' or\r\n",
      "#    'resume' is run. Useful for manually reviewing important parameters prior\r\n",
      "#    to system submission\r\n",
      "# LOG_LEVEL (str):\r\n",
      "#    Verbosity output of SF3 logger. Available from least to most verbosity:\r\n",
      "#    'CRITICAL', 'WARNING', 'INFO', 'DEBUG'; defaults to 'DEBUG'\r\n",
      "# VERBOSE (bool):\r\n",
      "#    Level of verbosity provided to the output log. If True, log statements\r\n",
      "#    will declare what module/class/function they are being called from.\r\n",
      "#    Useful for debugging but also very noisy.\r\n",
      "# MPIEXEC (str):\r\n",
      "#    Function used to invoke parallel executables\r\n",
      "\r\n",
      "# ==============================================================================\r\n",
      "TITLE: sf3_specfem2d_example\r\n",
      "WALLTIME: !!! REQUIRED PARAMETER !!!\r\n",
      "TASKTIME: !!! REQUIRED PARAMETER !!!\r\n",
      "NTASK: 1\r\n",
      "NPROC: 1\r\n",
      "PRECHECK:\r\n",
      "    - TITLE\r\n",
      "    - BEGIN\r\n",
      "    - END\r\n",
      "    - WALLTIME\r\n",
      "LOG_LEVEL: DEBUG\r\n",
      "VERBOSE: True\r\n",
      "MPIEXEC:\r\n",
      "\r\n",
      "# ==============================================================================\r\n",
      "#\r\n",
      "#                                   PREPROCESS                                  \r\n",
      "#                                   ----------                                  \r\n",
      "#\r\n",
      "# MISFIT (str):\r\n",
      "#    Misfit function for waveform comparisons, for available see\r\n",
      "#    seisflows.plugins.misfit\r\n",
      "# BACKPROJECT (str):\r\n",
      "#    Backprojection function for migration, for available see\r\n",
      "#    seisflows.plugins.adjoint\r\n",
      "# NORMALIZE (str):\r\n",
      "#    Data normalization option\r\n",
      "# MUTE (str):\r\n",
      "#    Data muting option\r\n",
      "# FILTER (str):\r\n",
      "#    Data filtering option\r\n",
      "\r\n",
      "# ==============================================================================\r\n",
      "MISFIT: waveform\r\n",
      "BACKPROJECT: null\r\n",
      "NORMALIZE: null\r\n",
      "MUTE: null\r\n",
      "FILTER: null\r\n",
      "\r\n",
      "# ==============================================================================\r\n",
      "#\r\n",
      "#                                     SOLVER                                    \r\n",
      "#                                     ------                                    \r\n",
      "#\r\n",
      "# MATERIALS (str):\r\n",
      "#    Material parameters used to define model. Available: ['ELASTIC': Vp, Vs,\r\n",
      "#    'ACOUSTIC': Vp, 'ISOTROPIC', 'ANISOTROPIC']\r\n",
      "# DENSITY (str):\r\n",
      "#    How to treat density during inversion. Available: ['CONSTANT': Do not\r\n",
      "#    update density, 'VARIABLE': Update density]\r\n",
      "# COMPONENTS (str):\r\n",
      "#    Components used to generate data, formatted as a single string, e.g. ZNE\r\n",
      "#    or NZ or E\r\n",
      "# SOLVERIO (int):\r\n",
      "#    The format external solver files. Available: ['fortran_binary', 'adios']\r\n",
      "# NT (float):\r\n",
      "#    Number of time steps set in the SPECFEM Par_file\r\n",
      "# DT (float):\r\n",
      "#    Time step or delta set in the SPECFEM Par_file\r\n",
      "# F0 (float):\r\n",
      "#    Dominant source frequency\r\n",
      "# FORMAT (float):\r\n",
      "#    Format of synthetic waveforms used during workflow, available options:\r\n",
      "#    ['ascii', 'su']\r\n",
      "# SOURCE_PREFIX (str):\r\n",
      "#    Prefix of SOURCE files in path SPECFEM_DATA. By default, 'SOURCE' for\r\n",
      "#    SPECFEM2D\r\n",
      "\r\n",
      "# ==============================================================================\r\n",
      "MATERIALS: !!! REQUIRED PARAMETER !!!\r\n",
      "DENSITY: !!! REQUIRED PARAMETER !!!\r\n",
      "COMPONENTS: ZNE\r\n",
      "SOLVERIO: fortran_binary\r\n",
      "NT: !!! REQUIRED PARAMETER !!!\r\n",
      "DT: !!! REQUIRED PARAMETER !!!\r\n",
      "F0: !!! REQUIRED PARAMETER !!!\r\n",
      "FORMAT: !!! REQUIRED PARAMETER !!!\r\n",
      "SOURCE_PREFIX: SOURCE\r\n",
      "\r\n",
      "# ==============================================================================\r\n",
      "#\r\n",
      "#                                  POSTPROCESS                                  \r\n",
      "#                                  -----------                                  \r\n",
      "#\r\n",
      "# SMOOTH_H (float):\r\n",
      "#    Gaussian half-width for horizontal smoothing in units of meters. If 0.,\r\n",
      "#    no smoothing applied\r\n",
      "# SMOOTH_V (float):\r\n",
      "#    Gaussian half-width for vertical smoothing in units of meters\r\n",
      "# TASKTIME_SMOOTH (int):\r\n",
      "#    Large radii smoothing may take longer than normal tasks. Allocate\r\n",
      "#    additional smoothing task time as a multiple of TASKTIME\r\n",
      "\r\n",
      "# ==============================================================================\r\n",
      "SMOOTH_H: 0.0\r\n",
      "SMOOTH_V: 0.0\r\n",
      "TASKTIME_SMOOTH: 1\r\n",
      "\r\n",
      "# ==============================================================================\r\n",
      "#\r\n",
      "#                                    OPTIMIZE                                   \r\n",
      "#                                    --------                                   \r\n",
      "#\r\n",
      "# LINESEARCH (str):\r\n",
      "#    Algorithm to use for line search, see seisflows.plugins.line_search for\r\n",
      "#    available choices\r\n",
      "# PRECOND (str):\r\n",
      "#    Algorithm to use for preconditioning gradients, see\r\n",
      "#    seisflows.plugins.preconds for available choices\r\n",
      "# STEPCOUNTMAX (int):\r\n",
      "#    Max number of trial steps in line search before a change in line serach\r\n",
      "#    behavior\r\n",
      "# STEPLENINIT (float):\r\n",
      "#    Initial line serach step length, as a fraction of current model\r\n",
      "#    parameters\r\n",
      "# STEPLENMAX (float):\r\n",
      "#    Max allowable step length, as a fraction of current model parameters\r\n",
      "# LBFGSMEM (int):\r\n",
      "#    Max number of previous gradients to retain in local memory\r\n",
      "# LBFGSMAX (int):\r\n",
      "#    LBFGS periodic restart interval, between 1 and 'inf'\r\n",
      "# LBFGSTHRESH (float):\r\n",
      "#    LBFGS angle restart threshold\r\n",
      "\r\n",
      "# ==============================================================================\r\n",
      "LINESEARCH: Backtrack\r\n",
      "PRECOND:\r\n",
      "STEPCOUNTMAX: 10\r\n",
      "STEPLENINIT: 0.05\r\n",
      "STEPLENMAX: 0.5\r\n",
      "LBFGSMEM: 3\r\n",
      "LBFGSMAX: inf\r\n",
      "LBFGSTHRESH: 0.0\r\n",
      "\r\n",
      "# ==============================================================================\r\n",
      "#\r\n",
      "#                                    WORKFLOW                                   \r\n",
      "#                                    --------                                   \r\n",
      "#\r\n",
      "# BEGIN (int):\r\n",
      "#    First iteration of workflow, 1 <= BEGIN <= inf\r\n",
      "# END (int):\r\n",
      "#    Last iteration of workflow, BEGIN <= END <= inf\r\n",
      "# RESUME_FROM (str):\r\n",
      "#    Name of task to resume inversion from\r\n",
      "# STOP_AFTER (str):\r\n",
      "#    Name of task to stop inversion after finishing\r\n",
      "# CASE (str):\r\n",
      "#    Type of inversion, available: ['data': real data inversion, 'synthetic':\r\n",
      "#    synthetic-synthetic inversion]\r\n",
      "# SAVEMODEL (bool):\r\n",
      "#    Save final model files after each iteration\r\n",
      "# SAVEGRADIENT (bool):\r\n",
      "#    Save gradient files after each iteration\r\n",
      "# SAVEKERNELS (bool):\r\n",
      "#    Save event kernel files after each iteration\r\n",
      "# SAVETRACES (bool):\r\n",
      "#    Save waveform traces after each iteration\r\n",
      "# SAVERESIDUALS (bool):\r\n",
      "#    Save waveform residuals after each iteration\r\n",
      "# SAVEAS (str):\r\n",
      "#    Format to save models, gradients, kernels. Available: ['binary': save\r\n",
      "#    files in native SPECFEM .bin format, 'vector': save files as NumPy .npy\r\n",
      "#    files, 'both': save as both binary and vectors]\r\n",
      "\r\n",
      "# ==============================================================================\r\n",
      "BEGIN: !!! REQUIRED PARAMETER !!!\r\n",
      "END: !!! REQUIRED PARAMETER !!!\r\n",
      "RESUME_FROM:\r\n",
      "STOP_AFTER:\r\n",
      "CASE: !!! REQUIRED PARAMETER !!!\r\n",
      "SAVEMODEL: True\r\n",
      "SAVEGRADIENT: True\r\n",
      "SAVEKERNELS: False\r\n",
      "SAVETRACES: False\r\n",
      "SAVERESIDUALS: False\r\n",
      "SAVEAS: binary\r\n",
      "\r\n",
      "# ==============================================================================\r\n",
      "#\r\n",
      "#                                     PATHS                                     \r\n",
      "#                                     -----                                     \r\n",
      "#\r\n",
      "# SCRATCH:\r\n",
      "#    scratch path to hold temporary data during workflow\r\n",
      "# OUTPUT:\r\n",
      "#    directory to save workflow outputs to disk\r\n",
      "# SYSTEM:\r\n",
      "#    scratch path to hold any system related data\r\n",
      "# LOCAL:\r\n",
      "#    path to local data to be used during workflow\r\n",
      "# LOG:\r\n",
      "#    path to write log statements to. defaults to 'output_seisflows3.txt'\r\n",
      "# SOLVER:\r\n",
      "#    scratch path to hold solver working directories\r\n",
      "# SPECFEM_BIN:\r\n",
      "#    path to the SPECFEM binary executables\r\n",
      "# SPECFEM_DATA:\r\n",
      "#    path to the SPECFEM DATA/ directory containing the 'Par_file', 'STATIONS'\r\n",
      "#    file and 'CMTSOLUTION' files\r\n",
      "# DATA:\r\n",
      "#    path to data available to workflow\r\n",
      "# MASK:\r\n",
      "#    Directory to mask files for gradient masking\r\n",
      "# OPTIMIZE:\r\n",
      "#    scratch path to store data related to nonlinear optimization\r\n",
      "# MODEL_INIT:\r\n",
      "#    Initial model to be used for workflow\r\n",
      "# MODEL_TRUE:\r\n",
      "#    Target model to be used for PAR.CASE == 'synthetic'\r\n",
      "# FUNC:\r\n",
      "#    scratch path to store data related to function evaluations\r\n",
      "# GRAD:\r\n",
      "#    scratch path to store data related to gradient evaluations\r\n",
      "# HESS:\r\n",
      "#    scratch path to store data related to Hessian evaluations\r\n",
      "\r\n",
      "# ==============================================================================\r\n",
      "PATHS:\r\n",
      "    SCRATCH: /home/bchow/Work/work/sf3_specfem2d_example/scratch\r\n",
      "    OUTPUT: /home/bchow/Work/work/sf3_specfem2d_example/output\r\n",
      "    SYSTEM: /home/bchow/Work/work/sf3_specfem2d_example/scratch/system\r\n",
      "    LOCAL:\r\n",
      "    LOG: /home/bchow/Work/work/sf3_specfem2d_example/output_seisflows3.txt\r\n",
      "    SOLVER: /home/bchow/Work/work/sf3_specfem2d_example/scratch/solver\r\n",
      "    SPECFEM_BIN: !!! REQUIRED PATH !!!\r\n",
      "    SPECFEM_DATA: !!! REQUIRED PATH !!!\r\n",
      "    DATA:\r\n",
      "    MASK:\r\n",
      "    OPTIMIZE: /home/bchow/Work/work/sf3_specfem2d_example/scratch/optimize\r\n",
      "    MODEL_INIT: !!! REQUIRED PATH !!!\r\n",
      "    MODEL_TRUE:\r\n",
      "    FUNC: /home/bchow/Work/work/sf3_specfem2d_example/scratch/evalfunc\r\n",
      "    GRAD: /home/bchow/Work/work/sf3_specfem2d_example/scratch/evalgrad\r\n",
      "    HESS: /home/bchow/Work/work/sf3_specfem2d_example/scratch/evalhess\r\n"
     ]
    }
   ],
   "source": [
    "! seisflows configure\n",
    "! cat parameters.yaml"
   ]
  },
  {
   "cell_type": "code",
   "execution_count": 44,
   "metadata": {},
   "outputs": [
    {
     "name": "stdout",
     "output_type": "stream",
     "text": [
      "\n",
      "\tWALLTIME: !!! REQUIRED PARAMETER !!! -> 10\n",
      "\n",
      "\n",
      "\tTASKTIME: !!! REQUIRED PARAMETER !!! -> 1\n",
      "\n",
      "\n",
      "\tMATERIALS: !!! REQUIRED PARAMETER !!! -> elastic\n",
      "\n",
      "\n",
      "\tDENSITY: !!! REQUIRED PARAMETER !!! -> constant\n",
      "\n",
      "\n",
      "\tNT: !!! REQUIRED PARAMETER !!! -> 5000\n",
      "\n",
      "\n",
      "\tDT: !!! REQUIRED PARAMETER !!! -> .06\n",
      "\n",
      "\n",
      "\tF0: !!! REQUIRED PARAMETER !!! -> 0.084\n",
      "\n",
      "\n",
      "\tFORMAT: !!! REQUIRED PARAMETER !!! -> ascii\n",
      "\n",
      "\n",
      "\tBEGIN: !!! REQUIRED PARAMETER !!! -> 1\n",
      "\n",
      "\n",
      "\tEND: !!! REQUIRED PARAMETER !!! -> 1\n",
      "\n",
      "\n",
      "\tCASE: !!! REQUIRED PARAMETER !!! -> synthetic\n",
      "\n"
     ]
    },
    {
     "data": {
      "text/plain": [
       "0"
      ]
     },
     "execution_count": 44,
     "metadata": {},
     "output_type": "execute_result"
    }
   ],
   "source": [
    "# EDIT THE SEISFLOWS3 PARAMETER FILE\n",
    "! seisflows par walltime 10  # master job run time in minutes\n",
    "! seisflows par tasktime 1  # individual job run time in minutes\n",
    "! seisflows par materials elastic  # how the velocity model is parameterized\n",
    "! seisflows par density constant  # update density or keep constant\n",
    "! seisflows par nt 5000  # set by SPECFEM2D Par_file\n",
    "! seisflows par dt .06  # set by SPECFEM2D Par_file\n",
    "! seisflows par f0 0.084  # set by SOURCE file\n",
    "! seisflows par format ascii  # how to output synthetic seismograms\n",
    "! seisflows par begin 1  # first iteration\n",
    "! seisflows par end 1  # final iteration -- we will only run 1\n",
    "! seisflows par case synthetic  # synthetic-synthetic means we need both INIT and TRUE models\n",
    "\n",
    "# Use Python syntax here to access path constants\n",
    "os.system(f\"seisflows par specfem_bin {SPECFEM2D_BIN}\")  # set path to SPECFEM2D binaries\n",
    "os.system(f\"seisflows par specfem_data {SPECFEM2D_DATA}\")  # set path to SEPCFEM2D DATA/\n",
    "os.system(f\"seisflows par model_init {SPECFEM2D_MODEL_INIT}\")  # set path to INIT model\n",
    "os.system(f\"seisflows par model_true {SPECFEM2D_MODEL_TRUE}\")  # set path to TRUE model"
   ]
  },
  {
   "cell_type": "markdown",
   "metadata": {},
   "source": [
    "------------------------------\n",
    "One last thing, we will need to edit the SPECFEM2D Par_file parameter `MODEL` such that `xmeshfem2d` reads our pre-built velocity models (\\*.bin files) rather than the meshing parameters defined in the Par_file."
   ]
  },
  {
   "cell_type": "code",
   "execution_count": 45,
   "metadata": {},
   "outputs": [
    {
     "name": "stdout",
     "output_type": "stream",
     "text": [
      "\r\n",
      "\tMODEL = default -> gll\r\n",
      "\r\n"
     ]
    }
   ],
   "source": [
    "os.chdir(SPECFEM2D_DATA)\n",
    "! seisflows sempar model gll"
   ]
  },
  {
   "cell_type": "markdown",
   "metadata": {},
   "source": [
    "### 2b. Initialize SF3 working state\n",
    "\n",
    "The SeisFlows3 command `seisflows init` will generate the a SeisFlows3 working state without submitting any jobs to the system. This is useful for testing to see if the user has set an acceptable parameter file, and if SeisFlows3 is working as expected. \n",
    "\n",
    "The result of running `seisflows init` is a collection of pickle (\\*.p) and JSON files which define the active Python environment. SeisFlows3 relies directly on these files to determine where it is in a workflow. Throughout an active workflow, SeisFlows3 will checkpoint itself to these pickle and JSON files such that if a workflow finishes or crashes, the User can resume a workflow from the last checkpointed state rather than needing to restart the workflow.\n",
    "\n",
    ">__DEBUG MODE:__ After running `seisflows init` you can explore the SeisFlows3 working state in an interactive iPython environment by running `seisflows debug`. This will open up an iPython environment in which the active working state is loaded and accessible The debug mode is invaluable for exploring the SeisFlows3 working state, debugging errors, and performing manual manipulations to an otherwise automated tool. You can try for yourself by running debug mode and typing 'preprocess' to access the active preprocess module."
   ]
  },
  {
   "cell_type": "code",
   "execution_count": 47,
   "metadata": {},
   "outputs": [
    {
     "name": "stdout",
     "output_type": "stream",
     "text": [
      "seisflows_optimize.p\t   seisflows_postprocess.p  seisflows_system.p\r\n",
      "seisflows_parameters.json  seisflows_preprocess.p   seisflows_workflow.p\r\n",
      "seisflows_paths.json\t   seisflows_solver.p\r\n"
     ]
    }
   ],
   "source": [
    "os.chdir(WORKDIR)\n",
    "! seisflows init\n",
    "! ls output"
   ]
  },
  {
   "cell_type": "code",
   "execution_count": 7,
   "metadata": {},
   "outputs": [
    {
     "name": "stdout",
     "output_type": "stream",
     "text": [
      "{\r\n",
      "    \"BACKPROJECT\": null,\r\n",
      "    \"BEGIN\": 1,\r\n",
      "    \"CASE\": \"synthetic\",\r\n",
      "    \"COMPONENTS\": \"ZNE\",\r\n",
      "    \"DENSITY\": \"constant\",\r\n",
      "    \"DT\": 0.06,\r\n",
      "    \"END\": 1,\r\n",
      "    \"F0\": 5.196,\r\n",
      "    \"FILTER\": null,\r\n"
     ]
    }
   ],
   "source": [
    "# All of the parameters defined in parameters.yaml are saved in this \n",
    "# internally-used JSON file\n",
    "! head output/seisflows_parameters.json"
   ]
  },
  {
   "cell_type": "code",
   "execution_count": 8,
   "metadata": {},
   "outputs": [
    {
     "name": "stdout",
     "output_type": "stream",
     "text": [
      "{\r\n",
      "    \"DATA\": null,\r\n",
      "    \"FUNC\": \"/home/bchow/Work/work/sf3_specfem2d_example/scratch/evalfunc\",\r\n",
      "    \"GRAD\": \"/home/bchow/Work/work/sf3_specfem2d_example/scratch/evalgrad\",\r\n",
      "    \"HESS\": \"/home/bchow/Work/work/sf3_specfem2d_example/scratch/evalhess\",\r\n",
      "    \"LOCAL\": null,\r\n",
      "    \"LOG\": \"/home/bchow/Work/work/sf3_specfem2d_example/output_seisflows3.txt\",\r\n",
      "    \"MASK\": null,\r\n",
      "    \"MODEL_INIT\": \"/home/bchow/Work/work/sf3_specfem2d_example/specfem2d_workdir/OUTPUT_FILES_INIT\",\r\n",
      "    \"MODEL_TRUE\": \"/home/bchow/Work/work/sf3_specfem2d_example/specfem2d_workdir/OUTPUT_FILES_TRUE\",\r\n"
     ]
    }
   ],
   "source": [
    "# Similarly, paths that SeisFlows3 uses to navigate the system are stored\n",
    "# in the seisflows_paths.json file\n",
    "! head output/seisflows_paths.json"
   ]
  },
  {
   "cell_type": "markdown",
   "metadata": {},
   "source": [
    "## 3. Run SeisFlows3\n",
    "\n",
    "In this Section we will run SeisFlows3 to generate synthetic seismograms, kernels, a gradient, and an updated velocity model.\n",
    "\n",
    "### 3a. Forward simulations\n",
    "\n",
    "SeisFlows3 is an automated workflow tool, such that once we run `seisflows submit` we should not need to intervene in the workflow. However the package does allow the User flexibility in how they want the workflow to behave.\n",
    "\n",
    "For example, we can run our workflow in stages by taking advantage of the `stop_after` and `resume_from` parameters. As their names suggest, these parameters allow us to stop and resume the workflow at certain stages (i.e., functions in workflow.main()). \n",
    "\n",
    "The available arguments for `stop_after` and `resume_from` are discovered by running the command: `seisflows print flow`, which tells us what functions will be run from main(). "
   ]
  },
  {
   "cell_type": "code",
   "execution_count": 49,
   "metadata": {},
   "outputs": [
    {
     "name": "stdout",
     "output_type": "stream",
     "text": [
      "\r\n",
      "\tFLOW ARGUMENTS\r\n",
      "\t<class 'seisflows3.workflow.inversion.Inversion'>\r\n",
      "\r\n",
      "\t1: initialize\r\n",
      "\t2: evaluate_gradient\r\n",
      "\t3: write_gradient\r\n",
      "\t4: compute_direction\r\n",
      "\t5: line_search\r\n",
      "\t6: finalize\r\n",
      "\t7: clean\r\n",
      "\r\n"
     ]
    }
   ],
   "source": [
    "! seisflows print flow"
   ]
  },
  {
   "cell_type": "markdown",
   "metadata": {},
   "source": [
    "-----------------------------\n",
    "In an inversion (the workflow we have selected) the flow arguments are described as:\n",
    "\n",
    "0. __setup:__ Not technically listed in the flow arguments, runs setup() for all SeisFlows3 modules. If running a synthetic-synthetic workflow, solver.setup() will generate \"data\" by running the forward solver using MODEL_TRUE\n",
    "1. __initialize:__  \n",
    "    a. Call numerical solver to run forward simulations using MODEL_INIT, generating synthetics  \n",
    "    b. Evaluate the objective function by performing waveform comparisons  \n",
    "    c. Prepare `evaluate gradient` step by generating adjoint sources and auxiliary files\n",
    "2. __evaluate_gradient:__ Call numerical solver to run adjoint simulation, generating kernels\n",
    "3. __write_gradient:__ Combine all event kernels into a misfit kernel. Optionally smooth and mask the misfit kernel\n",
    "4. __compute_direction:__ Call on the optimization library to scale the misfit kernel into the gradient and compute a search direction\n",
    "5. __line_search:__ Perform a line search by algorithmically scaling the gradient and evaluating the misfit function (forward simulations and misfit quantification) until misfit is acceptably reduced\n",
    "6. __finalize:__ Run any finalization steps such as saving traces, kernels, gradients and models to disk, setting up SeisFlows3 for any subsequent iterations.\n",
    "7. __clean:__ Clean the scratch/ directory in preparation for subsequent i\n",
    "\n",
    "Let's set the `stop_after` argument to __initialize__, this will halt the workflow after the intialization step. We'll also set the `verbose` parameter to 'False', to keep the logging format relatively simple. We will explore the `verbose`==True option in a later cell."
   ]
  },
  {
   "cell_type": "code",
   "execution_count": 48,
   "metadata": {},
   "outputs": [
    {
     "name": "stdout",
     "output_type": "stream",
     "text": [
      "\n",
      "\tSTOP_AFTER:  -> initialize\n",
      "\n",
      "\n",
      "\tVERBOSE: True -> False\n",
      "\n"
     ]
    }
   ],
   "source": [
    "! seisflows par stop_after initialize\n",
    "! seisflows par verbose False"
   ]
  },
  {
   "cell_type": "markdown",
   "metadata": {},
   "source": [
    "-----------------------\n",
    "Now let's run SeisFlows3. There are a few ways to do this: `submit`, `resume`, and `restart`\n",
    "\n",
    "1. Since we already ran `seisflows init`, the `seisflows submit` option will not work, as SeisFlows3 considers this an active working state and `submit` can only be run on uninitialized working states.\n",
    "2. To run a workflow in an active working state `resume` will load the current working state from the output/ directory and submit a workflow given the current parameter file.\n",
    "3. The `restart` command is simply a convenience function that runs `clean` (to remove an active working state) and `submit` (to submit a fresh working state). \n",
    "\n",
    "Since we haven't done anything in this working state, we will go with a modified version of Option 3 by running `clean` and then `submit`. We'll use the `-f` flag (stands for __'force'__) to skip over the standard input prompt that asks the User if they are sure they want to clean and submit.\n",
    "\n",
    "But first we'll try to run `seisflows submit` to show why Option 1 will not work."
   ]
  },
  {
   "cell_type": "code",
   "execution_count": 11,
   "metadata": {},
   "outputs": [
    {
     "name": "stdout",
     "output_type": "stream",
     "text": [
      "\r\n",
      "\r\n",
      "WARNING: Data from previous workflow found in working directory.\r\n",
      "\r\n",
      "To delete data and start a new workflow type:\r\n",
      "  seisflows restart\r\n",
      "\r\n",
      "To resume existing workflow type:\r\n",
      "  seisflows resume\r\n",
      "\r\n",
      "\r\n"
     ]
    }
   ],
   "source": [
    "! seisflows submit -f"
   ]
  },
  {
   "cell_type": "markdown",
   "metadata": {},
   "source": [
    "----------------------------\n",
    "__Okay, let's go!__ In the following cell we will run the SeisFlows3 Inversion workflow. In the output cell we will see the logging statements outputted by SeisFlows3, both to stdout and to the output log file (defaults to ./output_seisflows3.txt) which details the progress of our inversion"
   ]
  },
  {
   "cell_type": "code",
   "execution_count": 49,
   "metadata": {},
   "outputs": [
    {
     "name": "stdout",
     "output_type": "stream",
     "text": [
      "2022-03-10 14:49:42 | check paths/pars module: preprocess.Default\n",
      "2022-03-10 14:49:49 | \n",
      "================================================================================\n",
      "                          STARTING INVERSION WORKFLOW                           \n",
      "================================================================================\n",
      "\n",
      "2022-03-10 14:49:49 | \n",
      "--------------------------------------------------------------------------------\n",
      "                            PERFORMING MODULE SETUP                             \n",
      "--------------------------------------------------------------------------------\n",
      "\n",
      "2022-03-10 14:49:49 | setting up module: preprocess.Default\n",
      "2022-03-10 14:49:49 | misfit function is: 'waveform'\n",
      "Warning, stats exists\n",
      "Appending to this files without deleting them may lead to unintended consequences\n",
      "2022-03-10 14:49:52 | model parameters (m_new i01s00):\n",
      "2022-03-10 14:49:52 | 5800.00 <= vp <= 5800.00\n",
      "2022-03-10 14:49:52 | 3500.00 <= vs <= 3500.00\n",
      "2022-03-10 14:49:52 | 0.21 <= pr <= 0.21\n",
      "2022-03-10 14:49:55 | checkpointing working environment to disk\n",
      "2022-03-10 14:49:57 | intializing solver directories\n",
      "2022-03-10 14:50:13 | intializing empty adjoint traces\n",
      "2022-03-10 14:50:13 | \n",
      "--------------------------------------------------------------------------------\n",
      "                                ITERATION 1 / 1                                 \n",
      "--------------------------------------------------------------------------------\n",
      "\n",
      "2022-03-10 14:50:13 | \n",
      "================================================================================\n",
      "                             INITIALIZING INVERSION                             \n",
      "================================================================================\n",
      "\n",
      "2022-03-10 14:50:13 | \n",
      "................................................................................\n",
      "EVALUATE OBJECTIVE FUNCTION                                                     \n",
      "................................................................................\n",
      "\n",
      "2022-03-10 14:50:13 | saving model 'm_new' to: /home/bchow/Work/work/sf3_specfem2d_example/scratch/evalgrad/model\n",
      "2022-03-10 14:50:14 | results saved to with suffix 'new' to path: /home/bchow/Work/work/sf3_specfem2d_example/scratch/evalgrad\n",
      "2022-03-10 14:50:14 | evaluating objective function 1 times\n",
      "2022-03-10 14:50:15 | checkpointing working environment to disk\n",
      "2022-03-10 14:50:17 | running forward simulations\n",
      "2022-03-10 14:50:23 | calling preprocess.prepare_eval_grad()\n",
      "2022-03-10 14:50:23 | preparing files for gradient evaluation\n",
      "2022-03-10 14:50:23 | exporting residuals to: /home/bchow/Work/work/sf3_specfem2d_example/scratch/evalgrad\n",
      "2022-03-10 14:50:25 | summing residuals with preprocess module\n",
      "2022-03-10 14:50:25 | saving misfit 1.748E-03 to: 'f_new'\n",
      "2022-03-10 14:50:25 | \n",
      "================================================================================\n",
      "                   STOP ITERATION 1 AT FUNCTION: 'initialize'                   \n",
      "================================================================================\n",
      "\n"
     ]
    }
   ],
   "source": [
    "! seisflows clean -f\n",
    "! seisflows submit -f"
   ]
  },
  {
   "cell_type": "markdown",
   "metadata": {},
   "source": [
    "### 3b. Exploring the SF3 directory structure\n",
    "This is a good point to have a look around at the SeisFlows3 directory structure, which has been created during the module setup stage. In this subsection we will look at files and directories within an active SeisFlows3 working directory and explain what each file is and what its purpose is within this workflow. "
   ]
  },
  {
   "cell_type": "code",
   "execution_count": 18,
   "metadata": {},
   "outputs": [
    {
     "name": "stdout",
     "output_type": "stream",
     "text": [
      "total 20\r\n",
      "drwxrwxr-x. 1 bchow bchow    54 Mar  9 15:26 logs\r\n",
      "drwxrwxr-x. 1 bchow bchow   372 Mar  9 15:26 output\r\n",
      "-rw-rw-r--. 1 bchow bchow  3048 Mar  9 15:26 output_seisflows3.txt\r\n",
      "-rw-rw-r--. 1 bchow bchow 10992 Mar  9 15:25 parameters.yaml\r\n",
      "drwxrwxr-x. 1 bchow bchow    56 Mar  9 15:26 scratch\r\n",
      "lrwxrwxrwx. 1 bchow bchow    35 Mar  2 12:12 specfem2d -> /home/bchow/REPOSITORIES/specfem2d/\r\n",
      "drwxrwxr-x. 1 bchow bchow    82 Mar  9 11:27 specfem2d_workdir\r\n",
      "drwxrwxr-x. 1 bchow bchow    44 Mar  9 15:20 stats\r\n"
     ]
    }
   ],
   "source": [
    "os.chdir(WORKDIR)\n",
    "! ls -l"
   ]
  },
  {
   "cell_type": "markdown",
   "metadata": {},
   "source": [
    "\n",
    "Directory structure:\n",
    "- __logs/:__ Where any auxiliary logs are stored, e.g., submitted parameter files, output logs from individual cores (not applicable in this tutorial) \n",
    "    - __previous/:__ Old output logs (output_seisflows3.txt) so that they are not overwritten by other workflows\n",
    "- __output/:__ The current active state of SeisFlows3, containing pickle and JSON files. Also storage of any files that are to be permanently saved (e.g., models, kernels, traces).\n",
    "- __scratch/:__ Active working directory of SeisFlows3, more detailed information in the following slide.\n",
    "- __stats/:__ Text files describing the optimization statistics of the current workflow"
   ]
  },
  {
   "cell_type": "code",
   "execution_count": 19,
   "metadata": {},
   "outputs": [
    {
     "name": "stdout",
     "output_type": "stream",
     "text": [
      "parameters_1-1.yaml  previous\r\n"
     ]
    }
   ],
   "source": [
    "! ls logs"
   ]
  },
  {
   "cell_type": "code",
   "execution_count": 20,
   "metadata": {},
   "outputs": [
    {
     "name": "stdout",
     "output_type": "stream",
     "text": [
      "2022-03-09 15:26:00 | check paths/pars module: preprocess.Default\r\n",
      "2022-03-09 15:26:03 | \r\n",
      "================================================================================\r\n",
      "                          STARTING INVERSION WORKFLOW                           \r\n",
      "================================================================================\r\n",
      "\r\n",
      "2022-03-09 15:26:03 | \r\n",
      "--------------------------------------------------------------------------------\r\n",
      "                            PERFORMING MODULE SETUP                             \r\n",
      "--------------------------------------------------------------------------------\r\n"
     ]
    }
   ],
   "source": [
    "! head output_seisflows3.txt"
   ]
  },
  {
   "cell_type": "code",
   "execution_count": 21,
   "metadata": {},
   "outputs": [
    {
     "name": "stdout",
     "output_type": "stream",
     "text": [
      "output.optim  step_count\r\n"
     ]
    }
   ],
   "source": [
    "! ls stats"
   ]
  },
  {
   "cell_type": "code",
   "execution_count": 15,
   "metadata": {},
   "outputs": [
    {
     "name": "stdout",
     "output_type": "stream",
     "text": [
      "      ITER     STEPLEN      MISFIT  \r\n",
      "==========  ==========  ==========  \r\n"
     ]
    }
   ],
   "source": [
    "! cat stats/output.optim"
   ]
  },
  {
   "cell_type": "markdown",
   "metadata": {},
   "source": [
    "-------------------------------\n",
    "#### The SeisFlows3 scratch/ directory\n",
    "\n",
    "This directory defines the SeisFlows3 working directory. It contains sub-directories defining individual processes and modules within a SeisFlows3 workflow."
   ]
  },
  {
   "cell_type": "code",
   "execution_count": 25,
   "metadata": {},
   "outputs": [
    {
     "name": "stdout",
     "output_type": "stream",
     "text": [
      "evalgrad  optimize  solver  system\r\n"
     ]
    }
   ],
   "source": [
    "! ls scratch"
   ]
  },
  {
   "cell_type": "markdown",
   "metadata": {},
   "source": [
    "__scratch/evalgrad/:__ Disk storage for files related to gradient evaluation"
   ]
  },
  {
   "cell_type": "code",
   "execution_count": 27,
   "metadata": {},
   "outputs": [
    {
     "name": "stdout",
     "output_type": "stream",
     "text": [
      "model  residuals\r\n"
     ]
    }
   ],
   "source": [
    "! ls scratch/evalgrad"
   ]
  },
  {
   "cell_type": "code",
   "execution_count": 29,
   "metadata": {},
   "outputs": [
    {
     "name": "stdout",
     "output_type": "stream",
     "text": [
      "proc000000_vp.bin  proc000000_vs.bin\r\n"
     ]
    }
   ],
   "source": [
    "# The current model used for gradient evaluation\n",
    "! ls scratch/evalgrad/model"
   ]
  },
  {
   "cell_type": "code",
   "execution_count": 31,
   "metadata": {},
   "outputs": [
    {
     "name": "stdout",
     "output_type": "stream",
     "text": [
      "001\r\n"
     ]
    }
   ],
   "source": [
    "# Per-event text files which define the residual or misfit \n",
    "! ls scratch/evalgrad/residuals"
   ]
  },
  {
   "cell_type": "code",
   "execution_count": 33,
   "metadata": {},
   "outputs": [
    {
     "name": "stdout",
     "output_type": "stream",
     "text": [
      "2.413801941841247842e-02\r\n",
      "2.413801941841247842e-02\r\n",
      "2.413801941841247842e-02\r\n"
     ]
    }
   ],
   "source": [
    "# Each line in the residual files relate to a given source-receiver pair\n",
    "! cat scratch/evalgrad/residuals/001"
   ]
  },
  {
   "cell_type": "markdown",
   "metadata": {},
   "source": [
    "----------------\n",
    "__scratch/optimize/:__ Values relating to the optimization algorithm. Variable names are described in the [base optimization module](https://github.com/bch0w/seisflows3/blob/master/seisflows3/optimize/base.py) and are copied here for reference:\n",
    "\n",
    "__Optimization Variable Names__:  \n",
    "- m_new: current model  \n",
    "- m_old: previous model  \n",
    "- m_try: line search model  \n",
    "- f_new: current objective function value  \n",
    "- f_old: previous objective function value  \n",
    "- f_try: line search function value  \n",
    "- g_new: current gradient direction  \n",
    "- g_old: previous gradient direction  \n",
    "- p_new: current search direction  \n",
    "- p_old: previous search direction  "
   ]
  },
  {
   "cell_type": "code",
   "execution_count": 34,
   "metadata": {},
   "outputs": [
    {
     "name": "stdout",
     "output_type": "stream",
     "text": [
      "f_new  LBFGS  m_new\r\n"
     ]
    }
   ],
   "source": [
    "! ls scratch/optimize"
   ]
  },
  {
   "cell_type": "code",
   "execution_count": 35,
   "metadata": {},
   "outputs": [
    {
     "name": "stdout",
     "output_type": "stream",
     "text": [
      "1.747932e-03\r\n"
     ]
    }
   ],
   "source": [
    "! head scratch/optimize/f_new"
   ]
  },
  {
   "cell_type": "code",
   "execution_count": 42,
   "metadata": {},
   "outputs": [
    {
     "name": "stdout",
     "output_type": "stream",
     "text": [
      "[5800. 5800. 5800. 5800. 5800. 5800. 5800. 5800. 5800. 5800.]\n"
     ]
    }
   ],
   "source": [
    "# Internally, SeisFlows3 stores models as vectors in a .npy format (NumPy arrays)\n",
    "m_new = np.load(\"scratch/optimize/m_new\")\n",
    "print(m_new[:10])"
   ]
  },
  {
   "cell_type": "markdown",
   "metadata": {},
   "source": [
    "----------------------\n",
    "__scratch/system__: Storage of any system related files. Currently empty but any system errors or system-wide log messages will be sent here. \n",
    "\n",
    "--------------------------\n",
    "__scratch/solver__: Solver related files. Each event has its own directory which is a copy of the SPECFEM working directory. SeisFlows3 runs the numerical solver by generating embarassingly-parallel individual working directories for each event/process.\n",
    "\n",
    ">__NOTE:__ The __mainsolver/__ directory is a symlink pointing to the first (alphabetical) source. This is not a necessary symlink (i.e., you can delete it and nothing will break in SeisFlows3), but it conventiently provides an easy access point for the main solver, which is typically used for non-parallel processes such as kernel summation (xcombine_sem) and gradient smoothing (xsmooth_sem), since source names can vary wildly."
   ]
  },
  {
   "cell_type": "code",
   "execution_count": 45,
   "metadata": {},
   "outputs": [
    {
     "name": "stdout",
     "output_type": "stream",
     "text": [
      "001  mainsolver\r\n"
     ]
    }
   ],
   "source": [
    "! ls scratch/solver"
   ]
  },
  {
   "cell_type": "code",
   "execution_count": 47,
   "metadata": {},
   "outputs": [
    {
     "name": "stdout",
     "output_type": "stream",
     "text": [
      "bin  DATA  mesher.log  OUTPUT_FILES  solver.log  traces\r\n"
     ]
    }
   ],
   "source": [
    "# We can see that each solver sub-directory is simply a SPECFEM2D working directory\n",
    "! ls scratch/solver/001"
   ]
  },
  {
   "cell_type": "code",
   "execution_count": 49,
   "metadata": {},
   "outputs": [
    {
     "name": "stdout",
     "output_type": "stream",
     "text": [
      "adj  obs  syn\r\n"
     ]
    }
   ],
   "source": [
    "# The traces/ directory contains all the waveforms that have been generated during the SeisFlows3 inversion\n",
    "# these include the observed waveforms (data, or obs/), the synthetic waveforms (syn) and the adjoing sources (adj)\n",
    "! ls scratch/solver/001/traces"
   ]
  },
  {
   "cell_type": "code",
   "execution_count": 50,
   "metadata": {},
   "outputs": [
    {
     "name": "stdout",
     "output_type": "stream",
     "text": [
      "AA.S0001.BXY.adj\r\n"
     ]
    }
   ],
   "source": [
    "# We can take a look at the adjoint sources which were created by the preprocessing module\n",
    "! ls scratch/solver/001/traces/adj"
   ]
  },
  {
   "cell_type": "code",
   "execution_count": 51,
   "metadata": {},
   "outputs": [
    {
     "name": "stdout",
     "output_type": "stream",
     "text": [
      "  -48.0000000         0.0000000\r\n",
      "  -47.9400000         0.0000000\r\n",
      "  -47.8800000         0.0000000\r\n",
      "  -47.8200000         0.0000000\r\n",
      "  -47.7600000         0.0000000\r\n",
      "  -47.7000000         0.0000000\r\n",
      "  -47.6400000         0.0000000\r\n",
      "  -47.5800000         0.0000000\r\n",
      "  -47.5200000         0.0000000\r\n",
      "  -47.4600000         0.0000000\r\n"
     ]
    }
   ],
   "source": [
    "# The adjoint source is created in the same format as the synthetics (two-column ASCII) \n",
    "! head scratch/solver/001/traces/adj/AA.S0001.BXY.adj"
   ]
  },
  {
   "cell_type": "code",
   "execution_count": 53,
   "metadata": {},
   "outputs": [
    {
     "name": "stdout",
     "output_type": "stream",
     "text": [
      "S0001    AA       180081.4100000       388768.7100000       0.0         0.0\r\n"
     ]
    }
   ],
   "source": [
    "# We can also see that we have generated a STATIONS_ADJOINT file, which is required for \n",
    "# running the adjoint simulations (i.e., evaluate the gradient)\n",
    "! head scratch/solver/001/DATA/STATIONS_ADJOINT"
   ]
  },
  {
   "cell_type": "markdown",
   "metadata": {},
   "source": [
    "### 3c. Adjoint simulations\n",
    "\n",
    "Now that we have all the required files for running an adjoint simulation (\\*.adj waveforms and STATIONS_ADJOINT file), we can continue with the SeisFlows3 Inversion workflow. No need to edit the Par_file or anything like that, SeisFlows3 will take care of that under the hood. We simply need to tell the workflow (via the parameters.yaml file) to `resume_from` the correct function. We can have a look at these functions again:"
   ]
  },
  {
   "cell_type": "code",
   "execution_count": 54,
   "metadata": {},
   "outputs": [
    {
     "name": "stdout",
     "output_type": "stream",
     "text": [
      "\r\n",
      "\tFLOW ARGUMENTS\r\n",
      "\t<class 'seisflows3.workflow.inversion.Inversion'>\r\n",
      "\r\n",
      "\t1: initialize\r\n",
      "\t2: evaluate_gradient\r\n",
      "\t3: write_gradient\r\n",
      "\t4: compute_direction\r\n",
      "\t5: line_search\r\n",
      "\t6: finalize\r\n",
      "\t7: clean\r\n",
      "\r\n"
     ]
    }
   ],
   "source": [
    "! seisflows print flow"
   ]
  },
  {
   "cell_type": "code",
   "execution_count": 50,
   "metadata": {},
   "outputs": [
    {
     "name": "stdout",
     "output_type": "stream",
     "text": [
      "\n",
      "\tRESUME_FROM:  -> evaluate_gradient\n",
      "\n",
      "\n",
      "\tSTOP_AFTER: initialize -> compute_direction\n",
      "\n"
     ]
    }
   ],
   "source": [
    "# We'll stop just before the line search so that we can take a look at the files \n",
    "# generated during the middle tasks\n",
    "! seisflows par resume_from evaluate_gradient\n",
    "! seisflows par stop_after compute_direction"
   ]
  },
  {
   "cell_type": "code",
   "execution_count": 51,
   "metadata": {},
   "outputs": [
    {
     "name": "stdout",
     "output_type": "stream",
     "text": [
      "2022-03-10 14:53:23 | \n",
      "================================================================================\n",
      "             RESUME ITERATION 1 FROM FUNCTION: 'evaluate_gradient'              \n",
      "================================================================================\n",
      "\n",
      "2022-03-10 14:53:23 | \n",
      "--------------------------------------------------------------------------------\n",
      "                                ITERATION 1 / 1                                 \n",
      "--------------------------------------------------------------------------------\n",
      "\n",
      "2022-03-10 14:53:23 | \n",
      "--------------------------------------------------------------------------------\n",
      "                              EVALUATING GRADIENT                               \n",
      "--------------------------------------------------------------------------------\n",
      "\n",
      "2022-03-10 14:53:23 | evaluating gradient 1 times\n",
      "2022-03-10 14:53:24 | checkpointing working environment to disk\n",
      "2022-03-10 14:53:26 | running adjoint simulations\n",
      "2022-03-10 14:53:40 | exporting kernels to /home/bchow/Work/work/sf3_specfem2d_example/scratch/evalgrad\n",
      "2022-03-10 14:53:42 | \n",
      "--------------------------------------------------------------------------------\n",
      "                             POSTPROCESSING KERNELS                             \n",
      "--------------------------------------------------------------------------------\n",
      "\n",
      "2022-03-10 14:53:42 | checkpointing working environment to disk\n",
      "2022-03-10 14:53:44 | saving summed kernels to /home/bchow/Work/work/sf3_specfem2d_example/scratch/evalgrad/kernels/sum\n",
      "2022-03-10 14:53:46 | \n",
      "--------------------------------------------------------------------------------\n",
      "                           COMPUTING SEARCH DIRECTION                           \n",
      "--------------------------------------------------------------------------------\n",
      "\n",
      "2022-03-10 14:53:46 | computing search direction w/ L-BFGS plugin\n",
      "2022-03-10 14:53:46 | \n",
      "================================================================================\n",
      "               STOP ITERATION 1 AT FUNCTION: 'compute_direction'                \n",
      "================================================================================\n",
      "\n"
     ]
    }
   ],
   "source": [
    "# We can use the `seisflows resume` command to continue an active workflow\n",
    "# again we use the '-f' flag to skip past the user-input stage.\n",
    "! seisflows resume -f"
   ]
  },
  {
   "cell_type": "markdown",
   "metadata": {},
   "source": [
    "----------------\n",
    "The functions __evaluate_gradient()__ through __compute_direction()__ have run adjoint simulations to generate event kernels and sum the kernels into the misfit kernel. Because we only have one event, our misfit kernel is just exactly our event kernel. Because we did not specify any smoothing lenghts (PAR.SMOOTH_H and PAR.SMOOTH_V), no smoothing of the gradient has occurred. \n",
    "\n",
    "Using the L-BFGS optimization algorithm, SeisFlows3 has computed a search direction that will be used in the line search to search for a best fitting model which optimally reduces the objective function. \n",
    "\n",
    "We can take a look at where SeisFlows3 has stored the information relating to kernel generation and the optimization computation."
   ]
  },
  {
   "cell_type": "code",
   "execution_count": 28,
   "metadata": {},
   "outputs": [
    {
     "name": "stdout",
     "output_type": "stream",
     "text": [
      "gradient  kernels  model  residuals\r\n"
     ]
    }
   ],
   "source": [
    "# Gradient evaluation files are stored here, the kernels are stored separately from the gradient incase\n",
    "# the user wants to manually manipulate them\n",
    "! ls scratch/evalgrad"
   ]
  },
  {
   "cell_type": "code",
   "execution_count": 32,
   "metadata": {},
   "outputs": [
    {
     "name": "stdout",
     "output_type": "stream",
     "text": [
      "proc000000_vp_kernel.bin  proc000000_vs_kernel.bin\r\n"
     ]
    }
   ],
   "source": [
    "# SeisFlows3 stores all kernels and gradient information as SPECFEM binary (.bin) files\n",
    "! ls scratch/evalgrad/gradient"
   ]
  },
  {
   "cell_type": "code",
   "execution_count": 34,
   "metadata": {},
   "outputs": [
    {
     "name": "stdout",
     "output_type": "stream",
     "text": [
      "001  sum\r\n"
     ]
    }
   ],
   "source": [
    "# Kernels are stored on a per-event basis, and summed together (sum/). If smoothing was performed, \n",
    "# we would see both smoothed and unsmoothed versions of the misfit kernel\n",
    "! ls scratch/evalgrad/kernels"
   ]
  },
  {
   "cell_type": "code",
   "execution_count": 39,
   "metadata": {},
   "outputs": [
    {
     "name": "stdout",
     "output_type": "stream",
     "text": [
      "f_new  g_new  LBFGS  m_new  p_new\r\n"
     ]
    }
   ],
   "source": [
    "# We can see that some new values have been stored in prepartion for the line search,\n",
    "# including g_new (current gradient) and p_new (current search direction). These are also\n",
    "# stored as vector NumPy arrays (.npy files)\n",
    "! ls scratch/optimize"
   ]
  },
  {
   "cell_type": "code",
   "execution_count": 41,
   "metadata": {},
   "outputs": [
    {
     "name": "stdout",
     "output_type": "stream",
     "text": [
      "[-0.00000000e+00 -0.00000000e+00 -0.00000000e+00 ... -4.31527557e-11\n",
      " -3.65300012e-11 -5.90630062e-12]\n"
     ]
    }
   ],
   "source": [
    "p_new = np.load(\"scratch/optimize/p_new\")\n",
    "print(p_new)"
   ]
  },
  {
   "cell_type": "markdown",
   "metadata": {},
   "source": [
    "--------------------\n",
    "### 3d. Line search and model update\n",
    "\n",
    "Let's finish off the inversion by running through the line search, which will generate new models using the\n",
    "gradient, evaluate the objective function by running forward simulations, and comparing the evaluated objective function with the value obtained in __initialize__. Satisfactory reduction in the objective function will result in a termination of the line search. We are using a bracketing line search here (CITE RYANS PAPER), which requires finding models which both increase and decrease the misfit with respect to the initial evaluation. Therefore it will likely take more than two trial steps to complete the line search"
   ]
  },
  {
   "cell_type": "code",
   "execution_count": 52,
   "metadata": {},
   "outputs": [
    {
     "name": "stdout",
     "output_type": "stream",
     "text": [
      "\n",
      "\tRESUME_FROM: evaluate_gradient -> line_search\n",
      "\n",
      "\n",
      "\tSTOP_AFTER: compute_direction -> finalize\n",
      "\n"
     ]
    }
   ],
   "source": [
    "! seisflows par resume_from line_search  # resume from the line search \n",
    "! seisflows par stop_after finalize  # We don't want to run the clean() argument so that we can explore the dir"
   ]
  },
  {
   "cell_type": "code",
   "execution_count": 53,
   "metadata": {},
   "outputs": [
    {
     "name": "stdout",
     "output_type": "stream",
     "text": [
      "2022-03-10 14:54:56 | \n",
      "================================================================================\n",
      "                RESUME ITERATION 1 FROM FUNCTION: 'line_search'                 \n",
      "================================================================================\n",
      "\n",
      "2022-03-10 14:54:56 | \n",
      "--------------------------------------------------------------------------------\n",
      "                                ITERATION 1 / 1                                 \n",
      "--------------------------------------------------------------------------------\n",
      "\n",
      "2022-03-10 14:54:56 | \n",
      "================================================================================\n",
      "                        CONDUCTING LINE SEARCH (i01s00)                         \n",
      "================================================================================\n",
      "\n",
      "2022-03-10 14:54:56 | evaluating bracketing line search\n",
      "2022-03-10 14:54:56 | step length(s) = 0.00E+00\n",
      "2022-03-10 14:54:56 | misfit val(s)  = 1.75E-03\n",
      "2022-03-10 14:54:56 | first iteration, guessing trial step\n",
      "2022-03-10 14:54:56 | initial step length safegaurd, setting manual step length\n",
      "2022-03-10 14:54:56 | step length override due to PAR.STEPLENINIT=0.05\n",
      "2022-03-10 14:54:56 | model parameters (m_try i01s00):\n",
      "2022-03-10 14:54:56 | 5800.00 <= vp <= 5800.00\n",
      "2022-03-10 14:54:56 | 3269.01 <= vs <= 3790.00\n",
      "2022-03-10 14:54:56 | 0.13 <= pr <= 0.27\n",
      "2022-03-10 14:54:56 | \n",
      "--------------------------------------------------------------------------------\n",
      "                            TRIAL STEP COUNT: i01s01                            \n",
      "--------------------------------------------------------------------------------\n",
      "\n",
      "2022-03-10 14:54:56 | \n",
      "................................................................................\n",
      "EVALUATE OBJECTIVE FUNCTION                                                     \n",
      "................................................................................\n",
      "\n",
      "2022-03-10 14:54:56 | saving model 'm_try' to: /home/bchow/Work/work/sf3_specfem2d_example/scratch/evalfunc/model\n",
      "2022-03-10 14:54:56 | results saved to with suffix 'try' to path: /home/bchow/Work/work/sf3_specfem2d_example/scratch/evalfunc\n",
      "2022-03-10 14:54:56 | evaluating objective function 1 times\n",
      "2022-03-10 14:54:57 | checkpointing working environment to disk\n",
      "2022-03-10 14:54:57 | running forward simulations\n",
      "2022-03-10 14:55:03 | calling preprocess.prepare_eval_grad()\n",
      "2022-03-10 14:55:03 | preparing files for gradient evaluation\n",
      "2022-03-10 14:55:03 | exporting residuals to: /home/bchow/Work/work/sf3_specfem2d_example/scratch/evalfunc\n",
      "2022-03-10 14:55:04 | summing residuals with preprocess module\n",
      "2022-03-10 14:55:04 | saving misfit 3.089E-04 to: 'f_try'\n",
      "2022-03-10 14:55:04 | evaluating bracketing line search\n",
      "2022-03-10 14:55:04 | step length(s) = 0.00E+00, 4.02E+09\n",
      "2022-03-10 14:55:04 | misfit val(s)  = 1.75E-03, 3.09E-04\n",
      "2022-03-10 14:55:04 | misfit not bracketed, increasing step length\n",
      "2022-03-10 14:55:04 | model parameters (m_try i01s01):\n",
      "2022-03-10 14:55:04 | 5800.00 <= vp <= 5800.00\n",
      "2022-03-10 14:55:04 | 3126.25 <= vs <= 3969.23\n",
      "2022-03-10 14:55:04 | 0.06 <= pr <= 0.30\n",
      "2022-03-10 14:55:04 | \n",
      "................................................................................\n",
      "retrying with new trial step                                                    \n",
      "................................................................................\n",
      "\n",
      "2022-03-10 14:55:04 | \n",
      "--------------------------------------------------------------------------------\n",
      "                            TRIAL STEP COUNT: i01s02                            \n",
      "--------------------------------------------------------------------------------\n",
      "\n",
      "2022-03-10 14:55:04 | \n",
      "................................................................................\n",
      "EVALUATE OBJECTIVE FUNCTION                                                     \n",
      "................................................................................\n",
      "\n",
      "2022-03-10 14:55:04 | saving model 'm_try' to: /home/bchow/Work/work/sf3_specfem2d_example/scratch/evalfunc/model\n",
      "2022-03-10 14:55:05 | results saved to with suffix 'try' to path: /home/bchow/Work/work/sf3_specfem2d_example/scratch/evalfunc\n",
      "2022-03-10 14:55:05 | evaluating objective function 1 times\n",
      "2022-03-10 14:55:06 | checkpointing working environment to disk\n",
      "2022-03-10 14:55:09 | running forward simulations\n",
      "2022-03-10 14:55:15 | calling preprocess.prepare_eval_grad()\n",
      "2022-03-10 14:55:15 | preparing files for gradient evaluation\n",
      "2022-03-10 14:55:15 | exporting residuals to: /home/bchow/Work/work/sf3_specfem2d_example/scratch/evalfunc\n",
      "2022-03-10 14:55:16 | summing residuals with preprocess module\n",
      "2022-03-10 14:55:16 | saving misfit 2.705E-04 to: 'f_try'\n",
      "2022-03-10 14:55:16 | evaluating bracketing line search\n",
      "2022-03-10 14:55:16 | step length(s) = 0.00E+00, 4.02E+09, 6.51E+09\n",
      "2022-03-10 14:55:16 | misfit val(s)  = 1.75E-03, 3.09E-04, 2.70E-04\n",
      "2022-03-10 14:55:16 | misfit not bracketed, increasing step length\n",
      "2022-03-10 14:55:16 | model parameters (m_try i01s02):\n",
      "2022-03-10 14:55:16 | 5800.00 <= vp <= 5800.00\n",
      "2022-03-10 14:55:16 | 2895.26 <= vs <= 4259.23\n",
      "2022-03-10 14:55:16 | -0.09 <= pr <= 0.33\n",
      "2022-03-10 14:55:16 | \n",
      "................................................................................\n",
      "retrying with new trial step                                                    \n",
      "................................................................................\n",
      "\n",
      "2022-03-10 14:55:16 | \n",
      "--------------------------------------------------------------------------------\n",
      "                            TRIAL STEP COUNT: i01s03                            \n",
      "--------------------------------------------------------------------------------\n",
      "\n",
      "2022-03-10 14:55:16 | \n",
      "................................................................................\n",
      "EVALUATE OBJECTIVE FUNCTION                                                     \n",
      "................................................................................\n",
      "\n",
      "2022-03-10 14:55:16 | saving model 'm_try' to: /home/bchow/Work/work/sf3_specfem2d_example/scratch/evalfunc/model\n",
      "2022-03-10 14:55:18 | results saved to with suffix 'try' to path: /home/bchow/Work/work/sf3_specfem2d_example/scratch/evalfunc\n",
      "2022-03-10 14:55:18 | evaluating objective function 1 times\n",
      "2022-03-10 14:55:18 | checkpointing working environment to disk\n",
      "2022-03-10 14:55:20 | running forward simulations\n",
      "2022-03-10 14:55:26 | calling preprocess.prepare_eval_grad()\n",
      "2022-03-10 14:55:26 | preparing files for gradient evaluation\n",
      "2022-03-10 14:55:26 | exporting residuals to: /home/bchow/Work/work/sf3_specfem2d_example/scratch/evalfunc\n",
      "2022-03-10 14:55:27 | summing residuals with preprocess module\n",
      "2022-03-10 14:55:27 | saving misfit 1.182E-03 to: 'f_try'\n",
      "2022-03-10 14:55:27 | evaluating bracketing line search\n",
      "2022-03-10 14:55:27 | step length(s) = 0.00E+00, 4.02E+09, 6.51E+09, 1.05E+10\n",
      "2022-03-10 14:55:27 | misfit val(s)  = 1.75E-03, 3.09E-04, 2.70E-04, 1.18E-03\n",
      "2022-03-10 14:55:27 | bracket okay, step length reasonable, pass\n",
      "2022-03-10 14:55:27 | model parameters (m_try i01s03):\n",
      "2022-03-10 14:55:27 | 5800.00 <= vp <= 5800.00\n",
      "2022-03-10 14:55:27 | 3126.25 <= vs <= 3969.23\n",
      "2022-03-10 14:55:27 | 0.06 <= pr <= 0.30\n",
      "2022-03-10 14:55:27 | \n",
      "................................................................................\n",
      "trial step successful. finalizing...                                            \n",
      "................................................................................\n",
      "\n",
      "2022-03-10 14:55:27 | \n",
      "--------------------------------------------------------------------------------\n",
      "                              FINALIZING WORKFLOW                               \n",
      "--------------------------------------------------------------------------------\n",
      "\n",
      "2022-03-10 14:55:29 | \n",
      "================================================================================\n",
      "                    STOP ITERATION 1 AT FUNCTION: 'finalize'                    \n",
      "================================================================================\n",
      "\n"
     ]
    }
   ],
   "source": [
    "! seisflows resume -f"
   ]
  },
  {
   "cell_type": "markdown",
   "metadata": {},
   "source": [
    "From the log statements above, we can see that the SeisFlows3 line search required three trial steps, where it modified values of Vs until satisfactory reduction in the objective function was met. This was the final step in the iteration, and so the finalization step was also run, which ran any last-minute functions to prepare for a subsequent iteration. "
   ]
  },
  {
   "cell_type": "code",
   "execution_count": 59,
   "metadata": {},
   "outputs": [
    {
     "name": "stdout",
     "output_type": "stream",
     "text": [
      "alpha  f_new  f_old  f_try  g_old  LBFGS  m_new  m_old\tp_old\r\n"
     ]
    }
   ],
   "source": [
    "# We can see that we have 'new' and 'old' values for each of the optimization values,\n",
    "# representing the previous model (M00) and the current model (M01).\n",
    "! ls scratch/optimize"
   ]
  },
  {
   "cell_type": "code",
   "execution_count": 62,
   "metadata": {},
   "outputs": [
    {
     "name": "stdout",
     "output_type": "stream",
     "text": [
      "factor\t\t  gradient_norm_L2  output.optim  slope       step_length\r\n",
      "gradient_norm_L1  misfit\t    restarted\t  step_count  theta\r\n"
     ]
    }
   ],
   "source": [
    "# The stats/ directory contains text files describing the optimization/line search\n",
    "! ls stats"
   ]
  },
  {
   "cell_type": "code",
   "execution_count": 64,
   "metadata": {},
   "outputs": [
    {
     "name": "stdout",
     "output_type": "stream",
     "text": [
      "6.509678e+09\r\n"
     ]
    }
   ],
   "source": [
    "# For example we can look at the step length chosen for the accepted trial step in the line search\n",
    "! cat stats/step_length"
   ]
  },
  {
   "cell_type": "markdown",
   "metadata": {},
   "source": [
    "## 4. Conclusions\n",
    "\n",
    "We've now seen how SeisFlows3 runs an __Inversion__ workflow using the __Specfem2D__ solver on a __serial__ system (local workstation). More or less, this is all you need to run SeisFlows3 with any combination of modules. The specificities of a system or numerical solver are already handled internally by SeisFlows3, so if you want to use Specmfe3D_Cartesian as your solver, you would only need to run `seisflows par solver specfem3d` at the beginning of your workflow (you will also need to setup your Specfem3D models, similar to what we did for Specfem2D here). To run on a slurm system like Chinook, you can run `seisflows par system chinook`. "
   ]
  }
 ],
 "metadata": {
  "kernelspec": {
   "display_name": "Python 3",
   "language": "python",
   "name": "python3"
  },
  "language_info": {
   "codemirror_mode": {
    "name": "ipython",
    "version": 3
   },
   "file_extension": ".py",
   "mimetype": "text/x-python",
   "name": "python",
   "nbconvert_exporter": "python",
   "pygments_lexer": "ipython3",
   "version": "3.7.6"
  }
 },
 "nbformat": 4,
 "nbformat_minor": 4
}
