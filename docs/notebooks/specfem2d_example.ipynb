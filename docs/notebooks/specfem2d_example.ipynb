{
 "cells": [
  {
   "cell_type": "markdown",
   "metadata": {},
   "source": [
    "# Specfem2D Workstation Example\n",
    "\n",
    "To demonstrate the inversion capabilities of SeisFlows, we will run a __Specfem2D synthetic-synthetic example__ on a __local machine__ (tested on a Linux workstation running CentOS 7, and an Apple Laptop running macOS 10.14.6). Many of the setup steps here may be unique to our OS and workstation, but hopefully they may serve as templates for new Users wanting to explore SeisFlows. \n",
    "\n",
    "The numerical solver we will use is: [SPECFEM2D](https://geodynamics.org/cig/software/specfem2d/). We'll also be working in our `seisflows` [Conda](https://docs.conda.io/en/latest/) environment, see the installation documentation page for instructions on how to install and activate the required Conda environment.\n",
    "\n",
    "-----------------------------------"
   ]
  },
  {
   "cell_type": "markdown",
   "metadata": {},
   "source": [
    "## Option 1: Automated run\n",
    "\n",
    "We have set up this example to run using a single command line argument. The following command will run an example script which will (1) download and compile SPECFEM2D, (2) setup a SPECFEM2D working directory to generate initial and target models, and (3) Run a SeisFlows inversion. "
   ]
  },
  {
   "cell_type": "raw",
   "metadata": {},
   "source": [
    ".. warning:: \n",
    "    If you do not have a compiled version of SPECFEM2D, then this example will attempt to automatically download and compile SPECFEM2D. This step may fail if you do not have software required by SPECFEM2D, if there are issues with the SPECFEM2D repository itself, or if the configuration and compiling steps fail. If you run any issues, it is recommended that you manually install and compile SPECFEM2D, and directly provide its path to this example problem using the -r or --specfem2d_repo flags (shown below)."
   ]
  },
  {
   "cell_type": "markdown",
   "metadata": {},
   "source": [
    "### Example \\#1\n",
    "Example \\#1 runs a 2 iteration inversion using SPECFEM2D, the default preprocessing module and a gradient descent optimization algorithm."
   ]
  },
  {
   "cell_type": "raw",
   "metadata": {},
   "source": [
    ".. note::\n",
    "    Example number 1 is meant to **FAIL** during the line search of Iteration #2, after exceeding the maximum allowable line search step count. This is meant to illustrate line search behavior and allow the User to explore a working directory mid-workflow."
   ]
  },
  {
   "cell_type": "code",
   "execution_count": 1,
   "metadata": {},
   "outputs": [
    {
     "name": "stdout",
     "output_type": "stream",
     "text": [
      "1 example: ex1_specfem2d_workstation_inversion\n",
      "\n",
      "                                    @@@@@@@@@@                        \n",
      "                               .@@@@.    .%&(  %@.          \n",
      "                            @@@@   @@@@   &@@@@@@ ,%@       \n",
      "                         @@@@   @@@,  /@@              @    \n",
      "                        @@@   @@@@   @@@              @     \n",
      "                      @@@@   @@@@   @@@                @  @ \n",
      "                      @@@   @@@@   ,@@@                @ @  \n",
      "                     @@@@   @@@@    @@@@              @@ @ @\n",
      "                     @@@@   @@@@@    @@@@@          @@@ @@ @\n",
      "                     @@@@    @@@@@     @@@@@@@@@@@@@@  @@  @\n",
      "                      @@@@    @@@@@@        @@@&     @@@  @ \n",
      "                      @@@@@     @@@@@@@@         %@@@@#  @@ \n",
      "                        @@@@#      @@@@@@@@@@@@@@@@@   @@   \n",
      "                         &@@@@@          @@@@(       @@&    \n",
      "                            @@@@@@@             /@@@@       \n",
      "                                @@@@@@@@@@@@@@@@@\n",
      "                                    @@@@@@@@@@          \n",
      "\n",
      "\n",
      "================================================================================\n",
      "                              SEISFLOWS EXAMPLE 1                               \n",
      "                              ///////////////////                               \n",
      "This is a [SPECFEM2D] [WORKSTATION] example, which will run an inversion to\n",
      "assess misfit between two homogeneous halfspace models with slightly different\n",
      "velocities. [3 events, 1 station, 2 iterations]. The inversion is expected to\n",
      "fail after the 5th line search step count of the 2nd iteration. The tasks\n",
      "involved include:\n",
      "\n",
      "1. (optional) Download, configure, compile SPECFEM2D\n",
      "2. Set up a SPECFEM2D working directory\n",
      "3. Generate starting model from Tape2007 example\n",
      "4. Generate target model w/ perturbed starting model\n",
      "5. Set up a SeisFlows working directory\n",
      "6. Run an inversion workflow\n",
      "================================================================================\n"
     ]
    }
   ],
   "source": [
    "! seisflows examples 1  # print example help dialogue"
   ]
  },
  {
   "cell_type": "markdown",
   "metadata": {},
   "source": [
    "You can either setup and run the example in separate tasks using the `examples setup` and `submit` commands. or directly run the example after setup using the `examples run` command. Use the `-r` or `--specfem2d_repo` flag to point SeisFlows at an existing SPECFEM2D/ repository (with compiled binaries). If not given, SeisFlows will automatically download, configure and compile SPECFEM2D in your current working directory."
   ]
  },
  {
   "cell_type": "code",
   "execution_count": null,
   "metadata": {},
   "outputs": [],
   "source": [
    "! seisflows examples setup 1 -r path/to/specfem2d\n",
    "! seisflows submit\n",
    "# The above commands are the same as the below\n",
    "! seisflows examples run 1 --specfem2d_repo path/to/specfem2d"
   ]
  },
  {
   "cell_type": "markdown",
   "metadata": {},
   "source": [
    "A successfully completed example problem will end with the following log messages:"
   ]
  },
  {
   "cell_type": "raw",
   "metadata": {},
   "source": [
    ".. code:: bash\n",
    "    ...\n",
    "    2022-08-25 17:29:16 (I) | 5800.00 <= vp <= 5800.00\n",
    "    2022-08-25 17:29:16 (I) | 3236.17 <= vs <= 3802.01\n",
    "    2022-08-25 17:29:16 (I) | trial step unsuccessful. re-attempting line search\n",
    "    2022-08-25 17:29:16 (I) | \n",
    "    LINE SEARCH STEP COUNT 06\n",
    "    --------------------------------------------------------------------------------\n",
    "    2022-08-25 17:29:16 (I) | evaluating objective function for source 001\n",
    "    2022-08-25 17:29:16 (D) | running forward simulation with 'Specfem2D'\n",
    "    2022-08-25 17:29:20 (D) | quantifying misfit with 'Default'\n",
    "    2022-08-25 17:29:20 (I) | evaluating objective function for source 002\n",
    "    2022-08-25 17:29:20 (D) | running forward simulation with 'Specfem2D'\n",
    "    2022-08-25 17:29:24 (D) | quantifying misfit with 'Default'\n",
    "    2022-08-25 17:29:24 (I) | evaluating objective function for source 003\n",
    "    2022-08-25 17:29:24 (D) | running forward simulation with 'Specfem2D'\n",
    "    2022-08-25 17:29:28 (D) | quantifying misfit with 'Default'\n",
    "    2022-08-25 17:29:28 (D) | misfit for trial model (f_try) == 7.53E-03\n",
    "    2022-08-25 17:29:28 (D) | step length(s) = 0.00E+00, 1.47E+08, 2.95E+08, 5.89E+08, 1.18E+09, 2.36E+09, 4.72E+09\n",
    "    2022-08-25 17:29:28 (D) | misfit val(s)  = 8.65E-04, 7.53E-03, 6.28E-03, 5.02E-03, 3.77E-03, 2.51E-03, 1.26E-03\n",
    "    2022-08-25 17:29:28 (I) | fail: bracketing line search has failed to reduce the misfit before exceeding `step_count_max`=5\n",
    "    2022-08-25 17:29:28 (D) | checking gradient/search direction angle, theta:  0.000\n",
    "    2022-08-25 17:29:28 (C) | \n",
    "    ================================================================================\n",
    "                                   LINE SEARCH FAILED                               \n",
    "                                   //////////////////                               \n",
    "    Line search has failed to reduce the misfit and has run out of fallback options.\n",
    "    Aborting inversion.\n",
    "    ================================================================================\n",
    "    \n",
    "    \n",
    "Using the `working directory documentation page <working_directory.html>`__ you can figure out how to navigate around and look at the results of our small inversion problem. We will have a look at a few of the files and directories here."
   ]
  },
  {
   "cell_type": "code",
   "execution_count": null,
   "metadata": {},
   "outputs": [],
   "source": []
  },
  {
   "cell_type": "markdown",
   "metadata": {},
   "source": [
    "### Example \\#2\n",
    "Example \\#2 runs a 1 iteration inversion using SPECFEM2D, the Pyaflowa preprocessing module and an L-BFGS optimization algorithm. It successfully completes the line search and is meant to illustrate the output of the Pyaflowa preprocessing module."
   ]
  },
  {
   "cell_type": "code",
   "execution_count": 2,
   "metadata": {},
   "outputs": [
    {
     "name": "stdout",
     "output_type": "stream",
     "text": [
      "2 example: ex2_specfem2d_workstation_inversion_w_pyatoa\n",
      "\n",
      "                                    @@@@@@@@@@                        \n",
      "                               .@@@@.    .%&(  %@.          \n",
      "                            @@@@   @@@@   &@@@@@@ ,%@       \n",
      "                         @@@@   @@@,  /@@              @    \n",
      "                        @@@   @@@@   @@@              @     \n",
      "                      @@@@   @@@@   @@@                @  @ \n",
      "                      @@@   @@@@   ,@@@                @ @  \n",
      "                     @@@@   @@@@    @@@@              @@ @ @\n",
      "                     @@@@   @@@@@    @@@@@          @@@ @@ @\n",
      "                     @@@@    @@@@@     @@@@@@@@@@@@@@  @@  @\n",
      "                      @@@@    @@@@@@        @@@&     @@@  @ \n",
      "                      @@@@@     @@@@@@@@         %@@@@#  @@ \n",
      "                        @@@@#      @@@@@@@@@@@@@@@@@   @@   \n",
      "                         &@@@@@          @@@@(       @@&    \n",
      "                            @@@@@@@             /@@@@       \n",
      "                                @@@@@@@@@@@@@@@@@\n",
      "                                    @@@@@@@@@@          \n",
      "\n",
      "\n",
      "================================================================================\n",
      "                              SEISFLOWS EXAMPLE 2                               \n",
      "                              ///////////////////                               \n",
      "This is a [SPECFEM2D] [WORKSTATION] example, which will run an inversion to\n",
      "assess misfit between a homogeneous halfspace  and checkerboard model using\n",
      "Pyatoa for misfit quantification [2 events, 5 stations, 1 iterations]. The tasks\n",
      "involved include:\n",
      "\n",
      "1. (optional) Download, configure, compile SPECFEM2D\n",
      "2. Set up a SPECFEM2D working directory\n",
      "3. Generate starting model from Tape2007 example\n",
      "4. Generate target model w/ perturbed starting model\n",
      "5. Set up a SeisFlows working directory\n",
      "6. Run an inversion workflow. The line search is expected to attempt 4 evaluations (i01s04)\n",
      "================================================================================\n"
     ]
    }
   ],
   "source": [
    "! seisflows examples 2"
   ]
  },
  {
   "cell_type": "markdown",
   "metadata": {},
   "source": [
    "You can run the example with the same command as shown for Example 1:"
   ]
  },
  {
   "cell_type": "code",
   "execution_count": null,
   "metadata": {},
   "outputs": [],
   "source": [
    "! seisflows examples run 2 -r path/to/specfem2d"
   ]
  }
 ],
 "metadata": {
  "kernelspec": {
   "display_name": "Python 3 (ipykernel)",
   "language": "python",
   "name": "python3"
  },
  "language_info": {
   "codemirror_mode": {
    "name": "ipython",
    "version": 3
   },
   "file_extension": ".py",
   "mimetype": "text/x-python",
   "name": "python",
   "nbconvert_exporter": "python",
   "pygments_lexer": "ipython3",
   "version": "3.7.12"
  }
 },
 "nbformat": 4,
 "nbformat_minor": 4
}
