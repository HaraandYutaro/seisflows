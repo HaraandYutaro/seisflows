{
 "cells": [
  {
   "cell_type": "markdown",
   "metadata": {},
   "source": [
    "# Specfem2D Local Example \n",
    "\n",
    "To demonstrate the inversion capabilities of SeisFlows3, we will run a 2D synthetic-synthetic example on our local machine (Linux workstation running CentOS 7) using [SPECFEM2D](https://geodynamics.org/cig/software/specfem2d/). \n",
    "\n",
    "Many of the setup steps here will likely be unique to our OS and workstation (e.g., compiling SPECFEM2D), however they are intedned to serve as templates for new Users wanting to explore SeisFlows3. \n",
    "\n",
    "We'll also be working in our `seisflows3` Conda environment, see !!! DOCS PAGE !!! for how to install and activate the required Conda environment.\n",
    "\n",
    "The steps to take are as follows:\n",
    "\n",
    "1. Generate and populate SeisFlows3 parameters.yaml file\n",
    "2. Initate SeisFlows3 working directory\n",
    "3. Run an inversion up to the forward simulations, explore results\n",
    "4. Complete inversion up to model update, explore results"
   ]
  },
  {
   "cell_type": "code",
   "execution_count": 18,
   "metadata": {},
   "outputs": [],
   "source": [
    "import os\n",
    "import shutil"
   ]
  },
  {
   "cell_type": "markdown",
   "metadata": {},
   "source": [
    "## 1. Setup SPECFEM2D \n",
    "### a. Download and compile codebase\n",
    "\n",
    "First we'll download and compile SPECFEM2D to generate the binaries necessary to run our simulations. We will then populate a new SPECFEM2D working directory that will be used by SeisFlows3. We'll use to Python OS module to do our filesystem processes just to keep everything in Python, but this can easily be accomplished in bash."
   ]
  },
  {
   "cell_type": "code",
   "execution_count": 9,
   "metadata": {},
   "outputs": [],
   "source": [
    "# Set path to our working directory here, change this to wherever you are running this example\n",
    "WORKDIR = \"/home/bchow/Work/work/sf3_specfem2d_example\" "
   ]
  },
  {
   "cell_type": "code",
   "execution_count": 10,
   "metadata": {},
   "outputs": [
    {
     "name": "stderr",
     "output_type": "stream",
     "text": [
      "Cloning into 'specfem2d'...\n",
      "Updating files: 100% (2266/2266), done.\n",
      "Submodule 'm4' (https://github.com/geodynamics/autoconf_cig.git) registered for path 'm4'\n",
      "Cloning into '/home/bchow/Work/work/sf3_specfem2d_example/specfem2d/m4'...\n"
     ]
    },
    {
     "name": "stdout",
     "output_type": "stream",
     "text": [
      "Submodule path 'm4': checked out 'f2b2f3b21db9175aa3de73031b8c22e711065848'\n"
     ]
    }
   ],
   "source": [
    "# Download SPECFEM2D from GitHub, devel branch for latest codebase\n",
    "os.chdir(WORKDIR)\n",
    "if not os.path.exists(\"specfem2d\"):\n",
    "    os.system(\"git clone --recursive --branch devel https://github.com/geodynamics/specfem2d.git\")"
   ]
  },
  {
   "cell_type": "code",
   "execution_count": 11,
   "metadata": {},
   "outputs": [
    {
     "name": "stdout",
     "output_type": "stream",
     "text": [
      "## ---------------------------- ##\n",
      "## setting up compilation flags ##\n",
      "## ---------------------------- ##\n",
      "checking build system type... x86_64-unknown-linux-gnu\n",
      "checking host system type... x86_64-unknown-linux-gnu\n",
      "checking for gfortran... gfortran\n",
      "checking whether the Fortran compiler works... yes\n",
      "checking for Fortran compiler default output file name... a.out\n",
      "checking for suffix of executables... \n",
      "checking whether we are cross compiling... no\n",
      "checking for suffix of object files... o\n",
      "checking whether we are using the GNU Fortran compiler... yes\n",
      "checking whether gfortran accepts -g... yes\n",
      "configure: running /bin/sh ./flags.guess\n",
      "checking how to get verbose linking output from gfortran... -v\n",
      "checking for Fortran libraries of gfortran...  -L/usr/lib/gcc/x86_64-redhat-linux/4.8.5 -L/usr/lib/gcc/x86_64-redhat-linux/4.8.5/../../../../lib64 -L/lib/../lib64 -L/usr/lib/../lib64 -L/usr/lib/gcc/x86_64-redhat-linux/4.8.5/../../.. -lgfortran -lm -lquadmath\n",
      "checking for gcc... gcc\n",
      "checking whether we are using the GNU C compiler... yes\n",
      "checking whether gcc accepts -g... yes\n",
      "checking for gcc option to accept ISO C89... none needed\n",
      "checking for dummy main to link with Fortran libraries... none\n",
      "checking for Fortran name-mangling scheme... lower case, underscore, no extra underscore\n",
      "checking for Fortran flag to compile .f90 files... none\n",
      "checking for Fortran flag needed to accept free-form source... none\n",
      "checking for Fortran flag to compile preprocessed .F files... none\n",
      "checking how to define symbols for preprocessed Fortran... -D\n",
      "checking for Fortran flag to compile preprocessed .F90 files... none\n",
      "checking for gcc... (cached) gcc\n",
      "checking whether we are using the GNU C compiler... (cached) yes\n",
      "checking whether gcc accepts -g... (cached) yes\n",
      "checking for gcc option to accept ISO C89... (cached) none needed\n",
      "checking how to run the C preprocessor... gcc -E\n",
      "checking for grep that handles long lines and -e... /usr/bin/grep\n",
      "checking for egrep... /usr/bin/grep -E\n",
      "checking for ANSI C header files... yes\n",
      "checking for sys/types.h... yes\n",
      "checking for sys/stat.h... yes\n",
      "checking for stdlib.h... yes\n",
      "checking for string.h... yes\n",
      "checking for memory.h... yes\n",
      "checking for strings.h... yes\n",
      "checking for inttypes.h... yes\n",
      "checking for stdint.h... yes\n",
      "checking for unistd.h... yes\n",
      "checking emmintrin.h usability... yes\n",
      "checking emmintrin.h presence... yes\n",
      "checking for emmintrin.h... yes\n",
      "checking xmmintrin.h usability... yes\n",
      "checking xmmintrin.h presence... yes\n",
      "checking for xmmintrin.h... yes\n",
      "checking err.h usability... yes\n",
      "checking err.h presence... yes\n",
      "checking for err.h... yes\n",
      "## ------ ##\n",
      "## SCOTCH ##\n",
      "## ------ ##\n",
      "checking for scotchfarchinit  in -lscotch... no\n",
      "checking whether Scotch is usable... no, using bundled scotch instead\n",
      "checking for flex... flex\n",
      "checking lex output file root... lex.yy\n",
      "checking lex library... none needed\n",
      "checking whether yytext is a pointer... no\n",
      "checking for bison... bison -y\n",
      "checking for the pthreads library -lpthreads... no\n",
      "checking whether pthreads work without any flags... no\n",
      "checking whether pthreads work with -Kthread... no\n",
      "checking whether pthreads work with -kthread... no\n",
      "checking for the pthreads library -llthread... no\n",
      "checking whether pthreads work with -pthread... yes\n",
      "checking for joinable pthread attribute... PTHREAD_CREATE_JOINABLE\n",
      "checking if more special flags are required for pthreads... no\n",
      "pthread found\n",
      "SCOTCH is not enabled\n",
      "## ----------------- ##\n",
      "## module extensions ##\n",
      "## ----------------- ##\n",
      "checking Fortran 90 module extension... mod\n",
      "checking Fortran 90 module inclusion flag... -I\n",
      "checking Fortran 90 module output flag... -J\n",
      "checking for g++... g++\n",
      "checking whether we are using the GNU C++ compiler... yes\n",
      "checking whether g++ accepts -g... yes\n",
      "checking how to run the C++ preprocessor... g++ -E\n",
      "## ---------------- ##\n",
      "## git version info ##\n",
      "## ---------------- ##\n",
      "checking for .git/config... yes\n"
     ]
    },
    {
     "name": "stderr",
     "output_type": "stream",
     "text": [
      "fatal: No names found, cannot describe anything.\n"
     ]
    },
    {
     "name": "stdout",
     "output_type": "stream",
     "text": [
      "configure: building from git repository\n",
      "## ----------------------------------- ##\n",
      "## setting up default simulation setup ##\n",
      "## ----------------------------------- ##\n",
      "configure: creating ./config.status\n",
      "config.status: creating Makefile\n",
      "config.status: creating setup/constants.h\n",
      "config.status: creating setup/constants_tomography.h\n",
      "config.status: creating setup/precision.h\n",
      "config.status: creating setup/config.fh\n",
      "config.status: creating DATA/Par_file\n",
      "config.status: creating DATA/SOURCE\n",
      "config.status: creating setup/config.h\n",
      "config.status: executing bin commands\n",
      "config.status: executing obj commands\n",
      "config.status: executing DATA commands\n",
      "config.status: executing OUTPUT_FILES commands\n",
      "\n",
      "## ---------------- ##\n",
      "## Specfem 2D 7.0.0 ##\n",
      "## ---------------- ##\n",
      "\n",
      "./configure has completed and set up a default configuration to build.\n",
      "\n",
      "You may wish to modify the following files before running a simulation:\n",
      "  DATA/Par_file           Set parameters affecting the simulation.\n",
      "  DATA/SOURCE             Set the source parameters before running the solver.\n",
      "\n"
     ]
    },
    {
     "data": {
      "text/plain": [
       "0"
      ]
     },
     "execution_count": 11,
     "metadata": {},
     "output_type": "execute_result"
    }
   ],
   "source": [
    "# Run the compilation step which sets up the Makefile\n",
    "os.chdir(\"specfem2d\")\n",
    "os.system(\"./configure\")"
   ]
  },
  {
   "cell_type": "code",
   "execution_count": 12,
   "metadata": {},
   "outputs": [
    {
     "name": "stdout",
     "output_type": "stream",
     "text": [
      "gfortran -g -O2 -std=f2008 -fimplicit-none -fmax-errors=10 -pedantic -pedantic-errors -Waliasing -Wampersand -Wcharacter-truncation -Wline-truncation -Wsurprising -Wno-tabs -Wunderflow -ffpe-trap=invalid,zero,overflow -Wunused -O3 -finline-functions  -J./obj -I./obj -I.  -I./setup -c -o obj/shared_par.shared_module.o src/shared/shared_par.F90\n",
      "gfortran -g -O2 -std=f2008 -fimplicit-none -fmax-errors=10 -pedantic -pedantic-errors -Waliasing -Wampersand -Wcharacter-truncation -Wline-truncation -Wsurprising -Wno-tabs -Wunderflow -ffpe-trap=invalid,zero,overflow -Wunused -O3 -finline-functions  -J./obj -I./obj -I.  -I./setup -c -o obj/meshfem2D_par.mesh_module.o src/meshfem2D/meshfem2D_par.f90\n",
      "gfortran -g -O2 -std=f2008 -fimplicit-none -fmax-errors=10 -pedantic -pedantic-errors -Waliasing -Wampersand -Wcharacter-truncation -Wline-truncation -Wsurprising -Wno-tabs -Wunderflow -ffpe-trap=invalid,zero,overflow -Wunused -O3 -finline-functions  -J./obj -I./obj -I.  -I./setup -c -o obj/compute_elements_load_par.mesh.o src/meshfem2D/compute_elements_load_par.f90\n",
      "gfortran -g -O2 -std=f2008 -fimplicit-none -fmax-errors=10 -pedantic -pedantic-errors -Waliasing -Wampersand -Wcharacter-truncation -Wline-truncation -Wsurprising -Wno-tabs -Wunderflow -ffpe-trap=invalid,zero,overflow -Wunused -O3 -finline-functions  -J./obj -I./obj -I.  -I./setup -c -o obj/decompose_mesh.mesh.o src/meshfem2D/decompose_mesh.F90\n",
      "gfortran -g -O2 -std=f2008 -fimplicit-none -fmax-errors=10 -pedantic -pedantic-errors -Waliasing -Wampersand -Wcharacter-truncation -Wline-truncation -Wsurprising -Wno-tabs -Wunderflow -ffpe-trap=invalid,zero,overflow -Wunused -O3 -finline-functions  -J./obj -I./obj -I.  -I./setup -c -o obj/determine_abs_surface.mesh.o src/meshfem2D/determine_abs_surface.f90\n",
      "gfortran -g -O2 -std=f2008 -fimplicit-none -fmax-errors=10 -pedantic -pedantic-errors -Waliasing -Wampersand -Wcharacter-truncation -Wline-truncation -Wsurprising -Wno-tabs -Wunderflow -ffpe-trap=invalid,zero,overflow -Wunused -O3 -finline-functions  -J./obj -I./obj -I.  -I./setup -c -o obj/determine_acoustic_surface.mesh.o src/meshfem2D/determine_acoustic_surface.f90\n",
      "gfortran -g -O2 -std=f2008 -fimplicit-none -fmax-errors=10 -pedantic -pedantic-errors -Waliasing -Wampersand -Wcharacter-truncation -Wline-truncation -Wsurprising -Wno-tabs -Wunderflow -ffpe-trap=invalid,zero,overflow -Wunused -O3 -finline-functions  -J./obj -I./obj -I.  -I./setup -c -o obj/get_node_number.mesh.o src/meshfem2D/get_node_number.f90\n",
      "gfortran -g -O2 -std=f2008 -fimplicit-none -fmax-errors=10 -pedantic -pedantic-errors -Waliasing -Wampersand -Wcharacter-truncation -Wline-truncation -Wsurprising -Wno-tabs -Wunderflow -ffpe-trap=invalid,zero,overflow -Wunused -O3 -finline-functions  -J./obj -I./obj -I.  -I./setup -c -o obj/metis_partitioning.mesh.o src/meshfem2D/metis_partitioning.F90\n",
      "gfortran -g -O2 -std=f2008 -fimplicit-none -fmax-errors=10 -pedantic -pedantic-errors -Waliasing -Wampersand -Wcharacter-truncation -Wline-truncation -Wsurprising -Wno-tabs -Wunderflow -ffpe-trap=invalid,zero,overflow -Wunused -O3 -finline-functions  -J./obj -I./obj -I.  -I./setup -c -o obj/part_unstruct.mesh.o src/meshfem2D/part_unstruct.F90\n",
      "gfortran -g -O2 -std=f2008 -fimplicit-none -fmax-errors=10 -pedantic -pedantic-errors -Waliasing -Wampersand -Wcharacter-truncation -Wline-truncation -Wsurprising -Wno-tabs -Wunderflow -ffpe-trap=invalid,zero,overflow -Wunused -O3 -finline-functions  -J./obj -I./obj -I.  -I./setup -c -o obj/read_external_mesh_files.mesh.o src/meshfem2D/read_external_mesh_files.F90\n",
      "gfortran -g -O2 -std=f2008 -fimplicit-none -fmax-errors=10 -pedantic -pedantic-errors -Waliasing -Wampersand -Wcharacter-truncation -Wline-truncation -Wsurprising -Wno-tabs -Wunderflow -ffpe-trap=invalid,zero,overflow -Wunused -O3 -finline-functions  -J./obj -I./obj -I.  -I./setup -c -o obj/read_mesh_files.mesh.o src/meshfem2D/read_mesh_files.F90\n",
      "gfortran -g -O2 -std=f2008 -fimplicit-none -fmax-errors=10 -pedantic -pedantic-errors -Waliasing -Wampersand -Wcharacter-truncation -Wline-truncation -Wsurprising -Wno-tabs -Wunderflow -ffpe-trap=invalid,zero,overflow -Wunused -O3 -finline-functions  -J./obj -I./obj -I.  -I./setup -c -o obj/repartition_coupling.mesh.o src/meshfem2D/repartition_coupling.f90\n",
      "gfortran -g -O2 -std=f2008 -fimplicit-none -fmax-errors=10 -pedantic -pedantic-errors -Waliasing -Wampersand -Wcharacter-truncation -Wline-truncation -Wsurprising -Wno-tabs -Wunderflow -ffpe-trap=invalid,zero,overflow -Wunused -O3 -finline-functions  -J./obj -I./obj -I.  -I./setup -c -o obj/rotate_mesh.mesh.o src/meshfem2D/rotate_mesh.f90\n",
      "gfortran -g -O2 -std=f2008 -fimplicit-none -fmax-errors=10 -pedantic -pedantic-errors -Waliasing -Wampersand -Wcharacter-truncation -Wline-truncation -Wsurprising -Wno-tabs -Wunderflow -ffpe-trap=invalid,zero,overflow -Wunused -O3 -finline-functions  -J./obj -I./obj -I.  -I./setup -c -o obj/save_databases.mesh.o src/meshfem2D/save_databases.f90\n",
      "gfortran -g -O2 -std=f2008 -fimplicit-none -fmax-errors=10 -pedantic -pedantic-errors -Waliasing -Wampersand -Wcharacter-truncation -Wline-truncation -Wsurprising -Wno-tabs -Wunderflow -ffpe-trap=invalid,zero,overflow -Wunused -O3 -finline-functions  -J./obj -I./obj -I.  -I./setup -c -o obj/save_gnuplot_file.mesh.o src/meshfem2D/save_gnuplot_file.f90\n",
      "gfortran -g -O2 -std=f2008 -fimplicit-none -fmax-errors=10 -pedantic -pedantic-errors -Waliasing -Wampersand -Wcharacter-truncation -Wline-truncation -Wsurprising -Wno-tabs -Wunderflow -ffpe-trap=invalid,zero,overflow -Wunused -O3 -finline-functions  -J./obj -I./obj -I.  -I./setup -c -o obj/save_stations_file.mesh.o src/meshfem2D/save_stations_file.f90\n",
      "gfortran -g -O2 -std=f2008 -fimplicit-none -fmax-errors=10 -pedantic -pedantic-errors -Waliasing -Wampersand -Wcharacter-truncation -Wline-truncation -Wsurprising -Wno-tabs -Wunderflow -ffpe-trap=invalid,zero,overflow -Wunused -O3 -finline-functions  -J./obj -I./obj -I.  -I./setup -c -o obj/scotch_partitioning.mesh.o src/meshfem2D/scotch_partitioning.F90\n",
      "GEN setup/version.fh\n"
     ]
    },
    {
     "name": "stderr",
     "output_type": "stream",
     "text": [
      "fatal: No names found, cannot describe anything.\n"
     ]
    },
    {
     "name": "stdout",
     "output_type": "stream",
     "text": [
      "gfortran -g -O2 -std=f2008 -fimplicit-none -fmax-errors=10 -pedantic -pedantic-errors -Waliasing -Wampersand -Wcharacter-truncation -Wline-truncation -Wsurprising -Wno-tabs -Wunderflow -ffpe-trap=invalid,zero,overflow -Wunused -O3 -finline-functions  -J./obj -I./obj -I.  -I./setup -c -o obj/meshfem2D.mesh.o src/meshfem2D/meshfem2D.F90\n",
      "gfortran -g -O2 -std=f2008 -fimplicit-none -fmax-errors=10 -pedantic -pedantic-errors -Waliasing -Wampersand -Wcharacter-truncation -Wline-truncation -Wsurprising -Wno-tabs -Wunderflow -ffpe-trap=invalid,zero,overflow -Wunused -O3 -finline-functions  -J./obj -I./obj -I.  -I./setup -c -o obj/exit_mpi.shared.o src/shared/exit_mpi.F90\n",
      "gfortran -g -O2 -std=f2008 -fimplicit-none -fmax-errors=10 -pedantic -pedantic-errors -Waliasing -Wampersand -Wcharacter-truncation -Wline-truncation -Wsurprising -Wno-tabs -Wunderflow -ffpe-trap=invalid,zero,overflow -Wunused -O3 -finline-functions  -J./obj -I./obj -I.  -I./setup -c -o obj/parallel.sharedmpi.o src/shared/parallel.F90\n",
      "gcc -c  -g -O2  -I./setup -o obj/param_reader.cc.o src/shared/param_reader.c\n",
      "gfortran -g -O2 -std=f2008 -fimplicit-none -fmax-errors=10 -pedantic -pedantic-errors -Waliasing -Wampersand -Wcharacter-truncation -Wline-truncation -Wsurprising -Wno-tabs -Wunderflow -ffpe-trap=invalid,zero,overflow -Wunused -O3 -finline-functions  -J./obj -I./obj -I.  -I./setup -c -o obj/read_interfaces_file.shared.o src/shared/read_interfaces_file.f90\n",
      "gfortran -g -O2 -std=f2008 -fimplicit-none -fmax-errors=10 -pedantic -pedantic-errors -Waliasing -Wampersand -Wcharacter-truncation -Wline-truncation -Wsurprising -Wno-tabs -Wunderflow -ffpe-trap=invalid,zero,overflow -Wunused -O3 -finline-functions  -J./obj -I./obj -I.  -I./setup -c -o obj/read_material_table.shared.o src/shared/read_material_table.f90\n",
      "gfortran -g -O2 -std=f2008 -fimplicit-none -fmax-errors=10 -pedantic -pedantic-errors -Waliasing -Wampersand -Wcharacter-truncation -Wline-truncation -Wsurprising -Wno-tabs -Wunderflow -ffpe-trap=invalid,zero,overflow -Wunused -O3 -finline-functions  -J./obj -I./obj -I.  -I./setup -c -o obj/read_parameter_file.shared.o src/shared/read_parameter_file.F90\n",
      "gfortran -g -O2 -std=f2008 -fimplicit-none -fmax-errors=10 -pedantic -pedantic-errors -Waliasing -Wampersand -Wcharacter-truncation -Wline-truncation -Wsurprising -Wno-tabs -Wunderflow -ffpe-trap=invalid,zero,overflow -Wunused -O3 -finline-functions  -J./obj -I./obj -I.  -I./setup -c -o obj/read_regions.shared.o src/shared/read_regions.f90\n",
      "gfortran -g -O2 -std=f2008 -fimplicit-none -fmax-errors=10 -pedantic -pedantic-errors -Waliasing -Wampersand -Wcharacter-truncation -Wline-truncation -Wsurprising -Wno-tabs -Wunderflow -ffpe-trap=invalid,zero,overflow -Wunused -O3 -finline-functions  -J./obj -I./obj -I.  -I./setup -c -o obj/read_source_file.shared.o src/shared/read_source_file.f90\n",
      "gfortran -g -O2 -std=f2008 -fimplicit-none -fmax-errors=10 -pedantic -pedantic-errors -Waliasing -Wampersand -Wcharacter-truncation -Wline-truncation -Wsurprising -Wno-tabs -Wunderflow -ffpe-trap=invalid,zero,overflow -Wunused -O3 -finline-functions  -J./obj -I./obj -I.  -I./setup -c -o obj/read_value_parameters.shared.o src/shared/read_value_parameters.f90\n",
      "gfortran -g -O2 -std=f2008 -fimplicit-none -fmax-errors=10 -pedantic -pedantic-errors -Waliasing -Wampersand -Wcharacter-truncation -Wline-truncation -Wsurprising -Wno-tabs -Wunderflow -ffpe-trap=invalid,zero,overflow -Wunused -O3 -finline-functions  -J./obj -I./obj -I.  -I./setup -c -o obj/spline_routines.shared.o src/shared/spline_routines.f90\n",
      "gfortran -g -O2 -std=f2008 -fimplicit-none -fmax-errors=10 -pedantic -pedantic-errors -Waliasing -Wampersand -Wcharacter-truncation -Wline-truncation -Wsurprising -Wno-tabs -Wunderflow -ffpe-trap=invalid,zero,overflow -Wunused -O3 -finline-functions  -J./obj -I./obj -I.  -I./setup -c -o obj/write_VTK_data.shared.o src/shared/write_VTK_data.f90\n",
      "\n",
      "building xmeshfem2D\n",
      "\n",
      "gfortran -g -O2 -std=f2008 -fimplicit-none -fmax-errors=10 -pedantic -pedantic-errors -Waliasing -Wampersand -Wcharacter-truncation -Wline-truncation -Wsurprising -Wno-tabs -Wunderflow -ffpe-trap=invalid,zero,overflow -Wunused -O3 -finline-functions  -o ./bin/xmeshfem2D ./obj/meshfem2D_par.mesh_module.o ./obj/compute_elements_load_par.mesh.o ./obj/decompose_mesh.mesh.o ./obj/determine_abs_surface.mesh.o ./obj/determine_acoustic_surface.mesh.o ./obj/get_node_number.mesh.o ./obj/metis_partitioning.mesh.o ./obj/part_unstruct.mesh.o ./obj/read_external_mesh_files.mesh.o ./obj/read_mesh_files.mesh.o ./obj/repartition_coupling.mesh.o ./obj/rotate_mesh.mesh.o ./obj/save_databases.mesh.o ./obj/save_gnuplot_file.mesh.o ./obj/save_stations_file.mesh.o ./obj/scotch_partitioning.mesh.o ./obj/meshfem2D.mesh.o  ./obj/shared_par.shared_module.o ./obj/exit_mpi.shared.o ./obj/parallel.sharedmpi.o ./obj/param_reader.cc.o ./obj/read_interfaces_file.shared.o ./obj/read_material_table.shared.o ./obj/read_parameter_file.shared.o ./obj/read_regions.shared.o ./obj/read_source_file.shared.o ./obj/read_value_parameters.shared.o ./obj/spline_routines.shared.o ./obj/write_VTK_data.shared.o    \n",
      "\n",
      "gfortran -g -O2 -std=f2008 -fimplicit-none -fmax-errors=10 -pedantic -pedantic-errors -Waliasing -Wampersand -Wcharacter-truncation -Wline-truncation -Wsurprising -Wno-tabs -Wunderflow -ffpe-trap=invalid,zero,overflow -Wunused -O3 -finline-functions  -J./obj -I./obj -I.  -I./setup -c -o obj/specfem2D_par.spec_module.o src/specfem2D/specfem2D_par.f90\n",
      "gfortran -g -O2 -std=f2008 -fimplicit-none -fmax-errors=10 -pedantic -pedantic-errors -Waliasing -Wampersand -Wcharacter-truncation -Wline-truncation -Wsurprising -Wno-tabs -Wunderflow -ffpe-trap=invalid,zero,overflow -Wunused -O3 -finline-functions  -J./obj -I./obj -I.  -I./setup -c -o obj/acoustic_forcing_boundary.spec.o src/specfem2D/acoustic_forcing_boundary.f90\n",
      "gfortran -g -O2 -std=f2008 -fimplicit-none -fmax-errors=10 -pedantic -pedantic-errors -Waliasing -Wampersand -Wcharacter-truncation -Wline-truncation -Wsurprising -Wno-tabs -Wunderflow -ffpe-trap=invalid,zero,overflow -Wunused -O3 -finline-functions  -J./obj -I./obj -I.  -I./setup -c -o obj/add_acoustic_forcing.spec.o src/specfem2D/add_acoustic_forcing.f90\n",
      "gfortran -g -O2 -std=f2008 -fimplicit-none -fmax-errors=10 -pedantic -pedantic-errors -Waliasing -Wampersand -Wcharacter-truncation -Wline-truncation -Wsurprising -Wno-tabs -Wunderflow -ffpe-trap=invalid,zero,overflow -Wunused -O3 -finline-functions  -J./obj -I./obj -I.  -I./setup -c -o obj/add_manual_crack.spec.o src/specfem2D/add_manual_crack.f90\n",
      "gfortran -g -O2 -std=f2008 -fimplicit-none -fmax-errors=10 -pedantic -pedantic-errors -Waliasing -Wampersand -Wcharacter-truncation -Wline-truncation -Wsurprising -Wno-tabs -Wunderflow -ffpe-trap=invalid,zero,overflow -Wunused -O3 -finline-functions  -J./obj -I./obj -I.  -I./setup -c -o obj/assemble_MPI.spec.o src/specfem2D/assemble_MPI.F90\n",
      "gfortran -g -O2 -std=f2008 -fimplicit-none -fmax-errors=10 -pedantic -pedantic-errors -Waliasing -Wampersand -Wcharacter-truncation -Wline-truncation -Wsurprising -Wno-tabs -Wunderflow -ffpe-trap=invalid,zero,overflow -Wunused -O3 -finline-functions  -J./obj -I./obj -I.  -I./setup -c -o obj/attenuation_model.spec.o src/specfem2D/attenuation_model.f90\n",
      "gfortran -g -O2 -std=f2008 -fimplicit-none -fmax-errors=10 -pedantic -pedantic-errors -Waliasing -Wampersand -Wcharacter-truncation -Wline-truncation -Wsurprising -Wno-tabs -Wunderflow -ffpe-trap=invalid,zero,overflow -Wunused -O3 -finline-functions  -J./obj -I./obj -I.  -I./setup -c -o obj/axisymmetric_routines.spec.o src/specfem2D/axisymmetric_routines.f90\n",
      "gfortran -g -O2 -std=f2008 -fimplicit-none -fmax-errors=10 -pedantic -pedantic-errors -Waliasing -Wampersand -Wcharacter-truncation -Wline-truncation -Wsurprising -Wno-tabs -Wunderflow -ffpe-trap=invalid,zero,overflow -Wunused -O3 -finline-functions  -J./obj -I./obj -I.  -I./setup -c -o obj/calendar.spec.o src/specfem2D/calendar.f90\n",
      "gfortran -g -O2 -std=f2008 -fimplicit-none -fmax-errors=10 -pedantic -pedantic-errors -Waliasing -Wampersand -Wcharacter-truncation -Wline-truncation -Wsurprising -Wno-tabs -Wunderflow -ffpe-trap=invalid,zero,overflow -Wunused -O3 -finline-functions  -J./obj -I./obj -I.  -I./setup -c -o obj/check_grid.spec.o src/specfem2D/check_grid.F90\n"
     ]
    },
    {
     "name": "stdout",
     "output_type": "stream",
     "text": [
      "gfortran -g -O2 -std=f2008 -fimplicit-none -fmax-errors=10 -pedantic -pedantic-errors -Waliasing -Wampersand -Wcharacter-truncation -Wline-truncation -Wsurprising -Wno-tabs -Wunderflow -ffpe-trap=invalid,zero,overflow -Wunused -O3 -finline-functions  -J./obj -I./obj -I.  -I./setup -c -o obj/check_stability.spec.o src/specfem2D/check_stability.F90\n",
      "gfortran -g -O2 -std=f2008 -fimplicit-none -fmax-errors=10 -pedantic -pedantic-errors -Waliasing -Wampersand -Wcharacter-truncation -Wline-truncation -Wsurprising -Wno-tabs -Wunderflow -ffpe-trap=invalid,zero,overflow -Wunused -O3 -finline-functions  -J./obj -I./obj -I.  -I./setup -c -o obj/comp_source_time_function.spec.o src/specfem2D/comp_source_time_function.f90\n",
      "gfortran -g -O2 -std=f2008 -fimplicit-none -fmax-errors=10 -pedantic -pedantic-errors -Waliasing -Wampersand -Wcharacter-truncation -Wline-truncation -Wsurprising -Wno-tabs -Wunderflow -ffpe-trap=invalid,zero,overflow -Wunused -O3 -finline-functions  -J./obj -I./obj -I.  -I./setup -c -o obj/moving_sources_par.spec.o src/specfem2D/moving_sources_par.F90\n",
      "gfortran -g -O2 -std=f2008 -fimplicit-none -fmax-errors=10 -pedantic -pedantic-errors -Waliasing -Wampersand -Wcharacter-truncation -Wline-truncation -Wsurprising -Wno-tabs -Wunderflow -ffpe-trap=invalid,zero,overflow -Wunused -O3 -finline-functions  -J./obj -I./obj -I.  -I./setup -c -o obj/compute_add_sources_acoustic.spec.o src/specfem2D/compute_add_sources_acoustic.f90\n",
      "gfortran -g -O2 -std=f2008 -fimplicit-none -fmax-errors=10 -pedantic -pedantic-errors -Waliasing -Wampersand -Wcharacter-truncation -Wline-truncation -Wsurprising -Wno-tabs -Wunderflow -ffpe-trap=invalid,zero,overflow -Wunused -O3 -finline-functions  -J./obj -I./obj -I.  -I./setup -c -o obj/compute_add_sources_poro.spec.o src/specfem2D/compute_add_sources_poro.f90\n",
      "gfortran -g -O2 -std=f2008 -fimplicit-none -fmax-errors=10 -pedantic -pedantic-errors -Waliasing -Wampersand -Wcharacter-truncation -Wline-truncation -Wsurprising -Wno-tabs -Wunderflow -ffpe-trap=invalid,zero,overflow -Wunused -O3 -finline-functions  -J./obj -I./obj -I.  -I./setup -c -o obj/compute_add_sources_viscoelastic.spec.o src/specfem2D/compute_add_sources_viscoelastic.f90\n",
      "gfortran -g -O2 -std=f2008 -fimplicit-none -fmax-errors=10 -pedantic -pedantic-errors -Waliasing -Wampersand -Wcharacter-truncation -Wline-truncation -Wsurprising -Wno-tabs -Wunderflow -ffpe-trap=invalid,zero,overflow -Wunused -O3 -finline-functions  -J./obj -I./obj -I.  -I./setup -c -o obj/compute_arrays_source.spec.o src/specfem2D/compute_arrays_source.f90\n",
      "gfortran -g -O2 -std=f2008 -fimplicit-none -fmax-errors=10 -pedantic -pedantic-errors -Waliasing -Wampersand -Wcharacter-truncation -Wline-truncation -Wsurprising -Wno-tabs -Wunderflow -ffpe-trap=invalid,zero,overflow -Wunused -O3 -finline-functions  -J./obj -I./obj -I.  -I./setup -c -o obj/compute_attenuation_poro_fluid_part.spec.o src/specfem2D/compute_attenuation_poro_fluid_part.f90\n",
      "gfortran -g -O2 -std=f2008 -fimplicit-none -fmax-errors=10 -pedantic -pedantic-errors -Waliasing -Wampersand -Wcharacter-truncation -Wline-truncation -Wsurprising -Wno-tabs -Wunderflow -ffpe-trap=invalid,zero,overflow -Wunused -O3 -finline-functions  -J./obj -I./obj -I.  -I./setup -c -o obj/compute_attenuation_viscoelastic.spec.o src/specfem2D/compute_attenuation_viscoelastic.f90\n",
      "gfortran -g -O2 -std=f2008 -fimplicit-none -fmax-errors=10 -pedantic -pedantic-errors -Waliasing -Wampersand -Wcharacter-truncation -Wline-truncation -Wsurprising -Wno-tabs -Wunderflow -ffpe-trap=invalid,zero,overflow -Wunused -O3 -finline-functions  -J./obj -I./obj -I.  -I./setup -c -o obj/compute_Bielak_conditions.spec.o src/specfem2D/compute_Bielak_conditions.f90\n",
      "gfortran -g -O2 -std=f2008 -fimplicit-none -fmax-errors=10 -pedantic -pedantic-errors -Waliasing -Wampersand -Wcharacter-truncation -Wline-truncation -Wsurprising -Wno-tabs -Wunderflow -ffpe-trap=invalid,zero,overflow -Wunused -O3 -finline-functions  -J./obj -I./obj -I.  -I./setup -c -o obj/compute_coupling_acoustic_el.spec.o src/specfem2D/compute_coupling_acoustic_el.f90\n",
      "gfortran -g -O2 -std=f2008 -fimplicit-none -fmax-errors=10 -pedantic -pedantic-errors -Waliasing -Wampersand -Wcharacter-truncation -Wline-truncation -Wsurprising -Wno-tabs -Wunderflow -ffpe-trap=invalid,zero,overflow -Wunused -O3 -finline-functions  -J./obj -I./obj -I.  -I./setup -c -o obj/compute_coupling_acoustic_po.spec.o src/specfem2D/compute_coupling_acoustic_po.f90\n",
      "gfortran -g -O2 -std=f2008 -fimplicit-none -fmax-errors=10 -pedantic -pedantic-errors -Waliasing -Wampersand -Wcharacter-truncation -Wline-truncation -Wsurprising -Wno-tabs -Wunderflow -ffpe-trap=invalid,zero,overflow -Wunused -O3 -finline-functions  -J./obj -I./obj -I.  -I./setup -c -o obj/compute_coupling_poro_ac.spec.o src/specfem2D/compute_coupling_poro_ac.f90\n",
      "gfortran -g -O2 -std=f2008 -fimplicit-none -fmax-errors=10 -pedantic -pedantic-errors -Waliasing -Wampersand -Wcharacter-truncation -Wline-truncation -Wsurprising -Wno-tabs -Wunderflow -ffpe-trap=invalid,zero,overflow -Wunused -O3 -finline-functions  -J./obj -I./obj -I.  -I./setup -c -o obj/compute_coupling_poro_viscoelastic.spec.o src/specfem2D/compute_coupling_poro_viscoelastic.f90\n",
      "gfortran -g -O2 -std=f2008 -fimplicit-none -fmax-errors=10 -pedantic -pedantic-errors -Waliasing -Wampersand -Wcharacter-truncation -Wline-truncation -Wsurprising -Wno-tabs -Wunderflow -ffpe-trap=invalid,zero,overflow -Wunused -O3 -finline-functions  -J./obj -I./obj -I.  -I./setup -c -o obj/compute_coupling_viscoelastic_ac.spec.o src/specfem2D/compute_coupling_viscoelastic_ac.f90\n",
      "gfortran -g -O2 -std=f2008 -fimplicit-none -fmax-errors=10 -pedantic -pedantic-errors -Waliasing -Wampersand -Wcharacter-truncation -Wline-truncation -Wsurprising -Wno-tabs -Wunderflow -ffpe-trap=invalid,zero,overflow -Wunused -O3 -finline-functions  -J./obj -I./obj -I.  -I./setup -c -o obj/compute_coupling_viscoelastic_po.spec.o src/specfem2D/compute_coupling_viscoelastic_po.f90\n",
      "gfortran -g -O2 -std=f2008 -fimplicit-none -fmax-errors=10 -pedantic -pedantic-errors -Waliasing -Wampersand -Wcharacter-truncation -Wline-truncation -Wsurprising -Wno-tabs -Wunderflow -ffpe-trap=invalid,zero,overflow -Wunused -O3 -finline-functions  -J./obj -I./obj -I.  -I./setup -c -o obj/compute_curl_one_element.spec.o src/specfem2D/compute_curl_one_element.f90\n",
      "gfortran -g -O2 -std=f2008 -fimplicit-none -fmax-errors=10 -pedantic -pedantic-errors -Waliasing -Wampersand -Wcharacter-truncation -Wline-truncation -Wsurprising -Wno-tabs -Wunderflow -ffpe-trap=invalid,zero,overflow -Wunused -O3 -finline-functions  -J./obj -I./obj -I.  -I./setup -c -o obj/compute_energy.spec.o src/specfem2D/compute_energy.f90\n",
      "gfortran -g -O2 -std=f2008 -fimplicit-none -fmax-errors=10 -pedantic -pedantic-errors -Waliasing -Wampersand -Wcharacter-truncation -Wline-truncation -Wsurprising -Wno-tabs -Wunderflow -ffpe-trap=invalid,zero,overflow -Wunused -O3 -finline-functions  -J./obj -I./obj -I.  -I./setup -c -o obj/compute_forces_viscoacoustic.spec.o src/specfem2D/compute_forces_viscoacoustic.f90\n",
      "gfortran -g -O2 -std=f2008 -fimplicit-none -fmax-errors=10 -pedantic -pedantic-errors -Waliasing -Wampersand -Wcharacter-truncation -Wline-truncation -Wsurprising -Wno-tabs -Wunderflow -ffpe-trap=invalid,zero,overflow -Wunused -O3 -finline-functions  -J./obj -I./obj -I.  -I./setup -c -o obj/compute_attenuation_viscoacoustic.spec.o src/specfem2D/compute_attenuation_viscoacoustic.f90\n",
      "gfortran -g -O2 -std=f2008 -fimplicit-none -fmax-errors=10 -pedantic -pedantic-errors -Waliasing -Wampersand -Wcharacter-truncation -Wline-truncation -Wsurprising -Wno-tabs -Wunderflow -ffpe-trap=invalid,zero,overflow -Wunused -O3 -finline-functions  -J./obj -I./obj -I.  -I./setup -c -o obj/compute_forces_viscoacoustic_calling_routine.spec.o src/specfem2D/compute_forces_viscoacoustic_calling_routine.F90\n",
      "gfortran -g -O2 -std=f2008 -fimplicit-none -fmax-errors=10 -pedantic -pedantic-errors -Waliasing -Wampersand -Wcharacter-truncation -Wline-truncation -Wsurprising -Wno-tabs -Wunderflow -ffpe-trap=invalid,zero,overflow -Wunused -O3 -finline-functions  -J./obj -I./obj -I.  -I./setup -c -o obj/compute_forces_poroelastic_calling_routine.spec.o src/specfem2D/compute_forces_poroelastic_calling_routine.F90\n",
      "gfortran -g -O2 -std=f2008 -fimplicit-none -fmax-errors=10 -pedantic -pedantic-errors -Waliasing -Wampersand -Wcharacter-truncation -Wline-truncation -Wsurprising -Wno-tabs -Wunderflow -ffpe-trap=invalid,zero,overflow -Wunused -O3 -finline-functions  -J./obj -I./obj -I.  -I./setup -c -o obj/compute_forces_poro_fluid.spec.o src/specfem2D/compute_forces_poro_fluid.f90\n"
     ]
    },
    {
     "name": "stdout",
     "output_type": "stream",
     "text": [
      "gfortran -g -O2 -std=f2008 -fimplicit-none -fmax-errors=10 -pedantic -pedantic-errors -Waliasing -Wampersand -Wcharacter-truncation -Wline-truncation -Wsurprising -Wno-tabs -Wunderflow -ffpe-trap=invalid,zero,overflow -Wunused -O3 -finline-functions  -J./obj -I./obj -I.  -I./setup -c -o obj/compute_forces_poro_solid.spec.o src/specfem2D/compute_forces_poro_solid.f90\n",
      "gfortran -g -O2 -std=f2008 -fimplicit-none -fmax-errors=10 -pedantic -pedantic-errors -Waliasing -Wampersand -Wcharacter-truncation -Wline-truncation -Wsurprising -Wno-tabs -Wunderflow -ffpe-trap=invalid,zero,overflow -Wunused -O3 -finline-functions  -J./obj -I./obj -I.  -I./setup -c -o obj/compute_forces_poro_viscous_damping.spec.o src/specfem2D/compute_forces_poro_viscous_damping.f90\n",
      "gfortran -g -O2 -std=f2008 -fimplicit-none -fmax-errors=10 -pedantic -pedantic-errors -Waliasing -Wampersand -Wcharacter-truncation -Wline-truncation -Wsurprising -Wno-tabs -Wunderflow -ffpe-trap=invalid,zero,overflow -Wunused -O3 -finline-functions  -J./obj -I./obj -I.  -I./setup -c -o obj/compute_forces_viscoelastic.spec.o src/specfem2D/compute_forces_viscoelastic.F90\n",
      "gfortran -g -O2 -std=f2008 -fimplicit-none -fmax-errors=10 -pedantic -pedantic-errors -Waliasing -Wampersand -Wcharacter-truncation -Wline-truncation -Wsurprising -Wno-tabs -Wunderflow -ffpe-trap=invalid,zero,overflow -Wunused -O3 -finline-functions  -J./obj -I./obj -I.  -I./setup -c -o obj/compute_forces_viscoelastic_calling_routine.spec.o src/specfem2D/compute_forces_viscoelastic_calling_routine.F90\n",
      "gfortran -g -O2 -std=f2008 -fimplicit-none -fmax-errors=10 -pedantic -pedantic-errors -Waliasing -Wampersand -Wcharacter-truncation -Wline-truncation -Wsurprising -Wno-tabs -Wunderflow -ffpe-trap=invalid,zero,overflow -Wunused -O3 -finline-functions  -J./obj -I./obj -I.  -I./setup -c -o obj/compute_gpu_acoustic.spec.o src/specfem2D/compute_gpu_acoustic.f90\n",
      "gfortran -g -O2 -std=f2008 -fimplicit-none -fmax-errors=10 -pedantic -pedantic-errors -Waliasing -Wampersand -Wcharacter-truncation -Wline-truncation -Wsurprising -Wno-tabs -Wunderflow -ffpe-trap=invalid,zero,overflow -Wunused -O3 -finline-functions  -J./obj -I./obj -I.  -I./setup -c -o obj/compute_gpu_elastic.spec.o src/specfem2D/compute_gpu_elastic.f90\n",
      "gfortran -g -O2 -std=f2008 -fimplicit-none -fmax-errors=10 -pedantic -pedantic-errors -Waliasing -Wampersand -Wcharacter-truncation -Wline-truncation -Wsurprising -Wno-tabs -Wunderflow -ffpe-trap=invalid,zero,overflow -Wunused -O3 -finline-functions  -J./obj -I./obj -I.  -I./setup -c -o obj/compute_gradient_attenuation.spec.o src/specfem2D/compute_gradient_attenuation.f90\n",
      "gfortran -g -O2 -std=f2008 -fimplicit-none -fmax-errors=10 -pedantic -pedantic-errors -Waliasing -Wampersand -Wcharacter-truncation -Wline-truncation -Wsurprising -Wno-tabs -Wunderflow -ffpe-trap=invalid,zero,overflow -Wunused -O3 -finline-functions  -J./obj -I./obj -I.  -I./setup -c -o obj/compute_interpolated_dva.spec.o src/specfem2D/compute_interpolated_dva.f90\n",
      "gfortran -g -O2 -std=f2008 -fimplicit-none -fmax-errors=10 -pedantic -pedantic-errors -Waliasing -Wampersand -Wcharacter-truncation -Wline-truncation -Wsurprising -Wno-tabs -Wunderflow -ffpe-trap=invalid,zero,overflow -Wunused -O3 -finline-functions  -J./obj -I./obj -I.  -I./setup -c -o obj/compute_normal_vector.spec.o src/specfem2D/compute_normal_vector.f90\n",
      "gfortran -g -O2 -std=f2008 -fimplicit-none -fmax-errors=10 -pedantic -pedantic-errors -Waliasing -Wampersand -Wcharacter-truncation -Wline-truncation -Wsurprising -Wno-tabs -Wunderflow -ffpe-trap=invalid,zero,overflow -Wunused -O3 -finline-functions  -J./obj -I./obj -I.  -I./setup -c -o obj/compute_pressure.spec.o src/specfem2D/compute_pressure.f90\n",
      "gfortran -g -O2 -std=f2008 -fimplicit-none -fmax-errors=10 -pedantic -pedantic-errors -Waliasing -Wampersand -Wcharacter-truncation -Wline-truncation -Wsurprising -Wno-tabs -Wunderflow -ffpe-trap=invalid,zero,overflow -Wunused -O3 -finline-functions  -J./obj -I./obj -I.  -I./setup -c -o obj/compute_stacey_acoustic.spec.o src/specfem2D/compute_stacey_acoustic.f90\n",
      "gfortran -g -O2 -std=f2008 -fimplicit-none -fmax-errors=10 -pedantic -pedantic-errors -Waliasing -Wampersand -Wcharacter-truncation -Wline-truncation -Wsurprising -Wno-tabs -Wunderflow -ffpe-trap=invalid,zero,overflow -Wunused -O3 -finline-functions  -J./obj -I./obj -I.  -I./setup -c -o obj/compute_stacey_elastic.spec.o src/specfem2D/compute_stacey_elastic.f90\n",
      "gfortran -g -O2 -std=f2008 -fimplicit-none -fmax-errors=10 -pedantic -pedantic-errors -Waliasing -Wampersand -Wcharacter-truncation -Wline-truncation -Wsurprising -Wno-tabs -Wunderflow -ffpe-trap=invalid,zero,overflow -Wunused -O3 -finline-functions  -J./obj -I./obj -I.  -I./setup -c -o obj/compute_stacey_poroelastic.spec.o src/specfem2D/compute_stacey_poroelastic.f90\n",
      "gfortran -g -O2 -std=f2008 -fimplicit-none -fmax-errors=10 -pedantic -pedantic-errors -Waliasing -Wampersand -Wcharacter-truncation -Wline-truncation -Wsurprising -Wno-tabs -Wunderflow -ffpe-trap=invalid,zero,overflow -Wunused -O3 -finline-functions  -J./obj -I./obj -I.  -I./setup -c -o obj/compute_vector_field.spec.o src/specfem2D/compute_vector_field.f90\n",
      "gfortran -g -O2 -std=f2008 -fimplicit-none -fmax-errors=10 -pedantic -pedantic-errors -Waliasing -Wampersand -Wcharacter-truncation -Wline-truncation -Wsurprising -Wno-tabs -Wunderflow -ffpe-trap=invalid,zero,overflow -Wunused -O3 -finline-functions  -J./obj -I./obj -I.  -I./setup -c -o obj/construct_acoustic_surface.spec.o src/specfem2D/construct_acoustic_surface.f90\n",
      "gfortran -g -O2 -std=f2008 -fimplicit-none -fmax-errors=10 -pedantic -pedantic-errors -Waliasing -Wampersand -Wcharacter-truncation -Wline-truncation -Wsurprising -Wno-tabs -Wunderflow -ffpe-trap=invalid,zero,overflow -Wunused -O3 -finline-functions  -J./obj -I./obj -I.  -I./setup -c -o obj/convert_time.spec.o src/specfem2D/convert_time.f90\n",
      "gfortran -g -O2 -std=f2008 -fimplicit-none -fmax-errors=10 -pedantic -pedantic-errors -Waliasing -Wampersand -Wcharacter-truncation -Wline-truncation -Wsurprising -Wno-tabs -Wunderflow -ffpe-trap=invalid,zero,overflow -Wunused -O3 -finline-functions  -J./obj -I./obj -I.  -I./setup -c -o obj/create_color_image.spec.o src/specfem2D/create_color_image.f90\n",
      "gfortran -g -O2 -std=f2008 -fimplicit-none -fmax-errors=10 -pedantic -pedantic-errors -Waliasing -Wampersand -Wcharacter-truncation -Wline-truncation -Wsurprising -Wno-tabs -Wunderflow -ffpe-trap=invalid,zero,overflow -Wunused -O3 -finline-functions  -J./obj -I./obj -I.  -I./setup -c -o obj/createnum_fast.spec.o src/specfem2D/createnum_fast.f90\n",
      "gfortran -g -O2 -std=f2008 -fimplicit-none -fmax-errors=10 -pedantic -pedantic-errors -Waliasing -Wampersand -Wcharacter-truncation -Wline-truncation -Wsurprising -Wno-tabs -Wunderflow -ffpe-trap=invalid,zero,overflow -Wunused -O3 -finline-functions  -J./obj -I./obj -I.  -I./setup -c -o obj/createnum_slow.spec.o src/specfem2D/createnum_slow.f90\n",
      "gfortran -g -O2 -std=f2008 -fimplicit-none -fmax-errors=10 -pedantic -pedantic-errors -Waliasing -Wampersand -Wcharacter-truncation -Wline-truncation -Wsurprising -Wno-tabs -Wunderflow -ffpe-trap=invalid,zero,overflow -Wunused -O3 -finline-functions  -J./obj -I./obj -I.  -I./setup -c -o obj/datim.spec.o src/specfem2D/datim.f90\n",
      "gfortran -g -O2 -std=f2008 -fimplicit-none -fmax-errors=10 -pedantic -pedantic-errors -Waliasing -Wampersand -Wcharacter-truncation -Wline-truncation -Wsurprising -Wno-tabs -Wunderflow -ffpe-trap=invalid,zero,overflow -Wunused -O3 -finline-functions  -J./obj -I./obj -I.  -I./setup -c -o obj/define_derivation_matrices.spec.o src/specfem2D/define_derivation_matrices.f90\n",
      "gfortran -g -O2 -std=f2008 -fimplicit-none -fmax-errors=10 -pedantic -pedantic-errors -Waliasing -Wampersand -Wcharacter-truncation -Wline-truncation -Wsurprising -Wno-tabs -Wunderflow -ffpe-trap=invalid,zero,overflow -Wunused -O3 -finline-functions  -J./obj -I./obj -I.  -I./setup -c -o obj/define_external_model.spec.o src/specfem2D/define_external_model.f90\n",
      "gfortran -g -O2 -std=f2008 -fimplicit-none -fmax-errors=10 -pedantic -pedantic-errors -Waliasing -Wampersand -Wcharacter-truncation -Wline-truncation -Wsurprising -Wno-tabs -Wunderflow -ffpe-trap=invalid,zero,overflow -Wunused -O3 -finline-functions  -J./obj -I./obj -I.  -I./setup -c -o obj/define_external_model_from_tomo_file.spec.o src/specfem2D/define_external_model_from_tomo_file.f90\n"
     ]
    },
    {
     "name": "stdout",
     "output_type": "stream",
     "text": [
      "gfortran -g -O2 -std=f2008 -fimplicit-none -fmax-errors=10 -pedantic -pedantic-errors -Waliasing -Wampersand -Wcharacter-truncation -Wline-truncation -Wsurprising -Wno-tabs -Wunderflow -ffpe-trap=invalid,zero,overflow -Wunused -O3 -finline-functions  -J./obj -I./obj -I.  -I./setup -c -o obj/define_external_model_from_marmousi.spec.o src/specfem2D/define_external_model_from_marmousi.f90\n",
      "gfortran -g -O2 -std=f2008 -fimplicit-none -fmax-errors=10 -pedantic -pedantic-errors -Waliasing -Wampersand -Wcharacter-truncation -Wline-truncation -Wsurprising -Wno-tabs -Wunderflow -ffpe-trap=invalid,zero,overflow -Wunused -O3 -finline-functions  -J./obj -I./obj -I.  -I./setup -c -o obj/enforce_acoustic_free_surface.spec.o src/specfem2D/enforce_acoustic_free_surface.f90\n",
      "gfortran -g -O2 -std=f2008 -fimplicit-none -fmax-errors=10 -pedantic -pedantic-errors -Waliasing -Wampersand -Wcharacter-truncation -Wline-truncation -Wsurprising -Wno-tabs -Wunderflow -ffpe-trap=invalid,zero,overflow -Wunused -O3 -finline-functions  -J./obj -I./obj -I.  -I./setup -c -o obj/enforce_fields.spec.o src/specfem2D/enforce_fields.f90\n",
      "gfortran -g -O2 -std=f2008 -fimplicit-none -fmax-errors=10 -pedantic -pedantic-errors -Waliasing -Wampersand -Wcharacter-truncation -Wline-truncation -Wsurprising -Wno-tabs -Wunderflow -ffpe-trap=invalid,zero,overflow -Wunused -O3 -finline-functions  -J./obj -I./obj -I.  -I./setup -c -o obj/finalize_simulation.spec.o src/specfem2D/finalize_simulation.F90\n",
      "gfortran -g -O2 -std=f2008 -fimplicit-none -fmax-errors=10 -pedantic -pedantic-errors -Waliasing -Wampersand -Wcharacter-truncation -Wline-truncation -Wsurprising -Wno-tabs -Wunderflow -ffpe-trap=invalid,zero,overflow -Wunused -O3 -finline-functions  -J./obj -I./obj -I.  -I./setup -c -o obj/get_coupling_edges.spec.o src/specfem2D/get_coupling_edges.f90\n",
      "gfortran -g -O2 -std=f2008 -fimplicit-none -fmax-errors=10 -pedantic -pedantic-errors -Waliasing -Wampersand -Wcharacter-truncation -Wline-truncation -Wsurprising -Wno-tabs -Wunderflow -ffpe-trap=invalid,zero,overflow -Wunused -O3 -finline-functions  -J./obj -I./obj -I.  -I./setup -c -o obj/get_MPI.spec.o src/specfem2D/get_MPI.F90\n",
      "gfortran -g -O2 -std=f2008 -fimplicit-none -fmax-errors=10 -pedantic -pedantic-errors -Waliasing -Wampersand -Wcharacter-truncation -Wline-truncation -Wsurprising -Wno-tabs -Wunderflow -ffpe-trap=invalid,zero,overflow -Wunused -O3 -finline-functions  -J./obj -I./obj -I.  -I./setup -c -o obj/get_global.spec.o src/specfem2D/get_global.f90\n",
      "gfortran -g -O2 -std=f2008 -fimplicit-none -fmax-errors=10 -pedantic -pedantic-errors -Waliasing -Wampersand -Wcharacter-truncation -Wline-truncation -Wsurprising -Wno-tabs -Wunderflow -ffpe-trap=invalid,zero,overflow -Wunused -O3 -finline-functions  -J./obj -I./obj -I.  -I./setup -c -o obj/get_poroelastic_velocities.spec.o src/specfem2D/get_poroelastic_velocities.f90\n",
      "gfortran -g -O2 -std=f2008 -fimplicit-none -fmax-errors=10 -pedantic -pedantic-errors -Waliasing -Wampersand -Wcharacter-truncation -Wline-truncation -Wsurprising -Wno-tabs -Wunderflow -ffpe-trap=invalid,zero,overflow -Wunused -O3 -finline-functions  -J./obj -I./obj -I.  -I./setup -c -o obj/get_simulation_domains.spec.o src/specfem2D/get_simulation_domains.f90\n",
      "gfortran -g -O2 -std=f2008 -fimplicit-none -fmax-errors=10 -pedantic -pedantic-errors -Waliasing -Wampersand -Wcharacter-truncation -Wline-truncation -Wsurprising -Wno-tabs -Wunderflow -ffpe-trap=invalid,zero,overflow -Wunused -O3 -finline-functions  -J./obj -I./obj -I.  -I./setup -c -o obj/initialize_simulation.spec.o src/specfem2D/initialize_simulation.F90\n",
      "gfortran -g -O2 -std=f2008 -fimplicit-none -fmax-errors=10 -pedantic -pedantic-errors -Waliasing -Wampersand -Wcharacter-truncation -Wline-truncation -Wsurprising -Wno-tabs -Wunderflow -ffpe-trap=invalid,zero,overflow -Wunused -O3 -finline-functions  -J./obj -I./obj -I.  -I./setup -c -o obj/invert_mass_matrix.spec.o src/specfem2D/invert_mass_matrix.F90\n",
      "gfortran -g -O2 -std=f2008 -fimplicit-none -fmax-errors=10 -pedantic -pedantic-errors -Waliasing -Wampersand -Wcharacter-truncation -Wline-truncation -Wsurprising -Wno-tabs -Wunderflow -ffpe-trap=invalid,zero,overflow -Wunused -O3 -finline-functions  -J./obj -I./obj -I.  -I./setup -c -o obj/is_in_convex_quadrilateral.spec.o src/specfem2D/is_in_convex_quadrilateral.f90\n",
      "gfortran -g -O2 -std=f2008 -fimplicit-none -fmax-errors=10 -pedantic -pedantic-errors -Waliasing -Wampersand -Wcharacter-truncation -Wline-truncation -Wsurprising -Wno-tabs -Wunderflow -ffpe-trap=invalid,zero,overflow -Wunused -O3 -finline-functions  -J./obj -I./obj -I.  -I./setup -c -o obj/iterate_time.spec.o src/specfem2D/iterate_time.F90\n",
      "gfortran -g -O2 -std=f2008 -fimplicit-none -fmax-errors=10 -pedantic -pedantic-errors -Waliasing -Wampersand -Wcharacter-truncation -Wline-truncation -Wsurprising -Wno-tabs -Wunderflow -ffpe-trap=invalid,zero,overflow -Wunused -O3 -finline-functions  -J./obj -I./obj -I.  -I./setup -c -o obj/iterate_time_undoatt.spec.o src/specfem2D/iterate_time_undoatt.F90\n",
      "gfortran -g -O2 -std=f2008 -fimplicit-none -fmax-errors=10 -pedantic -pedantic-errors -Waliasing -Wampersand -Wcharacter-truncation -Wline-truncation -Wsurprising -Wno-tabs -Wunderflow -ffpe-trap=invalid,zero,overflow -Wunused -O3 -finline-functions  -J./obj -I./obj -I.  -I./setup -c -o obj/locate_receivers.spec.o src/specfem2D/locate_receivers.F90\n",
      "gfortran -g -O2 -std=f2008 -fimplicit-none -fmax-errors=10 -pedantic -pedantic-errors -Waliasing -Wampersand -Wcharacter-truncation -Wline-truncation -Wsurprising -Wno-tabs -Wunderflow -ffpe-trap=invalid,zero,overflow -Wunused -O3 -finline-functions  -J./obj -I./obj -I.  -I./setup -c -o obj/locate_source.spec.o src/specfem2D/locate_source.F90\n",
      "gfortran -g -O2 -std=f2008 -fimplicit-none -fmax-errors=10 -pedantic -pedantic-errors -Waliasing -Wampersand -Wcharacter-truncation -Wline-truncation -Wsurprising -Wno-tabs -Wunderflow -ffpe-trap=invalid,zero,overflow -Wunused -O3 -finline-functions  -J./obj -I./obj -I.  -I./setup -c -o obj/netlib_specfun_erf.spec.o src/specfem2D/netlib_specfun_erf.f90\n",
      "gfortran -g -O2 -std=f2008 -fimplicit-none -fmax-errors=10 -pedantic -pedantic-errors -Waliasing -Wampersand -Wcharacter-truncation -Wline-truncation -Wsurprising -Wno-tabs -Wunderflow -ffpe-trap=invalid,zero,overflow -Wunused -O3 -finline-functions  -J./obj -I./obj -I.  -I./setup -c -o obj/noise_tomography.spec.o src/specfem2D/noise_tomography.f90\n",
      "gfortran -g -O2 -std=f2008 -fimplicit-none -fmax-errors=10 -pedantic -pedantic-errors -Waliasing -Wampersand -Wcharacter-truncation -Wline-truncation -Wsurprising -Wno-tabs -Wunderflow -ffpe-trap=invalid,zero,overflow -Wunused -O3 -finline-functions  -J./obj -I./obj -I.  -I./setup -c -o obj/paco_beyond_critical.spec.o src/specfem2D/paco_beyond_critical.f90\n",
      "gfortran -g -O2 -std=f2008 -fimplicit-none -fmax-errors=10 -pedantic -pedantic-errors -Waliasing -Wampersand -Wcharacter-truncation -Wline-truncation -Wsurprising -Wno-tabs -Wunderflow -ffpe-trap=invalid,zero,overflow -Wunused -O3 -finline-functions  -J./obj -I./obj -I.  -I./setup -c -o obj/paco_convolve_fft.spec.o src/specfem2D/paco_convolve_fft.f90\n",
      "gfortran -g -O2 -std=f2008 -fimplicit-none -fmax-errors=10 -pedantic -pedantic-errors -Waliasing -Wampersand -Wcharacter-truncation -Wline-truncation -Wsurprising -Wno-tabs -Wunderflow -ffpe-trap=invalid,zero,overflow -Wunused -O3 -finline-functions  -J./obj -I./obj -I.  -I./setup -c -o obj/plot_gll.spec.o src/specfem2D/plot_gll.f90\n",
      "gfortran -g -O2 -std=f2008 -fimplicit-none -fmax-errors=10 -pedantic -pedantic-errors -Waliasing -Wampersand -Wcharacter-truncation -Wline-truncation -Wsurprising -Wno-tabs -Wunderflow -ffpe-trap=invalid,zero,overflow -Wunused -O3 -finline-functions  -J./obj -I./obj -I.  -I./setup -c -o obj/plot_post.spec.o src/specfem2D/plot_post.F90\n",
      "gfortran -g -O2 -std=f2008 -fimplicit-none -fmax-errors=10 -pedantic -pedantic-errors -Waliasing -Wampersand -Wcharacter-truncation -Wline-truncation -Wsurprising -Wno-tabs -Wunderflow -ffpe-trap=invalid,zero,overflow -Wunused -O3 -finline-functions  -J./obj -I./obj -I.  -I./setup -c -o obj/pml_init.spec.o src/specfem2D/pml_init.F90\n",
      "gfortran -g -O2 -std=f2008 -fimplicit-none -fmax-errors=10 -pedantic -pedantic-errors -Waliasing -Wampersand -Wcharacter-truncation -Wline-truncation -Wsurprising -Wno-tabs -Wunderflow -ffpe-trap=invalid,zero,overflow -Wunused -O3 -finline-functions  -J./obj -I./obj -I.  -I./setup -c -o obj/pml_compute.spec.o src/specfem2D/pml_compute.f90\n",
      "gfortran -g -O2 -std=f2008 -fimplicit-none -fmax-errors=10 -pedantic -pedantic-errors -Waliasing -Wampersand -Wcharacter-truncation -Wline-truncation -Wsurprising -Wno-tabs -Wunderflow -ffpe-trap=invalid,zero,overflow -Wunused -O3 -finline-functions  -J./obj -I./obj -I.  -I./setup -c -o obj/pml_compute_accel_contribution.spec.o src/specfem2D/pml_compute_accel_contribution.f90\n"
     ]
    },
    {
     "name": "stdout",
     "output_type": "stream",
     "text": [
      "gfortran -g -O2 -std=f2008 -fimplicit-none -fmax-errors=10 -pedantic -pedantic-errors -Waliasing -Wampersand -Wcharacter-truncation -Wline-truncation -Wsurprising -Wno-tabs -Wunderflow -ffpe-trap=invalid,zero,overflow -Wunused -O3 -finline-functions  -J./obj -I./obj -I.  -I./setup -c -o obj/pml_compute_memory_variables.spec.o src/specfem2D/pml_compute_memory_variables.f90\n",
      "gfortran -g -O2 -std=f2008 -fimplicit-none -fmax-errors=10 -pedantic -pedantic-errors -Waliasing -Wampersand -Wcharacter-truncation -Wline-truncation -Wsurprising -Wno-tabs -Wunderflow -ffpe-trap=invalid,zero,overflow -Wunused -O3 -finline-functions  -J./obj -I./obj -I.  -I./setup -c -o obj/prepare_absorb.spec.o src/specfem2D/prepare_absorb.f90\n",
      "gfortran -g -O2 -std=f2008 -fimplicit-none -fmax-errors=10 -pedantic -pedantic-errors -Waliasing -Wampersand -Wcharacter-truncation -Wline-truncation -Wsurprising -Wno-tabs -Wunderflow -ffpe-trap=invalid,zero,overflow -Wunused -O3 -finline-functions  -J./obj -I./obj -I.  -I./setup -c -o obj/prepare_assemble_MPI.spec.o src/specfem2D/prepare_assemble_MPI.F90\n",
      "gfortran -g -O2 -std=f2008 -fimplicit-none -fmax-errors=10 -pedantic -pedantic-errors -Waliasing -Wampersand -Wcharacter-truncation -Wline-truncation -Wsurprising -Wno-tabs -Wunderflow -ffpe-trap=invalid,zero,overflow -Wunused -O3 -finline-functions  -J./obj -I./obj -I.  -I./setup -c -o obj/prepare_attenuation.spec.o src/specfem2D/prepare_attenuation.f90\n",
      "gfortran -g -O2 -std=f2008 -fimplicit-none -fmax-errors=10 -pedantic -pedantic-errors -Waliasing -Wampersand -Wcharacter-truncation -Wline-truncation -Wsurprising -Wno-tabs -Wunderflow -ffpe-trap=invalid,zero,overflow -Wunused -O3 -finline-functions  -J./obj -I./obj -I.  -I./setup -c -o obj/prepare_color_image.spec.o src/specfem2D/prepare_color_image.F90\n",
      "gfortran -g -O2 -std=f2008 -fimplicit-none -fmax-errors=10 -pedantic -pedantic-errors -Waliasing -Wampersand -Wcharacter-truncation -Wline-truncation -Wsurprising -Wno-tabs -Wunderflow -ffpe-trap=invalid,zero,overflow -Wunused -O3 -finline-functions  -J./obj -I./obj -I.  -I./setup -c -o obj/prepare_gpu.spec.o src/specfem2D/prepare_gpu.f90\n",
      "gfortran -g -O2 -std=f2008 -fimplicit-none -fmax-errors=10 -pedantic -pedantic-errors -Waliasing -Wampersand -Wcharacter-truncation -Wline-truncation -Wsurprising -Wno-tabs -Wunderflow -ffpe-trap=invalid,zero,overflow -Wunused -O3 -finline-functions  -J./obj -I./obj -I.  -I./setup -c -o obj/prepare_initial_field.spec.o src/specfem2D/prepare_initial_field.F90\n",
      "gfortran -g -O2 -std=f2008 -fimplicit-none -fmax-errors=10 -pedantic -pedantic-errors -Waliasing -Wampersand -Wcharacter-truncation -Wline-truncation -Wsurprising -Wno-tabs -Wunderflow -ffpe-trap=invalid,zero,overflow -Wunused -O3 -finline-functions  -J./obj -I./obj -I.  -I./setup -c -o obj/prepare_pml.spec.o src/specfem2D/prepare_pml.f90\n",
      "gfortran -g -O2 -std=f2008 -fimplicit-none -fmax-errors=10 -pedantic -pedantic-errors -Waliasing -Wampersand -Wcharacter-truncation -Wline-truncation -Wsurprising -Wno-tabs -Wunderflow -ffpe-trap=invalid,zero,overflow -Wunused -O3 -finline-functions  -J./obj -I./obj -I.  -I./setup -c -o obj/prepare_source_time_function.spec.o src/specfem2D/prepare_source_time_function.f90\n",
      "gfortran -g -O2 -std=f2008 -fimplicit-none -fmax-errors=10 -pedantic -pedantic-errors -Waliasing -Wampersand -Wcharacter-truncation -Wline-truncation -Wsurprising -Wno-tabs -Wunderflow -ffpe-trap=invalid,zero,overflow -Wunused -O3 -finline-functions  -J./obj -I./obj -I.  -I./setup -c -o obj/prepare_timerun.spec.o src/specfem2D/prepare_timerun.F90\n",
      "gfortran -g -O2 -std=f2008 -fimplicit-none -fmax-errors=10 -pedantic -pedantic-errors -Waliasing -Wampersand -Wcharacter-truncation -Wline-truncation -Wsurprising -Wno-tabs -Wunderflow -ffpe-trap=invalid,zero,overflow -Wunused -O3 -finline-functions  -J./obj -I./obj -I.  -I./setup -c -o obj/prepare_wavefields.spec.o src/specfem2D/prepare_wavefields.f90\n",
      "gfortran -g -O2 -std=f2008 -fimplicit-none -fmax-errors=10 -pedantic -pedantic-errors -Waliasing -Wampersand -Wcharacter-truncation -Wline-truncation -Wsurprising -Wno-tabs -Wunderflow -ffpe-trap=invalid,zero,overflow -Wunused -O3 -finline-functions  -J./obj -I./obj -I.  -I./setup -c -o obj/read_materials.spec.o src/specfem2D/read_materials.f90\n",
      "gfortran -g -O2 -std=f2008 -fimplicit-none -fmax-errors=10 -pedantic -pedantic-errors -Waliasing -Wampersand -Wcharacter-truncation -Wline-truncation -Wsurprising -Wno-tabs -Wunderflow -ffpe-trap=invalid,zero,overflow -Wunused -O3 -finline-functions  -J./obj -I./obj -I.  -I./setup -c -o obj/read_mesh_databases.spec.o src/specfem2D/read_mesh_databases.F90\n",
      "gfortran -g -O2 -std=f2008 -fimplicit-none -fmax-errors=10 -pedantic -pedantic-errors -Waliasing -Wampersand -Wcharacter-truncation -Wline-truncation -Wsurprising -Wno-tabs -Wunderflow -ffpe-trap=invalid,zero,overflow -Wunused -O3 -finline-functions  -J./obj -I./obj -I.  -I./setup -c -o obj/read_external_model.spec.o src/specfem2D/read_external_model.f90\n",
      "gfortran -g -O2 -std=f2008 -fimplicit-none -fmax-errors=10 -pedantic -pedantic-errors -Waliasing -Wampersand -Wcharacter-truncation -Wline-truncation -Wsurprising -Wno-tabs -Wunderflow -ffpe-trap=invalid,zero,overflow -Wunused -O3 -finline-functions  -J./obj -I./obj -I.  -I./setup -c -o obj/read_forward_arrays.spec.o src/specfem2D/read_forward_arrays.f90\n",
      "gfortran -g -O2 -std=f2008 -fimplicit-none -fmax-errors=10 -pedantic -pedantic-errors -Waliasing -Wampersand -Wcharacter-truncation -Wline-truncation -Wsurprising -Wno-tabs -Wunderflow -ffpe-trap=invalid,zero,overflow -Wunused -O3 -finline-functions  -J./obj -I./obj -I.  -I./setup -c -o obj/read_save_binary_database.spec.o src/specfem2D/read_save_binary_database.f90\n",
      "gfortran -g -O2 -std=f2008 -fimplicit-none -fmax-errors=10 -pedantic -pedantic-errors -Waliasing -Wampersand -Wcharacter-truncation -Wline-truncation -Wsurprising -Wno-tabs -Wunderflow -ffpe-trap=invalid,zero,overflow -Wunused -O3 -finline-functions  -J./obj -I./obj -I.  -I./setup -c -o obj/recompute_jacobian.spec.o src/specfem2D/recompute_jacobian.f90\n",
      "gfortran -g -O2 -std=f2008 -fimplicit-none -fmax-errors=10 -pedantic -pedantic-errors -Waliasing -Wampersand -Wcharacter-truncation -Wline-truncation -Wsurprising -Wno-tabs -Wunderflow -ffpe-trap=invalid,zero,overflow -Wunused -O3 -finline-functions  -J./obj -I./obj -I.  -I./setup -c -o obj/save_adjoint_kernels.spec.o src/specfem2D/save_adjoint_kernels.f90\n",
      "gfortran -g -O2 -std=f2008 -fimplicit-none -fmax-errors=10 -pedantic -pedantic-errors -Waliasing -Wampersand -Wcharacter-truncation -Wline-truncation -Wsurprising -Wno-tabs -Wunderflow -ffpe-trap=invalid,zero,overflow -Wunused -O3 -finline-functions  -J./obj -I./obj -I.  -I./setup -c -o obj/save_forward_arrays.spec.o src/specfem2D/save_forward_arrays.f90\n",
      "gfortran -g -O2 -std=f2008 -fimplicit-none -fmax-errors=10 -pedantic -pedantic-errors -Waliasing -Wampersand -Wcharacter-truncation -Wline-truncation -Wsurprising -Wno-tabs -Wunderflow -ffpe-trap=invalid,zero,overflow -Wunused -O3 -finline-functions  -J./obj -I./obj -I.  -I./setup -c -o obj/save_model_files.spec.o src/specfem2D/save_model_files.f90\n",
      "gfortran -g -O2 -std=f2008 -fimplicit-none -fmax-errors=10 -pedantic -pedantic-errors -Waliasing -Wampersand -Wcharacter-truncation -Wline-truncation -Wsurprising -Wno-tabs -Wunderflow -ffpe-trap=invalid,zero,overflow -Wunused -O3 -finline-functions  -J./obj -I./obj -I.  -I./setup -c -o obj/save_openDX_jacobian.spec.o src/specfem2D/save_openDX_jacobian.f90\n",
      "gfortran -g -O2 -std=f2008 -fimplicit-none -fmax-errors=10 -pedantic -pedantic-errors -Waliasing -Wampersand -Wcharacter-truncation -Wline-truncation -Wsurprising -Wno-tabs -Wunderflow -ffpe-trap=invalid,zero,overflow -Wunused -O3 -finline-functions  -J./obj -I./obj -I.  -I./setup -c -o obj/set_source_parameters.spec.o src/specfem2D/set_source_parameters.f90\n",
      "gfortran -g -O2 -std=f2008 -fimplicit-none -fmax-errors=10 -pedantic -pedantic-errors -Waliasing -Wampersand -Wcharacter-truncation -Wline-truncation -Wsurprising -Wno-tabs -Wunderflow -ffpe-trap=invalid,zero,overflow -Wunused -O3 -finline-functions  -J./obj -I./obj -I.  -I./setup -c -o obj/setup_GLL_points.spec.o src/specfem2D/setup_GLL_points.f90\n",
      "gfortran -g -O2 -std=f2008 -fimplicit-none -fmax-errors=10 -pedantic -pedantic-errors -Waliasing -Wampersand -Wcharacter-truncation -Wline-truncation -Wsurprising -Wno-tabs -Wunderflow -ffpe-trap=invalid,zero,overflow -Wunused -O3 -finline-functions  -J./obj -I./obj -I.  -I./setup -c -o obj/setup_mesh.spec.o src/specfem2D/setup_mesh.F90\n"
     ]
    },
    {
     "name": "stdout",
     "output_type": "stream",
     "text": [
      "gfortran -g -O2 -std=f2008 -fimplicit-none -fmax-errors=10 -pedantic -pedantic-errors -Waliasing -Wampersand -Wcharacter-truncation -Wline-truncation -Wsurprising -Wno-tabs -Wunderflow -ffpe-trap=invalid,zero,overflow -Wunused -O3 -finline-functions  -J./obj -I./obj -I.  -I./setup -c -o obj/setup_sources_receivers.spec.o src/specfem2D/setup_sources_receivers.F90\n",
      "gfortran -g -O2 -std=f2008 -fimplicit-none -fmax-errors=10 -pedantic -pedantic-errors -Waliasing -Wampersand -Wcharacter-truncation -Wline-truncation -Wsurprising -Wno-tabs -Wunderflow -ffpe-trap=invalid,zero,overflow -Wunused -O3 -finline-functions  -J./obj -I./obj -I.  -I./setup -c -o obj/sort_array_coordinates.spec.o src/specfem2D/sort_array_coordinates.F90\n",
      "gfortran -g -O2 -std=f2008 -fimplicit-none -fmax-errors=10 -pedantic -pedantic-errors -Waliasing -Wampersand -Wcharacter-truncation -Wline-truncation -Wsurprising -Wno-tabs -Wunderflow -ffpe-trap=invalid,zero,overflow -Wunused -O3 -finline-functions  -J./obj -I./obj -I.  -I./setup -c -o obj/specfem2D.spec.o src/specfem2D/specfem2D.F90\n",
      "gfortran -g -O2 -std=f2008 -fimplicit-none -fmax-errors=10 -pedantic -pedantic-errors -Waliasing -Wampersand -Wcharacter-truncation -Wline-truncation -Wsurprising -Wno-tabs -Wunderflow -ffpe-trap=invalid,zero,overflow -Wunused -O3 -finline-functions  -J./obj -I./obj -I.  -I./setup -c -o obj/update_displacement_LDDRK.spec.o src/specfem2D/update_displacement_LDDRK.F90\n",
      "gfortran -g -O2 -std=f2008 -fimplicit-none -fmax-errors=10 -pedantic -pedantic-errors -Waliasing -Wampersand -Wcharacter-truncation -Wline-truncation -Wsurprising -Wno-tabs -Wunderflow -ffpe-trap=invalid,zero,overflow -Wunused -O3 -finline-functions  -J./obj -I./obj -I.  -I./setup -c -o obj/update_displacement_Newmark.spec.o src/specfem2D/update_displacement_Newmark.F90\n",
      "gfortran -g -O2 -std=f2008 -fimplicit-none -fmax-errors=10 -pedantic -pedantic-errors -Waliasing -Wampersand -Wcharacter-truncation -Wline-truncation -Wsurprising -Wno-tabs -Wunderflow -ffpe-trap=invalid,zero,overflow -Wunused -O3 -finline-functions  -J./obj -I./obj -I.  -I./setup -c -o obj/update_displacement_RK.spec.o src/specfem2D/update_displacement_RK.F90\n",
      "gfortran -g -O2 -std=f2008 -fimplicit-none -fmax-errors=10 -pedantic -pedantic-errors -Waliasing -Wampersand -Wcharacter-truncation -Wline-truncation -Wsurprising -Wno-tabs -Wunderflow -ffpe-trap=invalid,zero,overflow -Wunused -O3 -finline-functions  -J./obj -I./obj -I.  -I./setup -c -o obj/update_displacement_symplectic.spec.o src/specfem2D/update_displacement_symplectic.F90\n",
      "gfortran -g -O2 -std=f2008 -fimplicit-none -fmax-errors=10 -pedantic -pedantic-errors -Waliasing -Wampersand -Wcharacter-truncation -Wline-truncation -Wsurprising -Wno-tabs -Wunderflow -ffpe-trap=invalid,zero,overflow -Wunused -O3 -finline-functions  -J./obj -I./obj -I.  -I./setup -c -o obj/compute_kernels.spec.o src/specfem2D/compute_kernels.f90\n",
      "gcc -g -O2  -I./setup -I./external_libs/libjpeg -c -o obj/write_jpeg_image.cc.o src/specfem2D/write_jpeg_image.c\n",
      "gcc -g -O2  -I./setup -I./external_libs/libjpeg -c -o obj/attenuation_compute_param.cc.o src/specfem2D/attenuation_compute_param.c\n",
      "gfortran -g -O2 -std=f2008 -fimplicit-none -fmax-errors=10 -pedantic -pedantic-errors -Waliasing -Wampersand -Wcharacter-truncation -Wline-truncation -Wsurprising -Wno-tabs -Wunderflow -ffpe-trap=invalid,zero,overflow -Wunused -O3 -finline-functions  -J./obj -I./obj -I.  -I./setup -c -o obj/write_movie_output.spec.o src/specfem2D/write_movie_output.f90\n",
      "gfortran -g -O2 -std=f2008 -fimplicit-none -fmax-errors=10 -pedantic -pedantic-errors -Waliasing -Wampersand -Wcharacter-truncation -Wline-truncation -Wsurprising -Wno-tabs -Wunderflow -ffpe-trap=invalid,zero,overflow -Wunused -O3 -finline-functions  -J./obj -I./obj -I.  -I./setup -c -o obj/write_output_SU.spec.o src/specfem2D/write_output_SU.f90\n",
      "gfortran -g -O2 -std=f2008 -fimplicit-none -fmax-errors=10 -pedantic -pedantic-errors -Waliasing -Wampersand -Wcharacter-truncation -Wline-truncation -Wsurprising -Wno-tabs -Wunderflow -ffpe-trap=invalid,zero,overflow -Wunused -O3 -finline-functions  -J./obj -I./obj -I.  -I./setup -c -o obj/write_seismograms.spec.o src/specfem2D/write_seismograms.F90\n",
      "gfortran -g -O2 -std=f2008 -fimplicit-none -fmax-errors=10 -pedantic -pedantic-errors -Waliasing -Wampersand -Wcharacter-truncation -Wline-truncation -Wsurprising -Wno-tabs -Wunderflow -ffpe-trap=invalid,zero,overflow -Wunused -O3 -finline-functions  -J./obj -I./obj -I.  -I./setup -c -o obj/write_postscript_snapshot.spec.o src/specfem2D/write_postscript_snapshot.f90\n",
      "gfortran -g -O2 -std=f2008 -fimplicit-none -fmax-errors=10 -pedantic -pedantic-errors -Waliasing -Wampersand -Wcharacter-truncation -Wline-truncation -Wsurprising -Wno-tabs -Wunderflow -ffpe-trap=invalid,zero,overflow -Wunused -O3 -finline-functions  -J./obj -I./obj -I.  -I./setup -c -o obj/write_color_image_snaphot.spec.o src/specfem2D/write_color_image_snaphot.F90\n",
      "gfortran -g -O2 -std=f2008 -fimplicit-none -fmax-errors=10 -pedantic -pedantic-errors -Waliasing -Wampersand -Wcharacter-truncation -Wline-truncation -Wsurprising -Wno-tabs -Wunderflow -ffpe-trap=invalid,zero,overflow -Wunused -O3 -finline-functions  -J./obj -I./obj -I.  -I./setup -c -o obj/write_wavefield_dumps.spec.o src/specfem2D/write_wavefield_dumps.F90\n",
      "gfortran -g -O2 -std=f2008 -fimplicit-none -fmax-errors=10 -pedantic -pedantic-errors -Waliasing -Wampersand -Wcharacter-truncation -Wline-truncation -Wsurprising -Wno-tabs -Wunderflow -ffpe-trap=invalid,zero,overflow -Wunused -O3 -finline-functions  -J./obj -I./obj -I.  -I./setup -c -o obj/save_read_array_for_undoatt.spec.o src/specfem2D/save_read_array_for_undoatt.f90\n",
      "gcc -c -g -O2  -I./setup -I./external_libs/libjpeg -o obj/jaricom.cc_jpeg.o external_libs/libjpeg/jaricom.c\n",
      "gcc -c -g -O2  -I./setup -I./external_libs/libjpeg -o obj/jcapimin.cc_jpeg.o external_libs/libjpeg/jcapimin.c\n",
      "gcc -c -g -O2  -I./setup -I./external_libs/libjpeg -o obj/jcapistd.cc_jpeg.o external_libs/libjpeg/jcapistd.c\n",
      "gcc -c -g -O2  -I./setup -I./external_libs/libjpeg -o obj/jcarith.cc_jpeg.o external_libs/libjpeg/jcarith.c\n",
      "gcc -c -g -O2  -I./setup -I./external_libs/libjpeg -o obj/jccoefct.cc_jpeg.o external_libs/libjpeg/jccoefct.c\n",
      "gcc -c -g -O2  -I./setup -I./external_libs/libjpeg -o obj/jccolor.cc_jpeg.o external_libs/libjpeg/jccolor.c\n",
      "gcc -c -g -O2  -I./setup -I./external_libs/libjpeg -o obj/jcdctmgr.cc_jpeg.o external_libs/libjpeg/jcdctmgr.c\n",
      "gcc -c -g -O2  -I./setup -I./external_libs/libjpeg -o obj/jchuff.cc_jpeg.o external_libs/libjpeg/jchuff.c\n",
      "gcc -c -g -O2  -I./setup -I./external_libs/libjpeg -o obj/jcinit.cc_jpeg.o external_libs/libjpeg/jcinit.c\n",
      "gcc -c -g -O2  -I./setup -I./external_libs/libjpeg -o obj/jcmainct.cc_jpeg.o external_libs/libjpeg/jcmainct.c\n",
      "gcc -c -g -O2  -I./setup -I./external_libs/libjpeg -o obj/jcmarker.cc_jpeg.o external_libs/libjpeg/jcmarker.c\n",
      "gcc -c -g -O2  -I./setup -I./external_libs/libjpeg -o obj/jcmaster.cc_jpeg.o external_libs/libjpeg/jcmaster.c\n",
      "gcc -c -g -O2  -I./setup -I./external_libs/libjpeg -o obj/jcomapi.cc_jpeg.o external_libs/libjpeg/jcomapi.c\n",
      "gcc -c -g -O2  -I./setup -I./external_libs/libjpeg -o obj/jcparam.cc_jpeg.o external_libs/libjpeg/jcparam.c\n",
      "gcc -c -g -O2  -I./setup -I./external_libs/libjpeg -o obj/jcprepct.cc_jpeg.o external_libs/libjpeg/jcprepct.c\n",
      "gcc -c -g -O2  -I./setup -I./external_libs/libjpeg -o obj/jcsample.cc_jpeg.o external_libs/libjpeg/jcsample.c\n",
      "gcc -c -g -O2  -I./setup -I./external_libs/libjpeg -o obj/jctrans.cc_jpeg.o external_libs/libjpeg/jctrans.c\n",
      "gcc -c -g -O2  -I./setup -I./external_libs/libjpeg -o obj/jdapimin.cc_jpeg.o external_libs/libjpeg/jdapimin.c\n",
      "gcc -c -g -O2  -I./setup -I./external_libs/libjpeg -o obj/jdapistd.cc_jpeg.o external_libs/libjpeg/jdapistd.c\n",
      "gcc -c -g -O2  -I./setup -I./external_libs/libjpeg -o obj/jdarith.cc_jpeg.o external_libs/libjpeg/jdarith.c\n",
      "gcc -c -g -O2  -I./setup -I./external_libs/libjpeg -o obj/jdatadst.cc_jpeg.o external_libs/libjpeg/jdatadst.c\n",
      "gcc -c -g -O2  -I./setup -I./external_libs/libjpeg -o obj/jdatasrc.cc_jpeg.o external_libs/libjpeg/jdatasrc.c\n",
      "gcc -c -g -O2  -I./setup -I./external_libs/libjpeg -o obj/jdcoefct.cc_jpeg.o external_libs/libjpeg/jdcoefct.c\n",
      "gcc -c -g -O2  -I./setup -I./external_libs/libjpeg -o obj/jdcolor.cc_jpeg.o external_libs/libjpeg/jdcolor.c\n"
     ]
    },
    {
     "name": "stdout",
     "output_type": "stream",
     "text": [
      "gcc -c -g -O2  -I./setup -I./external_libs/libjpeg -o obj/jddctmgr.cc_jpeg.o external_libs/libjpeg/jddctmgr.c\n",
      "gcc -c -g -O2  -I./setup -I./external_libs/libjpeg -o obj/jdhuff.cc_jpeg.o external_libs/libjpeg/jdhuff.c\n",
      "gcc -c -g -O2  -I./setup -I./external_libs/libjpeg -o obj/jdinput.cc_jpeg.o external_libs/libjpeg/jdinput.c\n",
      "gcc -c -g -O2  -I./setup -I./external_libs/libjpeg -o obj/jdmainct.cc_jpeg.o external_libs/libjpeg/jdmainct.c\n",
      "gcc -c -g -O2  -I./setup -I./external_libs/libjpeg -o obj/jdmarker.cc_jpeg.o external_libs/libjpeg/jdmarker.c\n",
      "gcc -c -g -O2  -I./setup -I./external_libs/libjpeg -o obj/jdmaster.cc_jpeg.o external_libs/libjpeg/jdmaster.c\n",
      "gcc -c -g -O2  -I./setup -I./external_libs/libjpeg -o obj/jdmerge.cc_jpeg.o external_libs/libjpeg/jdmerge.c\n",
      "gcc -c -g -O2  -I./setup -I./external_libs/libjpeg -o obj/jdpostct.cc_jpeg.o external_libs/libjpeg/jdpostct.c\n",
      "gcc -c -g -O2  -I./setup -I./external_libs/libjpeg -o obj/jdsample.cc_jpeg.o external_libs/libjpeg/jdsample.c\n",
      "gcc -c -g -O2  -I./setup -I./external_libs/libjpeg -o obj/jdtrans.cc_jpeg.o external_libs/libjpeg/jdtrans.c\n",
      "gcc -c -g -O2  -I./setup -I./external_libs/libjpeg -o obj/jerror.cc_jpeg.o external_libs/libjpeg/jerror.c\n",
      "gcc -c -g -O2  -I./setup -I./external_libs/libjpeg -o obj/jfdctflt.cc_jpeg.o external_libs/libjpeg/jfdctflt.c\n",
      "gcc -c -g -O2  -I./setup -I./external_libs/libjpeg -o obj/jfdctfst.cc_jpeg.o external_libs/libjpeg/jfdctfst.c\n",
      "gcc -c -g -O2  -I./setup -I./external_libs/libjpeg -o obj/jfdctint.cc_jpeg.o external_libs/libjpeg/jfdctint.c\n",
      "gcc -c -g -O2  -I./setup -I./external_libs/libjpeg -o obj/jidctflt.cc_jpeg.o external_libs/libjpeg/jidctflt.c\n",
      "gcc -c -g -O2  -I./setup -I./external_libs/libjpeg -o obj/jidctfst.cc_jpeg.o external_libs/libjpeg/jidctfst.c\n",
      "gcc -c -g -O2  -I./setup -I./external_libs/libjpeg -o obj/jidctint.cc_jpeg.o external_libs/libjpeg/jidctint.c\n",
      "gcc -c -g -O2  -I./setup -I./external_libs/libjpeg -o obj/jmemmgr.cc_jpeg.o external_libs/libjpeg/jmemmgr.c\n",
      "gcc -c -g -O2  -I./setup -I./external_libs/libjpeg -o obj/jmemnobs.cc_jpeg.o external_libs/libjpeg/jmemnobs.c\n",
      "gcc -c -g -O2  -I./setup -I./external_libs/libjpeg -o obj/jquant1.cc_jpeg.o external_libs/libjpeg/jquant1.c\n",
      "gcc -c -g -O2  -I./setup -I./external_libs/libjpeg -o obj/jquant2.cc_jpeg.o external_libs/libjpeg/jquant2.c\n",
      "gcc -c -g -O2  -I./setup -I./external_libs/libjpeg -o obj/jutils.cc_jpeg.o external_libs/libjpeg/jutils.c\n",
      "gcc -c  -g -O2  -I./setup  -o obj/specfem2D_gpu_cuda_method_stubs.gpu_cc.o src/gpu/specfem2D_gpu_cuda_method_stubs.c\n",
      "gfortran -g -O2 -std=f2008 -fimplicit-none -fmax-errors=10 -pedantic -pedantic-errors -Waliasing -Wampersand -Wcharacter-truncation -Wline-truncation -Wsurprising -Wno-tabs -Wunderflow -ffpe-trap=invalid,zero,overflow -Wunused -O3 -finline-functions  -J./obj -I./obj -I.  -I./setup -c -o obj/define_shape_functions.shared.o src/shared/define_shape_functions.f90\n",
      "gcc -c  -g -O2  -I./setup -o obj/force_ftz.cc.o src/shared/force_ftz.c\n",
      "gfortran -g -O2 -std=f2008 -fimplicit-none -fmax-errors=10 -pedantic -pedantic-errors -Waliasing -Wampersand -Wcharacter-truncation -Wline-truncation -Wsurprising -Wno-tabs -Wunderflow -ffpe-trap=invalid,zero,overflow -Wunused -O3 -finline-functions  -J./obj -I./obj -I.  -I./setup -c -o obj/gll_library.shared.o src/shared/gll_library.f90\n",
      "gfortran -g -O2 -std=f2008 -fimplicit-none -fmax-errors=10 -pedantic -pedantic-errors -Waliasing -Wampersand -Wcharacter-truncation -Wline-truncation -Wsurprising -Wno-tabs -Wunderflow -ffpe-trap=invalid,zero,overflow -Wunused -O3 -finline-functions  -J./obj -I./obj -I.  -I./setup -c -o obj/lagrange_poly.shared.o src/shared/lagrange_poly.f90\n",
      "gfortran -g -O2 -std=f2008 -fimplicit-none -fmax-errors=10 -pedantic -pedantic-errors -Waliasing -Wampersand -Wcharacter-truncation -Wline-truncation -Wsurprising -Wno-tabs -Wunderflow -ffpe-trap=invalid,zero,overflow -Wunused -O3 -finline-functions  -J./obj -I./obj -I.  -I./setup -c -o obj/set_color_palette.shared.o src/shared/set_color_palette.f90\n",
      "\n",
      "building xspecfem2D without CUDA support\n",
      "\n",
      "gfortran -g -O2 -std=f2008 -fimplicit-none -fmax-errors=10 -pedantic -pedantic-errors -Waliasing -Wampersand -Wcharacter-truncation -Wline-truncation -Wsurprising -Wno-tabs -Wunderflow -ffpe-trap=invalid,zero,overflow -Wunused -O3 -finline-functions  -o ./bin/xspecfem2D ./obj/specfem2D_par.spec_module.o ./obj/acoustic_forcing_boundary.spec.o ./obj/add_acoustic_forcing.spec.o ./obj/add_manual_crack.spec.o ./obj/assemble_MPI.spec.o ./obj/attenuation_model.spec.o ./obj/axisymmetric_routines.spec.o ./obj/calendar.spec.o ./obj/check_grid.spec.o ./obj/check_stability.spec.o ./obj/comp_source_time_function.spec.o ./obj/compute_add_sources_acoustic.spec.o ./obj/compute_add_sources_poro.spec.o ./obj/compute_add_sources_viscoelastic.spec.o ./obj/compute_arrays_source.spec.o ./obj/compute_attenuation_poro_fluid_part.spec.o ./obj/compute_attenuation_viscoelastic.spec.o ./obj/compute_Bielak_conditions.spec.o ./obj/compute_coupling_acoustic_el.spec.o ./obj/compute_coupling_acoustic_po.spec.o ./obj/compute_coupling_poro_ac.spec.o ./obj/compute_coupling_poro_viscoelastic.spec.o ./obj/compute_coupling_viscoelastic_ac.spec.o ./obj/compute_coupling_viscoelastic_po.spec.o ./obj/compute_curl_one_element.spec.o ./obj/compute_energy.spec.o ./obj/compute_forces_viscoacoustic.spec.o ./obj/compute_attenuation_viscoacoustic.spec.o ./obj/compute_forces_viscoacoustic_calling_routine.spec.o ./obj/compute_forces_poroelastic_calling_routine.spec.o ./obj/compute_forces_poro_fluid.spec.o ./obj/compute_forces_poro_solid.spec.o ./obj/compute_forces_poro_viscous_damping.spec.o ./obj/compute_forces_viscoelastic.spec.o ./obj/compute_forces_viscoelastic_calling_routine.spec.o ./obj/compute_gpu_acoustic.spec.o ./obj/compute_gpu_elastic.spec.o ./obj/compute_gradient_attenuation.spec.o ./obj/compute_interpolated_dva.spec.o ./obj/compute_normal_vector.spec.o ./obj/compute_pressure.spec.o ./obj/compute_stacey_acoustic.spec.o ./obj/compute_stacey_elastic.spec.o ./obj/compute_stacey_poroelastic.spec.o ./obj/compute_vector_field.spec.o ./obj/construct_acoustic_surface.spec.o ./obj/convert_time.spec.o ./obj/create_color_image.spec.o ./obj/createnum_fast.spec.o ./obj/createnum_slow.spec.o ./obj/datim.spec.o ./obj/define_derivation_matrices.spec.o ./obj/define_external_model.spec.o ./obj/define_external_model_from_tomo_file.spec.o ./obj/define_external_model_from_marmousi.spec.o ./obj/enforce_acoustic_free_surface.spec.o ./obj/enforce_fields.spec.o ./obj/finalize_simulation.spec.o ./obj/get_coupling_edges.spec.o ./obj/get_MPI.spec.o ./obj/get_global.spec.o ./obj/get_poroelastic_velocities.spec.o ./obj/get_simulation_domains.spec.o ./obj/initialize_simulation.spec.o ./obj/invert_mass_matrix.spec.o ./obj/is_in_convex_quadrilateral.spec.o ./obj/iterate_time.spec.o ./obj/iterate_time_undoatt.spec.o ./obj/locate_receivers.spec.o ./obj/locate_source.spec.o ./obj/moving_sources_par.spec.o ./obj/netlib_specfun_erf.spec.o ./obj/noise_tomography.spec.o ./obj/paco_beyond_critical.spec.o ./obj/paco_convolve_fft.spec.o ./obj/plot_gll.spec.o ./obj/plot_post.spec.o ./obj/pml_init.spec.o ./obj/pml_compute.spec.o ./obj/pml_compute_accel_contribution.spec.o ./obj/pml_compute_memory_variables.spec.o ./obj/prepare_absorb.spec.o ./obj/prepare_assemble_MPI.spec.o ./obj/prepare_attenuation.spec.o ./obj/prepare_color_image.spec.o ./obj/prepare_gpu.spec.o ./obj/prepare_initial_field.spec.o ./obj/prepare_pml.spec.o ./obj/prepare_source_time_function.spec.o ./obj/prepare_timerun.spec.o ./obj/prepare_wavefields.spec.o ./obj/read_materials.spec.o ./obj/read_mesh_databases.spec.o ./obj/read_external_model.spec.o ./obj/read_forward_arrays.spec.o ./obj/read_save_binary_database.spec.o ./obj/recompute_jacobian.spec.o ./obj/save_adjoint_kernels.spec.o ./obj/save_forward_arrays.spec.o ./obj/save_model_files.spec.o ./obj/save_openDX_jacobian.spec.o ./obj/set_source_parameters.spec.o ./obj/setup_GLL_points.spec.o ./obj/setup_mesh.spec.o ./obj/setup_sources_receivers.spec.o ./obj/sort_array_coordinates.spec.o ./obj/specfem2D.spec.o ./obj/update_displacement_LDDRK.spec.o ./obj/update_displacement_Newmark.spec.o ./obj/update_displacement_RK.spec.o ./obj/update_displacement_symplectic.spec.o ./obj/compute_kernels.spec.o ./obj/write_jpeg_image.cc.o ./obj/attenuation_compute_param.cc.o ./obj/write_movie_output.spec.o ./obj/write_output_SU.spec.o ./obj/write_seismograms.spec.o ./obj/write_postscript_snapshot.spec.o ./obj/write_color_image_snaphot.spec.o ./obj/write_wavefield_dumps.spec.o ./obj/save_read_array_for_undoatt.spec.o  ./obj/jaricom.cc_jpeg.o ./obj/jcapimin.cc_jpeg.o ./obj/jcapistd.cc_jpeg.o ./obj/jcarith.cc_jpeg.o ./obj/jccoefct.cc_jpeg.o ./obj/jccolor.cc_jpeg.o ./obj/jcdctmgr.cc_jpeg.o ./obj/jchuff.cc_jpeg.o ./obj/jcinit.cc_jpeg.o ./obj/jcmainct.cc_jpeg.o ./obj/jcmarker.cc_jpeg.o ./obj/jcmaster.cc_jpeg.o ./obj/jcomapi.cc_jpeg.o ./obj/jcparam.cc_jpeg.o ./obj/jcprepct.cc_jpeg.o ./obj/jcsample.cc_jpeg.o ./obj/jctrans.cc_jpeg.o ./obj/jdapimin.cc_jpeg.o ./obj/jdapistd.cc_jpeg.o ./obj/jdarith.cc_jpeg.o ./obj/jdatadst.cc_jpeg.o ./obj/jdatasrc.cc_jpeg.o ./obj/jdcoefct.cc_jpeg.o ./obj/jdcolor.cc_jpeg.o ./obj/jddctmgr.cc_jpeg.o ./obj/jdhuff.cc_jpeg.o ./obj/jdinput.cc_jpeg.o ./obj/jdmainct.cc_jpeg.o ./obj/jdmarker.cc_jpeg.o ./obj/jdmaster.cc_jpeg.o ./obj/jdmerge.cc_jpeg.o ./obj/jdpostct.cc_jpeg.o ./obj/jdsample.cc_jpeg.o ./obj/jdtrans.cc_jpeg.o ./obj/jerror.cc_jpeg.o ./obj/jfdctflt.cc_jpeg.o ./obj/jfdctfst.cc_jpeg.o ./obj/jfdctint.cc_jpeg.o ./obj/jidctflt.cc_jpeg.o ./obj/jidctfst.cc_jpeg.o ./obj/jidctint.cc_jpeg.o ./obj/jmemmgr.cc_jpeg.o ./obj/jmemnobs.cc_jpeg.o ./obj/jquant1.cc_jpeg.o ./obj/jquant2.cc_jpeg.o ./obj/jutils.cc_jpeg.o  ./obj/specfem2D_gpu_cuda_method_stubs.gpu_cc.o  ./obj/shared_par.shared_module.o ./obj/define_shape_functions.shared.o ./obj/exit_mpi.shared.o ./obj/force_ftz.cc.o ./obj/gll_library.shared.o ./obj/lagrange_poly.shared.o ./obj/parallel.sharedmpi.o ./obj/read_parameter_file.shared.o ./obj/read_value_parameters.shared.o ./obj/read_material_table.shared.o ./obj/read_interfaces_file.shared.o ./obj/read_regions.shared.o ./obj/read_source_file.shared.o ./obj/param_reader.cc.o ./obj/set_color_palette.shared.o    \n"
     ]
    },
    {
     "name": "stdout",
     "output_type": "stream",
     "text": [
      "\n",
      "gfortran -g -O2 -std=f2008 -fimplicit-none -fmax-errors=10 -pedantic -pedantic-errors -Waliasing -Wampersand -Wcharacter-truncation -Wline-truncation -Wsurprising -Wno-tabs -Wunderflow -ffpe-trap=invalid,zero,overflow -Wunused -O3 -finline-functions  -J./obj -I./obj -I.  -I./setup -c -o obj/adj_seismogram.aux.o src/auxiliaries/adj_seismogram.f90\n",
      "\n",
      "building xadj_seismogram\n",
      "\n",
      "gfortran -g -O2 -std=f2008 -fimplicit-none -fmax-errors=10 -pedantic -pedantic-errors -Waliasing -Wampersand -Wcharacter-truncation -Wline-truncation -Wsurprising -Wno-tabs -Wunderflow -ffpe-trap=invalid,zero,overflow -Wunused -O3 -finline-functions  -o bin/xadj_seismogram obj/adj_seismogram.aux.o\n",
      "\n",
      "gfortran -g -O2 -std=f2008 -fimplicit-none -fmax-errors=10 -pedantic -pedantic-errors -Waliasing -Wampersand -Wcharacter-truncation -Wline-truncation -Wsurprising -Wno-tabs -Wunderflow -ffpe-trap=invalid,zero,overflow -Wunused -O3 -finline-functions  -J./obj -I./obj -I.  -I./setup -c -o obj/check_quality_external_mesh.aux.o src/auxiliaries/check_quality_external_mesh.f90\n",
      "\n",
      "building xcheck_quality_external_mesh\n",
      "\n",
      "gfortran -g -O2 -std=f2008 -fimplicit-none -fmax-errors=10 -pedantic -pedantic-errors -Waliasing -Wampersand -Wcharacter-truncation -Wline-truncation -Wsurprising -Wno-tabs -Wunderflow -ffpe-trap=invalid,zero,overflow -Wunused -O3 -finline-functions  -o bin/xcheck_quality_external_mesh obj/check_quality_external_mesh.aux.o obj/shared_par.shared_module.o obj/define_shape_functions.shared.o obj/exit_mpi.shared.o obj/parallel.sharedmpi.o obj/read_interfaces_file.shared.o obj/read_parameter_file.shared.o obj/read_value_parameters.shared.o obj/read_material_table.shared.o obj/read_regions.shared.o obj/param_reader.cc.o\n",
      "\n",
      "gfortran -g -O2 -std=f2008 -fimplicit-none -fmax-errors=10 -pedantic -pedantic-errors -Waliasing -Wampersand -Wcharacter-truncation -Wline-truncation -Wsurprising -Wno-tabs -Wunderflow -ffpe-trap=invalid,zero,overflow -Wunused -O3 -finline-functions  -J./obj -I./obj -I.  -I./setup -c -o obj/convolve_source_timefunction.aux.o src/auxiliaries/convolve_source_timefunction.f90\n",
      "\n",
      "building xconvolve_source_timefunction\n",
      "\n",
      "gfortran -g -O2 -std=f2008 -fimplicit-none -fmax-errors=10 -pedantic -pedantic-errors -Waliasing -Wampersand -Wcharacter-truncation -Wline-truncation -Wsurprising -Wno-tabs -Wunderflow -ffpe-trap=invalid,zero,overflow -Wunused -O3 -finline-functions  -o bin/xconvolve_source_timefunction obj/convolve_source_timefunction.aux.o\n",
      "\n",
      "gfortran -g -O2 -std=f2008 -fimplicit-none -fmax-errors=10 -pedantic -pedantic-errors -Waliasing -Wampersand -Wcharacter-truncation -Wline-truncation -Wsurprising -Wno-tabs -Wunderflow -ffpe-trap=invalid,zero,overflow -Wunused -O3 -finline-functions  -J./obj -I./obj -I.  -I./setup -c -o obj/postprocess_par.postprocess_module.o src/tomography/postprocess_sensitivity_kernels/postprocess_par.f90\n",
      "gfortran -g -O2 -std=f2008 -fimplicit-none -fmax-errors=10 -pedantic -pedantic-errors -Waliasing -Wampersand -Wcharacter-truncation -Wline-truncation -Wsurprising -Wno-tabs -Wunderflow -ffpe-trap=invalid,zero,overflow -Wunused -O3 -finline-functions  -J./obj -I./obj -I.  -I./setup -c -o obj/combine_sem.postprocess.o src/tomography/postprocess_sensitivity_kernels/combine_sem.F90\n",
      "gfortran -g -O2 -std=f2008 -fimplicit-none -fmax-errors=10 -pedantic -pedantic-errors -Waliasing -Wampersand -Wcharacter-truncation -Wline-truncation -Wsurprising -Wno-tabs -Wunderflow -ffpe-trap=invalid,zero,overflow -Wunused -O3 -finline-functions  -J./obj -I./obj -I.  -I./setup -c -o obj/parse_kernel_names.postprocess.o src/tomography/postprocess_sensitivity_kernels/parse_kernel_names.f90\n",
      "\n",
      "building xcombine_sem\n",
      "\n",
      "gfortran -g -O2 -std=f2008 -fimplicit-none -fmax-errors=10 -pedantic -pedantic-errors -Waliasing -Wampersand -Wcharacter-truncation -Wline-truncation -Wsurprising -Wno-tabs -Wunderflow -ffpe-trap=invalid,zero,overflow -Wunused -O3 -finline-functions  -o bin/xcombine_sem obj/postprocess_par.postprocess_module.o obj/combine_sem.postprocess.o obj/parse_kernel_names.postprocess.o obj/specfem2D_par.spec_module.o obj/shared_par.shared_module.o obj/exit_mpi.shared.o obj/parallel.sharedmpi.o obj/read_parameter_file.shared.o obj/read_value_parameters.shared.o obj/read_material_table.shared.o obj/read_interfaces_file.shared.o obj/read_regions.shared.o obj/param_reader.cc.o\n",
      "\n",
      "gfortran -g -O2 -std=f2008 -fimplicit-none -fmax-errors=10 -pedantic -pedantic-errors -Waliasing -Wampersand -Wcharacter-truncation -Wline-truncation -Wsurprising -Wno-tabs -Wunderflow -ffpe-trap=invalid,zero,overflow -Wunused -O3 -finline-functions  -J./obj -I./obj -I.  -I./setup -c -o obj/smooth_sem.postprocess.o src/tomography/postprocess_sensitivity_kernels/smooth_sem.F90\n",
      "\n",
      "building xsmooth_sem without CUDA support\n",
      "\n",
      "gfortran -g -O2 -std=f2008 -fimplicit-none -fmax-errors=10 -pedantic -pedantic-errors -Waliasing -Wampersand -Wcharacter-truncation -Wline-truncation -Wsurprising -Wno-tabs -Wunderflow -ffpe-trap=invalid,zero,overflow -Wunused -O3 -finline-functions  -o bin/xsmooth_sem obj/postprocess_par.postprocess_module.o obj/smooth_sem.postprocess.o obj/parse_kernel_names.postprocess.o obj/specfem2D_gpu_cuda_method_stubs.gpu_cc.o obj/specfem2D_par.spec_module.o obj/shared_par.shared_module.o obj/exit_mpi.shared.o obj/gll_library.shared.o obj/parallel.sharedmpi.o obj/read_parameter_file.shared.o obj/read_value_parameters.shared.o obj/read_material_table.shared.o obj/read_interfaces_file.shared.o obj/read_regions.shared.o obj/param_reader.cc.o   \n",
      "\n",
      "gfortran -g -O2 -std=f2008 -fimplicit-none -fmax-errors=10 -pedantic -pedantic-errors -Waliasing -Wampersand -Wcharacter-truncation -Wline-truncation -Wsurprising -Wno-tabs -Wunderflow -ffpe-trap=invalid,zero,overflow -Wunused -O3 -finline-functions  -J./obj -I./obj -I.  -I./setup -c -o obj/tomography_par.tomo_module.o src/tomography/tomography_par.f90\n",
      "gfortran -g -O2 -std=f2008 -fimplicit-none -fmax-errors=10 -pedantic -pedantic-errors -Waliasing -Wampersand -Wcharacter-truncation -Wline-truncation -Wsurprising -Wno-tabs -Wunderflow -ffpe-trap=invalid,zero,overflow -Wunused -O3 -finline-functions  -J./obj -I./obj -I.  -I./setup -c -o obj/sum_kernels.tomo.o src/tomography/sum_kernels.f90\n",
      "gfortran -g -O2 -std=f2008 -fimplicit-none -fmax-errors=10 -pedantic -pedantic-errors -Waliasing -Wampersand -Wcharacter-truncation -Wline-truncation -Wsurprising -Wno-tabs -Wunderflow -ffpe-trap=invalid,zero,overflow -Wunused -O3 -finline-functions  -J./obj -I./obj -I.  -I./setup -c -o obj/read_model.tomo.o src/tomography/read_model.f90\n",
      "\n",
      "building xsum_kernels\n",
      "\n",
      "gfortran -g -O2 -std=f2008 -fimplicit-none -fmax-errors=10 -pedantic -pedantic-errors -Waliasing -Wampersand -Wcharacter-truncation -Wline-truncation -Wsurprising -Wno-tabs -Wunderflow -ffpe-trap=invalid,zero,overflow -Wunused -O3 -finline-functions  -o bin/xsum_kernels obj/tomography_par.tomo_module.o obj/sum_kernels.tomo.o obj/read_model.tomo.o obj/specfem2D_par.spec_module.o obj/shared_par.shared_module.o obj/exit_mpi.shared.o obj/parallel.sharedmpi.o obj/read_interfaces_file.shared.o obj/read_parameter_file.shared.o obj/read_value_parameters.shared.o obj/read_material_table.shared.o obj/read_regions.shared.o obj/param_reader.cc.o   \n",
      "\n"
     ]
    },
    {
     "data": {
      "text/plain": [
       "0"
      ]
     },
     "execution_count": 12,
     "metadata": {},
     "output_type": "execute_result"
    }
   ],
   "source": [
    "# Generate the SPECFEM2D binaries, the numerical solver tools that SeisFlows3 will automate\n",
    "os.system(\"make all\")"
   ]
  },
  {
   "cell_type": "code",
   "execution_count": 13,
   "metadata": {},
   "outputs": [
    {
     "name": "stdout",
     "output_type": "stream",
     "text": [
      "xadj_seismogram\t\t      xconvolve_source_timefunction  xspecfem2D\r\n",
      "xcheck_quality_external_mesh  xmeshfem2D\t\t     xsum_kernels\r\n",
      "xcombine_sem\t\t      xsmooth_sem\r\n"
     ]
    }
   ],
   "source": [
    "# Check out the binary files that have been created\n",
    "!ls bin/"
   ]
  },
  {
   "cell_type": "markdown",
   "metadata": {},
   "source": [
    "### b. Create a separate SPECFEM2D working directory\n",
    "\n",
    "Next we'll create a separate SPECFEM2D working directory. The intent here is to isolate the original SPECFEM2D repository to protect it from user errors, such as accidentally deleting files while performing file manipulations. This is not a mandatory step, but helps keep things cleaner in the long run."
   ]
  },
  {
   "cell_type": "code",
   "execution_count": 16,
   "metadata": {},
   "outputs": [
    {
     "name": "stdout",
     "output_type": "stream",
     "text": [
      "/home/bchow/Work/work/sf3_specfem2d_example/specfem2d\n",
      "/home/bchow/Work/work/sf3_specfem2d_example/specfem2d/bin\n",
      "/home/bchow/Work/work/sf3_specfem2d_example/specfem2d/DATA\n"
     ]
    }
   ],
   "source": [
    "# Let's keep track of all the original directories. To run, SPECFEM only requires bin/ and DATA/ directories\n",
    "SPECFEM2D_ORIGINAL = os.getcwd()\n",
    "SPECFEM2D_BIN_ORIGINAL = os.path.join(SPECFEM2D_ORIGINAL, \"bin\")\n",
    "SPECFEM2D_DATA_ORIGINAL = os.path.join(SPECFEM2D_ORIGINAL, \"DATA\")\n",
    "\n",
    "print(\"\\n\".join([SPECFEM2D_ORIGINAL, SPECFEM2D_BIN_ORIGINAL, SPECFEM2D_DATA_ORIGINAL]))"
   ]
  },
  {
   "cell_type": "code",
   "execution_count": 25,
   "metadata": {},
   "outputs": [
    {
     "name": "stdout",
     "output_type": "stream",
     "text": [
      "bin  DATA\r\n"
     ]
    }
   ],
   "source": [
    "# Now we create a new SPECFEM2D working directory that we can manipulate for our SeisFlows3 run\n",
    "SPECFEM2D_WORKDIR = os.path.join(WORKDIR, \"specfem2d_workdir\")\n",
    "\n",
    "os.mkdir(SPECFEM2D_WORKDIR)\n",
    "os.chdir(SPECFEM2D_WORKDIR)\n",
    "\n",
    "# Symlink the binary files incase we update the source code. These can also be copied.\n",
    "os.symlink(SPECFEM2D_BIN_ORIGINAL, \"bin\")\n",
    "\n",
    "# Copy the DATA/ directory because we will be making edits here frequently and it's useful to\n",
    "# retain the original files for reference. We will be running one of the example problems: Tape2007\n",
    "TAPE_2007_EXAMPLE = os.path.join(SPECFEM2D_ORIGINAL, \"EXAMPLES\", \"Tape2007_kernel\")\n",
    "shutil.copytree(TAPE_2007_EXAMPLE, \"DATA\")\n",
    "\n",
    "!ls"
   ]
  },
  {
   "cell_type": "code",
   "execution_count": 27,
   "metadata": {},
   "outputs": [
    {
     "name": "stdout",
     "output_type": "stream",
     "text": [
      "adj_seismogram_Tape2007.f90\n",
      "DATA\n",
      "kernel_Tape2007_kernel_onerec.pdf\n",
      "README\n",
      "README_location_of_the_script_to_plot_the_resulting_kernel.txt\n",
      "run_this_example_kernel.sh\n",
      "run_this_example.sh\n",
      "running example: Tue Mar  1 11:40:08 AKST 2022\n",
      "\n",
      "(will take about 1 minute)\n",
      "\n",
      "\n",
      "   setting up example...\n",
      "\n",
      "cleaning OUTPUT_FILES/\n",
      "\n",
      "running mesher on 4 processors...\n",
      "\n"
     ]
    },
    {
     "name": "stderr",
     "output_type": "stream",
     "text": [
      "./run_this_example.sh: line 56: mpirun: command not found\n"
     ]
    },
    {
     "data": {
      "text/plain": [
       "256"
      ]
     },
     "execution_count": 27,
     "metadata": {},
     "output_type": "execute_result"
    }
   ],
   "source": [
    "# As a check that this docs page can still run, we will go ahead and run the Tape2007 example\n",
    "os.chdir(TAPE_2007_EXAMPLE)\n",
    "!ls\n",
    "os.system(\"./run_this_example.sh\")"
   ]
  },
  {
   "cell_type": "code",
   "execution_count": null,
   "metadata": {},
   "outputs": [],
   "source": []
  }
 ],
 "metadata": {
  "kernelspec": {
   "display_name": "Python (docs)",
   "language": "python",
   "name": "docs"
  },
  "language_info": {
   "codemirror_mode": {
    "name": "ipython",
    "version": 3
   },
   "file_extension": ".py",
   "mimetype": "text/x-python",
   "name": "python",
   "nbconvert_exporter": "python",
   "pygments_lexer": "ipython3",
   "version": "3.7.12"
  }
 },
 "nbformat": 4,
 "nbformat_minor": 4
}
