{
 "cells": [
  {
   "cell_type": "markdown",
   "metadata": {},
   "source": [
    "This is a short guided tour to the SeisFlows3 (SF3) Command Line Interface (CLI) tool\n",
    "which is designed to aid new users into setting up, manipulating, and executing an SF3 workflow.\n",
    "Adding new commands is as simple as adding new functions to the seisflows3.scripts.seisflows file.\n",
    "\n",
    "SeisFlows3 (SF3) is downloaded via pip install within a Conda environment\n"
   ]
  },
  {
   "cell_type": "code",
   "execution_count": 1,
   "metadata": {},
   "outputs": [],
   "source": [
    "!source /home/bchow/miniconda3/bin/activate seisflows3"
   ]
  },
  {
   "cell_type": "markdown",
   "metadata": {},
   "source": [
    "The install now provides a command line interface that we can use to manipulate SF3"
   ]
  },
  {
   "cell_type": "code",
   "execution_count": 12,
   "metadata": {},
   "outputs": [
    {
     "name": "stdout",
     "output_type": "stream",
     "text": [
      "/home/bchow/miniconda3/envs/seisflows3/bin/seisflows\r\n"
     ]
    }
   ],
   "source": [
    "!which seisflows"
   ]
  },
  {
   "cell_type": "markdown",
   "metadata": {},
   "source": [
    "The SF3 CLI is modelled after many of the Python CLI tools, but most similar to Conda's CLI"
   ]
  },
  {
   "cell_type": "code",
   "execution_count": 13,
   "metadata": {},
   "outputs": [
    {
     "name": "stdout",
     "output_type": "stream",
     "text": [
      "usage: seisflows [-h] [-w [WORKDIR]] [-p [PARAMETER_FILE]]\r\n",
      "                 [--path_file [PATH_FILE]]\r\n",
      "                 {setup,modules,configure,init,submit,resume,restart,clean,par,check,convert,reset,inspect,debug,edit}\r\n",
      "                 ...\r\n",
      "\r\n",
      "================================================================================\r\n",
      "\r\n",
      "                     SeisFlows: Waveform Inversion Package                      \r\n",
      "\r\n",
      "================================================================================\r\n",
      "\r\n",
      "optional arguments:\r\n",
      "  -h, --help            show this help message and exit\r\n",
      "  -w [WORKDIR], --workdir [WORKDIR]\r\n",
      "                        The SeisFlows working directory, default: cwd\r\n",
      "  -p [PARAMETER_FILE], --parameter_file [PARAMETER_FILE]\r\n",
      "                        Parameters file, default: 'parameters.yaml'\r\n",
      "  --path_file [PATH_FILE]\r\n",
      "                        Legacy path file, default: 'paths.py'\r\n",
      "\r\n",
      "command:\r\n",
      "  Available SeisFlows arguments and their intended usages\r\n",
      "\r\n",
      "    setup               Setup working directory from scratch\r\n",
      "    modules             Print available module names\r\n",
      "    configure           Fill parameter file with defaults\r\n",
      "    init                Initiate working environment\r\n",
      "    submit              Submit initial workflow to system\r\n",
      "    resume              Re-submit previous workflow to system\r\n",
      "    restart             Remove current environment and submit new workflow\r\n",
      "    clean               Remove active working environment\r\n",
      "    par                 View and edit parameter file\r\n",
      "    check               Check state of an active environment\r\n",
      "    convert             Convert model file format\r\n",
      "    reset               Reset underlying machinery\r\n",
      "    inspect             View inheritenace and ownership\r\n",
      "    debug               Start interactive debug environment\r\n",
      "    edit                Open source code file in text editor\r\n",
      "\r\n",
      "'seisflows [command] -h' for more detailed descriptions of each command.\r\n"
     ]
    }
   ],
   "source": [
    "!seisflows"
   ]
  },
  {
   "cell_type": "markdown",
   "metadata": {},
   "source": [
    "The 'modules' command, e.g., shows all the available modules and sub-modules, useful \n",
    "when setting up a workflow and trying to decide which options to use."
   ]
  },
  {
   "cell_type": "code",
   "execution_count": 7,
   "metadata": {},
   "outputs": [
    {
     "name": "stdout",
     "output_type": "stream",
     "text": [
      "\n",
      "SYSTEM\n",
      " * seisflows3\n",
      "    base\n",
      "    lsf_lg\n",
      "    serial\n",
      "    slurm_lg\n",
      " * seisflows3-super\n",
      "    chinook_lg\n",
      "    maui\n",
      "\n",
      "PREPROCESS\n",
      " * seisflows3\n",
      "    base\n",
      "    default\n",
      "    pyatoa\n",
      " * seisflows3-super\n",
      "    pyatoa_nz\n",
      "\n",
      "SOLVER\n",
      " * seisflows3\n",
      "    base\n",
      "    specfem2d\n",
      "    specfem3d\n",
      "    specfem3d_globe\n",
      " * seisflows3-super\n",
      "    specfem3d_maui\n",
      "\n",
      "POSTPROCESS\n",
      " * seisflows3\n",
      "    base\n",
      " * seisflows3-super\n",
      "\n",
      "OPTIMIZE\n",
      " * seisflows3\n",
      "    LBFGS\n",
      "    NLCG\n",
      "    base\n",
      "    steepest_descent\n",
      " * seisflows3-super\n",
      "\n",
      "WORKFLOW\n",
      " * seisflows3\n",
      "    base\n",
      "    inversion\n",
      "    migration\n",
      " * seisflows3-super\n",
      "    thrifty_inversion\n",
      "    thrifty_maui\n"
     ]
    }
   ],
   "source": [
    "!seisflows modules"
   ]
  },
  {
   "cell_type": "markdown",
   "metadata": {},
   "source": [
    "The 'setup' command creates a template parameter file that the User can edit"
   ]
  },
  {
   "cell_type": "code",
   "execution_count": 8,
   "metadata": {},
   "outputs": [
    {
     "name": "stdout",
     "output_type": "stream",
     "text": [
      "usage: seisflows setup [-h] [-s] [-o]\r\n",
      "\r\n",
      "In the specified working directory, copy template parameter file containing\r\n",
      "only module choices, and symlink source code for both the base and super\r\n",
      "repositories for easy edit access. If a parameter file matching the provided\r\n",
      "name exists in the working directory, a prompt will appear asking the user if\r\n",
      "they want to overwrite.\r\n",
      "\r\n",
      "optional arguments:\r\n",
      "  -h, --help       show this help message and exit\r\n",
      "  -s, --symlink    symlink source code into the working directory\r\n",
      "  -o, --overwrite  automatically overwrites existing parameter file\r\n"
     ]
    }
   ],
   "source": [
    "!seisflows setup -h"
   ]
  },
  {
   "cell_type": "code",
   "execution_count": 2,
   "metadata": {},
   "outputs": [],
   "source": [
    "!seisflows setup -o"
   ]
  },
  {
   "cell_type": "code",
   "execution_count": 3,
   "metadata": {},
   "outputs": [
    {
     "name": "stdout",
     "output_type": "stream",
     "text": [
      "parameters.yaml  sf3_cli_guided_tour.ipynb\r\n"
     ]
    }
   ],
   "source": [
    "!ls"
   ]
  },
  {
   "cell_type": "markdown",
   "metadata": {},
   "source": [
    "Users need only choose their required modules and then run the 'configure' command, which automatically fills out the par file with parameters (with default or required values), and docstrings explaining what each parameter does. This is made possible with the revised implementation of parameter and path input within each sub-module."
   ]
  },
  {
   "cell_type": "code",
   "execution_count": 4,
   "metadata": {},
   "outputs": [
    {
     "name": "stdout",
     "output_type": "stream",
     "text": [
      "# !!!!!!!!!!!!!!!!!!!!!!!!!!!!!!!!!!!!!!!!!!!!!!!!!!!!!!!!!!!!!!!!!!!!!!!!!!!!!!\r\n",
      "#\r\n",
      "#                 Seisflows YAML Parameter File and Path Input\r\n",
      "#\r\n",
      "#  For NoneType, set variables to `None` or `null`. For infinity, set to `inf`\r\n",
      "#\r\n",
      "# !!!!!!!!!!!!!!!!!!!!!!!!!!!!!!!!!!!!!!!!!!!!!!!!!!!!!!!!!!!!!!!!!!!!!!!!!!!!!!\r\n",
      "#\r\n",
      "# These modules correspond to the structure of the source code, and determine\r\n",
      "# SeisFlows' behavior at runtime. Check the source code directory for available \r\n",
      "# module names. Each module will require its own set of sub parameters. \r\n",
      "#\r\n",
      "# To fill this parameter file with docstrings and default values, run:\r\n",
      "#\r\n",
      "# > seisflows configure\r\n",
      "#\r\n",
      "#                                    MODULES\r\n",
      "#                                    -------\r\n",
      "#\r\n",
      "# WORKFLOW:    The method for running SeisFlows. Equivalent to main()\r\n",
      "# SOLVER:      External numerical solver to use for waveform simulations.\r\n",
      "# SYSTEM:      Computer architecture of the system being used to run SeisFlows\r\n",
      "# OPTIMIZE:    Optimization algorithm for the inverse problem\r\n",
      "# PREPROCESS:  Preprocessing schema for waveform data\r\n",
      "# POSTPROCESS: Postprocessing schema for kernels and gradients\r\n",
      "#\r\n",
      "# ==============================================================================\r\n",
      "WORKFLOW: inversion\r\n",
      "SOLVER: specfem3d\r\n",
      "SYSTEM: serial\r\n",
      "OPTIMIZE: LBFGS \r\n",
      "PREPROCESS: default\r\n",
      "POSTPROCESS: base\r\n"
     ]
    }
   ],
   "source": [
    "!cat parameters.yaml"
   ]
  },
  {
   "cell_type": "markdown",
   "metadata": {},
   "source": [
    "The 'par' command lets the User quickly view and edit parameters without needing to open a text editor"
   ]
  },
  {
   "cell_type": "code",
   "execution_count": 5,
   "metadata": {},
   "outputs": [
    {
     "name": "stdout",
     "output_type": "stream",
     "text": [
      "\r\n",
      "\tSYSTEM: serial\r\n",
      "\r\n"
     ]
    }
   ],
   "source": [
    "!seisflows par system"
   ]
  },
  {
   "cell_type": "code",
   "execution_count": 6,
   "metadata": {},
   "outputs": [
    {
     "name": "stdout",
     "output_type": "stream",
     "text": [
      "\n",
      "\tSYSTEM: serial -> maui\n",
      "\n",
      "\n",
      "\tSYSTEM: maui\n",
      "\n"
     ]
    }
   ],
   "source": [
    "!seisflows par system maui\n",
    "!seisflows par system"
   ]
  },
  {
   "cell_type": "code",
   "execution_count": 7,
   "metadata": {},
   "outputs": [],
   "source": [
    "!seisflows configure"
   ]
  },
  {
   "cell_type": "code",
   "execution_count": 8,
   "metadata": {},
   "outputs": [
    {
     "name": "stdout",
     "output_type": "stream",
     "text": [
      "# !!!!!!!!!!!!!!!!!!!!!!!!!!!!!!!!!!!!!!!!!!!!!!!!!!!!!!!!!!!!!!!!!!!!!!!!!!!!!!\r\n",
      "#\r\n",
      "#                 Seisflows YAML Parameter File and Path Input\r\n",
      "#\r\n",
      "#  For NoneType, set variables to `None` or `null`. For infinity, set to `inf`\r\n",
      "#\r\n",
      "# !!!!!!!!!!!!!!!!!!!!!!!!!!!!!!!!!!!!!!!!!!!!!!!!!!!!!!!!!!!!!!!!!!!!!!!!!!!!!!\r\n",
      "#\r\n",
      "# These modules correspond to the structure of the source code, and determine\r\n",
      "# SeisFlows' behavior at runtime. Check the source code directory for available \r\n",
      "# module names. Each module will require its own set of sub parameters. \r\n",
      "#\r\n",
      "# To fill this parameter file with docstrings and default values, run:\r\n",
      "#\r\n",
      "# > seisflows configure\r\n",
      "#\r\n",
      "#                                    MODULES\r\n",
      "#                                    -------\r\n",
      "#\r\n",
      "# WORKFLOW:    The method for running SeisFlows. Equivalent to main()\r\n",
      "# SOLVER:      External numerical solver to use for waveform simulations.\r\n",
      "# SYSTEM:      Computer architecture of the system being used to run SeisFlows\r\n",
      "# OPTIMIZE:    Optimization algorithm for the inverse problem\r\n",
      "# PREPROCESS:  Preprocessing schema for waveform data\r\n",
      "# POSTPROCESS: Postprocessing schema for kernels and gradients\r\n",
      "#\r\n",
      "# ==============================================================================\r\n",
      "WORKFLOW: inversion\r\n",
      "SOLVER: specfem3d\r\n",
      "SYSTEM: maui\r\n",
      "OPTIMIZE: LBFGS \r\n",
      "PREPROCESS: default\r\n",
      "POSTPROCESS: base\r\n",
      "\r\n",
      "# ==============================================================================\r\n",
      "#\r\n",
      "#                                     SYSTEM                                    \r\n",
      "#                                     ------                                    \r\n",
      "#\r\n",
      "# TITLE (str):\r\n",
      "#    The name used to submit jobs to the system, defaults to the name of the\r\n",
      "#    working directory\r\n",
      "# WALLTIME (float):\r\n",
      "#    Maximum job time in minutes for main SeisFlows job\r\n",
      "# TASKTIME (float):\r\n",
      "#    Maximum job time in minutes for each SeisFlows task\r\n",
      "# NTASK (int):\r\n",
      "#    Number of separate, individual tasks. Also equal to the number of desired\r\n",
      "#    sources in workflow\r\n",
      "# NPROC (int):\r\n",
      "#    Number of processor to use for each simulation\r\n",
      "# PRECHECK (list):\r\n",
      "#    A list of parameters that will be displayed to stdout before 'submit' or\r\n",
      "#    'resume' is run. Useful for manually reviewing important parameters prior\r\n",
      "#    to system submission\r\n",
      "# NTASKMAX (int):\r\n",
      "#    Limit on the number of concurrent tasks in array\r\n",
      "# NODESIZE (int):\r\n",
      "#    The number of cores per node defined by the system\r\n",
      "# SLURMARGS (str):\r\n",
      "#    Any optional, additional SLURM arguments that will be passed to the\r\n",
      "#    SBATCH scripts\r\n",
      "# ENVIRONS (str):\r\n",
      "#    Optional environment variables to be provided in thefollowing format\r\n",
      "#    VAR1=var1,VAR2=var2...\r\n",
      "# ACCOUNT (str):\r\n",
      "#    The account name to submit jobs under\r\n",
      "# NODES (int):\r\n",
      "#    The number of nodes to use per job. Rough estimate would be\r\n",
      "#    NPROC//NODESIZE\r\n",
      "# CPUS_PER_TASK (int):\r\n",
      "#    Multiple CPUS per task allows for multithreading jobs\r\n",
      "# MAIN_CLUSTER (str):\r\n",
      "#    Name of main cluster for job submission\r\n",
      "# MAIN_PARTITION (str):\r\n",
      "#    Name of partition on main cluster\r\n",
      "# ANCIL_CLUSTER (str):\r\n",
      "#    Name of ancillary cluster for prepost tasks\r\n",
      "# ANCIL_PARTITION (str):\r\n",
      "#    Name of ancillary partition for prepost tasks\r\n",
      "# ANCIL_TASKTIME (float):\r\n",
      "#    Tasktime for prepost jobs on ancillary nodes\r\n",
      "# MPIEXEC (str):\r\n",
      "#    Function used to invoke parallel executables\r\n",
      "\r\n",
      "# ==============================================================================\r\n",
      "TITLE: cli_jupyter_nb\r\n",
      "WALLTIME: !!! REQUIRED PARAMETER !!!\r\n",
      "TASKTIME: !!! REQUIRED PARAMETER !!!\r\n",
      "NTASK: !!! REQUIRED PARAMETER !!!\r\n",
      "NPROC: !!! REQUIRED PARAMETER !!!\r\n",
      "PRECHECK:\r\n",
      "    - TITLE\r\n",
      "    - BEGIN\r\n",
      "    - END\r\n",
      "    - WALLTIME\r\n",
      "NTASKMAX: 100\r\n",
      "NODESIZE: 40\r\n",
      "SLURMARGS: \r\n",
      "ENVIRONS: \r\n",
      "ACCOUNT: !!! REQUIRED PARAMETER !!!\r\n",
      "NODES: !!! REQUIRED PARAMETER !!!\r\n",
      "CPUS_PER_TASK: 1\r\n",
      "MAIN_CLUSTER: maui\r\n",
      "MAIN_PARTITION: nesi_research\r\n",
      "ANCIL_CLUSTER: maui_ancil\r\n",
      "ANCIL_PARTITION: nesi_prepost\r\n",
      "ANCIL_TASKTIME: null\r\n",
      "MPIEXEC: srun\r\n",
      "\r\n",
      "# ==============================================================================\r\n",
      "#\r\n",
      "#                                   PREPROCESS                                  \r\n",
      "#                                   ----------                                  \r\n",
      "#\r\n",
      "# MISFIT (str):\r\n",
      "#    Misfit function for waveform comparisons, for available see\r\n",
      "#    seisflows.plugins.misfit\r\n",
      "# BACKPROJECT (str):\r\n",
      "#    Backprojection function for migration, for available see\r\n",
      "#    seisflows.plugins.adjoint\r\n",
      "# NORMALIZE (str):\r\n",
      "#    Data normalization option\r\n",
      "# MUTE (str):\r\n",
      "#    Data muting option\r\n",
      "# FILTER (str):\r\n",
      "#    Data filtering option\r\n",
      "\r\n",
      "# ==============================================================================\r\n",
      "MISFIT: null\r\n",
      "BACKPROJECT: null\r\n",
      "NORMALIZE: null\r\n",
      "MUTE: null\r\n",
      "FILTER: null\r\n",
      "\r\n",
      "# ==============================================================================\r\n",
      "#\r\n",
      "#                                     SOLVER                                    \r\n",
      "#                                     ------                                    \r\n",
      "#\r\n",
      "# MATERIALS (str):\r\n",
      "#    Material parameters used to define model. Available: ['ELASTIC': Vp, Vs,\r\n",
      "#    'ACOUSTIC': Vp, 'ISOTROPIC', 'ANISOTROPIC']\r\n",
      "# DENSITY (str):\r\n",
      "#    How to treat density during inversion. Available: ['CONSTANT': Do not\r\n",
      "#    update density, 'VARIABLE': Update density]\r\n",
      "# COMPONENTS (str):\r\n",
      "#    Components used to generate data, formatted as a single string, e.g. ZNE\r\n",
      "#    or NZ or E\r\n",
      "# SOLVERIO (int):\r\n",
      "#    The format external solver files. Available: ['fortran_binary', 'adios']\r\n",
      "# NT (float):\r\n",
      "#    Number of time steps set in the SPECFEM Par_file\r\n",
      "# DT (float):\r\n",
      "#    Time step or delta set in the SPECFEM Par_file\r\n",
      "# FORMAT (float):\r\n",
      "#    Format of synthetic waveforms used during workflow, available options:\r\n",
      "#    ['ascii', 'su']\r\n",
      "# SOURCE_PREFIX (str):\r\n",
      "#    Prefix of SOURCE files in path SPECFEM_DATA. Available ['CMTSOLUTION',\r\n",
      "#    FORCESOLUTION']\r\n",
      "\r\n",
      "# ==============================================================================\r\n",
      "MATERIALS: !!! REQUIRED PARAMETER !!!\r\n",
      "DENSITY: !!! REQUIRED PARAMETER !!!\r\n",
      "COMPONENTS: ZNE\r\n",
      "SOLVERIO: fortran_binary\r\n",
      "NT: !!! REQUIRED PARAMETER !!!\r\n",
      "DT: !!! REQUIRED PARAMETER !!!\r\n",
      "FORMAT: !!! REQUIRED PARAMETER !!!\r\n",
      "SOURCE_PREFIX: CMTSOLUTION\r\n",
      "\r\n",
      "# ==============================================================================\r\n",
      "#\r\n",
      "#                                  POSTPROCESS                                  \r\n",
      "#                                  -----------                                  \r\n",
      "#\r\n",
      "# SMOOTH_H (float):\r\n",
      "#    Gaussian half-width for horizontal smoothing in units of meters. If 0.,\r\n",
      "#    no smoothing applied\r\n",
      "# SMOOTH_V (float):\r\n",
      "#    Gaussian half-width for vertical smoothing in units of meters\r\n",
      "# TASKTIME_SMOOTH (int):\r\n",
      "#    Large radii smoothing may take longer than normal tasks. Allocate\r\n",
      "#    additional smoothing task time as a multiple of TASKTIME\r\n",
      "\r\n",
      "# ==============================================================================\r\n",
      "SMOOTH_H: 0.0\r\n",
      "SMOOTH_V: 0.0\r\n",
      "TASKTIME_SMOOTH: 1\r\n",
      "\r\n",
      "# ==============================================================================\r\n",
      "#\r\n",
      "#                                    OPTIMIZE                                   \r\n",
      "#                                    --------                                   \r\n",
      "#\r\n",
      "# LINESEARCH (str):\r\n",
      "#    Algorithm to use for line search, see seisflows.plugins.line_search for\r\n",
      "#    available choices\r\n",
      "# PRECOND (str):\r\n",
      "#    Algorithm to use for preconditioning gradients, see\r\n",
      "#    seisflows.plugins.preconds for available choices\r\n",
      "# STEPCOUNTMAX (int):\r\n",
      "#    Max number of trial steps in line search before a change in line serach\r\n",
      "#    behavior\r\n",
      "# STEPLENINIT (float):\r\n",
      "#    Initial line serach step length, as a fraction of current model\r\n",
      "#    parameters\r\n",
      "# STEPLENMAX (float):\r\n",
      "#    Max allowable step length, as a fraction of current model parameters\r\n",
      "# LBFGSMEM (int):\r\n",
      "#    Max number of previous gradients to retain in local memory\r\n",
      "# LBFGSMAX (int):\r\n",
      "#    LBFGS periodic restart interval, between 1 and 'inf'\r\n",
      "# LBFGSTHRESH (float):\r\n",
      "#    LBFGS angle restart threshold\r\n",
      "\r\n",
      "# ==============================================================================\r\n",
      "LINESEARCH: Backtrack\r\n",
      "PRECOND:\r\n",
      "STEPCOUNTMAX: 10\r\n",
      "STEPLENINIT: 0.05\r\n",
      "STEPLENMAX: 0.5\r\n",
      "LBFGSMEM: 3\r\n",
      "LBFGSMAX: inf\r\n",
      "LBFGSTHRESH: 0.0\r\n",
      "\r\n",
      "# ==============================================================================\r\n",
      "#\r\n",
      "#                                    WORKFLOW                                   \r\n",
      "#                                    --------                                   \r\n",
      "#\r\n",
      "# BEGIN (int):\r\n",
      "#    First iteration of workflow, 1 <= BEGIN <= inf\r\n",
      "# END (int):\r\n",
      "#    Last iteration of workflow, BEGIN <= END <= inf\r\n",
      "# RESUME_FROM (str):\r\n",
      "#    Name of task to resume inversion from\r\n",
      "# STOP_AFTER (str):\r\n",
      "#    Name of task to stop inversion after finishing\r\n",
      "# CASE (str):\r\n",
      "#    Type of inversion, available: ['data': real data inversion, 'synthetic':\r\n",
      "#    synthetic-synthetic inversion]\r\n",
      "# SAVEMODEL (bool):\r\n",
      "#    Save final model files after each iteration\r\n",
      "# SAVEGRADIENT (bool):\r\n",
      "#    Save gradient files after each iteration\r\n",
      "# SAVEKERNELS (bool):\r\n",
      "#    Save event kernel files after each iteration\r\n",
      "# SAVETRACES (bool):\r\n",
      "#    Save waveform traces after each iteration\r\n",
      "# SAVERESIDUALS (bool):\r\n",
      "#    Save waveform residuals after each iteration\r\n",
      "# SAVEAS (str):\r\n",
      "#    Format to save models, gradients, kernels. Available: ['binary': save\r\n",
      "#    files in native SPECFEM .bin format, 'vector': save files as NumPy .npy\r\n",
      "#    files, 'both': save as both binary and vectors]\r\n",
      "# VERBOSE (bool):\r\n",
      "#    Provide detailed statements to the output logs\r\n",
      "\r\n",
      "# ==============================================================================\r\n",
      "BEGIN: !!! REQUIRED PARAMETER !!!\r\n",
      "END: !!! REQUIRED PARAMETER !!!\r\n",
      "RESUME_FROM:\r\n",
      "STOP_AFTER:\r\n",
      "CASE: !!! REQUIRED PARAMETER !!!\r\n",
      "SAVEMODEL: True\r\n",
      "SAVEGRADIENT: True\r\n",
      "SAVEKERNELS: False\r\n",
      "SAVETRACES: False\r\n",
      "SAVERESIDUALS: False\r\n",
      "SAVEAS: binary\r\n",
      "VERBOSE: True\r\n",
      "\r\n",
      "# ==============================================================================\r\n",
      "#\r\n",
      "#                                     PATHS                                     \r\n",
      "#                                     -----                                     \r\n",
      "#\r\n",
      "# SCRATCH:\r\n",
      "#    scratch path to hold temporary data during workflow\r\n",
      "# OUTPUT:\r\n",
      "#    directory to save workflow outputs to disk\r\n",
      "# SYSTEM:\r\n",
      "#    scratch path to hold any system related data\r\n",
      "# LOCAL:\r\n",
      "#    path to local data to be used during workflow\r\n",
      "# SOLVER:\r\n",
      "#    scratch path to hold solver working directories\r\n",
      "# SPECFEM_BIN:\r\n",
      "#    path to the SPECFEM binary executables\r\n",
      "# SPECFEM_DATA:\r\n",
      "#    path to the SPECFEM DATA/ directory containing the 'Par_file', 'STATIONS'\r\n",
      "#    file and 'CMTSOLUTION' files\r\n",
      "# MASK:\r\n",
      "#    Directory to mask files for gradient masking\r\n",
      "# OPTIMIZE:\r\n",
      "#    scratch path to store data related to nonlinear optimization\r\n",
      "# MODEL_INIT:\r\n",
      "#    Initial model to be used for workflow\r\n",
      "# MODEL_TRUE:\r\n",
      "#    Target model to be used for PAR.CASE == 'synthetic'\r\n",
      "# DATA:\r\n",
      "#    path to data available to workflow\r\n",
      "# FUNC:\r\n",
      "#    scratch path to store data related to function evaluations\r\n",
      "# GRAD:\r\n",
      "#    scratch path to store data related to gradient evaluations\r\n",
      "# HESS:\r\n",
      "#    scratch path to store data related to Hessian evaluations\r\n",
      "\r\n",
      "# ==============================================================================\r\n",
      "PATHS:\r\n",
      "    SCRATCH: /scratch/bchow/seisflows_examples/cli_jupyter_nb/scratch\r\n",
      "    OUTPUT: /scratch/bchow/seisflows_examples/cli_jupyter_nb/output\r\n",
      "    SYSTEM: /scratch/bchow/seisflows_examples/cli_jupyter_nb/scratch/system\r\n",
      "    LOCAL:\r\n",
      "    SOLVER: /scratch/bchow/seisflows_examples/cli_jupyter_nb/scratch/solver\r\n",
      "    SPECFEM_BIN: !!! REQUIRED PATH !!!\r\n",
      "    SPECFEM_DATA: !!! REQUIRED PATH !!!\r\n",
      "    MASK:\r\n",
      "    OPTIMIZE: /scratch/bchow/seisflows_examples/cli_jupyter_nb/scratch/optimize\r\n",
      "    MODEL_INIT: !!! REQUIRED PATH !!!\r\n",
      "    MODEL_TRUE:\r\n",
      "    DATA:\r\n",
      "    FUNC: /scratch/bchow/seisflows_examples/cli_jupyter_nb/scratch/evalfunc\r\n",
      "    GRAD: /scratch/bchow/seisflows_examples/cli_jupyter_nb/scratch/evalgrad\r\n",
      "    HESS: /scratch/bchow/seisflows_examples/cli_jupyter_nb/scratch/evalhess\r\n"
     ]
    }
   ],
   "source": [
    "!cat parameters.yaml"
   ]
  },
  {
   "cell_type": "markdown",
   "metadata": {},
   "source": [
    "More of the listed features become available once the parameter file is filled out, and once a workflow is running or has been run."
   ]
  },
  {
   "cell_type": "code",
   "execution_count": 12,
   "metadata": {},
   "outputs": [
    {
     "name": "stdout",
     "output_type": "stream",
     "text": [
      "usage: seisflows [-h] [-w [WORKDIR]] [-p [PARAMETER_FILE]]\r\n",
      "                 [--path_file [PATH_FILE]]\r\n",
      "                 {setup,modules,configure,init,submit,resume,restart,clean,par,check,convert,reset,inspect,debug,edit}\r\n",
      "                 ...\r\n",
      "\r\n",
      "================================================================================\r\n",
      "\r\n",
      "                     SeisFlows: Waveform Inversion Package                      \r\n",
      "\r\n",
      "================================================================================\r\n",
      "\r\n",
      "optional arguments:\r\n",
      "  -h, --help            show this help message and exit\r\n",
      "  -w [WORKDIR], --workdir [WORKDIR]\r\n",
      "                        The SeisFlows working directory, default: cwd\r\n",
      "  -p [PARAMETER_FILE], --parameter_file [PARAMETER_FILE]\r\n",
      "                        Parameters file, default: 'parameters.yaml'\r\n",
      "  --path_file [PATH_FILE]\r\n",
      "                        Legacy path file, default: 'paths.py'\r\n",
      "\r\n",
      "command:\r\n",
      "  Available SeisFlows arguments and their intended usages\r\n",
      "\r\n",
      "    setup               Setup working directory from scratch\r\n",
      "    modules             Print available module names\r\n",
      "    configure           Fill parameter file with defaults\r\n",
      "    init                Initiate working environment\r\n",
      "    submit              Submit initial workflow to system\r\n",
      "    resume              Re-submit previous workflow to system\r\n",
      "    restart             Remove current environment and submit new workflow\r\n",
      "    clean               Remove active working environment\r\n",
      "    par                 View and edit parameter file\r\n",
      "    check               Check state of an active environment\r\n",
      "    convert             Convert model file format\r\n",
      "    reset               Reset underlying machinery\r\n",
      "    inspect             View inheritenace and ownership\r\n",
      "    debug               Start interactive debug environment\r\n",
      "    edit                Open source code file in text editor\r\n",
      "\r\n",
      "'seisflows [command] -h' for more detailed descriptions of each command.\r\n"
     ]
    }
   ],
   "source": [
    "!seisflows -h"
   ]
  },
  {
   "cell_type": "code",
   "execution_count": null,
   "metadata": {},
   "outputs": [],
   "source": []
  }
 ],
 "metadata": {
  "kernelspec": {
   "display_name": "Python 3",
   "language": "python",
   "name": "python3"
  },
  "language_info": {
   "codemirror_mode": {
    "name": "ipython",
    "version": 3
   },
   "file_extension": ".py",
   "mimetype": "text/x-python",
   "name": "python",
   "nbconvert_exporter": "python",
   "pygments_lexer": "ipython3",
   "version": "3.7.6"
  }
 },
 "nbformat": 4,
 "nbformat_minor": 4
}
