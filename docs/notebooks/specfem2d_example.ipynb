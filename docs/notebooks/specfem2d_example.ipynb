{
 "cells": [
  {
   "cell_type": "markdown",
   "metadata": {},
   "source": [
    "# Specfem2D workstation example\n",
    "\n",
    "To demonstrate the inversion capabilities of SeisFlows3, we will run a __Specfem2D synthetic-synthetic example__ on a __local machine__ (Linux workstation running CentOS 7). Many of the setup steps here will likely be unique to our OS and workstation, but hopefully they may serve as templates for new Users wanting to explore SeisFlows3. \n",
    "\n",
    "The numerical solver we will use is: [SPECFEM2D](https://geodynamics.org/cig/software/specfem2d/). We'll also be working in our `seisflows` [Conda](https://docs.conda.io/en/latest/) environment, see the installation documentation page for instructions on how to install and activate the required Conda environment.\n",
    "\n",
    "-----------------------------------"
   ]
  },
  {
   "cell_type": "markdown",
   "metadata": {},
   "source": [
    "## Option 1: Automated run\n",
    "\n",
    "We have set up this example to run using a single command line argument. The following command will run an example script which will (1) download and compile SPECFEM2D, (2) setup a SPECFEM2D working directory to generate initial and target models, and (3) Run a SeisFlows3 inversion. "
   ]
  },
  {
   "cell_type": "raw",
   "metadata": {},
   "source": [
    ".. warning:: \n",
    "    This example attempts to automatically download and compile SPECFEM2D. This step may fail if you are software required by SPECFEM2D, there are issues with the SPECFEM2D repository itself, or the configuration and compiling steps fail. If you run any issues, it is recommended that you manually install and compile SPECFEM2D, and directly provide its path to this example problem when prompted."
   ]
  },
  {
   "cell_type": "code",
   "execution_count": null,
   "metadata": {},
   "outputs": [
    {
     "name": "stdout",
     "output_type": "stream",
     "text": [
      "Run example: ex1_specfem2d_workstation_inversion\n",
      "\n",
      "                                    @@@@@@@@@@                        \n",
      "                               .@@@@.    .%&(  %@.          \n",
      "                            @@@@   @@@@   &@@@@@@ ,%@       \n",
      "                         @@@@   @@@,  /@@              @    \n",
      "                        @@@   @@@@   @@@              @     \n",
      "                      @@@@   @@@@   @@@                @  @ \n",
      "                      @@@   @@@@   ,@@@                @ @  \n",
      "                     @@@@   @@@@    @@@@              @@ @ @\n",
      "                     @@@@   @@@@@    @@@@@          @@@ @@ @\n",
      "                     @@@@    @@@@@     @@@@@@@@@@@@@@  @@  @\n",
      "                      @@@@    @@@@@@        @@@&     @@@  @ \n",
      "                      @@@@@     @@@@@@@@         %@@@@#  @@ \n",
      "                        @@@@#      @@@@@@@@@@@@@@@@@   @@   \n",
      "                         &@@@@@          @@@@(       @@&    \n",
      "                            @@@@@@@             /@@@@       \n",
      "                                @@@@@@@@@@@@@@@@@\n",
      "                                    @@@@@@@@@@          \n",
      "\n",
      "================================================================================\n",
      "                              SEISFLOWS3 EXAMPLE 1                              \n",
      "                              ////////////////////                              \n",
      "This is a [SPECFEM2D] [WORKSTATION] example, which will run 2 iterations of an\n",
      "inversion to assess misfit between two homogeneous halfspace models with\n",
      "slightly different velocities, 3 sources and 1 receiver. The tasks involved\n",
      "include:\n",
      "\n",
      "1. (optional) Download, configure, compile SPECFEM2D\n",
      "2. Set up a SPECFEM2D working directory\n",
      "3. Generate starting model from Tape2007 example\n",
      "4. Generate target model w/ perturbed starting model\n",
      "5. Set up a SeisFlows3 working directory\n",
      "6. Run 2 iterations of an inversion workflow\n",
      "================================================================================\n",
      "If you have already downloaded SPECMFE2D, please input its path here. If blank,\n",
      "this example will pull the latest version from GitHub and attempt to configure\n",
      "and make the binaries: >"
     ]
    }
   ],
   "source": [
    "seisflows examples run 1"
   ]
  },
  {
   "cell_type": "markdown",
   "metadata": {},
   "source": [
    "--------------\n",
    "## Option 2: Manual run\n",
    "\n",
    "The notebook below details a walkthrough of the automated run shown above. This is meant for those who want to understand what is going on under the hood. You are welcome to follow along on your workstation. The following Table of Contents outlines the steps we will take in this tutorial:\n",
    "\n"
   ]
  },
  {
   "cell_type": "raw",
   "metadata": {},
   "source": [
    ".. warning:: \n",
    "    Navigation links will not work outside of Jupyter. Please use the navigation bar to the left."
   ]
  },
  {
   "cell_type": "markdown",
   "metadata": {},
   "source": [
    "1. __[Setup SPECFEM2D](#1.-Setup-SPECFEM2D)__  \n",
    "    a. [Download and compile codebase](#1a.-Download-and-compile-codebase*)  \n",
    "    b. [Create a separate SPECFEM2D working directory](#1b.-Create-a-separate-SPECFEM2D-working-directory)  \n",
    "    c. [Generate initial and target models](#1c.-Generate-initial-and-target-models)  \n",
    "\n",
    "2. __[Initialize SeisFlows3 (SF3)](#2.-Initialize-SeisFlows3-(SF3))__  \n",
    "    a. [SF3 working directory and parameter file](#2a.-SF3-working-directory-and-parameter-file)  \n",
    "    b. [Initialize SF3 working state](#2b.-Initialize-SF3-working-state)  \n",
    "\n",
    "3. __[Run SeisFlows3](#2.-Run-SeisFlows3)__  \n",
    "    a. [Forward simulations](#3a.-Forward-simulations)  \n",
    "    b. [Exploring the SF3 directory structure](#3b.-Exploring-the-SF3-directory-structure)    \n",
    "    c. [Adjoint simulations](#3c.-Adjoint-simulations)  \n",
    "    d. [Line search and model update](#3d.-Line-search-and-model-update)  \n",
    "\n",
    "4. __[Conclusions](#4.-Conclusions)__  "
   ]
  },
  {
   "cell_type": "markdown",
   "metadata": {},
   "source": [
    "### 1. Setup SPECFEM2D \n",
    "#### 1a. Download and compile codebase (optional)\n",
    "\n",
    "> **NOTE**: If you have already downloaded and compiled SPECFEM2D, you can skip most of this subsection (1a). However you will need to edit the first two paths in the following cell (WORKDIR and SPECFEM2D_ORIGINAL), and execute the path structure defined in the cell.\n",
    "\n",
    "First we'll download and compile SPECFEM2D to generate the binaries necessary to run our simulations. We will then populate a new SPECFEM2D working directory that will be used by SeisFlows3. We'll use to Python OS module to do our filesystem processes just to keep everything in Python, but this can easily be accomplished in bash."
   ]
  },
  {
   "cell_type": "code",
   "execution_count": 2,
   "metadata": {},
   "outputs": [],
   "source": [
    "import os\n",
    "import glob\n",
    "import shutil\n",
    "import numpy as np"
   ]
  },
  {
   "cell_type": "code",
   "execution_count": 3,
   "metadata": {},
   "outputs": [],
   "source": [
    "# vvv USER MUST EDIT THE FOLLOWING PATHS vvv\n",
    "WORKDIR = \"/home/bchow/Work/work/sf3_specfem2d_example\" \n",
    "SPECFEM2D = \"/home/bchow/REPOSITORIES/specfem2d\"\n",
    "# where WORKDIR: points to your own working directory\n",
    "# and SPECFEM2D: points to an existing specfem2D repository if available (if not set as '')\n",
    "# ^^^ USER MUST EDIT THE FOLLOWING PATHS ^^^\n",
    "# ======================================================================================================\n",
    "\n",
    "# Distribute the necessary file structure of the SPECFEM2D repository that we will downloaded/reference\n",
    "SPECFEM2D_ORIGINAL = os.path.join(WORKDIR, \"specfem2d\")\n",
    "SPECFEM2D_BIN_ORIGINAL = os.path.join(SPECFEM2D_ORIGINAL, \"bin\")\n",
    "SPECFEM2D_DATA_ORIGINAL = os.path.join(SPECFEM2D_ORIGINAL, \"DATA\")\n",
    "TAPE_2007_EXAMPLE = os.path.join(SPECFEM2D_ORIGINAL, \"EXAMPLES\", \"Tape2007\")\n",
    "\n",
    "# The SPECFEM2D working directory that we will create separate from the downloaded repo\n",
    "SPECFEM2D_WORKDIR = os.path.join(WORKDIR, \"specfem2d_workdir\")\n",
    "SPECFEM2D_BIN = os.path.join(SPECFEM2D_WORKDIR, \"bin\")\n",
    "SPECFEM2D_DATA = os.path.join(SPECFEM2D_WORKDIR, \"DATA\")\n",
    "SPECFEM2D_OUTPUT = os.path.join(SPECFEM2D_WORKDIR, \"OUTPUT_FILES\")\n",
    "\n",
    "# Pre-defined locations of velocity models we will generate using the solver\n",
    "SPECFEM2D_MODEL_INIT = os.path.join(SPECFEM2D_WORKDIR, \"OUTPUT_FILES_INIT\")\n",
    "SPECFEM2D_MODEL_TRUE = os.path.join(SPECFEM2D_WORKDIR, \"OUTPUT_FILES_TRUE\")"
   ]
  },
  {
   "cell_type": "code",
   "execution_count": 4,
   "metadata": {},
   "outputs": [
    {
     "name": "stdout",
     "output_type": "stream",
     "text": [
      "Existing SPECMFE2D respository found, symlinking to working directory\n"
     ]
    }
   ],
   "source": [
    "# Download SPECFEM2D from GitHub, devel branch for latest codebase OR symlink from existing repo\n",
    "os.chdir(WORKDIR)\n",
    "\n",
    "if os.path.exists(\"specfem2d\"):\n",
    "    print(\"SPECFEM2D repository already found, you may skip this subsection\")\n",
    "    pass\n",
    "elif os.path.exists(SPECFEM2D):\n",
    "    print(\"Existing SPECMFE2D respository found, symlinking to working directory\")\n",
    "    os.symlink(SPECFEM2D, \"./specfem2d\")\n",
    "else:\n",
    "    print(\"Cloning respository from GitHub\")\n",
    "    ! git clone --recursive --branch devel https://github.com/geodynamics/specfem2d.git"
   ]
  },
  {
   "cell_type": "code",
   "execution_count": 8,
   "metadata": {},
   "outputs": [],
   "source": [
    "# Compile SPECFEM2D to generate the Makefile\n",
    "os.chdir(SPECFEM2D_ORIGINAL)\n",
    "if not os.path.exists(\"./config.log\"):\n",
    "    os.system(\"./configure\")"
   ]
  },
  {
   "cell_type": "code",
   "execution_count": 9,
   "metadata": {},
   "outputs": [],
   "source": [
    "# Run make to generate SPECFEM2D binaries\n",
    "if not os.path.exists(\"bin\"):\n",
    "    os.system(\"make all\")"
   ]
  },
  {
   "cell_type": "code",
   "execution_count": 10,
   "metadata": {},
   "outputs": [
    {
     "name": "stdout",
     "output_type": "stream",
     "text": [
      "/home/bchow/REPOSITORIES/specfem2d\n",
      "xadj_seismogram\t\t      xconvolve_source_timefunction  xspecfem2D\n",
      "xcheck_quality_external_mesh  xmeshfem2D\t\t     xsum_kernels\n",
      "xcombine_sem\t\t      xsmooth_sem\n"
     ]
    }
   ],
   "source": [
    "# Check out the binary files that have been created\n",
    "os.chdir(SPECFEM2D_ORIGINAL)\n",
    "! pwd\n",
    "! ls bin/"
   ]
  },
  {
   "cell_type": "markdown",
   "metadata": {},
   "source": [
    "#### 1b. Create a separate SPECFEM2D working directory\n",
    "\n",
    "Next we'll create a new SPECFEM2D working directory, separate from the original repository. The intent here is to isolate the original SPECFEM2D repository from our working state, to protect it from things like accidental file deletions or manipulations. This is not a mandatory step for using SeisFlows3, but it helps keep file structure clean in the long run, and is the SeisFlows3 dev team's preferred method of using SPECFEM. "
   ]
  },
  {
   "cell_type": "raw",
   "metadata": {},
   "source": [
    ".. note::\n",
    "    All SPECFEM2D/3D/3D_GLOBE need to run successfully are the bin/, DATA/, and OUTPUT_FILES/ directories. Everything else in the repository is not mandatory for running binaries."
   ]
  },
  {
   "cell_type": "markdown",
   "metadata": {},
   "source": [
    "In this tutorial we will be using the [Tape2007 example problem](https://github.com/geodynamics/specfem2d/tree/devel/EXAMPLES/Tape2007) to define our __DATA/__ directory (last tested 3/9/22, cf893667)."
   ]
  },
  {
   "cell_type": "code",
   "execution_count": 11,
   "metadata": {},
   "outputs": [
    {
     "name": "stdout",
     "output_type": "stream",
     "text": [
      "/home/bchow/Work/work/sf3_specfem2d_example/specfem2d_workdir\n",
      "bin  DATA\n"
     ]
    }
   ],
   "source": [
    "# Incase we've run this docs page before, delete the working directory before remaking\n",
    "if os.path.exists(SPECFEM2D_WORKDIR):\n",
    "    shutil.rmtree(SPECFEM2D_WORKDIR)\n",
    "\n",
    "os.mkdir(SPECFEM2D_WORKDIR)\n",
    "os.chdir(SPECFEM2D_WORKDIR)\n",
    "\n",
    "# Copy the binary files incase we update the source code. These can also be symlinked.\n",
    "shutil.copytree(SPECFEM2D_BIN_ORIGINAL, \"bin\")\n",
    "\n",
    "# Copy the DATA/ directory because we will be making edits here frequently and it's useful to\n",
    "# retain the original files for reference. We will be running one of the example problems: Tape2007\n",
    "shutil.copytree(os.path.join(TAPE_2007_EXAMPLE, \"DATA\"), \"DATA\")\n",
    "\n",
    "! pwd\n",
    "! ls"
   ]
  },
  {
   "cell_type": "code",
   "execution_count": 19,
   "metadata": {},
   "outputs": [
    {
     "name": "stdout",
     "output_type": "stream",
     "text": [
      " -------------------------------------------------------------------------------\r\n",
      " -------------------------------------------------------------------------------\r\n",
      " D a t e : 29 - 04 - 2022                                 T i m e  : 12:24:51\r\n",
      " -------------------------------------------------------------------------------\r\n",
      " -------------------------------------------------------------------------------\r\n",
      "\r\n",
      "see results in directory: OUTPUT_FILES/\r\n",
      "\r\n",
      "done\r\n",
      "Fri Apr 29 12:24:51 AKDT 2022\r\n"
     ]
    }
   ],
   "source": [
    "# Run the Tape2007 example to make sure SPECFEM2D is working as expected\n",
    "os.chdir(TAPE_2007_EXAMPLE)\n",
    "! ./run_this_example.sh > output_log.txt\n",
    "\n",
    "assert(os.path.exists(\"OUTPUT_FILES/forward_image000004800.jpg\")), \\\n",
    "    (f\"Example did not run, the remainder of this docs page will likely not work.\"\n",
    "     f\"Please check the following directory: {TAPE_2007_EXAMPLE}\")\n",
    "\n",
    "! tail output_log.txt"
   ]
  },
  {
   "cell_type": "markdown",
   "metadata": {},
   "source": [
    "------------------------------------\n",
    "Now we need to manually set up our SPECFEM2D working directory. As mentioned in the previous cell, the only required elements of this working directory are the following (these files will form the basis for how SeisFlows3 operates within the SPECFEM2D framework):\n",
    "\n",
    "1. __bin/__ directory containing SPECFEM2D binaries\n",
    "2. __DATA/__ directory containing SOURCE and STATION files, as well as a SPECFEM2D Par_file\n",
    "3. __OUTPUT_FILES/proc??????_*.bin__ files which define the starting (and target) models"
   ]
  },
  {
   "cell_type": "raw",
   "metadata": {},
   "source": [
    ".. note:: \n",
    "    This file structure is the same for all versions of SPECFEM (2D/3D/3D_GLOBE)"
   ]
  },
  {
   "cell_type": "code",
   "execution_count": 20,
   "metadata": {},
   "outputs": [
    {
     "name": "stdout",
     "output_type": "stream",
     "text": [
      "interfaces_Tape2007.dat\t\t     SOURCE_003  SOURCE_012  SOURCE_021\r\n",
      "model_velocity.dat_checker\t     SOURCE_004  SOURCE_013  SOURCE_022\r\n",
      "Par_file\t\t\t     SOURCE_005  SOURCE_014  SOURCE_023\r\n",
      "Par_file_Tape2007_132rec_checker     SOURCE_006  SOURCE_015  SOURCE_024\r\n",
      "Par_file_Tape2007_onerec\t     SOURCE_007  SOURCE_016  SOURCE_025\r\n",
      "proc000000_model_velocity.dat_input  SOURCE_008  SOURCE_017  STATIONS\r\n",
      "SOURCE\t\t\t\t     SOURCE_009  SOURCE_018  STATIONS_checker\r\n",
      "SOURCE_001\t\t\t     SOURCE_010  SOURCE_019\r\n",
      "SOURCE_002\t\t\t     SOURCE_011  SOURCE_020\r\n"
     ]
    }
   ],
   "source": [
    "# First we will set the correct SOURCE and STATION files.\n",
    "# This is the same task as shown in ./run_this_example.sh\n",
    "os.chdir(SPECFEM2D_DATA)\n",
    "\n",
    "# Symlink source 001 as our main source\n",
    "if os.path.exists(\"SOURCE\"):\n",
    "    os.remove(\"SOURCE\")\n",
    "os.symlink(\"SOURCE_001\", \"SOURCE\")\n",
    "\n",
    "# Copy the correct Par_file so that edits do not affect the original file\n",
    "if os.path.exists(\"Par_file\"):\n",
    "    os.remove(\"Par_file\")\n",
    "shutil.copy(\"Par_file_Tape2007_onerec\", \"Par_file\")\n",
    "\n",
    "! ls"
   ]
  },
  {
   "cell_type": "markdown",
   "metadata": {},
   "source": [
    "#### 1c. Generate initial and target models\n",
    "\n",
    "Since we're doing a synthetic-synthetic inversion, we need to manually set up the velocity models with which we generate our synthetic waveforms. The naming conventions for these models are:\n",
    "\n",
    "1. __MODEL_INIT:__ The initial or starting model. Used to generate the actual synthetic seismograms. This is considered M00.\n",
    "2. __MODEL_TRUE:__ The target or true model. Used to generate 'data' (also synthetic). This is the reference model that our inversion is trying to resolve.\n",
    "\n",
    "The starting model is defined as a homogeneous halfspace uin the Tape2007 example problem. We will need to run both `xmeshfem2D` and `xspecfem2D` to generate the required velocity model database files. We will generate our target model by slightly perturbing the parameters of the initial model."
   ]
  },
  {
   "cell_type": "raw",
   "metadata": {},
   "source": [
    ".. note::\n",
    "    We can use the SeisFlows3 command line option `seisflows sempar` to directly edit the SPECFEM2D Par_file in the command line. This will work for the SPECFEM3D Par_file as well."
   ]
  },
  {
   "cell_type": "code",
   "execution_count": 21,
   "metadata": {},
   "outputs": [
    {
     "name": "stdout",
     "output_type": "stream",
     "text": [
      "setup_with_binary_database: 0 -> 1\n",
      "SAVE_MODEL: default -> binary\n",
      "save_ASCII_kernels: .true. -> .false.\n"
     ]
    }
   ],
   "source": [
    "os.chdir(SPECFEM2D_DATA)\n",
    "\n",
    "# Ensure that SPECFEM2D outputs the velocity model in the expected binary format\n",
    "! seisflows sempar setup_with_binary_database 1  # allow creation of .bin files\n",
    "! seisflows sempar save_model binary  # output model in .bin database format\n",
    "! seisflows sempar save_ascii_kernels .false.  # output kernels in .bin format, not ASCII"
   ]
  },
  {
   "cell_type": "code",
   "execution_count": 22,
   "metadata": {},
   "outputs": [
    {
     "name": "stdout",
     "output_type": "stream",
     "text": [
      "bin  DATA  OUTPUT_FILES\r\n"
     ]
    }
   ],
   "source": [
    "# SPECFEM requires that we create the OUTPUT_FILES directory before running\n",
    "os.chdir(SPECFEM2D_WORKDIR)\n",
    "\n",
    "if os.path.exists(SPECFEM2D_OUTPUT):\n",
    "    shutil.rmtree(SPECFEM2D_OUTPUT)\n",
    "    \n",
    "os.mkdir(SPECFEM2D_OUTPUT)\n",
    "\n",
    "! ls"
   ]
  },
  {
   "cell_type": "code",
   "execution_count": 23,
   "metadata": {},
   "outputs": [
    {
     "name": "stdout",
     "output_type": "stream",
     "text": [
      "\n",
      " **********************************************\n",
      " **** Specfem 2-D Solver - serial version  ****\n",
      " **********************************************\n",
      "\n",
      " Running Git version of the code corresponding to commit cf89366717d9435985ba852ef1d41a10cee97884\n",
      " dating From Date:   Mon Nov 29 23:20:51 2021 -0800\n",
      "\n",
      "\n",
      " NDIM =            2\n",
      " -------------------------------------------------------------------------------\n",
      " Program SPECFEM2D: \n",
      " -------------------------------------------------------------------------------\n",
      " -------------------------------------------------------------------------------\n",
      " Tape-Liu-Tromp (GJI 2007)\n",
      " -------------------------------------------------------------------------------\n",
      " -------------------------------------------------------------------------------\n",
      " D a t e : 29 - 04 - 2022                                 T i m e  : 12:25:24\n",
      " -------------------------------------------------------------------------------\n",
      " -------------------------------------------------------------------------------\n"
     ]
    }
   ],
   "source": [
    "# GENERATE MODEL_INIT\n",
    "os.chdir(SPECFEM2D_WORKDIR)\n",
    "\n",
    "# Run the mesher and solver to generate our initial model\n",
    "! ./bin/xmeshfem2D > OUTPUT_FILES/mesher_log.txt\n",
    "! ./bin/xspecfem2D > OUTPUT_FILES/solver_log.txt\n",
    "\n",
    "# Move the model files (*.bin) into the OUTPUT_FILES directory, where SeisFlows3 expects them\n",
    "! mv DATA/*bin OUTPUT_FILES\n",
    "\n",
    "# Make sure we don't overwrite this initial model when creating our target model in the next step\n",
    "! mv OUTPUT_FILES OUTPUT_FILES_INIT\n",
    "\n",
    "! head OUTPUT_FILES_INIT/solver_log.txt\n",
    "! tail OUTPUT_FILES_INIT/solver_log.txt"
   ]
  },
  {
   "cell_type": "markdown",
   "metadata": {},
   "source": [
    "-----------------------------\n",
    "\n",
    "Now we want to perturb the initial model to create our target model (__MODEL_TRUE__). The seisflows command line subargument `seisflows sempar velocity_model` will let us view and edit the velocity model. You can also do this manually by editing the Par_file directly. "
   ]
  },
  {
   "cell_type": "code",
   "execution_count": 24,
   "metadata": {},
   "outputs": [
    {
     "name": "stdout",
     "output_type": "stream",
     "text": [
      "VELOCITY_MODEL:\r\n",
      "\r\n",
      "1 1 2600.d0 5800.d0 3500.0d0 0 0 10.d0 10.d0 0 0 0 0 0 0\r\n",
      "->\r\n",
      "1 1 2600.d0 5900.d0 3550.0d0 0 0 10.d0 10.d0 0 0 0 0 0 0\r\n"
     ]
    }
   ],
   "source": [
    "# GENERATE MODEL_TRUE\n",
    "os.chdir(SPECFEM2D_DATA)\n",
    "\n",
    "# Edit the Par_file by increasing velocities by ~10% \n",
    "! seisflows sempar velocity_model '1 1 2600.d0 5900.d0 3550.0d0 0 0 10.d0 10.d0 0 0 0 0 0 0'"
   ]
  },
  {
   "cell_type": "code",
   "execution_count": 25,
   "metadata": {},
   "outputs": [
    {
     "name": "stdout",
     "output_type": "stream",
     "text": [
      "\n",
      " **********************************************\n",
      " **** Specfem 2-D Solver - serial version  ****\n",
      " **********************************************\n",
      "\n",
      " Running Git version of the code corresponding to commit cf89366717d9435985ba852ef1d41a10cee97884\n",
      " dating From Date:   Mon Nov 29 23:20:51 2021 -0800\n",
      "\n",
      "\n",
      " NDIM =            2\n",
      " -------------------------------------------------------------------------------\n",
      " Program SPECFEM2D: \n",
      " -------------------------------------------------------------------------------\n",
      " -------------------------------------------------------------------------------\n",
      " Tape-Liu-Tromp (GJI 2007)\n",
      " -------------------------------------------------------------------------------\n",
      " -------------------------------------------------------------------------------\n",
      " D a t e : 29 - 04 - 2022                                 T i m e  : 12:25:24\n",
      " -------------------------------------------------------------------------------\n",
      " -------------------------------------------------------------------------------\n"
     ]
    }
   ],
   "source": [
    "# Re-run the mesher and solver to generate our target velocity model\n",
    "os.chdir(SPECFEM2D_WORKDIR)\n",
    "\n",
    "# Make sure the ./OUTPUT_FILES directory exists since we moved the old one\n",
    "if os.path.exists(SPECFEM2D_OUTPUT):\n",
    "    shutil.rmtree(SPECFEM2D_OUTPUT)\n",
    "os.mkdir(SPECFEM2D_OUTPUT)\n",
    "\n",
    "# Run the binaries to generate MODEL_TRUE\n",
    "! ./bin/xmeshfem2D > OUTPUT_FILES/mesher_log.txt\n",
    "! ./bin/xspecfem2D > OUTPUT_FILES/solver_log.txt\n",
    "\n",
    "# Move all the relevant files into OUTPUT_FILES \n",
    "! mv ./DATA/*bin OUTPUT_FILES\n",
    "! mv OUTPUT_FILES OUTPUT_FILES_TRUE\n",
    "\n",
    "! head OUTPUT_FILES_INIT/solver_log.txt\n",
    "! tail OUTPUT_FILES_INIT/solver_log.txt"
   ]
  },
  {
   "cell_type": "code",
   "execution_count": 26,
   "metadata": {},
   "outputs": [
    {
     "name": "stdout",
     "output_type": "stream",
     "text": [
      "bin  DATA  OUTPUT_FILES_INIT  OUTPUT_FILES_TRUE\r\n"
     ]
    }
   ],
   "source": [
    "# Great, we have all the necessary SPECFEM files to run our SeisFlows3 inversion!\n",
    "! ls"
   ]
  },
  {
   "cell_type": "markdown",
   "metadata": {},
   "source": [
    "### 2. Initialize SeisFlows3 (SF3)\n",
    "In this Section we will look at a SeisFlows3 working directory, parameter file, and working state.\n",
    "\n",
    "#### 2a. SF3 working directory and parameter file\n",
    "\n",
    "As with SPECFEM, SeisFlows3 requires a parameter file (__parameters.yaml__) that controls how an automated workflow will proceed. Because SeisFlows3 is modular, there are a large number of potential parameters which may be present in SF3 parameter file, as each sub-module may have its own set of unique parameters.\n",
    "\n",
    "In contrast to SPECFEM's method of listing all available parameters and leaving it up the User to determine which ones are relevant to them, SeisFlows3 dynamically builds its parameter file based on User inputs. In this subsection we will use the built-in SeisFlows3 command line tools to generate and populate the parameter file. "
   ]
  },
  {
   "cell_type": "raw",
   "metadata": {},
   "source": [
    ".. note::\n",
    "    See the `parameter file documentation page <parameter_file.html>`__ for a more in depth exploration of this central SeisFlows3 file."
   ]
  },
  {
   "cell_type": "markdown",
   "metadata": {},
   "source": [
    "In the previous section we saw the `sempar` command in action. We can use the `-h` or help flag to list all available SiesFlows3 command line commands."
   ]
  },
  {
   "cell_type": "code",
   "execution_count": 27,
   "metadata": {},
   "outputs": [
    {
     "name": "stdout",
     "output_type": "stream",
     "text": [
      "usage: seisflows [-h] [-w [WORKDIR]] [-p [PARAMETER_FILE]]\r\n",
      "                 {setup,configure,init,submit,resume,restart,clean,par,sempar,check,print,convert,reset,debug,edit,examples}\r\n",
      "                 ...\r\n",
      "\r\n",
      "================================================================================\r\n",
      "\r\n",
      "                     SeisFlows3: Waveform Inversion Package                     \r\n",
      "\r\n",
      "================================================================================\r\n",
      "\r\n",
      "optional arguments:\r\n",
      "  -h, --help            show this help message and exit\r\n",
      "  -w [WORKDIR], --workdir [WORKDIR]\r\n",
      "                        The SeisFlows working directory, default: cwd\r\n",
      "  -p [PARAMETER_FILE], --parameter_file [PARAMETER_FILE]\r\n",
      "                        Parameters file, default: 'parameters.yaml'\r\n",
      "\r\n",
      "command:\r\n",
      "  Available SeisFlows arguments and their intended usages\r\n",
      "\r\n",
      "    setup               Setup working directory from scratch\r\n",
      "    configure           Fill parameter file with defaults\r\n",
      "    init                Initiate working environment\r\n",
      "    submit              Submit initial workflow to system\r\n",
      "    resume              Re-submit previous workflow to system\r\n",
      "    restart             Remove current environment and submit new workflow\r\n",
      "    clean               Remove files relating to an active working environment\r\n",
      "    par                 View and edit SeisFlows3 parameter file\r\n",
      "    sempar              View and edit SPECFEM parameter file\r\n",
      "    check               Check state of an active environment\r\n",
      "    print               Print information related to an active environment\r\n",
      "    convert             Convert model file format\r\n",
      "    reset               Reset modules within an active state\r\n",
      "    debug               Start interactive debug environment\r\n",
      "    edit                Open source code file in text editor\r\n",
      "    examples            Look at and run pre-configured example problems\r\n",
      "\r\n",
      "'seisflows [command] -h' for more detailed descriptions of each command.\r\n"
     ]
    }
   ],
   "source": [
    "! seisflows -h"
   ]
  },
  {
   "cell_type": "code",
   "execution_count": 44,
   "metadata": {},
   "outputs": [
    {
     "name": "stdout",
     "output_type": "stream",
     "text": [
      "creating parameter file: parameters.yaml\n",
      "parameters.yaml  specfem2d  specfem2d_workdir\n"
     ]
    }
   ],
   "source": [
    "# The command 'setup' creates the 'parameters.yaml' file that controls all of SeisFlows3\n",
    "# the '-f' flag removes any exist 'parameters.yaml' file that might be in the directory\n",
    "os.chdir(WORKDIR)\n",
    "! seisflows setup -f\n",
    "! ls"
   ]
  },
  {
   "cell_type": "code",
   "execution_count": 36,
   "metadata": {},
   "outputs": [
    {
     "name": "stdout",
     "output_type": "stream",
     "text": [
      "# //////////////////////////////////////////////////////////////////////////////\r\n",
      "#\r\n",
      "#                        SeisFlows3 YAML Parameter File\r\n",
      "#\r\n",
      "# //////////////////////////////////////////////////////////////////////////////\r\n",
      "#\r\n",
      "# Modules correspond to the structure of the source code, and determine\r\n",
      "# SeisFlows3' behavior at runtime. Each module requires its own sub-parameters.\r\n",
      "#\r\n",
      "# .. rubric::\r\n",
      "#   - To determine available options for modules listed below, run:\r\n",
      "#       > seisflows print module\r\n",
      "#   - To auto-fill with docstrings and default values (recommended), run:\r\n",
      "#       > seisflows configure\r\n",
      "#   - To set values as NoneType, use: null\r\n",
      "#   - To set values as infinity, use: inf\r\n",
      "#\r\n",
      "#                                    MODULES\r\n",
      "#                                    ///////\r\n",
      "# WORKFLOW (str):    The method for running SeisFlows3; equivalent to main()\r\n",
      "# SOLVER (str):      External numerical solver to use for waveform simulations\r\n",
      "# SYSTEM (str):      Computer architecture of the system being used\r\n",
      "# OPTIMIZE (str):    Optimization algorithm for the inverse problem\r\n",
      "# PREPROCESS (str):  Preprocessing schema for waveform data\r\n",
      "# POSTPROCESS (str): Postprocessing schema for kernels and gradients\r\n",
      "# ==============================================================================\r\n",
      "WORKFLOW: inversion\r\n",
      "SOLVER: specfem2d\r\n",
      "SYSTEM: workstation\r\n",
      "OPTIMIZE: LBFGS \r\n",
      "PREPROCESS: base\r\n",
      "POSTPROCESS: base\r\n"
     ]
    }
   ],
   "source": [
    "# Let's have a look at this file, which has not yet been populated\n",
    "! cat parameters.yaml"
   ]
  },
  {
   "cell_type": "code",
   "execution_count": 37,
   "metadata": {},
   "outputs": [
    {
     "name": "stdout",
     "output_type": "stream",
     "text": [
      "                               SEISFLOWS3 MODULES                               \r\n",
      "                               //////////////////                               \r\n",
      "'+': package, '-': module, '*': class\r\n",
      "\r\n",
      "+ SYSTEM\r\n",
      "    - seisflows\r\n",
      "        * base\r\n",
      "        * cluster\r\n",
      "        * lsf\r\n",
      "        * slurm\r\n",
      "        * workstation\r\n",
      "    - seisflows-super\r\n",
      "        * chinook\r\n",
      "        * maui\r\n",
      "+ PREPROCESS\r\n",
      "    - seisflows\r\n",
      "        * base\r\n",
      "        * pyatoa\r\n",
      "    - seisflows-super\r\n",
      "        * pyatoa_nz\r\n",
      "+ SOLVER\r\n",
      "    - seisflows\r\n",
      "        * base\r\n",
      "        * specfem2d\r\n",
      "        * specfem3d\r\n",
      "        * specfem3d_globe\r\n",
      "    - seisflows-super\r\n",
      "        * specfem3d_maui\r\n",
      "+ POSTPROCESS\r\n",
      "    - seisflows\r\n",
      "        * base\r\n",
      "    - seisflows-super\r\n",
      "+ OPTIMIZE\r\n",
      "    - seisflows\r\n",
      "        * LBFGS\r\n",
      "        * NLCG\r\n",
      "        * base\r\n",
      "    - seisflows-super\r\n",
      "+ WORKFLOW\r\n",
      "    - seisflows\r\n",
      "        * base\r\n",
      "        * inversion\r\n",
      "        * migration\r\n",
      "        * test\r\n",
      "    - seisflows-super\r\n",
      "        * thrifty_inversion\r\n",
      "        * thrifty_maui\r\n"
     ]
    }
   ],
   "source": [
    "# We can use the `seisflows print modules` command to list out the available options \n",
    "! seisflows print modules"
   ]
  },
  {
   "cell_type": "code",
   "execution_count": 45,
   "metadata": {},
   "outputs": [
    {
     "name": "stdout",
     "output_type": "stream",
     "text": [
      "SOLVER: specfem2d -> specfem2d\n",
      "# //////////////////////////////////////////////////////////////////////////////\n",
      "#\n",
      "#                        SeisFlows3 YAML Parameter File\n",
      "#\n",
      "# //////////////////////////////////////////////////////////////////////////////\n",
      "#\n",
      "# Modules correspond to the structure of the source code, and determine\n",
      "# SeisFlows3' behavior at runtime. Each module requires its own sub-parameters.\n",
      "#\n",
      "# .. rubric::\n",
      "#   - To determine available options for modules listed below, run:\n",
      "#       > seisflows print module\n",
      "#   - To auto-fill with docstrings and default values (recommended), run:\n",
      "#       > seisflows configure\n",
      "#   - To set values as NoneType, use: null\n",
      "#   - To set values as infinity, use: inf\n",
      "#\n",
      "#                                    MODULES\n",
      "#                                    ///////\n",
      "# WORKFLOW (str):    The method for running SeisFlows3; equivalent to main()\n",
      "# SOLVER (str):      External numerical solver to use for waveform simulations\n",
      "# SYSTEM (str):      Computer architecture of the system being used\n",
      "# OPTIMIZE (str):    Optimization algorithm for the inverse problem\n",
      "# PREPROCESS (str):  Preprocessing schema for waveform data\n",
      "# POSTPROCESS (str): Postprocessing schema for kernels and gradients\n",
      "# ==============================================================================\n",
      "WORKFLOW: inversion\n",
      "SOLVER: specfem2d\n",
      "SYSTEM: workstation\n",
      "OPTIMIZE: LBFGS \n",
      "PREPROCESS: base\n",
      "POSTPROCESS: base\n"
     ]
    }
   ],
   "source": [
    "# For this example, we can use most of the default modules, however we need to \n",
    "# change the SOLVER module to let SeisFlows3 know we're using SPECFEM2D (as opposed to 3D)\n",
    "! seisflows par solver specfem2d\n",
    "! cat parameters.yaml"
   ]
  },
  {
   "cell_type": "markdown",
   "metadata": {},
   "source": [
    "-------------------------\n",
    "The `seisflows configure` command populates the parameter file based on the chosen modules. SeisFlows3 will attempt to fill in all parameters with default values when possible, but values that the User __MUST__ set will be denoted by the value:\n",
    "\n",
    ">__!!! REQUIRED PARAMETER !!!__\n",
    "\n",
    "SeisFlows3 will not work until all of these required parameters are set by the User. Docstrings above each module show descriptions and available options for each of these parameters. In the follownig cell we will use the `seisflows par` command to edit the parameters.yaml file directly, replacing each of the required parameters with a chosen value. Comments next to each evaluation describe the choice for each."
   ]
  },
  {
   "cell_type": "code",
   "execution_count": 46,
   "metadata": {},
   "outputs": [
    {
     "name": "stdout",
     "output_type": "stream",
     "text": [
      "filling parameters.yaml w/ default values\n",
      "# //////////////////////////////////////////////////////////////////////////////\n",
      "#\n",
      "#                        SeisFlows3 YAML Parameter File\n",
      "#\n",
      "# //////////////////////////////////////////////////////////////////////////////\n",
      "#\n",
      "# Modules correspond to the structure of the source code, and determine\n",
      "# SeisFlows3' behavior at runtime. Each module requires its own sub-parameters.\n",
      "#\n",
      "# .. rubric::\n",
      "#   - To determine available options for modules listed below, run:\n",
      "#       > seisflows print module\n",
      "#   - To auto-fill with docstrings and default values (recommended), run:\n",
      "#       > seisflows configure\n",
      "#   - To set values as NoneType, use: null\n",
      "#   - To set values as infinity, use: inf\n",
      "#\n",
      "#                                    MODULES\n",
      "#                                    ///////\n",
      "# WORKFLOW (str):    The method for running SeisFlows3; equivalent to main()\n",
      "# SOLVER (str):      External numerical solver to use for waveform simulations\n",
      "# SYSTEM (str):      Computer architecture of the system being used\n",
      "# OPTIMIZE (str):    Optimization algorithm for the inverse problem\n",
      "# PREPROCESS (str):  Preprocessing schema for waveform data\n",
      "# POSTPROCESS (str): Postprocessing schema for kernels and gradients\n",
      "# ==============================================================================\n",
      "WORKFLOW: inversion\n",
      "SOLVER: specfem2d\n",
      "SYSTEM: workstation\n",
      "OPTIMIZE: LBFGS \n",
      "PREPROCESS: base\n",
      "POSTPROCESS: base\n",
      "\n",
      "# =============================================================================\n",
      "#                                    SYSTEM                                    \n",
      "#                                    //////                                    \n",
      "# TITLE (str):\n",
      "#   The name used to submit jobs to the system, defaults to the name of the\n",
      "#   working directory\n",
      "# PRECHECK (list):\n",
      "#   A list of parameters that will be displayed to stdout before 'submit' or\n",
      "#   'resume' is run. Useful for manually reviewing important parameters prior\n",
      "#   to system submission\n",
      "# LOG_LEVEL (str):\n",
      "#   Verbosity output of SF3 logger. Available from least to most verbosity:\n",
      "#   'CRITICAL', 'WARNING', 'INFO', 'DEBUG'; defaults to 'DEBUG'\n",
      "# VERBOSE (bool):\n",
      "#   Level of verbosity provided to the output log. If True, log statements\n",
      "#   will declare what module/class/function they are being called from.\n",
      "#   Useful for debugging but also very noisy.\n",
      "# MPIEXEC (str):\n",
      "#   Function used to invoke executables on the system. For example 'srun' on\n",
      "#   SLURM systems, or './' on a workstation. If left blank, will guess based\n",
      "#   on the system.\n",
      "# NTASK (int):\n",
      "#   Number of separate, individual tasks. Also equal to the number of desired\n",
      "#   sources in workflow\n",
      "# NPROC (int):\n",
      "#   Number of processor to use for each simulation\n",
      "# =============================================================================\n",
      "TITLE: sf3_specfem2d_example\n",
      "PRECHECK:\n",
      "    - TITLE\n",
      "LOG_LEVEL: DEBUG\n",
      "VERBOSE: False\n",
      "MPIEXEC:\n",
      "NTASK: 1\n",
      "NPROC: 1\n",
      "\n",
      "# =============================================================================\n",
      "#                                  PREPROCESS                                  \n",
      "#                                  //////////                                  \n",
      "# MISFIT (str):\n",
      "#   Misfit function for waveform comparisons, for available see\n",
      "#   seisflows.plugins.misfit\n",
      "# BACKPROJECT (str):\n",
      "#   Backprojection function for migration, for available see\n",
      "#   seisflows.plugins.adjoint\n",
      "# NORMALIZE (list):\n",
      "#   Data normalization parameters used to normalize the amplitudes of\n",
      "#   waveforms. Choose from two sets: ENORML1: normalize per event by L1 of\n",
      "#   traces; OR ENORML2: normalize per event by L2 of traces; AND TNORML1:\n",
      "#   normalize per trace by L1 of itself; OR TNORML2: normalize per trace by\n",
      "#   L2 of itself\n",
      "# FILTER (str):\n",
      "#   Data filtering type, available options are:BANDPASS (req. MIN/MAX\n",
      "#   PERIOD/FREQ);LOWPASS (req. MAX_FREQ or MIN_PERIOD); HIGHPASS (req.\n",
      "#   MIN_FREQ or MAX_PERIOD)\n",
      "# MIN_PERIOD (float):\n",
      "#   Minimum filter period applied to time series.See also MIN_FREQ, MAX_FREQ,\n",
      "#   if User defines FREQ parameters, they will overwrite PERIOD parameters.\n",
      "# MAX_PERIOD (float):\n",
      "#   Maximum filter period applied to time series.See also MIN_FREQ, MAX_FREQ,\n",
      "#   if User defines FREQ parameters, they will overwrite PERIOD parameters.\n",
      "# MIN_FREQ (float):\n",
      "#   Maximum filter frequency applied to time series.See also MIN_PERIOD,\n",
      "#   MAX_PERIOD, if User defines FREQ parameters, they will overwrite PERIOD\n",
      "#   parameters.\n",
      "# MAX_FREQ (float):\n",
      "#   Maximum filter frequency applied to time series,See also MIN_PERIOD,\n",
      "#   MAX_PERIOD, if User defines FREQ parameters, they will overwrite PERIOD\n",
      "#   parameters.\n",
      "# MUTE (list):\n",
      "#   Data mute parameters used to zero out early / late arrivals or offsets.\n",
      "#   Choose any number of: EARLY: mute early arrivals; LATE: mute late\n",
      "#   arrivals; SHORT: mute short source-receiver distances; LONG: mute long\n",
      "#   source-receiver distances\n",
      "# =============================================================================\n",
      "MISFIT: waveform\n",
      "BACKPROJECT: null\n",
      "NORMALIZE: []\n",
      "FILTER: null\n",
      "MIN_PERIOD:\n",
      "MAX_PERIOD:\n",
      "MIN_FREQ:\n",
      "MAX_FREQ:\n",
      "MUTE: []\n",
      "\n",
      "# =============================================================================\n",
      "#                                    SOLVER                                    \n",
      "#                                    //////                                    \n",
      "# MATERIALS (str):\n",
      "#   Material parameters used to define model. Available: ['ELASTIC': Vp, Vs,\n",
      "#   'ACOUSTIC': Vp, 'ISOTROPIC', 'ANISOTROPIC']\n",
      "# DENSITY (str):\n",
      "#   How to treat density during inversion. Available: ['CONSTANT': Do not\n",
      "#   update density, 'VARIABLE': Update density]\n",
      "# ATTENUATION (str):\n",
      "#   If True, turn on attenuation during forward simulations, otherwise set\n",
      "#   attenuation off. Attenuation is always off for adjoint simulations.\n",
      "# COMPONENTS (str):\n",
      "#   Components used to generate data, formatted as a single string, e.g. ZNE\n",
      "#   or NZ or E\n",
      "# SOLVERIO (int):\n",
      "#   The format external solver files. Available: ['fortran_binary', 'adios']\n",
      "# NT (float):\n",
      "#   Number of time steps set in the SPECFEM Par_file\n",
      "# DT (float):\n",
      "#   Time step or delta set in the SPECFEM Par_file\n",
      "# F0 (float):\n",
      "#   Dominant source frequency\n",
      "# FORMAT (float):\n",
      "#   Format of synthetic waveforms used during workflow, available options:\n",
      "#   ['ascii', 'su']\n",
      "# SOURCE_PREFIX (str):\n",
      "#   Prefix of SOURCE files in path SPECFEM_DATA. By default, 'SOURCE' for\n",
      "#   SPECFEM2D\n",
      "# =============================================================================\n",
      "MATERIALS: !!! REQUIRED PARAMETER !!!\n",
      "DENSITY: !!! REQUIRED PARAMETER !!!\n",
      "ATTENUATION: !!! REQUIRED PARAMETER !!!\n",
      "COMPONENTS: ZNE\n",
      "SOLVERIO: fortran_binary\n",
      "NT: !!! REQUIRED PARAMETER !!!\n",
      "DT: !!! REQUIRED PARAMETER !!!\n",
      "F0: !!! REQUIRED PARAMETER !!!\n",
      "FORMAT: !!! REQUIRED PARAMETER !!!\n",
      "SOURCE_PREFIX: SOURCE\n",
      "\n",
      "# =============================================================================\n",
      "#                                  POSTPROCESS                                 \n",
      "#                                  ///////////                                 \n",
      "# SMOOTH_H (float):\n",
      "#   Gaussian half-width for horizontal smoothing in units of meters. If 0.,\n",
      "#   no smoothing applied\n",
      "# SMOOTH_V (float):\n",
      "#   Gaussian half-width for vertical smoothing in units of meters\n",
      "# TASKTIME_SMOOTH (int):\n",
      "#   Large radii smoothing may take longer than normal tasks. Allocate\n",
      "#   additional smoothing task time as a multiple of TASKTIME\n",
      "# =============================================================================\n",
      "SMOOTH_H: 0.0\n",
      "SMOOTH_V: 0.0\n",
      "TASKTIME_SMOOTH: 1\n",
      "\n",
      "# =============================================================================\n",
      "#                                   OPTIMIZE                                   \n",
      "#                                   ////////                                   \n",
      "# LINESEARCH (str):\n",
      "#   Algorithm to use for line search, see seisflows.plugins.line_search for\n",
      "#   available choices\n",
      "# PRECOND (str):\n",
      "#   Algorithm to use for preconditioning gradients, see\n",
      "#   seisflows.plugins.preconds for available choices\n",
      "# STEPCOUNTMAX (int):\n",
      "#   Max number of trial steps in line search before a change in line search\n",
      "#   behavior\n",
      "# STEPLENINIT (float):\n",
      "#   Initial line search step length, as a fraction of current model\n",
      "#   parameters\n",
      "# STEPLENMAX (float):\n",
      "#   Max allowable step length, as a fraction of current model parameters\n",
      "# LBFGSMEM (int):\n",
      "#   Max number of previous gradients to retain in local memory\n",
      "# LBFGSMAX (int):\n",
      "#   LBFGS periodic restart interval, between 1 and 'inf'\n",
      "# LBFGSTHRESH (float):\n",
      "#   LBFGS angle restart threshold\n",
      "# =============================================================================\n",
      "LINESEARCH: Backtrack\n",
      "PRECOND:\n",
      "STEPCOUNTMAX: 10\n",
      "STEPLENINIT: 0.05\n",
      "STEPLENMAX: 0.5\n",
      "LBFGSMEM: 3\n",
      "LBFGSMAX: inf\n",
      "LBFGSTHRESH: 0.0\n",
      "\n",
      "# =============================================================================\n",
      "#                                   WORKFLOW                                   \n",
      "#                                   ////////                                   \n",
      "# CASE (str):\n",
      "#   Type of inversion, available: ['data': real data inversion, 'synthetic':\n",
      "#   synthetic-synthetic inversion]\n",
      "# RESUME_FROM (str):\n",
      "#   Name of task to resume inversion from\n",
      "# STOP_AFTER (str):\n",
      "#   Name of task to stop inversion after finishing\n",
      "# SAVEMODEL (bool):\n",
      "#   Save final model files after each iteration\n",
      "# SAVEGRADIENT (bool):\n",
      "#   Save gradient files after each iteration\n",
      "# SAVEKERNELS (bool):\n",
      "#   Save event kernel files after each iteration\n",
      "# SAVETRACES (bool):\n",
      "#   Save waveform traces after each iteration\n",
      "# SAVERESIDUALS (bool):\n",
      "#   Save waveform residuals after each iteration\n",
      "# SAVEAS (str):\n",
      "#   Format to save models, gradients, kernels. Available: ['binary': save\n",
      "#   files in native SPECFEM .bin format, 'vector': save files as NumPy .npy\n",
      "#   files, 'both': save as both binary and vectors]\n",
      "# BEGIN (int):\n",
      "#   First iteration of workflow, 1 <= BEGIN <= inf\n",
      "# END (int):\n",
      "#   Last iteration of workflow, BEGIN <= END <= inf\n",
      "# =============================================================================\n",
      "CASE: !!! REQUIRED PARAMETER !!!\n",
      "RESUME_FROM:\n",
      "STOP_AFTER:\n",
      "SAVEMODEL: True\n",
      "SAVEGRADIENT: True\n",
      "SAVEKERNELS: False\n",
      "SAVETRACES: False\n",
      "SAVERESIDUALS: False\n",
      "SAVEAS: binary\n",
      "BEGIN: 1\n",
      "END: !!! REQUIRED PARAMETER !!!\n",
      "\n",
      "# =============================================================================\n",
      "#                                     PATHS                                    \n",
      "#                                     /////                                    \n",
      "# SCRATCH:\n",
      "#   scratch path to hold temporary data during workflow\n",
      "# OUTPUT:\n",
      "#   directory to save workflow outputs to disk\n",
      "# SYSTEM:\n",
      "#   scratch path to hold any system related data\n",
      "# LOCAL:\n",
      "#   path to local data to be used during workflow\n",
      "# LOGFILE:\n",
      "#   the main output log file where all processes will track their status\n",
      "# SOLVER:\n",
      "#   scratch path to hold solver working directories\n",
      "# SPECFEM_BIN:\n",
      "#   path to the SPECFEM binary executables\n",
      "# SPECFEM_DATA:\n",
      "#   path to the SPECFEM DATA/ directory containing the 'Par_file', 'STATIONS'\n",
      "#   file and 'CMTSOLUTION' files\n",
      "# DATA:\n",
      "#   path to data available to workflow\n",
      "# MASK:\n",
      "#   Directory to mask files for gradient masking\n",
      "# OPTIMIZE:\n",
      "#   scratch path to store data related to nonlinear optimization\n",
      "# MODEL_INIT:\n",
      "#   location of the initial model to be used for workflow\n",
      "# MODEL_TRUE:\n",
      "#   Target model to be used for PAR.CASE == 'synthetic'\n",
      "# FUNC:\n",
      "#   scratch path to store data related to function evaluations\n",
      "# GRAD:\n",
      "#   scratch path to store data related to gradient evaluations\n",
      "# HESS:\n",
      "#   scratch path to store data related to Hessian evaluations\n",
      "# =============================================================================\n",
      "PATHS:\n",
      "    SCRATCH: /home/bchow/Work/work/sf3_specfem2d_example/scratch\n",
      "    OUTPUT: /home/bchow/Work/work/sf3_specfem2d_example/output\n",
      "    SYSTEM: /home/bchow/Work/work/sf3_specfem2d_example/scratch/system\n",
      "    LOCAL:\n",
      "    LOGFILE: /home/bchow/Work/work/sf3_specfem2d_example/output_sf3.txt\n",
      "    SOLVER: /home/bchow/Work/work/sf3_specfem2d_example/scratch/solver\n",
      "    SPECFEM_BIN: !!! REQUIRED PATH !!!\n",
      "    SPECFEM_DATA: !!! REQUIRED PATH !!!\n",
      "    DATA:\n",
      "    MASK:\n",
      "    OPTIMIZE: /home/bchow/Work/work/sf3_specfem2d_example/scratch/optimize\n",
      "    MODEL_INIT: !!! REQUIRED PATH !!!\n",
      "    MODEL_TRUE:\n",
      "    FUNC: /home/bchow/Work/work/sf3_specfem2d_example/scratch/scratch\n",
      "    GRAD: /home/bchow/Work/work/sf3_specfem2d_example/scratch/evalgrad\n",
      "    HESS: /home/bchow/Work/work/sf3_specfem2d_example/scratch/evalhess\n"
     ]
    }
   ],
   "source": [
    "! seisflows configure\n",
    "! cat parameters.yaml"
   ]
  },
  {
   "cell_type": "code",
   "execution_count": 40,
   "metadata": {},
   "outputs": [
    {
     "name": "stdout",
     "output_type": "stream",
     "text": [
      "!!! REQUIRED PARAMETER !!!\r\n",
      "==========================\r\n",
      "\tMATERIALS\r\n",
      "\tDENSITY\r\n",
      "\tATTENUATION\r\n",
      "\tNT\r\n",
      "\tDT\r\n",
      "\tF0\r\n",
      "\tFORMAT\r\n",
      "\tCASE\r\n",
      "\tEND\r\n",
      "!!! REQUIRED PATH !!!\r\n",
      "=====================\r\n",
      "\tSPECFEM_BIN\r\n",
      "\tSPECFEM_DATA\r\n",
      "\tMODEL_INIT\r\n"
     ]
    }
   ],
   "source": [
    "# We can check which parameters we will NEED to fill out before running the workflow with the --required flag\n",
    "! seisflows par --required"
   ]
  },
  {
   "cell_type": "code",
   "execution_count": 47,
   "metadata": {},
   "outputs": [
    {
     "name": "stdout",
     "output_type": "stream",
     "text": [
      "MATERIALS: !!! REQUIRED PARAMETER !!! -> elastic\n",
      "DENSITY: !!! REQUIRED PARAMETER !!! -> constant\n",
      "ATTENUATION: !!! REQUIRED PARAMETER !!! -> False\n",
      "NT: !!! REQUIRED PARAMETER !!! -> 5000\n",
      "DT: !!! REQUIRED PARAMETER !!! -> .06\n",
      "F0: !!! REQUIRED PARAMETER !!! -> 0.084\n",
      "FORMAT: !!! REQUIRED PARAMETER !!! -> ascii\n",
      "BEGIN: 1 -> 1\n",
      "END: !!! REQUIRED PARAMETER !!! -> 1\n",
      "CASE: !!! REQUIRED PARAMETER !!! -> synthetic\n"
     ]
    },
    {
     "data": {
      "text/plain": [
       "0"
      ]
     },
     "execution_count": 47,
     "metadata": {},
     "output_type": "execute_result"
    }
   ],
   "source": [
    "# EDIT THE SEISFLOWS3 PARAMETER FILE\n",
    "! seisflows par materials elastic  # how the velocity model is parameterized\n",
    "! seisflows par density constant  # update density or keep constant\n",
    "! seisflows par attenuation False\n",
    "! seisflows par nt 5000  # set by SPECFEM2D Par_file\n",
    "! seisflows par dt .06  # set by SPECFEM2D Par_file\n",
    "! seisflows par f0 0.084  # set by SOURCE file\n",
    "! seisflows par format ascii  # how to output synthetic seismograms\n",
    "! seisflows par begin 1  # first iteration\n",
    "! seisflows par end 1  # final iteration -- we will only run 1\n",
    "! seisflows par case synthetic  # synthetic-synthetic means we need both INIT and TRUE models\n",
    "\n",
    "# Use Python syntax here to access path constants\n",
    "os.system(f\"seisflows par specfem_bin {SPECFEM2D_BIN}\")  # set path to SPECFEM2D binaries\n",
    "os.system(f\"seisflows par specfem_data {SPECFEM2D_DATA}\")  # set path to SEPCFEM2D DATA/\n",
    "os.system(f\"seisflows par model_init {SPECFEM2D_MODEL_INIT}\")  # set path to INIT model\n",
    "os.system(f\"seisflows par model_true {SPECFEM2D_MODEL_TRUE}\")  # set path to TRUE model"
   ]
  },
  {
   "cell_type": "markdown",
   "metadata": {},
   "source": [
    "------------------------------\n",
    "One last thing, we will need to edit the SPECFEM2D Par_file parameter `MODEL` such that `xmeshfem2d` reads our pre-built velocity models (\\*.bin files) rather than the meshing parameters defined in the Par_file."
   ]
  },
  {
   "cell_type": "code",
   "execution_count": 50,
   "metadata": {},
   "outputs": [
    {
     "name": "stdout",
     "output_type": "stream",
     "text": [
      "MODEL: default -> gll\r\n"
     ]
    }
   ],
   "source": [
    "os.chdir(SPECFEM2D_DATA)\n",
    "! seisflows sempar model gll"
   ]
  },
  {
   "cell_type": "markdown",
   "metadata": {},
   "source": [
    "#### 2b. Initialize SF3 working state\n",
    "\n",
    "The SeisFlows3 command `seisflows init` will generate the a SeisFlows3 working state without submitting any jobs to the system. This is useful for testing to see if the user has set an acceptable parameter file, and if SeisFlows3 is working as expected. \n",
    "\n",
    "The result of running `seisflows init` is a collection of pickle (\\*.p) and JSON files which define the active Python environment. SeisFlows3 relies directly on these files to determine where it is in a workflow. Throughout an active workflow, SeisFlows3 will checkpoint itself to these pickle and JSON files such that if a workflow finishes or crashes, the User can resume a workflow from the last checkpointed state rather than needing to restart the workflow.\n",
    "\n",
    ">__DEBUG MODE:__ After running `seisflows init` you can explore the SeisFlows3 working state in an interactive iPython environment by running `seisflows debug`. This will open up an iPython environment in which the active working state is loaded and accessible The debug mode is invaluable for exploring the SeisFlows3 working state, debugging errors, and performing manual manipulations to an otherwise automated tool. You can try for yourself by running debug mode and typing 'preprocess' to access the active preprocess module."
   ]
  },
  {
   "cell_type": "code",
   "execution_count": 51,
   "metadata": {},
   "outputs": [
    {
     "name": "stdout",
     "output_type": "stream",
     "text": [
      "instantiating SeisFlows3 working state in directory: output\n",
      "seisflows_optimize.p\t   seisflows_postprocess.p  seisflows_system.p\n",
      "seisflows_parameters.json  seisflows_preprocess.p   seisflows_workflow.p\n",
      "seisflows_paths.json\t   seisflows_solver.p\n"
     ]
    }
   ],
   "source": [
    "os.chdir(WORKDIR)\n",
    "! seisflows init\n",
    "! ls output"
   ]
  },
  {
   "cell_type": "code",
   "execution_count": 52,
   "metadata": {},
   "outputs": [
    {
     "name": "stdout",
     "output_type": "stream",
     "text": [
      "{\r\n",
      "    \"ATTENUATION\": false,\r\n",
      "    \"BACKPROJECT\": null,\r\n",
      "    \"BEGIN\": 1,\r\n",
      "    \"CASE\": \"synthetic\",\r\n",
      "    \"COMPONENTS\": \"ZNE\",\r\n",
      "    \"DENSITY\": \"constant\",\r\n",
      "    \"DT\": 0.06,\r\n",
      "    \"END\": 1,\r\n",
      "    \"F0\": 0.084,\r\n"
     ]
    }
   ],
   "source": [
    "# All of the parameters defined in parameters.yaml are saved in this \n",
    "# internally-used JSON file\n",
    "! head output/seisflows_parameters.json"
   ]
  },
  {
   "cell_type": "code",
   "execution_count": 53,
   "metadata": {},
   "outputs": [
    {
     "name": "stdout",
     "output_type": "stream",
     "text": [
      "{\r\n",
      "    \"DATA\": null,\r\n",
      "    \"FUNC\": \"/home/bchow/Work/work/sf3_specfem2d_example/scratch/scratch\",\r\n",
      "    \"GRAD\": \"/home/bchow/Work/work/sf3_specfem2d_example/scratch/evalgrad\",\r\n",
      "    \"HESS\": \"/home/bchow/Work/work/sf3_specfem2d_example/scratch/evalhess\",\r\n",
      "    \"LOCAL\": null,\r\n",
      "    \"LOGFILE\": \"/home/bchow/Work/work/sf3_specfem2d_example/output_sf3.txt\",\r\n",
      "    \"MASK\": null,\r\n",
      "    \"MODEL_INIT\": \"/home/bchow/Work/work/sf3_specfem2d_example/specfem2d_workdir/OUTPUT_FILES_INIT\",\r\n",
      "    \"MODEL_TRUE\": \"/home/bchow/Work/work/sf3_specfem2d_example/specfem2d_workdir/OUTPUT_FILES_TRUE\",\r\n"
     ]
    }
   ],
   "source": [
    "# Similarly, paths that SeisFlows3 uses to navigate the system are stored\n",
    "# in the seisflows_paths.json file\n",
    "! head output/seisflows_paths.json"
   ]
  },
  {
   "cell_type": "markdown",
   "metadata": {},
   "source": [
    "### 3. Run SeisFlows3\n",
    "\n",
    "In this Section we will run SeisFlows3 to generate synthetic seismograms, kernels, a gradient, and an updated velocity model.\n",
    "\n",
    "#### 3a. Forward simulations\n",
    "\n",
    "SeisFlows3 is an automated workflow tool, such that once we run `seisflows submit` we should not need to intervene in the workflow. However the package does allow the User flexibility in how they want the workflow to behave.\n",
    "\n",
    "For example, we can run our workflow in stages by taking advantage of the `stop_after` and `resume_from` parameters. As their names suggest, these parameters allow us to stop and resume the workflow at certain stages (i.e., functions in workflow.main()). \n",
    "\n",
    "The available arguments for `stop_after` and `resume_from` are discovered by running the command: `seisflows print flow`, which tells us what functions will be run from main(). "
   ]
  },
  {
   "cell_type": "code",
   "execution_count": 54,
   "metadata": {},
   "outputs": [
    {
     "name": "stdout",
     "output_type": "stream",
     "text": [
      "                            SEISFLOWS3 WORKFLOW MAIN                            \r\n",
      "                            ////////////////////////                            \r\n",
      "Flow arguments for <class 'seisflows.workflow.inversion.Inversion'>\r\n",
      "\r\n",
      "1: setup\r\n",
      "2: initialize\r\n",
      "3: evaluate_gradient\r\n",
      "4: write_gradient\r\n",
      "5: compute_direction\r\n",
      "6: line_search\r\n",
      "7: finalize\r\n",
      "8: clean\r\n"
     ]
    }
   ],
   "source": [
    "! seisflows print flow"
   ]
  },
  {
   "cell_type": "markdown",
   "metadata": {},
   "source": [
    "-----------------------------\n",
    "In an inversion (the workflow we have selected) the flow arguments are described as:\n",
    "\n",
    "0. __setup:__ Not technically listed in the flow arguments, runs setup() for all SeisFlows3 modules. If running a synthetic-synthetic workflow, solver.setup() will generate \"data\" by running the forward solver using MODEL_TRUE\n",
    "1. __initialize:__  \n",
    "    a. Call numerical solver to run forward simulations using MODEL_INIT, generating synthetics  \n",
    "    b. Evaluate the objective function by performing waveform comparisons  \n",
    "    c. Prepare `evaluate gradient` step by generating adjoint sources and auxiliary files\n",
    "2. __evaluate_gradient:__ Call numerical solver to run adjoint simulation, generating kernels\n",
    "3. __write_gradient:__ Combine all event kernels into a misfit kernel. Optionally smooth and mask the misfit kernel\n",
    "4. __compute_direction:__ Call on the optimization library to scale the misfit kernel into the gradient and compute a search direction\n",
    "5. __line_search:__ Perform a line search by algorithmically scaling the gradient and evaluating the misfit function (forward simulations and misfit quantification) until misfit is acceptably reduced\n",
    "6. __finalize:__ Run any finalization steps such as saving traces, kernels, gradients and models to disk, setting up SeisFlows3 for any subsequent iterations.\n",
    "7. __clean:__ Clean the scratch/ directory in preparation for subsequent i\n",
    "\n",
    "Let's set the `stop_after` argument to __initialize__, this will halt the workflow after the intialization step. We'll also set the `verbose` parameter to 'False', to keep the logging format relatively simple. We will explore the `verbose`==True option in a later cell."
   ]
  },
  {
   "cell_type": "code",
   "execution_count": 55,
   "metadata": {},
   "outputs": [
    {
     "name": "stdout",
     "output_type": "stream",
     "text": [
      "STOP_AFTER:  -> initialize\n",
      "VERBOSE: False -> False\n"
     ]
    }
   ],
   "source": [
    "! seisflows par stop_after initialize\n",
    "! seisflows par verbose False"
   ]
  },
  {
   "cell_type": "markdown",
   "metadata": {},
   "source": [
    "-----------------------\n",
    "Now let's run SeisFlows3. There are a few ways to do this: `submit`, `resume`, and `restart`\n",
    "\n",
    "1. Since we already ran `seisflows init`, the `seisflows submit` option will not work, as SeisFlows3 considers this an active working state and `submit` can only be run on uninitialized working states.\n",
    "2. To run a workflow in an active working state `resume` will load the current working state from the output/ directory and submit a workflow given the current parameter file.\n",
    "3. The `restart` command is simply a convenience function that runs `clean` (to remove an active working state) and `submit` (to submit a fresh working state). \n",
    "\n",
    "Since we haven't done anything in this working state, we will go with a modified version of Option 3 by running `clean` and then `submit`. We'll use the `-f` flag (stands for __'force'__) to skip over the standard input prompt that asks the User if they are sure they want to clean and submit.\n",
    "\n",
    "But first we'll try to run `seisflows submit` to show why Option 1 **will not work**."
   ]
  },
  {
   "cell_type": "code",
   "execution_count": 56,
   "metadata": {},
   "outputs": [
    {
     "name": "stdout",
     "output_type": "stream",
     "text": [
      "2022-04-29 12:32:17 | initializing SeisFlows3 in sys.modules\r\n",
      "================================================================================\r\n",
      "                                    WARNING                                     \r\n",
      "                                    ///////                                     \r\n",
      "Data from previous workflow found in working directory.\r\n",
      "\r\n",
      "> seisflows restart: delete data and start new workflow\r\n",
      "> seisflows resume: resume existing workflow\r\n",
      "================================================================================\r\n"
     ]
    }
   ],
   "source": [
    "! seisflows submit -f"
   ]
  },
  {
   "cell_type": "markdown",
   "metadata": {},
   "source": [
    "----------------------------\n",
    "__Okay, let's go!__ In the following cell we will run the SeisFlows3 Inversion workflow. In the output cell we will see the logging statements outputted by SeisFlows3, both to stdout and to the output log file (defaults to ./output_seisflows.txt) which details the progress of our inversion"
   ]
  },
  {
   "cell_type": "code",
   "execution_count": 58,
   "metadata": {},
   "outputs": [
    {
     "name": "stdout",
     "output_type": "stream",
     "text": [
      "================================================================================\n",
      "                                     CLEAN                                      \n",
      "                                     /////                                      \n",
      "+ skipping over: /home/bchow/Work/work/sf3_specfem2d_example/parameters.yaml\n",
      "- deleting file/folder: /home/bchow/Work/work/sf3_specfem2d_example/scratch\n",
      "- deleting file/folder: /home/bchow/Work/work/sf3_specfem2d_example/stats\n",
      "- deleting file/folder: /home/bchow/Work/work/sf3_specfem2d_example/output\n",
      "- deleting file/folder: /home/bchow/Work/work/sf3_specfem2d_example/output_sf3.txt\n",
      "- deleting file/folder: /home/bchow/Work/work/sf3_specfem2d_example/logs\n",
      "================================================================================\n",
      "2022-04-29 12:38:37 | initializing SeisFlows3 in sys.modules\n",
      "2022-04-29 12:38:42 | copying par/log file to: /home/bchow/Work/work/sf3_specfem2d_example/logs/output_sf3_001.txt\n",
      "2022-04-29 12:38:42 | copying par/log file to: /home/bchow/Work/work/sf3_specfem2d_example/logs/parameters_001.yaml\n",
      "2022-04-29 12:38:42 | exporting current working environment to disk\n",
      "2022-04-29 12:38:42 | \n",
      "////////////////////////////////////////////////////////////////////////////////\n",
      "                  WORKFLOW WILL STOP AFTER FUNC: 'initialize'                   \n",
      "////////////////////////////////////////////////////////////////////////////////\n",
      "2022-04-29 12:38:42 | \n",
      "================================================================================\n",
      "                          STARTING INVERSION WORKFLOW                           \n",
      "================================================================================\n",
      "2022-04-29 12:38:42 | \n",
      "////////////////////////////////////////////////////////////////////////////////\n",
      "                                ITERATION 1 / 1                                 \n",
      "////////////////////////////////////////////////////////////////////////////////\n",
      "2022-04-29 12:38:42 | \n",
      "////////////////////////////////////////////////////////////////////////////////\n",
      "                            PERFORMING MODULE SETUP                             \n",
      "////////////////////////////////////////////////////////////////////////////////\n",
      "2022-04-29 12:38:42 | misfit function is: 'waveform'\n",
      "2022-04-29 12:38:43 | writing line search history file:\n",
      "/home/bchow/Work/work/sf3_specfem2d_example/stats/line_search.txt\n",
      "2022-04-29 12:38:44 | checking poissons ratio for: 'm_new.npy'\n",
      "2022-04-29 12:38:44 | model parameters (m_new.npy i01s00):\n",
      "2022-04-29 12:38:44 | 5800.00 <= vp <= 5800.00\n",
      "2022-04-29 12:38:44 | 3500.00 <= vs <= 3500.00\n",
      "2022-04-29 12:38:44 | 0.21 <= pr <= 0.21\n",
      "2022-04-29 12:38:46 | setting up solver on system...\n",
      "2022-04-29 12:38:46 | checkpointing working environment to disk\n",
      "2022-04-29 12:38:47 | exporting current working environment to disk\n",
      "2022-04-29 12:38:48 | running task solver.setup 1 times\n",
      "2022-04-29 12:38:48 | initializing 1 solver directories\n",
      "2022-04-29 12:38:53 | source 001 symlinked as mainsolver\n",
      "2022-04-29 12:38:53 | generating 'data' with MODEL_TRUE synthetics\n",
      "2022-04-29 12:39:00 | running mesh generation for MODEL_INIT\n",
      "2022-04-29 12:39:02 | \n",
      "================================================================================\n",
      "                             INITIALIZING INVERSION                             \n",
      "================================================================================\n",
      "2022-04-29 12:39:02 | \n",
      "EVALUATE OBJECTIVE FUNCTION\n",
      "--------------------------------------------------------------------------------\n",
      "2022-04-29 12:39:02 | saving model 'm_new.npy' to:\n",
      "/home/bchow/Work/work/sf3_specfem2d_example/scratch/evalgrad/model\n",
      "2022-04-29 12:39:03 | evaluating objective function 1 times on system...\n",
      "2022-04-29 12:39:03 | checkpointing working environment to disk\n",
      "2022-04-29 12:39:05 | exporting current working environment to disk\n",
      "2022-04-29 12:39:05 | running task solver.eval_func 1 times\n",
      "2022-04-29 12:39:05 | running forward simulations\n",
      "2022-04-29 12:39:11 | calling preprocess.prepare_eval_grad()\n",
      "2022-04-29 12:39:11 | preparing files for gradient evaluation\n",
      "2022-04-29 12:39:11 | exporting residuals to:\n",
      "/home/bchow/Work/work/sf3_specfem2d_example/scratch/evalgrad\n",
      "2022-04-29 12:39:12 | summing residuals with preprocess module\n",
      "2022-04-29 12:39:12 | saving misfit 1.748E-03 to tag 'f_new.txt'\n",
      "2022-04-29 12:39:12 | \n",
      "================================================================================\n",
      "                            FINISHED FLOW EXECUTION                             \n",
      "================================================================================\n",
      "2022-04-29 12:39:12 | \n",
      "================================================================================\n",
      "                          FINISHED INVERSION WORKFLOW                           \n",
      "================================================================================\n"
     ]
    }
   ],
   "source": [
    "! seisflows clean -f\n",
    "! seisflows submit -f"
   ]
  },
  {
   "cell_type": "raw",
   "metadata": {},
   "source": [
    ".. note::\n",
    "    For a detailed exploration of a SeisFlows3 working directory, see the `working directory <working_directory.html>`__ documentation page where we explain each of the files and directories that have been generated during this workflow. Below we just look at two files which are required for our adjoint simulation, the adjoint sources (.adj) and STATIONS_ADJOINT file"
   ]
  },
  {
   "cell_type": "code",
   "execution_count": 85,
   "metadata": {},
   "outputs": [
    {
     "name": "stdout",
     "output_type": "stream",
     "text": [
      "  -48.0000000         0.0000000\r\n",
      "  -47.9400000         0.0000000\r\n",
      "  -47.8800000         0.0000000\r\n",
      "  -47.8200000         0.0000000\r\n",
      "  -47.7600000         0.0000000\r\n",
      "  -47.7000000         0.0000000\r\n",
      "  -47.6400000         0.0000000\r\n",
      "  -47.5800000         0.0000000\r\n",
      "  -47.5200000         0.0000000\r\n",
      "  -47.4600000         0.0000000\r\n"
     ]
    }
   ],
   "source": [
    "# The adjoint source is created in the same format as the synthetics (two-column ASCII) \n",
    "! head scratch/solver/001/traces/adj/AA.S0001.BXY.adj"
   ]
  },
  {
   "cell_type": "code",
   "execution_count": 86,
   "metadata": {},
   "outputs": [
    {
     "name": "stdout",
     "output_type": "stream",
     "text": [
      "S0001    AA       180081.4100000       388768.7100000       0.0         0.0\r\n"
     ]
    }
   ],
   "source": [
    "# We can also see that we have generated a STATIONS_ADJOINT file, which is required for \n",
    "# running the adjoint simulations (i.e., evaluate the gradient)\n",
    "! head scratch/solver/001/DATA/STATIONS_ADJOINT"
   ]
  },
  {
   "cell_type": "markdown",
   "metadata": {},
   "source": [
    "#### 3b. Adjoint simulations\n",
    "\n",
    "Now that we have all the required files for running an adjoint simulation (\\*.adj waveforms and STATIONS_ADJOINT file), we can continue with the SeisFlows3 Inversion workflow. No need to edit the Par_file or anything like that, SeisFlows3 will take care of that under the hood. We simply need to tell the workflow (via the parameters.yaml file) to `resume_from` the correct function. We can have a look at these functions again:"
   ]
  },
  {
   "cell_type": "code",
   "execution_count": 87,
   "metadata": {},
   "outputs": [
    {
     "name": "stdout",
     "output_type": "stream",
     "text": [
      "                            SEISFLOWS3 WORKFLOW MAIN                            \r\n",
      "                            ////////////////////////                            \r\n",
      "Flow arguments for <class 'seisflows.workflow.inversion.Inversion'>\r\n",
      "\r\n",
      "1: setup\r\n",
      "2: initialize\r\n",
      "3: evaluate_gradient\r\n",
      "4: write_gradient\r\n",
      "5: compute_direction\r\n",
      "6: line_search\r\n",
      "7: finalize\r\n",
      "8: clean\r\n"
     ]
    }
   ],
   "source": [
    "! seisflows print flow"
   ]
  },
  {
   "cell_type": "code",
   "execution_count": 88,
   "metadata": {},
   "outputs": [
    {
     "name": "stdout",
     "output_type": "stream",
     "text": [
      "RESUME_FROM:  -> evaluate_gradient\n",
      "STOP_AFTER: initialize -> compute_direction\n"
     ]
    }
   ],
   "source": [
    "# We'll stop just before the line search so that we can take a look at the files \n",
    "# generated during the middle tasks\n",
    "! seisflows par resume_from evaluate_gradient\n",
    "! seisflows par stop_after compute_direction"
   ]
  },
  {
   "cell_type": "code",
   "execution_count": 89,
   "metadata": {},
   "outputs": [
    {
     "name": "stdout",
     "output_type": "stream",
     "text": [
      "2022-04-29 12:41:21 | copying par/log file to: /home/bchow/Work/work/sf3_specfem2d_example/logs/output_sf3_002.txt\n",
      "2022-04-29 12:41:21 | copying par/log file to: /home/bchow/Work/work/sf3_specfem2d_example/logs/parameters_002.yaml\n",
      "2022-04-29 12:41:21 | exporting current working environment to disk\n",
      "2022-04-29 12:41:21 | \n",
      "////////////////////////////////////////////////////////////////////////////////\n",
      "              WORKFLOW WILL RESUME FROM FUNC: 'evaluate_gradient'               \n",
      "////////////////////////////////////////////////////////////////////////////////\n",
      "2022-04-29 12:41:21 | \n",
      "////////////////////////////////////////////////////////////////////////////////\n",
      "               WORKFLOW WILL STOP AFTER FUNC: 'compute_direction'               \n",
      "////////////////////////////////////////////////////////////////////////////////\n",
      "2022-04-29 12:41:21 | \n",
      "================================================================================\n",
      "                          STARTING INVERSION WORKFLOW                           \n",
      "================================================================================\n",
      "2022-04-29 12:41:21 | \n",
      "////////////////////////////////////////////////////////////////////////////////\n",
      "                                ITERATION 1 / 1                                 \n",
      "////////////////////////////////////////////////////////////////////////////////\n",
      "2022-04-29 12:41:21 | \n",
      "////////////////////////////////////////////////////////////////////////////////\n",
      "                              EVALUATING GRADIENT                               \n",
      "////////////////////////////////////////////////////////////////////////////////\n",
      "2022-04-29 12:41:21 | evaluating gradient 1 times on system...\n",
      "2022-04-29 12:41:21 | checkpointing working environment to disk\n",
      "2022-04-29 12:41:22 | exporting current working environment to disk\n",
      "2022-04-29 12:41:23 | running task solver.eval_grad 1 times\n",
      "2022-04-29 12:41:23 | running adjoint simulations\n",
      "2022-04-29 12:41:38 | exporting kernels to:\n",
      "/home/bchow/Work/work/sf3_specfem2d_example/scratch/evalgrad\n",
      "2022-04-29 12:41:38 | \n",
      "////////////////////////////////////////////////////////////////////////////////\n",
      "                             POSTPROCESSING KERNELS                             \n",
      "////////////////////////////////////////////////////////////////////////////////\n",
      "2022-04-29 12:41:38 | processing kernels into gradient on system...\n",
      "2022-04-29 12:41:38 | checkpointing working environment to disk\n",
      "2022-04-29 12:41:39 | exporting current working environment to disk\n",
      "2022-04-29 12:41:39 | running task postprocess.process_kernels 1 times\n",
      "2022-04-29 12:41:39 | saving summed kernels to:\n",
      "/home/bchow/Work/work/sf3_specfem2d_example/scratch/evalgrad/kernels/sum\n",
      "2022-04-29 12:41:41 | \n",
      "////////////////////////////////////////////////////////////////////////////////\n",
      "                           COMPUTING SEARCH DIRECTION                           \n",
      "////////////////////////////////////////////////////////////////////////////////\n",
      "2022-04-29 12:41:41 | computing search direction with L-BFGS\n",
      "2022-04-29 12:41:41 | first L-BFGS iteration, setting search direction as inverse gradient\n",
      "2022-04-29 12:41:41 | \n",
      "================================================================================\n",
      "                            FINISHED FLOW EXECUTION                             \n",
      "================================================================================\n",
      "2022-04-29 12:41:41 | \n",
      "================================================================================\n",
      "                          FINISHED INVERSION WORKFLOW                           \n",
      "================================================================================\n"
     ]
    }
   ],
   "source": [
    "# We can use the `seisflows resume` command to continue an active workflow\n",
    "# again we use the '-f' flag to skip past the user-input stage.\n",
    "! seisflows resume -f"
   ]
  },
  {
   "cell_type": "markdown",
   "metadata": {},
   "source": [
    "----------------\n",
    "The functions __evaluate_gradient()__ through __compute_direction()__ have run adjoint simulations to generate event kernels and sum the kernels into the misfit kernel. \n",
    "\n",
    "> **NOTE**: Because we only have one event, our misfit kernel is just exactly our event kernel. And since we did not specify any smoothing lenghts (PAR.SMOOTH_H and PAR.SMOOTH_V), no smoothing of the gradient has occurred. \n",
    "\n",
    "Using the L-BFGS optimization algorithm, SeisFlows3 has computed a search direction that will be used in the line search to search for a best fitting model which optimally reduces the objective function. We can take a look at where SeisFlows3 has stored the information relating to kernel generation and the optimization computation."
   ]
  },
  {
   "cell_type": "code",
   "execution_count": 90,
   "metadata": {},
   "outputs": [
    {
     "name": "stdout",
     "output_type": "stream",
     "text": [
      "gradient  kernels  model  residuals\r\n"
     ]
    }
   ],
   "source": [
    "# Gradient evaluation files are stored here, the kernels are stored separately from the gradient incase\n",
    "# the user wants to manually manipulate them\n",
    "! ls scratch/evalgrad"
   ]
  },
  {
   "cell_type": "code",
   "execution_count": 91,
   "metadata": {},
   "outputs": [
    {
     "name": "stdout",
     "output_type": "stream",
     "text": [
      "proc000000_vp_kernel.bin  proc000000_vs_kernel.bin\r\n"
     ]
    }
   ],
   "source": [
    "# SeisFlows3 stores all kernels and gradient information as SPECFEM binary (.bin) files\n",
    "! ls scratch/evalgrad/gradient"
   ]
  },
  {
   "cell_type": "code",
   "execution_count": 92,
   "metadata": {},
   "outputs": [
    {
     "name": "stdout",
     "output_type": "stream",
     "text": [
      "001  sum\r\n"
     ]
    }
   ],
   "source": [
    "# Kernels are stored on a per-event basis, and summed together (sum/). If smoothing was performed, \n",
    "# we would see both smoothed and unsmoothed versions of the misfit kernel\n",
    "! ls scratch/evalgrad/kernels"
   ]
  },
  {
   "cell_type": "code",
   "execution_count": 93,
   "metadata": {},
   "outputs": [
    {
     "name": "stdout",
     "output_type": "stream",
     "text": [
      "f_new.txt  g_new.npy  LBFGS  m_new.npy\tp_new.npy\r\n"
     ]
    }
   ],
   "source": [
    "# We can see that some new values have been stored in prepartion for the line search,\n",
    "# including g_new (current gradient) and p_new (current search direction). These are also\n",
    "# stored as vector NumPy arrays (.npy files)\n",
    "! ls scratch/optimize"
   ]
  },
  {
   "cell_type": "code",
   "execution_count": 95,
   "metadata": {},
   "outputs": [
    {
     "name": "stdout",
     "output_type": "stream",
     "text": [
      "[-0.00000000e+00 -0.00000000e+00 -0.00000000e+00 ... -3.96447909e-11\n",
      " -2.00156454e-11 -2.61676726e-12]\n"
     ]
    }
   ],
   "source": [
    "p_new = np.load(\"scratch/optimize/p_new.npy\")\n",
    "print(p_new)"
   ]
  },
  {
   "cell_type": "markdown",
   "metadata": {},
   "source": [
    "--------------------\n",
    "#### 3c. Line search and model update\n",
    "\n",
    "Let's finish off the inversion by running through the line search, which will generate new models using the\n",
    "gradient, evaluate the objective function by running forward simulations, and comparing the evaluated objective function with the value obtained in __initialize__. Satisfactory reduction in the objective function will result in a termination of the line search. We are using a bracketing line search here (CITE RYANS PAPER), which requires finding models which both increase and decrease the misfit with respect to the initial evaluation. Therefore it will likely take more than two trial steps to complete the line search"
   ]
  },
  {
   "cell_type": "code",
   "execution_count": 96,
   "metadata": {},
   "outputs": [
    {
     "name": "stdout",
     "output_type": "stream",
     "text": [
      "RESUME_FROM: evaluate_gradient -> line_search\n",
      "STOP_AFTER: compute_direction -> finalize\n"
     ]
    }
   ],
   "source": [
    "! seisflows par resume_from line_search  # resume from the line search \n",
    "! seisflows par stop_after finalize  # We don't want to run the clean() argument so that we can explore the dir"
   ]
  },
  {
   "cell_type": "code",
   "execution_count": 97,
   "metadata": {},
   "outputs": [
    {
     "name": "stdout",
     "output_type": "stream",
     "text": [
      "2022-04-29 12:42:40 | copying par/log file to: /home/bchow/Work/work/sf3_specfem2d_example/logs/output_sf3_003.txt\n",
      "2022-04-29 12:42:40 | copying par/log file to: /home/bchow/Work/work/sf3_specfem2d_example/logs/parameters_003.yaml\n",
      "2022-04-29 12:42:40 | exporting current working environment to disk\n",
      "2022-04-29 12:42:42 | \n",
      "////////////////////////////////////////////////////////////////////////////////\n",
      "                 WORKFLOW WILL RESUME FROM FUNC: 'line_search'                  \n",
      "////////////////////////////////////////////////////////////////////////////////\n",
      "2022-04-29 12:42:42 | \n",
      "////////////////////////////////////////////////////////////////////////////////\n",
      "                   WORKFLOW WILL STOP AFTER FUNC: 'finalize'                    \n",
      "////////////////////////////////////////////////////////////////////////////////\n",
      "2022-04-29 12:42:42 | \n",
      "================================================================================\n",
      "                          STARTING INVERSION WORKFLOW                           \n",
      "================================================================================\n",
      "2022-04-29 12:42:42 | \n",
      "////////////////////////////////////////////////////////////////////////////////\n",
      "                                ITERATION 1 / 1                                 \n",
      "////////////////////////////////////////////////////////////////////////////////\n",
      "2022-04-29 12:42:42 | \n",
      "================================================================================\n",
      "                        CONDUCTING LINE SEARCH (i01s00)                         \n",
      "================================================================================\n",
      "2022-04-29 12:42:42 | max step length safeguard is: 5.26E+10\n",
      "2022-04-29 12:42:42 | \n",
      "EVALUATE BRACKETING LINE SEARCH\n",
      "--------------------------------------------------------------------------------\n",
      "2022-04-29 12:42:42 | step length(s) = 0.00E+00\n",
      "2022-04-29 12:42:42 | misfit val(s)  = 1.75E-03\n",
      "2022-04-29 12:42:42 | first iteration, guessing trial step\n",
      "2022-04-29 12:42:42 | initial step length safegaurd, setting manual step length\n",
      "2022-04-29 12:42:42 | manually set initial step length: 5.26E+09\n",
      "2022-04-29 12:42:42 | checking poissons ratio for: 'm_try.npy'\n",
      "2022-04-29 12:42:42 | model parameters (m_try.npy i01s00):\n",
      "2022-04-29 12:42:42 | 5800.00 <= vp <= 5800.00\n",
      "2022-04-29 12:42:42 | 3278.69 <= vs <= 3790.00\n",
      "2022-04-29 12:42:42 | 0.13 <= pr <= 0.27\n",
      "2022-04-29 12:42:42 | \n",
      "////////////////////////////////////////////////////////////////////////////////\n",
      "                            TRIAL STEP COUNT: i01s01                            \n",
      "////////////////////////////////////////////////////////////////////////////////\n",
      "2022-04-29 12:42:42 | \n",
      "EVALUATE OBJECTIVE FUNCTION\n",
      "--------------------------------------------------------------------------------\n",
      "2022-04-29 12:42:42 | saving model 'm_try.npy' to:\n",
      "/home/bchow/Work/work/sf3_specfem2d_example/scratch/scratch/model\n",
      "2022-04-29 12:42:42 | evaluating objective function 1 times on system...\n",
      "2022-04-29 12:42:42 | checkpointing working environment to disk\n",
      "2022-04-29 12:42:44 | exporting current working environment to disk\n",
      "2022-04-29 12:42:44 | running task solver.eval_func 1 times\n",
      "2022-04-29 12:42:44 | running forward simulations\n",
      "2022-04-29 12:42:49 | calling preprocess.prepare_eval_grad()\n",
      "2022-04-29 12:42:49 | preparing files for gradient evaluation\n",
      "2022-04-29 12:42:50 | exporting residuals to:\n",
      "/home/bchow/Work/work/sf3_specfem2d_example/scratch/scratch\n",
      "2022-04-29 12:42:50 | summing residuals with preprocess module\n",
      "2022-04-29 12:42:50 | saving misfit 9.850E-04 to tag 'f_try.txt'\n",
      "2022-04-29 12:42:50 | \n",
      "EVALUATE BRACKETING LINE SEARCH\n",
      "--------------------------------------------------------------------------------\n",
      "2022-04-29 12:42:50 | step length(s) = 0.00E+00, 5.26E+09\n",
      "2022-04-29 12:42:50 | misfit val(s)  = 1.75E-03, 9.85E-04\n",
      "2022-04-29 12:42:50 | misfit not bracketed, increasing step length\n",
      "2022-04-29 12:42:50 | checking poissons ratio for: 'm_try.npy'\n",
      "2022-04-29 12:42:50 | model parameters (m_try.npy i01s01):\n",
      "2022-04-29 12:42:50 | 5800.00 <= vp <= 5800.00\n",
      "2022-04-29 12:42:50 | 3141.92 <= vs <= 3969.23\n",
      "2022-04-29 12:42:50 | 0.06 <= pr <= 0.29\n",
      "2022-04-29 12:42:50 | retrying with new trial step\n",
      "2022-04-29 12:42:50 | \n",
      "////////////////////////////////////////////////////////////////////////////////\n",
      "                            TRIAL STEP COUNT: i01s02                            \n",
      "////////////////////////////////////////////////////////////////////////////////\n",
      "2022-04-29 12:42:50 | \n",
      "EVALUATE OBJECTIVE FUNCTION\n",
      "--------------------------------------------------------------------------------\n",
      "2022-04-29 12:42:50 | saving model 'm_try.npy' to:\n",
      "/home/bchow/Work/work/sf3_specfem2d_example/scratch/scratch/model\n",
      "2022-04-29 12:42:51 | evaluating objective function 1 times on system...\n",
      "2022-04-29 12:42:51 | checkpointing working environment to disk\n",
      "2022-04-29 12:42:52 | exporting current working environment to disk\n",
      "2022-04-29 12:42:53 | running task solver.eval_func 1 times\n",
      "2022-04-29 12:42:53 | running forward simulations\n",
      "2022-04-29 12:42:59 | calling preprocess.prepare_eval_grad()\n",
      "2022-04-29 12:42:59 | preparing files for gradient evaluation\n",
      "2022-04-29 12:42:59 | exporting residuals to:\n",
      "/home/bchow/Work/work/sf3_specfem2d_example/scratch/scratch\n",
      "2022-04-29 12:43:00 | summing residuals with preprocess module\n",
      "2022-04-29 12:43:00 | saving misfit 1.227E-03 to tag 'f_try.txt'\n",
      "2022-04-29 12:43:00 | \n",
      "EVALUATE BRACKETING LINE SEARCH\n",
      "--------------------------------------------------------------------------------\n",
      "2022-04-29 12:43:00 | step length(s) = 0.00E+00, 5.26E+09, 8.51E+09\n",
      "2022-04-29 12:43:00 | misfit val(s)  = 1.75E-03, 9.85E-04, 1.23E-03\n",
      "2022-04-29 12:43:00 | bracket okay, step length reasonable, pass\n",
      "2022-04-29 12:43:00 | checking poissons ratio for: 'm_try.npy'\n",
      "2022-04-29 12:43:00 | model parameters (m_try.npy i01s02):\n",
      "2022-04-29 12:43:00 | 5800.00 <= vp <= 5800.00\n",
      "2022-04-29 12:43:00 | 3278.69 <= vs <= 3790.00\n",
      "2022-04-29 12:43:00 | 0.13 <= pr <= 0.27\n",
      "2022-04-29 12:43:00 | trial step successful\n",
      "2022-04-29 12:43:00 | \n",
      "FINALIZING LINE SEARCH\n",
      "--------------------------------------------------------------------------------\n",
      "2022-04-29 12:43:00 | shifting current model (new) to previous model (old)\n",
      "2022-04-29 12:43:00 | setting accepted line search model as current model\n",
      "2022-04-29 12:43:00 | current misfit is f_new.txt=9.850E-04\n",
      "2022-04-29 12:43:00 | writing optimization stats to: stats\n",
      "2022-04-29 12:43:00 | resetting line search step count to 0\n",
      "2022-04-29 12:43:00 | \n",
      "================================================================================\n",
      "                             FINALIZING ITERATION 1                             \n",
      "================================================================================\n",
      "2022-04-29 12:43:00 | exporting current working environment to disk\n",
      "2022-04-29 12:43:01 | saving model 'm_new.npy' to path:\n",
      "/home/bchow/Work/work/sf3_specfem2d_example/output/model_0001\n",
      "2022-04-29 12:43:02 | saving gradient to path:\n",
      "/home/bchow/Work/work/sf3_specfem2d_example/output/gradient_0001\n",
      "2022-04-29 12:43:02 | \n",
      "================================================================================\n",
      "                            FINISHED FLOW EXECUTION                             \n",
      "================================================================================\n",
      "2022-04-29 12:43:02 | \n",
      "================================================================================\n",
      "                          FINISHED INVERSION WORKFLOW                           \n",
      "================================================================================\n"
     ]
    }
   ],
   "source": [
    "! seisflows resume -f"
   ]
  },
  {
   "cell_type": "markdown",
   "metadata": {},
   "source": [
    "From the log statements above, we can see that the SeisFlows3 line search required 2 trial steps, where it modified values of Vs until satisfactory reduction in the objective function was met. This was the final step in the iteration, and so the finalization step made last-minute preparations for a subsequent iteration. "
   ]
  },
  {
   "cell_type": "code",
   "execution_count": 98,
   "metadata": {},
   "outputs": [
    {
     "name": "stdout",
     "output_type": "stream",
     "text": [
      "alpha.npy  f_old.txt  g_old.npy  m_new.npy  p_old.npy\r\n",
      "f_new.txt  f_try.txt  LBFGS\t m_old.npy\r\n"
     ]
    }
   ],
   "source": [
    "# We can see that we have 'new' and 'old' values for each of the optimization values,\n",
    "# representing the previous model (M00) and the current model (M01).\n",
    "! ls scratch/optimize"
   ]
  },
  {
   "cell_type": "code",
   "execution_count": 99,
   "metadata": {},
   "outputs": [
    {
     "name": "stdout",
     "output_type": "stream",
     "text": [
      "factor.txt\t      line_search.txt  slope.txt\ttheta.txt\r\n",
      "gradient_norm_L1.txt  misfit.txt       step_count.txt\r\n",
      "gradient_norm_L2.txt  restarted.txt    step_length.txt\r\n"
     ]
    }
   ],
   "source": [
    "# The stats/ directory contains text files describing the optimization/line search\n",
    "! ls stats"
   ]
  },
  {
   "cell_type": "code",
   "execution_count": 100,
   "metadata": {},
   "outputs": [
    {
     "name": "stdout",
     "output_type": "stream",
     "text": [
      "      ITER     STEPLEN      MISFIT\r\n",
      "==========  ==========  ==========\r\n",
      "         1   0.000e+00   1.748e-03\r\n",
      "             5.261e+09   9.850e-04\r\n",
      "             8.512e+09   1.227e-03\r\n"
     ]
    }
   ],
   "source": [
    "# For example we can look at the step length chosen for the accepted trial step in the line search\n",
    "! cat stats/line_search.txt"
   ]
  },
  {
   "cell_type": "markdown",
   "metadata": {},
   "source": [
    "### 4. Conclusions\n",
    "\n",
    "We've now seen how SeisFlows3 runs an __Inversion__ workflow using the __Specfem2D__ solver on a __serial__ system (local workstation). More or less, this is all you need to run SeisFlows3 with any combination of modules. The specificities of a system or numerical solver are already handled internally by SeisFlows3, so if you want to use Specmfe3D_Cartesian as your solver, you would only need to run `seisflows par solver specfem3d` at the beginning of your workflow (you will also need to setup your Specfem3D models, similar to what we did for Specfem2D here). To run on a slurm system like Chinook, you can run `seisflows par system chinook`. "
   ]
  },
  {
   "cell_type": "code",
   "execution_count": null,
   "metadata": {},
   "outputs": [],
   "source": []
  }
 ],
 "metadata": {
  "kernelspec": {
   "display_name": "Python 3",
   "language": "python",
   "name": "python3"
  },
  "language_info": {
   "codemirror_mode": {
    "name": "ipython",
    "version": 3
   },
   "file_extension": ".py",
   "mimetype": "text/x-python",
   "name": "python",
   "nbconvert_exporter": "python",
   "pygments_lexer": "ipython3",
   "version": "3.7.6"
  }
 },
 "nbformat": 4,
 "nbformat_minor": 4
}
