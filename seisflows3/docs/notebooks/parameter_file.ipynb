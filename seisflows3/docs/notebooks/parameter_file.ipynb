{
 "cells": [
  {
   "cell_type": "markdown",
   "metadata": {},
   "source": [
    "# Parameter File\n",
    "\n",
    "The parameter file is the central control object for a SeisFlows3 workflow. Here we take a look at the anatomy of a parameter file. Parameter files in SeisFlows3 are formatted in the [YAML format (YAML Ain't Markup Language)](https://pyyaml.org/wiki/PyYAMLDocumentation).\n",
    "\n",
    "## Template\n",
    "\n",
    "Each workflow starts with the module-only template parameter file which defines the core modules which make up the package. Running `seisflows setup` from the command line will create this file. "
   ]
  },
  {
   "cell_type": "code",
   "execution_count": 4,
   "metadata": {},
   "outputs": [
    {
     "name": "stdout",
     "output_type": "stream",
     "text": [
      "creating parameter file: parameters.yaml\r\n"
     ]
    }
   ],
   "source": [
    "! seisflows setup"
   ]
  },
  {
   "cell_type": "code",
   "execution_count": 7,
   "metadata": {},
   "outputs": [
    {
     "name": "stdout",
     "output_type": "stream",
     "text": [
      "# //////////////////////////////////////////////////////////////////////////////\r\n",
      "#\r\n",
      "#                        SeisFlows3 YAML Parameter File\r\n",
      "#\r\n",
      "# //////////////////////////////////////////////////////////////////////////////\r\n",
      "#\r\n",
      "# Modules correspond to the structure of the source code, and determine\r\n",
      "# SeisFlows3' behavior at runtime. Each module requires its own sub-parameters.\r\n",
      "#\r\n",
      "# .. rubric::\r\n",
      "#   - To determine available options for modules listed below, run:\r\n",
      "#       > seisflows print modules\r\n",
      "#   - To auto-fill with docstrings and default values (recommended), run:\r\n",
      "#       > seisflows configure\r\n",
      "#   - To set values as NoneType, use: null\r\n",
      "#   - To set values as infinity, use: inf\r\n",
      "#\r\n",
      "#                                    MODULES\r\n",
      "#                                    ///////\r\n",
      "# WORKFLOW (str):    The method for running SeisFlows3; equivalent to main()\r\n",
      "# SOLVER (str):      External numerical solver to use for waveform simulations\r\n",
      "# SYSTEM (str):      Computer architecture of the system being used\r\n",
      "# OPTIMIZE (str):    Optimization algorithm for the inverse problem\r\n",
      "# PREPROCESS (str):  Preprocessing schema for waveform data\r\n",
      "# POSTPROCESS (str): Postprocessing schema for kernels and gradients\r\n",
      "# ==============================================================================\r\n",
      "WORKFLOW: inversion\r\n",
      "SOLVER: specfem2d\r\n",
      "SYSTEM: workstation\r\n",
      "OPTIMIZE: LBFGS \r\n",
      "PREPROCESS: base\r\n",
      "POSTPROCESS: base\r\n"
     ]
    }
   ],
   "source": [
    "! cat parameters.yaml"
   ]
  },
  {
   "cell_type": "markdown",
   "metadata": {},
   "source": [
    "### How do I choose my modules?\n",
    "\n",
    "As seen above, each of the modules comes with a default value. But you may want to run a migration, not an inversion. Or run with SPECFEM3D not 2D. As stated in the comments at the top of the file, the `seisflows print modules` command lists out all available options. Don't see an option that works for you? Learn to extend the SeisFlows3 package here: **!!! docs page link here !!!**"
   ]
  },
  {
   "cell_type": "code",
   "execution_count": 6,
   "metadata": {},
   "outputs": [
    {
     "name": "stdout",
     "output_type": "stream",
     "text": [
      "                               SEISFLOWS3 MODULES                               \r\n",
      "                               //////////////////                               \r\n",
      "'+': package, '-': module, '*': class\r\n",
      "\r\n",
      "+ SYSTEM\r\n",
      "    - seisflows3\r\n",
      "        * base\r\n",
      "        * cluster\r\n",
      "        * lsf\r\n",
      "        * slurm\r\n",
      "        * workstation\r\n",
      "    - seisflows3-super\r\n",
      "        * chinook\r\n",
      "        * maui\r\n",
      "+ PREPROCESS\r\n",
      "    - seisflows3\r\n",
      "        * base\r\n",
      "        * pyatoa\r\n",
      "    - seisflows3-super\r\n",
      "        * pyatoa_nz\r\n",
      "+ SOLVER\r\n",
      "    - seisflows3\r\n",
      "        * base\r\n",
      "        * specfem2d\r\n",
      "        * specfem3d\r\n",
      "        * specfem3d_globe\r\n",
      "    - seisflows3-super\r\n",
      "        * specfem3d_maui\r\n",
      "+ POSTPROCESS\r\n",
      "    - seisflows3\r\n",
      "        * base\r\n",
      "    - seisflows3-super\r\n",
      "+ OPTIMIZE\r\n",
      "    - seisflows3\r\n",
      "        * LBFGS\r\n",
      "        * NLCG\r\n",
      "        * base\r\n",
      "    - seisflows3-super\r\n",
      "+ WORKFLOW\r\n",
      "    - seisflows3\r\n",
      "        * base\r\n",
      "        * inversion\r\n",
      "        * migration\r\n",
      "        * test\r\n",
      "    - seisflows3-super\r\n",
      "        * thrifty_inversion\r\n",
      "        * thrifty_maui\r\n"
     ]
    }
   ],
   "source": [
    "! seisflows print modules"
   ]
  },
  {
   "cell_type": "markdown",
   "metadata": {},
   "source": [
    "### How do I change modules?\n",
    "\n",
    "Feel free to use any old text editor to edit the YAML file, or you can use the `seisflows par` command to make changes directly from the command line. For example, say we want to use SPECFEM3D"
   ]
  },
  {
   "cell_type": "code",
   "execution_count": 8,
   "metadata": {},
   "outputs": [
    {
     "name": "stdout",
     "output_type": "stream",
     "text": [
      "SOLVER: specfem2d -> specfem3d\r\n"
     ]
    }
   ],
   "source": [
    "# Changes the current parameter to the given value\n",
    "! seisflows par solver specfem3d"
   ]
  },
  {
   "cell_type": "code",
   "execution_count": 9,
   "metadata": {},
   "outputs": [
    {
     "name": "stdout",
     "output_type": "stream",
     "text": [
      "SOLVER: specfem3d\r\n"
     ]
    }
   ],
   "source": [
    "# Prints out the current parameter value\n",
    "! seisflows par solver"
   ]
  },
  {
   "cell_type": "markdown",
   "metadata": {},
   "source": [
    "### How do I get to a full parameter file?\n",
    "\n",
    "The module-only parameter file serves as as a template for dynamically generating a full parameter file. Since each module requires it's own unique set of parameters and paths, each parameter file will look different. We can use the `seisflows configure` command to complete our parmater file, based on the chosen modules."
   ]
  },
  {
   "cell_type": "code",
   "execution_count": 10,
   "metadata": {},
   "outputs": [
    {
     "name": "stdout",
     "output_type": "stream",
     "text": [
      "filling parameters.yaml w/ default values\r\n"
     ]
    }
   ],
   "source": [
    "! seisflows configure"
   ]
  },
  {
   "cell_type": "markdown",
   "metadata": {},
   "source": [
    "## Anatomy of the parameter file\n",
    "\n",
    "As we will see below, the parameter file has now been generated. Each module will define its own section, separated by a header of comments. Within each header, parameter names, types and descriptions are listed. At the bottom of the parameter file, there is a section defining paths required by the workflow. Section headers will look something: "
   ]
  },
  {
   "cell_type": "code",
   "execution_count": null,
   "metadata": {},
   "outputs": [],
   "source": [
    "# =============================================================================\n",
    "#                                    MODULE\n",
    "#                                    //////                                    \n",
    "# PARAMETER_NAME (type):\n",
    "#   Description\n",
    "# ...\n",
    "# =============================================================================\n",
    "PARAMETER_NAME: parameter_value"
   ]
  },
  {
   "cell_type": "code",
   "execution_count": 13,
   "metadata": {},
   "outputs": [
    {
     "name": "stdout",
     "output_type": "stream",
     "text": [
      "# //////////////////////////////////////////////////////////////////////////////\r\n",
      "#\r\n",
      "#                        SeisFlows3 YAML Parameter File\r\n",
      "#\r\n",
      "# //////////////////////////////////////////////////////////////////////////////\r\n",
      "#\r\n",
      "# Modules correspond to the structure of the source code, and determine\r\n",
      "# SeisFlows3' behavior at runtime. Each module requires its own sub-parameters.\r\n",
      "#\r\n",
      "# .. rubric::\r\n",
      "#   - To determine available options for modules listed below, run:\r\n",
      "#       > seisflows print modules\r\n",
      "#   - To auto-fill with docstrings and default values (recommended), run:\r\n",
      "#       > seisflows configure\r\n",
      "#   - To set values as NoneType, use: null\r\n",
      "#   - To set values as infinity, use: inf\r\n",
      "#\r\n",
      "#                                    MODULES\r\n",
      "#                                    ///////\r\n",
      "# WORKFLOW (str):    The method for running SeisFlows3; equivalent to main()\r\n",
      "# SOLVER (str):      External numerical solver to use for waveform simulations\r\n",
      "# SYSTEM (str):      Computer architecture of the system being used\r\n",
      "# OPTIMIZE (str):    Optimization algorithm for the inverse problem\r\n",
      "# PREPROCESS (str):  Preprocessing schema for waveform data\r\n",
      "# POSTPROCESS (str): Postprocessing schema for kernels and gradients\r\n",
      "# ==============================================================================\r\n",
      "WORKFLOW: inversion\r\n",
      "SOLVER: specfem3d\r\n",
      "SYSTEM: workstation\r\n",
      "OPTIMIZE: LBFGS \r\n",
      "PREPROCESS: base\r\n",
      "POSTPROCESS: base\r\n",
      "\r\n",
      "# =============================================================================\r\n",
      "#                                    SYSTEM                                    \r\n",
      "#                                    //////                                    \r\n",
      "# TITLE (str):\r\n",
      "#   The name used to submit jobs to the system, defaults to the name of the\r\n",
      "#   working directory\r\n",
      "# PRECHECK (list):\r\n",
      "#   A list of parameters that will be displayed to stdout before 'submit' or\r\n",
      "#   'resume' is run. Useful for manually reviewing important parameters prior\r\n",
      "#   to system submission\r\n",
      "# LOG_LEVEL (str):\r\n",
      "#   Verbosity output of SF3 logger. Available from least to most verbosity:\r\n",
      "#   'CRITICAL', 'WARNING', 'INFO', 'DEBUG'; defaults to 'DEBUG'\r\n",
      "# VERBOSE (bool):\r\n",
      "#   Level of verbosity provided to the output log. If True, log statements\r\n",
      "#   will declare what module/class/function they are being called from.\r\n",
      "#   Useful for debugging but also very noisy.\r\n",
      "# MPIEXEC (str):\r\n",
      "#   Function used to invoke executables on the system. For example 'srun' on\r\n",
      "#   SLURM systems, or './' on a workstation. If left blank, will guess based\r\n",
      "#   on the system.\r\n",
      "# NTASK (int):\r\n",
      "#   Number of separate, individual tasks. Also equal to the number of desired\r\n",
      "#   sources in workflow\r\n",
      "# NPROC (int):\r\n",
      "#   Number of processor to use for each simulation\r\n",
      "# =============================================================================\r\n",
      "TITLE: docs\r\n",
      "PRECHECK:\r\n",
      "    - TITLE\r\n",
      "LOG_LEVEL: DEBUG\r\n",
      "VERBOSE: False\r\n",
      "MPIEXEC:\r\n",
      "NTASK: 1\r\n",
      "NPROC: 1\r\n",
      "\r\n",
      "# =============================================================================\r\n",
      "#                                  PREPROCESS                                  \r\n",
      "#                                  //////////                                  \r\n",
      "# MISFIT (str):\r\n",
      "#   Misfit function for waveform comparisons, for available see\r\n",
      "#   seisflows.plugins.misfit\r\n",
      "# BACKPROJECT (str):\r\n",
      "#   Backprojection function for migration, for available see\r\n",
      "#   seisflows.plugins.adjoint\r\n",
      "# NORMALIZE (list):\r\n",
      "#   Data normalization parameters used to normalize the amplitudes of\r\n"
     ]
    }
   ],
   "source": [
    "! head -80 parameters.yaml"
   ]
  },
  {
   "cell_type": "code",
   "execution_count": 27,
   "metadata": {},
   "outputs": [
    {
     "name": "stdout",
     "output_type": "stream",
     "text": [
      "# =============================================================================\r\n",
      "#                                     PATHS                                    \r\n",
      "#                                     /////                                    \r\n",
      "# SCRATCH:\r\n",
      "#   scratch path to hold temporary data during workflow\r\n",
      "# OUTPUT:\r\n",
      "#   directory to save workflow outputs to disk\r\n",
      "# SYSTEM:\r\n",
      "#   scratch path to hold any system related data\r\n",
      "# LOCAL:\r\n",
      "#   path to local data to be used during workflow\r\n",
      "# LOGFILE:\r\n",
      "#   the main output log file where all processes will track their status\r\n",
      "# SOLVER:\r\n",
      "#   scratch path to hold solver working directories\r\n",
      "# SPECFEM_BIN:\r\n",
      "#   path to the SPECFEM binary executables\r\n",
      "# SPECFEM_DATA:\r\n",
      "#   path to the SPECFEM DATA/ directory containing the 'Par_file', 'STATIONS'\r\n",
      "#   file and 'CMTSOLUTION' files\r\n",
      "# DATA:\r\n",
      "#   path to data available to workflow\r\n",
      "# MASK:\r\n",
      "#   Directory to mask files for gradient masking\r\n",
      "# OPTIMIZE:\r\n",
      "#   scratch path to store data related to nonlinear optimization\r\n",
      "# MODEL_INIT:\r\n",
      "#   location of the initial model to be used for workflow\r\n",
      "# MODEL_TRUE:\r\n",
      "#   Target model to be used for PAR.CASE == 'synthetic'\r\n",
      "# FUNC:\r\n",
      "#   scratch path to store data related to function evaluations\r\n",
      "# GRAD:\r\n",
      "#   scratch path to store data related to gradient evaluations\r\n",
      "# HESS:\r\n",
      "#   scratch path to store data related to Hessian evaluations\r\n",
      "# =============================================================================\r\n",
      "PATHS:\r\n",
      "    SCRATCH: /home/bchow/REPOSITORIES/seisflows3/seisflows3/docs/scratch\r\n",
      "    OUTPUT: /home/bchow/REPOSITORIES/seisflows3/seisflows3/docs/output\r\n",
      "    SYSTEM: /home/bchow/REPOSITORIES/seisflows3/seisflows3/docs/scratch/system\r\n",
      "    LOCAL:\r\n",
      "    LOGFILE: /home/bchow/REPOSITORIES/seisflows3/seisflows3/docs/output_sf3.txt\r\n",
      "    SOLVER: /home/bchow/REPOSITORIES/seisflows3/seisflows3/docs/scratch/solver\r\n",
      "    SPECFEM_BIN: !!! REQUIRED PATH !!!\r\n",
      "    SPECFEM_DATA: !!! REQUIRED PATH !!!\r\n",
      "    DATA:\r\n",
      "    MASK:\r\n",
      "    OPTIMIZE: /home/bchow/REPOSITORIES/seisflows3/seisflows3/docs/scratch/optimize\r\n",
      "    MODEL_INIT: !!! REQUIRED PATH !!!\r\n",
      "    MODEL_TRUE:\r\n",
      "    FUNC: /home/bchow/REPOSITORIES/seisflows3/seisflows3/docs/scratch/scratch\r\n",
      "    GRAD: /home/bchow/REPOSITORIES/seisflows3/seisflows3/docs/scratch/evalgrad\r\n",
      "    HESS: /home/bchow/REPOSITORIES/seisflows3/seisflows3/docs/scratch/evalhess\r\n"
     ]
    }
   ],
   "source": [
    "! tail --lines=54 parameters.yaml"
   ]
  },
  {
   "cell_type": "markdown",
   "metadata": {},
   "source": [
    "### How do I know what parameters need to be set?\n",
    "\n",
    "> **NOTE**: Required parameters that can not be set to default values will be listed as `!!! REQUIRED PARAMETER !!!`\n",
    "\n",
    "We can check the required paths and parameters manually by scrolling through the parameter file, or we can use the `seisflows par --required` command to list them out all at once."
   ]
  },
  {
   "cell_type": "code",
   "execution_count": 29,
   "metadata": {},
   "outputs": [
    {
     "name": "stdout",
     "output_type": "stream",
     "text": [
      "!!! REQUIRED PARAMETER !!!\r\n",
      "==========================\r\n",
      "\tMATERIALS\r\n",
      "\tDENSITY\r\n",
      "\tATTENUATION\r\n",
      "\tNT\r\n",
      "\tDT\r\n",
      "\tFORMAT\r\n",
      "\tCASE\r\n",
      "\tEND\r\n",
      "!!! REQUIRED PATH !!!\r\n",
      "=====================\r\n",
      "\tSPECFEM_BIN\r\n",
      "\tSPECFEM_DATA\r\n",
      "\tMODEL_INIT\r\n"
     ]
    }
   ],
   "source": [
    "! seisflows par --required"
   ]
  },
  {
   "cell_type": "markdown",
   "metadata": {},
   "source": [
    "## Checking parameter validity\n",
    "\n",
    "You might be asking, how do I know if my parameters are set correctly? SeisFlows3 modules feature check() functions which dictate correct parameter values. You can run `seisflows init` to run these check() functions. Because we have required parameters still left unset in our parameter file, we expect the `seisflows init` function to throw an error."
   ]
  },
  {
   "cell_type": "code",
   "execution_count": 30,
   "metadata": {},
   "outputs": [
    {
     "name": "stdout",
     "output_type": "stream",
     "text": [
      "================================================================================\r\n",
      "                           PARAMETER FILE READ ERROR                            \r\n",
      "                           /////////////////////////                            \r\n",
      "Please check that your parameter file is properly formatted in the YAML format.\r\n",
      "If you have just run 'seisflows configure', you may have some required\r\n",
      "parameters that will need to be filled out before you can proceed. The error\r\n",
      "message is:\r\n",
      "\r\n",
      "could not determine a constructor for the tag 'tag:yaml.org,2002:!'\r\n",
      "  in \"parameters.yaml\", line 147, column 12\r\n",
      "================================================================================\r\n"
     ]
    }
   ],
   "source": [
    "! seisflows init"
   ]
  },
  {
   "cell_type": "markdown",
   "metadata": {},
   "source": [
    "Let's set some random variables for the required parameters with the `seisflows par` command and try again."
   ]
  },
  {
   "cell_type": "code",
   "execution_count": 31,
   "metadata": {},
   "outputs": [
    {
     "name": "stdout",
     "output_type": "stream",
     "text": [
      "MATERIALS: !!! REQUIRED PARAMETER !!! -> elastic\n",
      "DENSITY: !!! REQUIRED PARAMETER !!! -> constant\n",
      "ATTENUATION: !!! REQUIRED PARAMETER !!! -> False\n",
      "NT: !!! REQUIRED PARAMETER !!! -> 100\n",
      "DT: !!! REQUIRED PARAMETER !!! -> .05\n",
      "FORMAT: !!! REQUIRED PARAMETER !!! -> ascii\n",
      "CASE: !!! REQUIRED PARAMETER !!! -> data\n",
      "END: !!! REQUIRED PARAMETER !!! -> 1\n",
      "SPECFEM_BIN: !!! REQUIRED PATH !!! -> ./\n",
      "SPECFEM_DATA: !!! REQUIRED PATH !!! -> ./\n",
      "MODEL_INIT: !!! REQUIRED PATH !!! -> ./\n"
     ]
    }
   ],
   "source": [
    "! seisflows par materials elastic\n",
    "! seisflows par density constant\n",
    "! seisflows par attenuation False\n",
    "! seisflows par nt 100\n",
    "! seisflows par dt .05\n",
    "! seisflows par format ascii\n",
    "! seisflows par case data\n",
    "! seisflows par end 1\n",
    "! seisflows par specfem_bin ./\n",
    "! seisflows par specfem_data ./\n",
    "! seisflows par model_init ./"
   ]
  },
  {
   "cell_type": "code",
   "execution_count": 32,
   "metadata": {},
   "outputs": [
    {
     "name": "stdout",
     "output_type": "stream",
     "text": [
      "instantiating SeisFlows3 working state in directory: output\r\n"
     ]
    }
   ],
   "source": [
    "! seisflows init"
   ]
  },
  {
   "cell_type": "markdown",
   "metadata": {},
   "source": [
    "Of course we knew that the above parameters were acceptable. But what if we input an unacceptable parameter into the  parameter file and try again?"
   ]
  },
  {
   "cell_type": "code",
   "execution_count": 33,
   "metadata": {},
   "outputs": [
    {
     "name": "stdout",
     "output_type": "stream",
     "text": [
      "MATERIALS: elastic -> visibily_incorrect_value\n",
      "================================================================================\n",
      "                               MODULE CHECK ERROR                               \n",
      "                               //////////////////                               \n",
      "seisflows.config module check failed with:\n",
      "\n",
      "solver: MATERIALS must be in ['ELASTIC', 'ACOUSTIC', 'ISOTROPIC', 'ANISOTROPIC']\n",
      "================================================================================\n"
     ]
    }
   ],
   "source": [
    "! rm -r output/\n",
    "! seisflows par materials visibily_incorrect_value\n",
    "! seisflows init"
   ]
  },
  {
   "cell_type": "markdown",
   "metadata": {},
   "source": [
    "And voila, the module check has thrown an error, and told us (the User) how to properly set the value of the materials parameter. Hopefully a combination of thorough explanations in the parameter file section headers, and error catching with `seisflows init` makes crafting your own parameter file a smooth process."
   ]
  },
  {
   "cell_type": "code",
   "execution_count": 37,
   "metadata": {},
   "outputs": [
    {
     "name": "stdout",
     "output_type": "stream",
     "text": [
      "\r\n",
      "# =============================================================================\r\n",
      "#                                    SOLVER                                    \r\n",
      "#                                    //////                                    \r\n",
      "# MATERIALS (str):\r\n",
      "#   Material parameters used to define model. Available: ['ELASTIC': Vp, Vs,\r\n",
      "#   'ACOUSTIC': Vp, 'ISOTROPIC', 'ANISOTROPIC']\r\n",
      "# DENSITY (str):\r\n",
      "#   How to treat density during inversion. Available: ['CONSTANT': Do not\r\n",
      "#   update density, 'VARIABLE': Update density]\r\n",
      "# ATTENUATION (str):\r\n",
      "#   If True, turn on attenuation during forward simulations, otherwise set\r\n",
      "#   attenuation off. Attenuation is always off for adjoint simulations.\r\n",
      "# COMPONENTS (str):\r\n",
      "#   Components used to generate data, formatted as a single string, e.g. ZNE\r\n",
      "#   or NZ or E\r\n",
      "# SOLVERIO (int):\r\n",
      "#   The format external solver files. Available: ['fortran_binary', 'adios']\r\n",
      "# NT (float):\r\n",
      "#   Number of time steps set in the SPECFEM Par_file\r\n",
      "# DT (float):\r\n",
      "#   Time step or delta set in the SPECFEM Par_file\r\n",
      "# FORMAT (float):\r\n",
      "#   Format of synthetic waveforms used during workflow, available options:\r\n",
      "#   ['ascii', 'su']\r\n",
      "# SOURCE_PREFIX (str):\r\n",
      "#   Prefix of SOURCE files in path SPECFEM_DATA. Available ['CMTSOLUTION',\r\n",
      "#   FORCESOLUTION']\r\n",
      "# =============================================================================\r\n",
      "MATERIALS: visibily_incorrect_value\r\n",
      "DENSITY: constant\r\n",
      "ATTENUATION: False\r\n",
      "COMPONENTS: ZNE\r\n",
      "SOLVERIO: fortran_binary\r\n",
      "NT: 100\r\n",
      "DT: .05\r\n",
      "FORMAT: ascii\r\n",
      "SOURCE_PREFIX: CMTSOLUTION\r\n"
     ]
    }
   ],
   "source": [
    "! head -155 parameters.yaml | tail --lines=38"
   ]
  },
  {
   "cell_type": "code",
   "execution_count": 38,
   "metadata": {},
   "outputs": [],
   "source": [
    "! rm parameters.yaml  # to delete the created file from this working directory"
   ]
  }
 ],
 "metadata": {
  "kernelspec": {
   "display_name": "Python (docs)",
   "language": "python",
   "name": "docs"
  },
  "language_info": {
   "codemirror_mode": {
    "name": "ipython",
    "version": 3
   },
   "file_extension": ".py",
   "mimetype": "text/x-python",
   "name": "python",
   "nbconvert_exporter": "python",
   "pygments_lexer": "ipython3",
   "version": "3.7.12"
  }
 },
 "nbformat": 4,
 "nbformat_minor": 4
}
